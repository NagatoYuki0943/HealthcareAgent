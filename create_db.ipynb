{
 "cells": [
  {
   "cell_type": "code",
   "execution_count": 7,
   "metadata": {},
   "outputs": [],
   "source": [
    "# 首先导入所需第三方库\n",
    "from langchain_community.document_loaders import (\n",
    "    UnstructuredFileLoader,\n",
    "    UnstructuredMarkdownLoader,\n",
    "    PyPDFLoader,\n",
    ")\n",
    "from langchain.text_splitter import RecursiveCharacterTextSplitter\n",
    "from langchain_community.vectorstores import Chroma\n",
    "from langchain.embeddings.huggingface import HuggingFaceEmbeddings\n",
    "from tqdm import tqdm\n",
    "import os"
   ]
  },
  {
   "cell_type": "markdown",
   "metadata": {},
   "source": [
    "# 遍历目录获取数据"
   ]
  },
  {
   "cell_type": "code",
   "execution_count": null,
   "metadata": {},
   "outputs": [],
   "source": [
    "# 获取文件路径函数\n",
    "def get_files(dir_path):\n",
    "    # args：dir_path，目标文件夹路径\n",
    "    file_list = []\n",
    "    for filepath, dirnames, filenames in os.walk(dir_path):\n",
    "        # os.walk 函数将递归遍历指定文件夹\n",
    "        for filename in filenames:\n",
    "            # 通过后缀名判断文件类型是否满足要求\n",
    "            if filename.endswith(\".md\"):\n",
    "                # 如果满足要求，将其绝对路径加入到结果列表\n",
    "                file_list.append(os.path.join(filepath, filename))\n",
    "            elif filename.endswith(\".txt\"):\n",
    "                file_list.append(os.path.join(filepath, filename))\n",
    "            elif filename.endswith(\".pdf\"):\n",
    "                file_list.append(os.path.join(filepath, filename))\n",
    "    return file_list"
   ]
  },
  {
   "cell_type": "code",
   "execution_count": null,
   "metadata": {},
   "outputs": [],
   "source": [
    "def get_text(dir_path):\n",
    "    # args：dir_path，目标文件夹路径\n",
    "    # 首先调用上文定义的函数得到目标文件路径列表\n",
    "    file_lst = get_files(dir_path)\n",
    "    # docs 存放加载之后的纯文本对象\n",
    "    docs = []\n",
    "    # 遍历所有目标文件\n",
    "    for one_file in tqdm(file_lst):\n",
    "        print(one_file)\n",
    "        file_type = one_file.split('.')[-1]\n",
    "        if file_type == 'md':\n",
    "            loader = UnstructuredMarkdownLoader(one_file)\n",
    "        elif file_type == 'txt':\n",
    "            loader = UnstructuredFileLoader(one_file)\n",
    "        elif file_type == 'pdf':\n",
    "            loader = PyPDFLoader(one_file)\n",
    "        else:\n",
    "            print(\"不符合条件的文件：\", one_file)\n",
    "            # 如果是不符合条件的文件，直接跳过\n",
    "            continue\n",
    "        docs.extend(loader.load())\n",
    "    return docs"
   ]
  },
  {
   "cell_type": "code",
   "execution_count": null,
   "metadata": {},
   "outputs": [],
   "source": [
    "# 目标文件夹\n",
    "tar_dirs = \"./data\"\n",
    "dirs = os.listdir(tar_dirs)\n",
    "dirs = [os.path.join(tar_dirs, dir) for dir in dirs]\n",
    "dirs = [dir for dir in dirs if os.path.isdir(dir)]\n",
    "dirs"
   ]
  },
  {
   "cell_type": "code",
   "execution_count": null,
   "metadata": {},
   "outputs": [],
   "source": [
    "# 加载目标文件\n",
    "docs = []\n",
    "for dir_path in dirs:\n",
    "    docs.extend(get_text(dir_path))\n",
    "docs[:5]"
   ]
  },
  {
   "cell_type": "markdown",
   "metadata": {},
   "source": [
    "# 文本分块"
   ]
  },
  {
   "cell_type": "code",
   "execution_count": null,
   "metadata": {},
   "outputs": [],
   "source": [
    "# 对文本进行分块\n",
    "text_splitter = RecursiveCharacterTextSplitter(\n",
    "    chunk_size=500, chunk_overlap=150)\n",
    "text_splitter"
   ]
  },
  {
   "cell_type": "code",
   "execution_count": null,
   "metadata": {},
   "outputs": [],
   "source": [
    "split_docs = text_splitter.split_documents(docs)\n",
    "split_docs[:5]"
   ]
  },
  {
   "cell_type": "markdown",
   "metadata": {},
   "source": [
    "# 向量化保存数据库"
   ]
  },
  {
   "cell_type": "code",
   "execution_count": 8,
   "metadata": {},
   "outputs": [],
   "source": [
    "# 定义持久化路径\n",
    "persist_directory = './vector_db/chroma'"
   ]
  },
  {
   "cell_type": "code",
   "execution_count": 9,
   "metadata": {},
   "outputs": [
    {
     "data": {
      "text/plain": [
       "HuggingFaceEmbeddings(client=SentenceTransformer(\n",
       "  (0): Transformer({'max_seq_length': 128, 'do_lower_case': False}) with Transformer model: BertModel \n",
       "  (1): Pooling({'word_embedding_dimension': 384, 'pooling_mode_cls_token': False, 'pooling_mode_mean_tokens': True, 'pooling_mode_max_tokens': False, 'pooling_mode_mean_sqrt_len_tokens': False, 'pooling_mode_weightedmean_tokens': False, 'pooling_mode_lasttoken': False, 'include_prompt': True})\n",
       "), model_name='./models/sentence-transformer', cache_folder=None, model_kwargs={}, encode_kwargs={}, multi_process=False, show_progress=False)"
      ]
     },
     "execution_count": 9,
     "metadata": {},
     "output_type": "execute_result"
    }
   ],
   "source": [
    "# 加载开源词向量模型\n",
    "embeddings = HuggingFaceEmbeddings(model_name=\"./models/sentence-transformer\")\n",
    "embeddings"
   ]
  },
  {
   "cell_type": "code",
   "execution_count": null,
   "metadata": {},
   "outputs": [],
   "source": [
    "help(Chroma.from_documents)"
   ]
  },
  {
   "cell_type": "code",
   "execution_count": null,
   "metadata": {},
   "outputs": [],
   "source": [
    "# 构建向量数据库\n",
    "vectordb = Chroma.from_documents(\n",
    "    documents=split_docs,\n",
    "    embedding=embeddings,\n",
    "    persist_directory=persist_directory  # 允许我们将persist_directory目录保存到磁盘上\n",
    ")\n",
    "vectordb"
   ]
  },
  {
   "cell_type": "code",
   "execution_count": null,
   "metadata": {},
   "outputs": [],
   "source": [
    "# 将加载的向量数据库持久化到磁盘上\n",
    "vectordb.persist()"
   ]
  },
  {
   "cell_type": "markdown",
   "metadata": {},
   "source": [
    "# 加载数据库"
   ]
  },
  {
   "cell_type": "code",
   "execution_count": 10,
   "metadata": {},
   "outputs": [],
   "source": [
    "# 加载数据库\n",
    "vectordb = Chroma(\n",
    "    embedding_function=embeddings,\n",
    "    persist_directory=persist_directory,\n",
    ")"
   ]
  },
  {
   "cell_type": "markdown",
   "metadata": {},
   "source": [
    "## similarity_search"
   ]
  },
  {
   "cell_type": "code",
   "execution_count": 11,
   "metadata": {},
   "outputs": [
    {
     "name": "stdout",
     "output_type": "stream",
     "text": [
      "Help on method similarity_search in module langchain_community.vectorstores.chroma:\n",
      "\n",
      "similarity_search(query: 'str', k: 'int' = 4, filter: 'Optional[Dict[str, str]]' = None, **kwargs: 'Any') -> 'List[Document]' method of langchain_community.vectorstores.chroma.Chroma instance\n",
      "    Run similarity search with Chroma.\n",
      "    \n",
      "    Args:\n",
      "        query (str): Query text to search for.\n",
      "        k (int): Number of results to return. Defaults to 4.\n",
      "        filter (Optional[Dict[str, str]]): Filter by metadata. Defaults to None.\n",
      "    \n",
      "    Returns:\n",
      "        List[Document]: List of documents most similar to the query text.\n",
      "\n"
     ]
    }
   ],
   "source": [
    "help(vectordb.similarity_search)"
   ]
  },
  {
   "cell_type": "code",
   "execution_count": 13,
   "metadata": {},
   "outputs": [
    {
     "data": {
      "text/plain": [
       "[Document(page_content='of this discussion, vitamin C is utilized to \\nshow that vitamin C intake modifies all of the \\nperipheral lamellae.  \\n \\n                                                                              85', metadata={'page': 1, 'source': './data\\\\FM docs 2024.3\\\\JOM_1976_05_2_02_The_Eating_Habits_of_High_and_Low_Vitamin_C_Users.pdf'}),\n",
       " Document(page_content='before vitamin \\nC  after vitamin C p-value\\nHemglobin A1c (%)   5.46±0.38  4.88±0.33 0.000\\nCortisol (μg/dL) 11.64±3.83  8.80±2.75 0.000\\nAspartate aminotranferase (U/L) 28.09±19.92 23.85±7.65 0.000\\nAlanine aminotranferase  (U/L) 28.45±20.66 25.12±17.75 0.011\\nr-GTP (U/L) 32.59±28.92 25.93±18.05 0.000\\nC-reactive protein(mg/L)   0.11±0.20   0.05±0.07 0.033\\nvitamin C (μmol/L) 42.90±12.4 68.60±26.57 0.000Table 3. Blood test after vitamin C administration.', metadata={'page': 2, 'source': './data\\\\FM docs 2024.3\\\\JOM_2008_23_4_07_Changes_in_Worker_Fatigue_after_Vitamin_C_Administration.pdf'}),\n",
       " Document(page_content='excretion of ascorbic acid, thus increasing\\nthe body’s requirements for vitamin C.  Therecommended daily allowance for vitamin\\nC is between 30-60 mg daily.  These doses\\nare too low to detect any possible ergogenicactivity of vitamin C.\\nOne of the most recognized features of\\nvitamin C is its antioxidant action. Vita-min C protects cells, especially muscle cells\\nfrom harmful effects of highly reactive free\\nradicals produced when the rate of oxygenconsumption is substantially increased', metadata={'page': 0, 'source': './data\\\\FM docs 2024.3\\\\JOM_2005_20_2_06_Vitamin_C_as_an_Ergogenic_Aid.pdf'}),\n",
       " Document(page_content='teria are presented.\\nThe well-publicized Mayo Clinic study\\nclaiming the lack of efficacy of vitamin C in\\nprolonging the lives of patients with ad-\\nv a n c e d  c o l o r e c t a l  c a n c e r  i s  s h o w n  t o  v i o -late each of the three criteria. A detailedaccount is given of the reprehensible treat-\\nment received by Linus Pauling and the\\nauthor from the New England Journal ofMedicine when they attempted to publish', metadata={'page': 0, 'source': './data\\\\FM docs 2024.3\\\\JOM_1998_13_4_06_The_Application_of_the_Hardin_Jones-Pauling-.pdf'}),\n",
       " Document(page_content='I knew about vitamin C. \\nThe surgeon responded negatively. He said \\nvitamin C was like many ineffective popular \\ntheories, such as Laetrile. I pointed out vitamin C \\nwas being successfully used by a small number of \\ndoctors in America. He finally agreed to talk to \\nan M. D. advocate of vitamin C in that area. I \\nfound one by a telephone search. Two days later \\nthe surgeon told me he had discussed the case \\nwith the vitamin C advocate and they had agreed \\nvitamin C was not appropriate.', metadata={'page': 1, 'source': './data\\\\FM docs 2024.3\\\\JOM_1994_09_3_02_Pride_Prejudice_and_Vitamin_C.pdf'})]"
      ]
     },
     "execution_count": 13,
     "metadata": {},
     "output_type": "execute_result"
    }
   ],
   "source": [
    "similarity_documents = vectordb.similarity_search(query='Vitamin C', k=5)\n",
    "similarity_documents"
   ]
  },
  {
   "cell_type": "code",
   "execution_count": 15,
   "metadata": {},
   "outputs": [
    {
     "data": {
      "text/plain": [
       "['./data\\\\FM docs 2024.3\\\\JOM_1998_13_4_06_The_Application_of_the_Hardin_Jones-Pauling-.pdf',\n",
       " './data\\\\FM docs 2024.3\\\\JOM_2005_20_2_06_Vitamin_C_as_an_Ergogenic_Aid.pdf',\n",
       " './data\\\\FM docs 2024.3\\\\JOM_1994_09_3_02_Pride_Prejudice_and_Vitamin_C.pdf',\n",
       " './data\\\\FM docs 2024.3\\\\JOM_1976_05_2_02_The_Eating_Habits_of_High_and_Low_Vitamin_C_Users.pdf',\n",
       " './data\\\\FM docs 2024.3\\\\JOM_2008_23_4_07_Changes_in_Worker_Fatigue_after_Vitamin_C_Administration.pdf']"
      ]
     },
     "execution_count": 15,
     "metadata": {},
     "output_type": "execute_result"
    }
   ],
   "source": [
    "similarity_documents_reference = list(set([doc.metadata['source'] for doc in similarity_documents]))\n",
    "similarity_documents_reference\n"
   ]
  },
  {
   "cell_type": "code",
   "execution_count": 21,
   "metadata": {},
   "outputs": [
    {
     "data": {
      "text/plain": [
       "('./data\\\\FM docs 2024.3',\n",
       " 'JOM_1998_13_4_06_The_Application_of_the_Hardin_Jones-Pauling-.pdf')"
      ]
     },
     "execution_count": 21,
     "metadata": {},
     "output_type": "execute_result"
    }
   ],
   "source": [
    "import os\n",
    "os.path.split('./data\\\\FM docs 2024.3\\\\JOM_1998_13_4_06_The_Application_of_the_Hardin_Jones-Pauling-.pdf')"
   ]
  },
  {
   "cell_type": "code",
   "execution_count": 10,
   "metadata": {},
   "outputs": [
    {
     "data": {
      "text/plain": [
       "<coroutine object VectorStore.asimilarity_search at 0x0000020FBCB71930>"
      ]
     },
     "execution_count": 10,
     "metadata": {},
     "output_type": "execute_result"
    }
   ],
   "source": [
    "similarity_documents = vectordb.asimilarity_search(query='Vitamin C', k=5)\n",
    "similarity_documents"
   ]
  },
  {
   "cell_type": "markdown",
   "metadata": {},
   "source": [
    "## search"
   ]
  },
  {
   "cell_type": "code",
   "execution_count": 11,
   "metadata": {},
   "outputs": [
    {
     "name": "stdout",
     "output_type": "stream",
     "text": [
      "Help on method search in module langchain_core.vectorstores:\n",
      "\n",
      "search(query: 'str', search_type: 'str', **kwargs: 'Any') -> 'List[Document]' method of langchain_community.vectorstores.chroma.Chroma instance\n",
      "    Return docs most similar to query using specified search type.\n",
      "\n"
     ]
    }
   ],
   "source": [
    "help(vectordb.search)"
   ]
  },
  {
   "cell_type": "code",
   "execution_count": 12,
   "metadata": {},
   "outputs": [
    {
     "data": {
      "text/plain": [
       "[Document(page_content='of this discussion, vitamin C is utilized to \\nshow that vitamin C intake modifies all of the \\nperipheral lamellae.  \\n \\n                                                                              85', metadata={'page': 1, 'source': './data\\\\FM docs 2024.3\\\\JOM_1976_05_2_02_The_Eating_Habits_of_High_and_Low_Vitamin_C_Users.pdf'}),\n",
       " Document(page_content='before vitamin \\nC  after vitamin C p-value\\nHemglobin A1c (%)   5.46±0.38  4.88±0.33 0.000\\nCortisol (μg/dL) 11.64±3.83  8.80±2.75 0.000\\nAspartate aminotranferase (U/L) 28.09±19.92 23.85±7.65 0.000\\nAlanine aminotranferase  (U/L) 28.45±20.66 25.12±17.75 0.011\\nr-GTP (U/L) 32.59±28.92 25.93±18.05 0.000\\nC-reactive protein(mg/L)   0.11±0.20   0.05±0.07 0.033\\nvitamin C (μmol/L) 42.90±12.4 68.60±26.57 0.000Table 3. Blood test after vitamin C administration.', metadata={'page': 2, 'source': './data\\\\FM docs 2024.3\\\\JOM_2008_23_4_07_Changes_in_Worker_Fatigue_after_Vitamin_C_Administration.pdf'}),\n",
       " Document(page_content='excretion of ascorbic acid, thus increasing\\nthe body’s requirements for vitamin C.  Therecommended daily allowance for vitamin\\nC is between 30-60 mg daily.  These doses\\nare too low to detect any possible ergogenicactivity of vitamin C.\\nOne of the most recognized features of\\nvitamin C is its antioxidant action. Vita-min C protects cells, especially muscle cells\\nfrom harmful effects of highly reactive free\\nradicals produced when the rate of oxygenconsumption is substantially increased', metadata={'page': 0, 'source': './data\\\\FM docs 2024.3\\\\JOM_2005_20_2_06_Vitamin_C_as_an_Ergogenic_Aid.pdf'}),\n",
       " Document(page_content='teria are presented.\\nThe well-publicized Mayo Clinic study\\nclaiming the lack of efficacy of vitamin C in\\nprolonging the lives of patients with ad-\\nv a n c e d  c o l o r e c t a l  c a n c e r  i s  s h o w n  t o  v i o -late each of the three criteria. A detailedaccount is given of the reprehensible treat-\\nment received by Linus Pauling and the\\nauthor from the New England Journal ofMedicine when they attempted to publish', metadata={'page': 0, 'source': './data\\\\FM docs 2024.3\\\\JOM_1998_13_4_06_The_Application_of_the_Hardin_Jones-Pauling-.pdf'}),\n",
       " Document(page_content='I knew about vitamin C. \\nThe surgeon responded negatively. He said \\nvitamin C was like many ineffective popular \\ntheories, such as Laetrile. I pointed out vitamin C \\nwas being successfully used by a small number of \\ndoctors in America. He finally agreed to talk to \\nan M. D. advocate of vitamin C in that area. I \\nfound one by a telephone search. Two days later \\nthe surgeon told me he had discussed the case \\nwith the vitamin C advocate and they had agreed \\nvitamin C was not appropriate.', metadata={'page': 1, 'source': './data\\\\FM docs 2024.3\\\\JOM_1994_09_3_02_Pride_Prejudice_and_Vitamin_C.pdf'})]"
      ]
     },
     "execution_count": 12,
     "metadata": {},
     "output_type": "execute_result"
    }
   ],
   "source": [
    "# search_type: 'similarity' or 'mmr'.\n",
    "similarity_documents = vectordb.search(query='Vitamin C', search_type='similarity', k=5)\n",
    "similarity_documents"
   ]
  },
  {
   "cell_type": "code",
   "execution_count": 13,
   "metadata": {},
   "outputs": [
    {
     "data": {
      "text/plain": [
       "<coroutine object VectorStore.asearch at 0x0000020FBCB71E70>"
      ]
     },
     "execution_count": 13,
     "metadata": {},
     "output_type": "execute_result"
    }
   ],
   "source": [
    "similarity_documents = vectordb.asearch(query='Vitamin C', search_type='similarity', k=5)\n",
    "similarity_documents"
   ]
  },
  {
   "cell_type": "markdown",
   "metadata": {},
   "source": [
    "## retriever"
   ]
  },
  {
   "cell_type": "code",
   "execution_count": 15,
   "metadata": {},
   "outputs": [
    {
     "name": "stdout",
     "output_type": "stream",
     "text": [
      "Help on method as_retriever in module langchain_core.vectorstores:\n",
      "\n",
      "as_retriever(**kwargs: 'Any') -> 'VectorStoreRetriever' method of langchain_community.vectorstores.chroma.Chroma instance\n",
      "    Return VectorStoreRetriever initialized from this VectorStore.\n",
      "    \n",
      "    Args:\n",
      "        search_type (Optional[str]): Defines the type of search that\n",
      "            the Retriever should perform.\n",
      "            Can be \"similarity\" (default), \"mmr\", or\n",
      "            \"similarity_score_threshold\".\n",
      "        search_kwargs (Optional[Dict]): Keyword arguments to pass to the\n",
      "            search function. Can include things like:\n",
      "                k: Amount of documents to return (Default: 4)\n",
      "                score_threshold: Minimum relevance threshold\n",
      "                    for similarity_score_threshold\n",
      "                fetch_k: Amount of documents to pass to MMR algorithm (Default: 20)\n",
      "                lambda_mult: Diversity of results returned by MMR;\n",
      "                    1 for minimum diversity and 0 for maximum. (Default: 0.5)\n",
      "                filter: Filter by document metadata\n",
      "    \n",
      "    Returns:\n",
      "        VectorStoreRetriever: Retriever class for VectorStore.\n",
      "    \n",
      "    Examples:\n",
      "    \n",
      "    .. code-block:: python\n",
      "    \n",
      "        # Retrieve more documents with higher diversity\n",
      "        # Useful if your dataset has many similar documents\n",
      "        docsearch.as_retriever(\n",
      "            search_type=\"mmr\",\n",
      "            search_kwargs={'k': 6, 'lambda_mult': 0.25}\n",
      "        )\n",
      "    \n",
      "        # Fetch more documents for the MMR algorithm to consider\n",
      "        # But only return the top 5\n",
      "        docsearch.as_retriever(\n",
      "            search_type=\"mmr\",\n",
      "            search_kwargs={'k': 5, 'fetch_k': 50}\n",
      "        )\n",
      "    \n",
      "        # Only retrieve documents that have a relevance score\n",
      "        # Above a certain threshold\n",
      "        docsearch.as_retriever(\n",
      "            search_type=\"similarity_score_threshold\",\n",
      "            search_kwargs={'score_threshold': 0.8}\n",
      "        )\n",
      "    \n",
      "        # Only get the single most similar document from the dataset\n",
      "        docsearch.as_retriever(search_kwargs={'k': 1})\n",
      "    \n",
      "        # Use a filter to only retrieve documents from a specific paper\n",
      "        docsearch.as_retriever(\n",
      "            search_kwargs={'filter': {'paper_title':'GPT-4 Technical Report'}}\n",
      "        )\n",
      "\n"
     ]
    }
   ],
   "source": [
    "help(vectordb.as_retriever)"
   ]
  },
  {
   "cell_type": "code",
   "execution_count": 16,
   "metadata": {},
   "outputs": [
    {
     "data": {
      "text/plain": [
       "VectorStoreRetriever(tags=['Chroma', 'HuggingFaceEmbeddings'], vectorstore=<langchain_community.vectorstores.chroma.Chroma object at 0x0000020F8BBCAC20>, search_kwargs={'k': 5})"
      ]
     },
     "execution_count": 16,
     "metadata": {},
     "output_type": "execute_result"
    }
   ],
   "source": [
    "retriever = vectordb.as_retriever(search_type=\"similarity\", search_kwargs={\"k\": 5})\n",
    "retriever"
   ]
  },
  {
   "cell_type": "code",
   "execution_count": 17,
   "metadata": {},
   "outputs": [
    {
     "data": {
      "text/plain": [
       "<langchain_community.vectorstores.chroma.Chroma at 0x20f8bbcac20>"
      ]
     },
     "execution_count": 17,
     "metadata": {},
     "output_type": "execute_result"
    }
   ],
   "source": [
    "retriever.vectorstore"
   ]
  },
  {
   "cell_type": "code",
   "execution_count": 18,
   "metadata": {},
   "outputs": [
    {
     "name": "stdout",
     "output_type": "stream",
     "text": [
      "Help on method invoke in module langchain_core.retrievers:\n",
      "\n",
      "invoke(input: 'str', config: 'Optional[RunnableConfig]' = None, **kwargs: 'Any') -> 'List[Document]' method of langchain_core.vectorstores.VectorStoreRetriever instance\n",
      "    Invoke the retriever to get relevant documents.\n",
      "    \n",
      "    Main entry point for synchronous retriever invocations.\n",
      "    \n",
      "    Args:\n",
      "        input: The query string\n",
      "        config: Configuration for the retriever\n",
      "        **kwargs: Additional arguments to pass to the retriever\n",
      "    \n",
      "    Returns:\n",
      "        List of relevant documents\n",
      "    \n",
      "    Examples:\n",
      "    \n",
      "    .. code-block:: python\n",
      "    \n",
      "        retriever.invoke(\"query\")\n",
      "\n"
     ]
    }
   ],
   "source": [
    "help(retriever.invoke)"
   ]
  },
  {
   "cell_type": "code",
   "execution_count": 19,
   "metadata": {},
   "outputs": [
    {
     "data": {
      "text/plain": [
       "[Document(page_content='of this discussion, vitamin C is utilized to \\nshow that vitamin C intake modifies all of the \\nperipheral lamellae.  \\n \\n                                                                              85', metadata={'page': 1, 'source': './data\\\\FM docs 2024.3\\\\JOM_1976_05_2_02_The_Eating_Habits_of_High_and_Low_Vitamin_C_Users.pdf'}),\n",
       " Document(page_content='before vitamin \\nC  after vitamin C p-value\\nHemglobin A1c (%)   5.46±0.38  4.88±0.33 0.000\\nCortisol (μg/dL) 11.64±3.83  8.80±2.75 0.000\\nAspartate aminotranferase (U/L) 28.09±19.92 23.85±7.65 0.000\\nAlanine aminotranferase  (U/L) 28.45±20.66 25.12±17.75 0.011\\nr-GTP (U/L) 32.59±28.92 25.93±18.05 0.000\\nC-reactive protein(mg/L)   0.11±0.20   0.05±0.07 0.033\\nvitamin C (μmol/L) 42.90±12.4 68.60±26.57 0.000Table 3. Blood test after vitamin C administration.', metadata={'page': 2, 'source': './data\\\\FM docs 2024.3\\\\JOM_2008_23_4_07_Changes_in_Worker_Fatigue_after_Vitamin_C_Administration.pdf'}),\n",
       " Document(page_content='excretion of ascorbic acid, thus increasing\\nthe body’s requirements for vitamin C.  Therecommended daily allowance for vitamin\\nC is between 30-60 mg daily.  These doses\\nare too low to detect any possible ergogenicactivity of vitamin C.\\nOne of the most recognized features of\\nvitamin C is its antioxidant action. Vita-min C protects cells, especially muscle cells\\nfrom harmful effects of highly reactive free\\nradicals produced when the rate of oxygenconsumption is substantially increased', metadata={'page': 0, 'source': './data\\\\FM docs 2024.3\\\\JOM_2005_20_2_06_Vitamin_C_as_an_Ergogenic_Aid.pdf'}),\n",
       " Document(page_content='teria are presented.\\nThe well-publicized Mayo Clinic study\\nclaiming the lack of efficacy of vitamin C in\\nprolonging the lives of patients with ad-\\nv a n c e d  c o l o r e c t a l  c a n c e r  i s  s h o w n  t o  v i o -late each of the three criteria. A detailedaccount is given of the reprehensible treat-\\nment received by Linus Pauling and the\\nauthor from the New England Journal ofMedicine when they attempted to publish', metadata={'page': 0, 'source': './data\\\\FM docs 2024.3\\\\JOM_1998_13_4_06_The_Application_of_the_Hardin_Jones-Pauling-.pdf'}),\n",
       " Document(page_content='I knew about vitamin C. \\nThe surgeon responded negatively. He said \\nvitamin C was like many ineffective popular \\ntheories, such as Laetrile. I pointed out vitamin C \\nwas being successfully used by a small number of \\ndoctors in America. He finally agreed to talk to \\nan M. D. advocate of vitamin C in that area. I \\nfound one by a telephone search. Two days later \\nthe surgeon told me he had discussed the case \\nwith the vitamin C advocate and they had agreed \\nvitamin C was not appropriate.', metadata={'page': 1, 'source': './data\\\\FM docs 2024.3\\\\JOM_1994_09_3_02_Pride_Prejudice_and_Vitamin_C.pdf'})]"
      ]
     },
     "execution_count": 19,
     "metadata": {},
     "output_type": "execute_result"
    }
   ],
   "source": [
    "similarity_documents = retriever.invoke('Vitamin C')\n",
    "similarity_documents"
   ]
  },
  {
   "cell_type": "code",
   "execution_count": null,
   "metadata": {},
   "outputs": [],
   "source": []
  }
 ],
 "metadata": {
  "kernelspec": {
   "display_name": "mm",
   "language": "python",
   "name": "python3"
  },
  "language_info": {
   "codemirror_mode": {
    "name": "ipython",
    "version": 3
   },
   "file_extension": ".py",
   "mimetype": "text/x-python",
   "name": "python",
   "nbconvert_exporter": "python",
   "pygments_lexer": "ipython3",
   "version": "3.10.14"
  }
 },
 "nbformat": 4,
 "nbformat_minor": 2
}

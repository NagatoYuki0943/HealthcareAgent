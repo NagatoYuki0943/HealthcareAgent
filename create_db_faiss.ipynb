{
 "cells": [
  {
   "cell_type": "code",
   "execution_count": 1,
   "metadata": {},
   "outputs": [],
   "source": [
    "# 首先导入所需第三方库\n",
    "from langchain_community.document_loaders import (\n",
    "    UnstructuredFileLoader,\n",
    "    UnstructuredMarkdownLoader,\n",
    "    UnstructuredWordDocumentLoader,\n",
    "    PyPDFLoader,\n",
    ")\n",
    "from langchain.text_splitter import RecursiveCharacterTextSplitter\n",
    "from langchain_community.embeddings import HuggingFaceEmbeddings\n",
    "from langchain_community.vectorstores import FAISS\n",
    "from langchain_community.vectorstores.utils import DistanceStrategy\n",
    "from tqdm import tqdm\n",
    "import os"
   ]
  },
  {
   "cell_type": "markdown",
   "metadata": {},
   "source": [
    "# 遍历目录获取数据"
   ]
  },
  {
   "cell_type": "code",
   "execution_count": 2,
   "metadata": {},
   "outputs": [],
   "source": [
    "# 获取文件路径函数\n",
    "def get_files(dir_path: str) -> list:\n",
    "    # args：dir_path，目标文件夹路径\n",
    "    file_list = []\n",
    "    for filepath, dirnames, filenames in os.walk(dir_path):\n",
    "        # os.walk 函数将递归遍历指定文件夹\n",
    "        for filename in filenames:\n",
    "            # 通过后缀名判断文件类型是否满足要求\n",
    "            if filename.endswith((\".txt\", \".md\", \".docx\", \".doc\", \".pdf\")):\n",
    "                # 忽略 readme.md\n",
    "                # if filename.lower() == 'readme.md':\n",
    "                #     continue\n",
    "                file_list.append(os.path.join(filepath, filename))\n",
    "    return file_list"
   ]
  },
  {
   "cell_type": "code",
   "execution_count": 3,
   "metadata": {},
   "outputs": [],
   "source": [
    "def get_text(file_lst: list) -> list:\n",
    "    # docs 存放加载之后的纯文本对象\n",
    "    docs = []\n",
    "    # 遍历所有目标文件\n",
    "    for one_file in tqdm(file_lst):\n",
    "        if one_file.endswith(\".txt\"):\n",
    "            # txt, md, docx, doc: pip install unstructured\n",
    "            loader = UnstructuredFileLoader(one_file)\n",
    "        elif one_file.endswith(\".md\"):\n",
    "            loader = UnstructuredMarkdownLoader(one_file)\n",
    "        elif one_file.endswith((\".docx\", \".doc\")):\n",
    "            # pip install python-docx\n",
    "            loader = UnstructuredWordDocumentLoader(one_file)\n",
    "        elif one_file.endswith(\".pdf\"):\n",
    "            # pip install pypdf\n",
    "            loader = PyPDFLoader(one_file)\n",
    "        docs.extend(loader.load())\n",
    "    return docs"
   ]
  },
  {
   "cell_type": "code",
   "execution_count": 4,
   "metadata": {},
   "outputs": [],
   "source": [
    "# 目标文件夹\n",
    "tar_dirs = \"./data\""
   ]
  },
  {
   "cell_type": "code",
   "execution_count": 11,
   "metadata": {},
   "outputs": [
    {
     "data": {
      "text/plain": [
       "184"
      ]
     },
     "execution_count": 11,
     "metadata": {},
     "output_type": "execute_result"
    }
   ],
   "source": [
    "# 得到目标文件路径列表\n",
    "file_lst = get_files(tar_dirs)\n",
    "len(file_lst)"
   ]
  },
  {
   "cell_type": "code",
   "execution_count": 12,
   "metadata": {},
   "outputs": [
    {
     "name": "stderr",
     "output_type": "stream",
     "text": [
      "  1%|          | 1/184 [00:00<00:31,  5.88it/s]Ignoring wrong pointing object 13 0 (offset 0)\n",
      "Ignoring wrong pointing object 16 0 (offset 0)\n",
      "Ignoring wrong pointing object 21 0 (offset 0)\n",
      "Ignoring wrong pointing object 44 0 (offset 0)\n",
      "Ignoring wrong pointing object 57 0 (offset 0)\n",
      " 27%|██▋       | 50/184 [00:08<00:19,  6.94it/s]XRef object at 1067 can not be read, some object may be missing\n",
      "XRef object at 969 can not be read, some object may be missing\n",
      " 28%|██▊       | 52/184 [00:08<00:14,  8.88it/s]XRef object at 969 can not be read, some object may be missing\n",
      " 30%|███       | 56/184 [00:08<00:14,  8.61it/s]XRef object at 1201 can not be read, some object may be missing\n",
      " 31%|███       | 57/184 [00:09<00:29,  4.36it/s]XRef object at 1104 can not be read, some object may be missing\n",
      " 32%|███▏      | 58/184 [00:09<00:26,  4.76it/s]XRef object at 1041 can not be read, some object may be missing\n",
      " 32%|███▏      | 59/184 [00:09<00:24,  5.07it/s]XRef object at 1009 can not be read, some object may be missing\n",
      "XRef object at 1032 can not be read, some object may be missing\n",
      " 33%|███▎      | 61/184 [00:10<00:19,  6.35it/s]XRef object at 946 can not be read, some object may be missing\n",
      "XRef object at 974 can not be read, some object may be missing\n",
      " 34%|███▍      | 63/184 [00:10<00:18,  6.52it/s]XRef object at 973 can not be read, some object may be missing\n",
      " 35%|███▍      | 64/184 [00:10<00:19,  6.22it/s]XRef object at 944 can not be read, some object may be missing\n",
      " 35%|███▌      | 65/184 [00:10<00:18,  6.45it/s]XRef object at 1156 can not be read, some object may be missing\n",
      " 36%|███▌      | 66/184 [00:10<00:19,  6.20it/s]XRef object at 972 can not be read, some object may be missing\n",
      " 36%|███▋      | 67/184 [00:11<00:18,  6.33it/s]XRef object at 1094 can not be read, some object may be missing\n",
      " 37%|███▋      | 68/184 [00:11<00:20,  5.58it/s]XRef object at 1067 can not be read, some object may be missing\n",
      " 38%|███▊      | 69/184 [00:11<00:18,  6.09it/s]XRef object at 948 can not be read, some object may be missing\n",
      "XRef object at 1158 can not be read, some object may be missing\n",
      " 39%|███▊      | 71/184 [00:12<00:25,  4.39it/s]XRef object at 1132 can not be read, some object may be missing\n",
      " 39%|███▉      | 72/184 [00:12<00:32,  3.49it/s]XRef object at 1080 can not be read, some object may be missing\n",
      " 40%|███▉      | 73/184 [00:12<00:30,  3.66it/s]XRef object at 1079 can not be read, some object may be missing\n",
      "XRef object at 941 can not be read, some object may be missing\n",
      " 78%|███████▊  | 144/184 [00:38<00:10,  3.81it/s]XRef object at 921 can not be read, some object may be missing\n",
      "100%|██████████| 184/184 [01:01<00:00,  3.00it/s]\n"
     ]
    },
    {
     "data": {
      "text/plain": [
       "[Document(page_content='Eye Pressure Lowering Effect of Vitamin C\\nHerschell H. Boyd, M.D.1\\nPurpose\\nTo document the pressure before the use\\nof vitamin C and after the daily intake of\\nmaximum amounts of vitamin C, three times\\na day.\\nMethods\\nThirty patients (16 men and 14 women)\\nwere advised to take three divided doses of\\nvitamin C in capsule form each day until\\nloose stools occured and then back downslightly from this amount (bowel dosage) for\\na daily intake. Average daily intake for all\\npatients was 10 grams per day.\\nResults\\nThe greatest lowering of pressure was 13\\nmm as measured with a Goldmann tonom-\\neter. The least lowering of pressure was 1\\nmm. The average for 30 patients was 10 mm.Thirty patients were controlled only with\\nvitamin C. Twenty patients were forced to\\nuse eye drops to lower the pressure below 20mm of mercury as they refused to take vita-\\nmin C.\\nConclusion\\nIn this series of 30 patients there was no\\noccasion in which the pressure was not low-ered with vitamin C. All drugs for glaucoma\\nare seriously toxic, and vitamin C has no\\ntoxicity yet known. The patients experiencedmany other good side effects from vitamin C\\nsuch as clearing of sinusitis, allergy symp-\\ntoms, arthritis improvement, cholesterol low-ering, laxative effect, diuretic effect for heart\\ndisease patients, and other improvements\\nassociated with vitamin C intake of “severalgrams per day” level. Ophthalmologists may\\nawaken to the marvels of vitamin C in treat-\\ning glaucoma!\\nIntroduction\\nVitamin C has been used since the trans-\\nformation of glucose, C\\n6H12O6, into vitamin\\n1. Eastview Professional Building, 1370 - 116th Avenue\\nN.E., Suite 212, Bellevue WA 98004-4679.\\n165C, C6H8O6, in the early 1930s. Its use in\\nlowering the pressure in glaucoma datesback to 1962 as reported in Experimental\\nEye Research.\\n1 Since then there have been\\nmany references in the foreign literature, butin the U.S. it has escaped the attention of the\\nophthalmologists. This study consists of fifty\\nconsecutive patients who presented withintraocular pressure greater than 20 mm of\\nmercury as measured with the Goldmann\\napplanation tonometer from August 1993through March 1995. The highest pressure\\nwas 36 mm of mercury in the study. Out of\\n50 patients, 20 patients refused to take vita-min C and eye drops were used to lower the\\npressure in the standard manner.\\nAge Distribution\\n30-39 40-49 50-59 60-80\\n165 1 8\\nVisual Fields\\nNo defects were found in any of the 50\\npatients.\\nGonioscopy\\nAll 50 patients had open angle, and no\\nangles were particularly closed.\\nVitamin C Taken\\nThe most vitamin C taken was 35 grams\\nper day divided in three doses at mealtime.\\nThis lady had chronic sinusitis and was quite\\npleased to be relieved of this problem afterseveral years of unsuccessful drug therapy.\\nThe least amount taken was one gram per\\nday in two patients. The average for the 30patients was 10 grams per day. It was sug-\\ngested that patients take “bowel dosage” and\\nthen back down, but this advice is almostalways ignored by patients as they feel the\\nidea is unreasonable and generally have this\\nreinforced by friends and relatives who givestatements of shock and dismay. But 20 out\\nof 30 patients did take ten or more grams per\\nday so perhaps we should be pleased withthis result.', metadata={'source': './data\\\\FM docs 2024.3\\\\Eye Pressure Lowering Effect of Vitamin C.pdf', 'page': 0}),\n",
       " Document(page_content=\"Journal of Orthomolecular Medicine     Vol. 10, No. 3 & 4, 1995\\n166Average Drop in Eye Pressure\\nRight Eye: 4.8 mmLeft Eye: 6.3 mm\\nBoth Eyes: 5.6 mm\\nIt is an interesting observation that indi-\\nviduals who take vitamin C regularly and\\nhave their intraocular pressure taken on a\\nroutine basis for their eye exam have pres-sures in the range of 10-13 mm of mercury\\ncommonly. It has been my experience that I\\nhave yet to find the first patient with apressure over 20 mm who comes into the\\noffice and admits to taking any amount of\\nvitamin C daily. It also seems to be generallytrue that those people who do have pressure\\nelevated for the first time are those treating\\nthemselves with various toxic drugs, smok-ing, eating processed foods, and living a life\\nstyle saturated with free radicals. I assume\\nthe little amount of vitamin C they eat in aday is not enough to keep the eye pressure\\nnormal. Another interesting observation is\\nthat patients who already have taken medi-cation for years are generally unable to stop\\nthe medication and reverse the high pressure\\nwith vitamin C. This group seems to fit thepicture of the diabetic group who finally are\\nplaced upon insulin by needle and cannot\\nlater usually get off the needle, whereas,before that the diabetes may be reversed.\\nGreatest Drop in Pressure\\nOne patient had the pressure decrease in\\none eye by 13 mm. Seven eyes dropped by\\n10 to 13 mm of mercury.\\nSide Effects\\nNo side effects were encountered as vita-\\nmin C apparently has none. All drugs we use\\nin glaucoma have multiple side effects in-\\ncluding death.\\nDiscussion\\nIt is said that the aqueous fluid in the eye\\nhas 25 times the amount of vitamin C as in\\nthe blood. This may explain why the pres-\\nsure decreased with the increased intake ofvitamin C with an opening of the many\\nchannels called Schlemm's canal. Any swell-\\ning in the area would be removed with theantihistamine effect of vitamin C. Further\\nresearch could explain the possibility.\\nAnother explanation of the lowering ef-\\nfect of vitamin C could be the ability ofvitamin C to increase the T4 cells. Maybe\\ndebris is removed from the Schlemm's canalby T4 cells so iris pigment and inflammatory\\ncells are unable to plug the outflow of the\\neye. Further studies could answer this ques-tion.\\nIn 1969, Dr. Erich Linner explained that\\nthe fall in pressure in ocular hypertensionwas due to a reduction in the rate of aqueous\\nflow and possibly by “bulk drainage by way\\nof posterior uveo-scleral routes”.\\n6\\nSince the patients in this study would not\\ntake “bowel dosage” of vitamin C, or that\\namount needed to loosen stools and thenback down in dosage, the effects of vitamin\\nC could be further improved from those\\nobtained in this study. The reparative effectsof vitamin C are certainly demonstrated and\\nin my experience can be seen as well in other\\neye diseases.\\nSince vitamin C makes collagen needed to\\nstrengthen the blood vessel walls, diabetics\\nquit bleeding in the retina and of courseelsewhere in the body. This reduces the need\\nfor laser treatment to the retina and in many\\ncases in the development of late glaucoma.In diabetes with an electron microscope the\\ncollagenous reticulum is absent at the site of\\nretinal microaneurism. These develop in longstanding diabetes and indicate a derange-\\nment in some slow metabolic process.\\n4 The\\nobvious savings financially for various pay-ers is staggering. We may see the day when\\nthese people are told to take vitamin C by the\\ninsurers as they are totally cost oriented andare unemotional in their thinking.\\nIt is generally agreed that macular degen-\\neration occurs in 25% of the U.S. populationover 55. This group can be helped enor-\\nmously with antioxidants to improve what\\nmacula is left and protect the macular fromworsening. People with glaucoma also be-\\ncome a major problem in management. In\\nmany cases my experience is that the visionmay improve dramatically with vitamin C\\nand other antioxidants. Here, too, it seems\\nlogical to effect life style changes to elimi-nate free radicals.\\nCataract removal represents the largest\\nsurgical expense in Medicare, and there aremany patients in my practice who improve\\nseveral lines of vision on the Snellen eye\\nchart. One dramatic example was a lady with20/40 who achieved 20/20 in eight weeks\", metadata={'source': './data\\\\FM docs 2024.3\\\\Eye Pressure Lowering Effect of Vitamin C.pdf', 'page': 1}),\n",
       " Document(page_content=\"Eye Pressure Lowering Effect of Vitamin C\\n167with 12 grams of vitamin C each day. She\\nwas a smoker in her early fifties, and she hascontinued to smoke with good reason to\\ncease.\\nGlaucoma accompanies the cataract pa-\\ntients so a daily intake of vitamin C could\\nsave the country literally in the billions of\\ndollars. This would admittedly be detrimen-tal to the financial health of ophthalmolo-\\ngists, but of course this is not the issue.\\nAscorbic acid has been reported to be of\\ntherapeutic benefit in numerous pathologi-\\ncal conditions, and researchers vary in their\\nestimates of the daily requirement needed byman. Animals which are capable of synthe-\\nsizing their own ascorbic acid usually have\\ntissue levels approaching saturation.\\nTherefore in man it would seem desirable\\nto ensure the intake of ascorbic C is suffi-\\nciently high for tissue saturation.\\n5 This pa-\\nper shows that in glaucoma, tissue saturation\\nis needed to lower intraocular pressure. In a\\nmodern world of processed foods and excessfree radicals, it is surprising that we have a\\nrelatively small group of glaucoma patients.\\nAscorbic acid concentrations have been\\nshown to change in the body under various\\nconditions of stress such as trauma, surgery,\\nexposure to cold, after the administration ofcortisone or ACTH and during infection.\\n5 In\\nophthalmology we need to give vitamin C\\nsupplements for any of the glaucoma surger-ies and for that matter with all our surgeries.\\nThe lens in the eye is necessary for main-\\ntaining the normal level of ascorbic acidwithin the aqueous humor, vitreous body\\nand the cornea. The diminution of the\\nintraocular ascorbic acid content does nottake place when traces of lens fibers are\\npresent in the eye.\\n3 This could be an interest-\\ning study for glaucoma and cataract removal.\\nThe structure of the vitreous body de-\\npends upon both the integrity of the mesh\\nwork of collagen fibrils and on the mainte-nance of the polymeric state of the muco-\\npolysaccharide hyaluronic acid. With a defi-\\nciency in vitamin C, abnormal mucopoly-saccharide formation occurs. Disorganiza-\\ntion of the vitreous body with the formation\\nof vitreous bands is often associated withretinal detachment.\\n5 Here also the associa-\\ntion of glaucoma with these people would be\\nan interesting observation.\\nMichele Virno, M.D. used intravenousvitamin C of 0.4 to 1.0 gram per 1 kg body\\nweight to induce a “marked ocular hypotonyin approximately 60 to 90 minutes”. These\\ngood results instigated the idea to use vita-\\nmin C by mouth to lower intraocular pres-sure.\\n3\\nVirno found in 1967 that 0.5 g per 1 kg of\\nbody weight of vitamin C in all patients withglaucoma a reduction of intraocular pres-\\nsure was obtained. The C was given 3 to 4\\ntimes per day, and in some patients whocould not be controlled with diamox and 2%\\npilocarpine\\n1it was possible to obtain almost\\nnormal pressures.\\nErich Linner, M.D. gave only 0.5 gram\\nvitamin C twice a day for 4 to 6 weeks and\\nonly decreased the pressure by 2 to 3 mm Hgafter two days of use. As Michele Virno,\\nM.D. concluded, this was not enough, but\\nthe idea was good in 1964.\\n2\\nIrwin Stone, Ph.D. in his book of 1972\\nmade the remark “of all the disorders afflict-\\ning man, blindness causes the most wide-spread disability. Yet in spite of significant\\nadvances in eye research, the incidence of\\nblindness is increasing. Megascorbic therapymight one day help to reverse this trend.”\\nDoctor Stone reports that from 1965 to\\n1969 there were numerous papers reportedon the prompt reduction of the intraocular\\npressure with two American journals in 1966\\nand 1967 reporting on the good results fromItalian workers. There have been no Ameri-\\ncan authors reporting on this exacting re-\\nsearch or treatment of their patients.\\n7\\nDoctor Stone made the very accurate ob-\\nservation that “research should be started\\nimmediately on population groups near fortyand older to determine the long-term effect\\nof the inhibition of glaucoma by means of\\nthe continued daily intake of about 3 to 5grams of ascorbic acid. This will help to\\ndetermine if a simple and harmless ascorbic\\nacid regimen can be worked out which willprevent blindness in our senior citizens.”\\nCataracts and macular degeneration that are\\nmore common than glaucoma would haveimmense benefit.\\nIt is the experience of this author that\\nprivate patients do not present with maculardegeneration, cataracts to remove, or glau-\\ncoma who have taken vitamins for years\\nwith ascorbic acid. One has to ask why it isthat physicians in ophtahlmology don't tell\", metadata={'source': './data\\\\FM docs 2024.3\\\\Eye Pressure Lowering Effect of Vitamin C.pdf', 'page': 2}),\n",
       " Document(page_content=\"Journal of Orthomolecular Medicine     Vol. 10, No. 3 & 4, 1995\\n168every patient to take the antioxidants with\\ntissue saturation levels of vitamin C? Theanswer may be:\\n1. It is not taught in medical school.\\n2. Friends and associates don't use it.3. Medical literature does not have it cur-\\nrently.\\n4. Standard of care does not include this\\ntreatment.\\n5. Fear of being out of “main stream” medi-\\ncine.\\n6. Fear of a lawyer charging that the “stand-\\nard of care was not met”.\\n7. Double blind studies have not been done\\nrecently.\\n8. No office has a drug salesman selling\\nvitamin C as there is not profit.\\n9. Many patients cannot accept a treatment\\nthat does not involve drugs, as they al-\\nways get from all other doctors.\\n10. Fear of losing the confidence of a pa-\\ntient, his friends and his family.\\n11. Insurance payors will not reimburse the\\npatient for treatment not on their toxic\\ndrug list.\\n12. In glaucoma with even the best of drug\\ntherapy an adverse result may occur with\\na resulting lawsuit and no help from the\\nexperts in glaucoma called upon to tes-tify.\\nWhy don't Medical Schools do research\\non vitamin C? As a past member of theAdvisory Board in the medical school at\\nVanderbilt in Nashville, Tenessee, this same\\nquestion was asked of the Vice Chancellor.The response was that at Vanderbilt Medical\\nSchool the salaries of the workers there are\\npaid by research grants from drug compa-nies and from the National Institute of Health\\nin Washington, D.C. These two areas don't\\nfund vitamin C. If a source of private moneycould be found, the medical school would be\\npleased to do studies as desired. A private\\nfoundation may be the salvation of the glau-coma patients, and, of course, the many\\nother areas we need to treat.\\nConclusion\\n1. Vitamin C does lower the intraocular\\npressure in all patients with elevatedpressure.\\n2. Toxicity is non-existent.\\n3. Side effects of vitamin C were all posi-\\ntive; a) clearing of chronic sinusitis ofmany years, b) improvement of arthritis\\nsymptoms, c) lowering of cholesterol, d)improvement of visual acuity in macular\\ndegeneration.\\n4. Twenty of 50 consecutive patients re-\\nfused to take the vitamin C as instructed\\nand preferred to be treated with eye drops.\\n5. The largest drop in pressure was 13 mm\\nHg.\\n6. The average drop was 5.6 mm Hg.\\n7. The average amount of vitamin C taken\\ndaily was 10 grams in three divided doses\\nat meal time.\\n8. “Bowel dosage” was resisted by patients.9. All other vitamins were included with\\nvitamin C.\\nReferences\\n1. Virno M, Bucci M: Oral treatment of\\nGlaucoma with Vitamin C, The Eye, Ear,\\nNose and Throat Monthly , Vol. 46, 1502-\\n1508, Dec. 1967.\\n2. Linner E: Intra-ocular Pressure Regulation\\nand Ascorbic Acid, Acta Soc. Med. Upsol  59,\\n225, 1964.\\n3. Virno M, Bucci M, et al: Intravenous Glycerol-\\nVitamin C (Sodium Salt) as Osmotic Agentsto Reduce Intraocular Pressure, American\\nJournal of Ophthalmology , pp. 824-833, Vol.\\n62, No. 5, Nov. 1966.\\n4. Pope CN: Diabetes 9, 9, 1960.5. Heath: The Distribution and Possible\\nFunctions of Ascorbic Acid in the Eye, Exp.\\nEye Res.  1, 362-367, 1962.\\n6. Linner E: The Pressure Lowering Effect of\\nAscorbic Acid in Ocular Hypertension, ACTA\\nOphthalmologica , Vol. 47, pp. 685-689, 1969.\\n7. Stone Irwin: The Healing Factor “Vitamin\\nC” Against Disease , Gorsset & Dunlap, N.Y.,\\n126-132, 1972.\", metadata={'source': './data\\\\FM docs 2024.3\\\\Eye Pressure Lowering Effect of Vitamin C.pdf', 'page': 3}),\n",
       " Document(page_content='Case Report JOM Volume  31, Number 1, 2016 19High Dose Intravenous Vitamin C \\nTreatment for Zika Fever\\n \\n Michael J. Gonzalez, NMD, DSc, PhD, FACN;1 Miguel J. Berdie,l MD;2 Jorgé R. Miranda- \\nMassari, PharmD;2 Jorgé Duconge, PhD;1 Joshua L. Rodríguez-López, BS;3 Pedro A. \\nAdrover-López, BS 3\\n¹University of Puerto Rico, Medical Sciences Campus, Schools of Public Health and Pharmacy, San Juan, PR, 00936-5067 \\n²Berdiel Clinic, Ponce, PR, 00716\\n3Ponce Health Sciences University, School of Medicine, Ponce, PR, 00716\\nAbstract  /T_he Zika Fever is a viral disease caused by a single-stranded RNA virus from the Fla -\\nvivirus genus, Flaviviridae family, from the Spondweni group. Its transmission occurs through \\nmosquito vectors, principally Aedes Aegypti. /T_he most common symptoms of Zika are fever, rash, joint \\npain, and conjunctivitis (red eyes). Other common symptoms include muscle pain and headache. As of \\nnow, no vaccine exists for the virus and no o ﬃcial treatment has been developed aside from standard \\nprocedures of the use of acetaminophen (paracetamol) and non-steroidal anti-in /f_lammatory drugs.  \\n/T_his is a case report of a 54 year-old Hispanic female who arrived at the clinic with symptomatology \\ncongruent with the Zika fever. /T_he patient was treated with high doses of intravenous vitamin C \\nover three days. /T_he symptoms resolved after the infusions without any side e ﬀects at day four. Re -\\ncovery from this viral infection takes normally around two weeks. Based on the positive outcome in \\nthis case, we propose that intravenous vitamin C should be studied further as a potential treatment \\nfor acute viral infections.\\nIntroduction\\nZika virus (ZIKV) is a member of the \\nvirus family Flaviviridae and the genus \\nFlavivirus (Knipe et al, 2007). Like other \\n/f_laviviruses, Zika virus is enveloped and \\nicosahedral and has a nonsegmented, single-\\nstranded, positive-sense RNA genome. It \\nis spread by daytime active Aedes mosqui -\\ntoes, such as A. Aegypti and A. Albopictus \\n(Knipe et al, 2007). Its name comes from \\nthe Zika Forest of Uganda, where the virus \\nwas /f_irst isolated in 1947 (European Center \\nfor Disease Prevention and Control, 2015). \\nZika virus is related to dengue, yellow fever, \\nJapanese encephalitis, and West Nile viruses  (European Center for Disease Prevention and \\nControl, 2015). As of February 2016, there are \\nthree reported cases indicating that Zika virus \\ncould possibly be sexually transmitted (World \\nHealth Organization, 2016a).\\n/T_he infection, known as Zika fever, often \\ncauses none or only mild symptoms, simi -\\nlar to a mild form of dengue fever (Knipe \\net al, 2007). /T_he illness cannot be prevented \\nby medications or vaccines and is treated \\nmainly by rest (Chen et al, 2016). Zika fe -\\nver in pregnant women is associated with \\nmicrocephaly but it is unclear whether the \\nvirus is the cause (Knipe et al, 2007; Cable \\nNews Network, 2015; Centers for Disease ', metadata={'source': './data\\\\FM docs 2024.3\\\\High-Dose-Intravenous-Vitamin-C-Treatment-for-Zika-Fever-31.1.pdf', 'page': 0})]"
      ]
     },
     "execution_count": 12,
     "metadata": {},
     "output_type": "execute_result"
    }
   ],
   "source": [
    "# 加载目标文件\n",
    "docs = get_text(file_lst)\n",
    "docs[:5]"
   ]
  },
  {
   "cell_type": "markdown",
   "metadata": {},
   "source": [
    "# 文本分块"
   ]
  },
  {
   "cell_type": "code",
   "execution_count": 13,
   "metadata": {},
   "outputs": [
    {
     "data": {
      "text/plain": [
       "<langchain_text_splitters.character.RecursiveCharacterTextSplitter at 0x19a74c91ae0>"
      ]
     },
     "execution_count": 13,
     "metadata": {},
     "output_type": "execute_result"
    }
   ],
   "source": [
    "# 对文本进行分块\n",
    "text_splitter = RecursiveCharacterTextSplitter(chunk_size = 768, chunk_overlap = 32)\n",
    "text_splitter"
   ]
  },
  {
   "cell_type": "code",
   "execution_count": 15,
   "metadata": {},
   "outputs": [
    {
     "data": {
      "text/plain": [
       "[Document(page_content='Eye Pressure Lowering Effect of Vitamin C\\nHerschell H. Boyd, M.D.1\\nPurpose\\nTo document the pressure before the use\\nof vitamin C and after the daily intake of\\nmaximum amounts of vitamin C, three times\\na day.\\nMethods\\nThirty patients (16 men and 14 women)\\nwere advised to take three divided doses of\\nvitamin C in capsule form each day until\\nloose stools occured and then back downslightly from this amount (bowel dosage) for\\na daily intake. Average daily intake for all\\npatients was 10 grams per day.\\nResults\\nThe greatest lowering of pressure was 13\\nmm as measured with a Goldmann tonom-\\neter. The least lowering of pressure was 1\\nmm. The average for 30 patients was 10 mm.Thirty patients were controlled only with\\nvitamin C. Twenty patients were forced to', metadata={'source': './data\\\\FM docs 2024.3\\\\Eye Pressure Lowering Effect of Vitamin C.pdf', 'page': 0}),\n",
       " Document(page_content='use eye drops to lower the pressure below 20mm of mercury as they refused to take vita-\\nmin C.\\nConclusion\\nIn this series of 30 patients there was no\\noccasion in which the pressure was not low-ered with vitamin C. All drugs for glaucoma\\nare seriously toxic, and vitamin C has no\\ntoxicity yet known. The patients experiencedmany other good side effects from vitamin C\\nsuch as clearing of sinusitis, allergy symp-\\ntoms, arthritis improvement, cholesterol low-ering, laxative effect, diuretic effect for heart\\ndisease patients, and other improvements\\nassociated with vitamin C intake of “severalgrams per day” level. Ophthalmologists may\\nawaken to the marvels of vitamin C in treat-\\ning glaucoma!\\nIntroduction\\nVitamin C has been used since the trans-', metadata={'source': './data\\\\FM docs 2024.3\\\\Eye Pressure Lowering Effect of Vitamin C.pdf', 'page': 0}),\n",
       " Document(page_content='formation of glucose, C\\n6H12O6, into vitamin\\n1. Eastview Professional Building, 1370 - 116th Avenue\\nN.E., Suite 212, Bellevue WA 98004-4679.\\n165C, C6H8O6, in the early 1930s. Its use in\\nlowering the pressure in glaucoma datesback to 1962 as reported in Experimental\\nEye Research.\\n1 Since then there have been\\nmany references in the foreign literature, butin the U.S. it has escaped the attention of the\\nophthalmologists. This study consists of fifty\\nconsecutive patients who presented withintraocular pressure greater than 20 mm of\\nmercury as measured with the Goldmann\\napplanation tonometer from August 1993through March 1995. The highest pressure\\nwas 36 mm of mercury in the study. Out of', metadata={'source': './data\\\\FM docs 2024.3\\\\Eye Pressure Lowering Effect of Vitamin C.pdf', 'page': 0}),\n",
       " Document(page_content='50 patients, 20 patients refused to take vita-min C and eye drops were used to lower the\\npressure in the standard manner.\\nAge Distribution\\n30-39 40-49 50-59 60-80\\n165 1 8\\nVisual Fields\\nNo defects were found in any of the 50\\npatients.\\nGonioscopy\\nAll 50 patients had open angle, and no\\nangles were particularly closed.\\nVitamin C Taken\\nThe most vitamin C taken was 35 grams\\nper day divided in three doses at mealtime.\\nThis lady had chronic sinusitis and was quite\\npleased to be relieved of this problem afterseveral years of unsuccessful drug therapy.\\nThe least amount taken was one gram per\\nday in two patients. The average for the 30patients was 10 grams per day. It was sug-\\ngested that patients take “bowel dosage” and', metadata={'source': './data\\\\FM docs 2024.3\\\\Eye Pressure Lowering Effect of Vitamin C.pdf', 'page': 0}),\n",
       " Document(page_content='then back down, but this advice is almostalways ignored by patients as they feel the\\nidea is unreasonable and generally have this\\nreinforced by friends and relatives who givestatements of shock and dismay. But 20 out\\nof 30 patients did take ten or more grams per\\nday so perhaps we should be pleased withthis result.', metadata={'source': './data\\\\FM docs 2024.3\\\\Eye Pressure Lowering Effect of Vitamin C.pdf', 'page': 0})]"
      ]
     },
     "execution_count": 15,
     "metadata": {},
     "output_type": "execute_result"
    }
   ],
   "source": [
    "split_docs = text_splitter.split_documents(docs)\n",
    "split_docs[:5]"
   ]
  },
  {
   "cell_type": "markdown",
   "metadata": {},
   "source": [
    "# 向量化保存数据库"
   ]
  },
  {
   "cell_type": "code",
   "execution_count": 16,
   "metadata": {},
   "outputs": [],
   "source": [
    "# 定义持久化路径\n",
    "persist_directory = './vector_db/faiss'\n",
    "embedding_model_path = \"./models/bce-embedding-base_v1\""
   ]
  },
  {
   "cell_type": "code",
   "execution_count": 17,
   "metadata": {},
   "outputs": [
    {
     "name": "stderr",
     "output_type": "stream",
     "text": [
      "f:\\Miniconda3\\envs\\llm\\lib\\site-packages\\sentence_transformers\\cross_encoder\\CrossEncoder.py:11: TqdmExperimentalWarning: Using `tqdm.autonotebook.tqdm` in notebook mode. Use `tqdm.tqdm` instead to force console mode (e.g. in jupyter console)\n",
      "  from tqdm.autonotebook import tqdm, trange\n"
     ]
    },
    {
     "data": {
      "text/plain": [
       "HuggingFaceEmbeddings(client=SentenceTransformer(\n",
       "  (0): Transformer({'max_seq_length': 512, 'do_lower_case': False}) with Transformer model: XLMRobertaModel \n",
       "  (1): Pooling({'word_embedding_dimension': 768, 'pooling_mode_cls_token': True, 'pooling_mode_mean_tokens': False, 'pooling_mode_max_tokens': False, 'pooling_mode_mean_sqrt_len_tokens': False, 'pooling_mode_weightedmean_tokens': False, 'pooling_mode_lasttoken': False, 'include_prompt': True})\n",
       "  (2): Normalize()\n",
       "), model_name='./models/bce-embedding-base_v1', cache_folder=None, model_kwargs={'device': 'cuda'}, encode_kwargs={'normalize_embeddings': True}, multi_process=False, show_progress=False)"
      ]
     },
     "execution_count": 17,
     "metadata": {},
     "output_type": "execute_result"
    }
   ],
   "source": [
    "# 加载开源词向量模型\n",
    "embeddings = HuggingFaceEmbeddings(\n",
    "    model_name = embedding_model_path,\n",
    "    model_kwargs = {'device': 'cuda'},\n",
    "    encode_kwargs = {\n",
    "        'normalize_embeddings': True    # 尽可能保证相似度在0~1之间\n",
    "    }\n",
    ")\n",
    "embeddings"
   ]
  },
  {
   "cell_type": "code",
   "execution_count": 18,
   "metadata": {},
   "outputs": [
    {
     "data": {
      "text/plain": [
       "HuggingFaceEmbeddings(client=SentenceTransformer(\n",
       "  (0): Transformer({'max_seq_length': 512, 'do_lower_case': False}) with Transformer model: XLMRobertaModel \n",
       "  (1): Pooling({'word_embedding_dimension': 768, 'pooling_mode_cls_token': True, 'pooling_mode_mean_tokens': False, 'pooling_mode_max_tokens': False, 'pooling_mode_mean_sqrt_len_tokens': False, 'pooling_mode_weightedmean_tokens': False, 'pooling_mode_lasttoken': False, 'include_prompt': True})\n",
       "  (2): Normalize()\n",
       "), model_name='./models/bce-embedding-base_v1', cache_folder=None, model_kwargs={'device': 'cuda'}, encode_kwargs={'normalize_embeddings': True}, multi_process=False, show_progress=False)"
      ]
     },
     "execution_count": 18,
     "metadata": {},
     "output_type": "execute_result"
    }
   ],
   "source": [
    "embeddings.client = embeddings.client.half()\n",
    "embeddings"
   ]
  },
  {
   "cell_type": "code",
   "execution_count": 19,
   "metadata": {},
   "outputs": [
    {
     "name": "stdout",
     "output_type": "stream",
     "text": [
      "Help on method from_documents in module langchain_core.vectorstores:\n",
      "\n",
      "from_documents(documents: 'List[Document]', embedding: 'Embeddings', **kwargs: 'Any') -> 'VST' method of abc.ABCMeta instance\n",
      "    Return VectorStore initialized from documents and embeddings.\n",
      "\n"
     ]
    }
   ],
   "source": [
    "help(FAISS.from_documents)"
   ]
  },
  {
   "cell_type": "code",
   "execution_count": 20,
   "metadata": {},
   "outputs": [
    {
     "data": {
      "text/plain": [
       "<langchain_community.vectorstores.faiss.FAISS at 0x19ac5e63670>"
      ]
     },
     "execution_count": 20,
     "metadata": {},
     "output_type": "execute_result"
    }
   ],
   "source": [
    "# 构建向量数据库\n",
    "vectordb = FAISS.from_documents(\n",
    "    documents = split_docs,\n",
    "    embedding = embeddings,\n",
    ")\n",
    "vectordb"
   ]
  },
  {
   "cell_type": "code",
   "execution_count": 21,
   "metadata": {},
   "outputs": [],
   "source": [
    "vectordb.save_local(folder_path = persist_directory)"
   ]
  },
  {
   "cell_type": "markdown",
   "metadata": {},
   "source": [
    "# 加载数据库"
   ]
  },
  {
   "cell_type": "code",
   "execution_count": 22,
   "metadata": {},
   "outputs": [
    {
     "data": {
      "text/plain": [
       "<langchain_community.vectorstores.faiss.FAISS at 0x19ac9770b80>"
      ]
     },
     "execution_count": 22,
     "metadata": {},
     "output_type": "execute_result"
    }
   ],
   "source": [
    "# 加载数据库\n",
    "vectordb = FAISS.load_local(\n",
    "    folder_path = persist_directory,\n",
    "    embeddings = embeddings,\n",
    "    allow_dangerous_deserialization = True, # 允许读取pickle\n",
    "    distance_strategy = DistanceStrategy.MAX_INNER_PRODUCT, # refer: https://github.com/InternLM/HuixiangDou/blob/main/huixiangdou/service/retriever.py\n",
    "    normalize_L2 = False,\n",
    ")\n",
    "vectordb"
   ]
  },
  {
   "cell_type": "code",
   "execution_count": 23,
   "metadata": {},
   "outputs": [],
   "source": [
    "query = \"Eye Pressure Lowering Effect of Vitamin C\""
   ]
  },
  {
   "cell_type": "markdown",
   "metadata": {},
   "source": [
    "# search"
   ]
  },
  {
   "cell_type": "markdown",
   "metadata": {},
   "source": [
    "## search"
   ]
  },
  {
   "cell_type": "code",
   "execution_count": 24,
   "metadata": {},
   "outputs": [
    {
     "name": "stdout",
     "output_type": "stream",
     "text": [
      "Help on method search in module langchain_core.vectorstores:\n",
      "\n",
      "search(query: 'str', search_type: 'str', **kwargs: 'Any') -> 'List[Document]' method of langchain_community.vectorstores.faiss.FAISS instance\n",
      "    Return docs most similar to query using specified search type.\n",
      "\n"
     ]
    }
   ],
   "source": [
    "help(vectordb.search)"
   ]
  },
  {
   "cell_type": "code",
   "execution_count": 25,
   "metadata": {},
   "outputs": [
    {
     "data": {
      "text/plain": [
       "[Document(page_content='Eye Pressure Lowering Effect of Vitamin C\\nHerschell H. Boyd, M.D.1\\nPurpose\\nTo document the pressure before the use\\nof vitamin C and after the daily intake of\\nmaximum amounts of vitamin C, three times\\na day.\\nMethods\\nThirty patients (16 men and 14 women)\\nwere advised to take three divided doses of\\nvitamin C in capsule form each day until\\nloose stools occured and then back downslightly from this amount (bowel dosage) for\\na daily intake. Average daily intake for all\\npatients was 10 grams per day.\\nResults\\nThe greatest lowering of pressure was 13\\nmm as measured with a Goldmann tonom-\\neter. The least lowering of pressure was 1\\nmm. The average for 30 patients was 10 mm.Thirty patients were controlled only with\\nvitamin C. Twenty patients were forced to', metadata={'source': './data\\\\FM docs 2024.3\\\\Eye Pressure Lowering Effect of Vitamin C.pdf', 'page': 0}),\n",
       " Document(page_content='use eye drops to lower the pressure below 20mm of mercury as they refused to take vita-\\nmin C.\\nConclusion\\nIn this series of 30 patients there was no\\noccasion in which the pressure was not low-ered with vitamin C. All drugs for glaucoma\\nare seriously toxic, and vitamin C has no\\ntoxicity yet known. The patients experiencedmany other good side effects from vitamin C\\nsuch as clearing of sinusitis, allergy symp-\\ntoms, arthritis improvement, cholesterol low-ering, laxative effect, diuretic effect for heart\\ndisease patients, and other improvements\\nassociated with vitamin C intake of “severalgrams per day” level. Ophthalmologists may\\nawaken to the marvels of vitamin C in treat-\\ning glaucoma!\\nIntroduction\\nVitamin C has been used since the trans-', metadata={'source': './data\\\\FM docs 2024.3\\\\Eye Pressure Lowering Effect of Vitamin C.pdf', 'page': 0}),\n",
       " Document(page_content='50 patients, 20 patients refused to take vita-min C and eye drops were used to lower the\\npressure in the standard manner.\\nAge Distribution\\n30-39 40-49 50-59 60-80\\n165 1 8\\nVisual Fields\\nNo defects were found in any of the 50\\npatients.\\nGonioscopy\\nAll 50 patients had open angle, and no\\nangles were particularly closed.\\nVitamin C Taken\\nThe most vitamin C taken was 35 grams\\nper day divided in three doses at mealtime.\\nThis lady had chronic sinusitis and was quite\\npleased to be relieved of this problem afterseveral years of unsuccessful drug therapy.\\nThe least amount taken was one gram per\\nday in two patients. The average for the 30patients was 10 grams per day. It was sug-\\ngested that patients take “bowel dosage” and', metadata={'source': './data\\\\FM docs 2024.3\\\\Eye Pressure Lowering Effect of Vitamin C.pdf', 'page': 0}),\n",
       " Document(page_content='Journal of Orthomolecular Medicine     Vol. 10, No. 3 & 4, 1995\\n166Average Drop in Eye Pressure\\nRight Eye: 4.8 mmLeft Eye: 6.3 mm\\nBoth Eyes: 5.6 mm\\nIt is an interesting observation that indi-\\nviduals who take vitamin C regularly and\\nhave their intraocular pressure taken on a\\nroutine basis for their eye exam have pres-sures in the range of 10-13 mm of mercury\\ncommonly. It has been my experience that I\\nhave yet to find the first patient with apressure over 20 mm who comes into the\\noffice and admits to taking any amount of\\nvitamin C daily. It also seems to be generallytrue that those people who do have pressure\\nelevated for the first time are those treating\\nthemselves with various toxic drugs, smok-ing, eating processed foods, and living a life', metadata={'source': './data\\\\FM docs 2024.3\\\\Eye Pressure Lowering Effect of Vitamin C.pdf', 'page': 1})]"
      ]
     },
     "execution_count": 25,
     "metadata": {},
     "output_type": "execute_result"
    }
   ],
   "source": [
    "# search_type: 'similarity' or 'mmr'.\n",
    "similarity_documents = vectordb.search(query = query, search_type = 'similarity', k = 4, fetch_k = 20)\n",
    "similarity_documents"
   ]
  },
  {
   "cell_type": "markdown",
   "metadata": {},
   "source": [
    "## similarity_search"
   ]
  },
  {
   "cell_type": "code",
   "execution_count": 26,
   "metadata": {},
   "outputs": [
    {
     "name": "stdout",
     "output_type": "stream",
     "text": [
      "Help on method similarity_search in module langchain_community.vectorstores.faiss:\n",
      "\n",
      "similarity_search(query: 'str', k: 'int' = 4, filter: 'Optional[Union[Callable, Dict[str, Any]]]' = None, fetch_k: 'int' = 20, **kwargs: 'Any') -> 'List[Document]' method of langchain_community.vectorstores.faiss.FAISS instance\n",
      "    Return docs most similar to query.\n",
      "    \n",
      "    Args:\n",
      "        query: Text to look up documents similar to.\n",
      "        k: Number of Documents to return. Defaults to 4.\n",
      "        filter: (Optional[Dict[str, str]]): Filter by metadata. Defaults to None.\n",
      "        fetch_k: (Optional[int]) Number of Documents to fetch before filtering.\n",
      "                  Defaults to 20.\n",
      "    \n",
      "    Returns:\n",
      "        List of Documents most similar to the query.\n",
      "\n"
     ]
    }
   ],
   "source": [
    "help(vectordb.similarity_search)"
   ]
  },
  {
   "cell_type": "code",
   "execution_count": 27,
   "metadata": {},
   "outputs": [
    {
     "data": {
      "text/plain": [
       "[Document(page_content='Eye Pressure Lowering Effect of Vitamin C\\nHerschell H. Boyd, M.D.1\\nPurpose\\nTo document the pressure before the use\\nof vitamin C and after the daily intake of\\nmaximum amounts of vitamin C, three times\\na day.\\nMethods\\nThirty patients (16 men and 14 women)\\nwere advised to take three divided doses of\\nvitamin C in capsule form each day until\\nloose stools occured and then back downslightly from this amount (bowel dosage) for\\na daily intake. Average daily intake for all\\npatients was 10 grams per day.\\nResults\\nThe greatest lowering of pressure was 13\\nmm as measured with a Goldmann tonom-\\neter. The least lowering of pressure was 1\\nmm. The average for 30 patients was 10 mm.Thirty patients were controlled only with\\nvitamin C. Twenty patients were forced to', metadata={'source': './data\\\\FM docs 2024.3\\\\Eye Pressure Lowering Effect of Vitamin C.pdf', 'page': 0}),\n",
       " Document(page_content='use eye drops to lower the pressure below 20mm of mercury as they refused to take vita-\\nmin C.\\nConclusion\\nIn this series of 30 patients there was no\\noccasion in which the pressure was not low-ered with vitamin C. All drugs for glaucoma\\nare seriously toxic, and vitamin C has no\\ntoxicity yet known. The patients experiencedmany other good side effects from vitamin C\\nsuch as clearing of sinusitis, allergy symp-\\ntoms, arthritis improvement, cholesterol low-ering, laxative effect, diuretic effect for heart\\ndisease patients, and other improvements\\nassociated with vitamin C intake of “severalgrams per day” level. Ophthalmologists may\\nawaken to the marvels of vitamin C in treat-\\ning glaucoma!\\nIntroduction\\nVitamin C has been used since the trans-', metadata={'source': './data\\\\FM docs 2024.3\\\\Eye Pressure Lowering Effect of Vitamin C.pdf', 'page': 0}),\n",
       " Document(page_content='50 patients, 20 patients refused to take vita-min C and eye drops were used to lower the\\npressure in the standard manner.\\nAge Distribution\\n30-39 40-49 50-59 60-80\\n165 1 8\\nVisual Fields\\nNo defects were found in any of the 50\\npatients.\\nGonioscopy\\nAll 50 patients had open angle, and no\\nangles were particularly closed.\\nVitamin C Taken\\nThe most vitamin C taken was 35 grams\\nper day divided in three doses at mealtime.\\nThis lady had chronic sinusitis and was quite\\npleased to be relieved of this problem afterseveral years of unsuccessful drug therapy.\\nThe least amount taken was one gram per\\nday in two patients. The average for the 30patients was 10 grams per day. It was sug-\\ngested that patients take “bowel dosage” and', metadata={'source': './data\\\\FM docs 2024.3\\\\Eye Pressure Lowering Effect of Vitamin C.pdf', 'page': 0}),\n",
       " Document(page_content='Journal of Orthomolecular Medicine     Vol. 10, No. 3 & 4, 1995\\n166Average Drop in Eye Pressure\\nRight Eye: 4.8 mmLeft Eye: 6.3 mm\\nBoth Eyes: 5.6 mm\\nIt is an interesting observation that indi-\\nviduals who take vitamin C regularly and\\nhave their intraocular pressure taken on a\\nroutine basis for their eye exam have pres-sures in the range of 10-13 mm of mercury\\ncommonly. It has been my experience that I\\nhave yet to find the first patient with apressure over 20 mm who comes into the\\noffice and admits to taking any amount of\\nvitamin C daily. It also seems to be generallytrue that those people who do have pressure\\nelevated for the first time are those treating\\nthemselves with various toxic drugs, smok-ing, eating processed foods, and living a life', metadata={'source': './data\\\\FM docs 2024.3\\\\Eye Pressure Lowering Effect of Vitamin C.pdf', 'page': 1})]"
      ]
     },
     "execution_count": 27,
     "metadata": {},
     "output_type": "execute_result"
    }
   ],
   "source": [
    "similarity_documents = vectordb.similarity_search(query = query, k = 4, fetch_k = 20)\n",
    "similarity_documents"
   ]
  },
  {
   "cell_type": "code",
   "execution_count": 28,
   "metadata": {},
   "outputs": [
    {
     "data": {
      "text/plain": [
       "['./data\\\\FM docs 2024.3\\\\Eye Pressure Lowering Effect of Vitamin C.pdf']"
      ]
     },
     "execution_count": 28,
     "metadata": {},
     "output_type": "execute_result"
    }
   ],
   "source": [
    "similarity_documents_reference = list(set([doc.metadata['source'] for doc in similarity_documents]))\n",
    "similarity_documents_reference"
   ]
  },
  {
   "cell_type": "markdown",
   "metadata": {},
   "source": [
    "## similarity_search_with_score"
   ]
  },
  {
   "cell_type": "code",
   "execution_count": 29,
   "metadata": {},
   "outputs": [
    {
     "name": "stdout",
     "output_type": "stream",
     "text": [
      "Help on method similarity_search_with_score in module langchain_community.vectorstores.faiss:\n",
      "\n",
      "similarity_search_with_score(query: 'str', k: 'int' = 4, filter: 'Optional[Union[Callable, Dict[str, Any]]]' = None, fetch_k: 'int' = 20, **kwargs: 'Any') -> 'List[Tuple[Document, float]]' method of langchain_community.vectorstores.faiss.FAISS instance\n",
      "    Return docs most similar to query.\n",
      "    \n",
      "    Args:\n",
      "        query: Text to look up documents similar to.\n",
      "        k: Number of Documents to return. Defaults to 4.\n",
      "        filter (Optional[Dict[str, str]]): Filter by metadata.\n",
      "            Defaults to None. If a callable, it must take as input the\n",
      "            metadata dict of Document and return a bool.\n",
      "    \n",
      "        fetch_k: (Optional[int]) Number of Documents to fetch before filtering.\n",
      "                  Defaults to 20.\n",
      "    \n",
      "    Returns:\n",
      "        List of documents most similar to the query text with\n",
      "        L2 distance in float. Lower score represents more similarity.\n",
      "\n"
     ]
    }
   ],
   "source": [
    "help(vectordb.similarity_search_with_score)"
   ]
  },
  {
   "cell_type": "code",
   "execution_count": 30,
   "metadata": {},
   "outputs": [
    {
     "data": {
      "text/plain": [
       "[(Document(page_content='Eye Pressure Lowering Effect of Vitamin C\\nHerschell H. Boyd, M.D.1\\nPurpose\\nTo document the pressure before the use\\nof vitamin C and after the daily intake of\\nmaximum amounts of vitamin C, three times\\na day.\\nMethods\\nThirty patients (16 men and 14 women)\\nwere advised to take three divided doses of\\nvitamin C in capsule form each day until\\nloose stools occured and then back downslightly from this amount (bowel dosage) for\\na daily intake. Average daily intake for all\\npatients was 10 grams per day.\\nResults\\nThe greatest lowering of pressure was 13\\nmm as measured with a Goldmann tonom-\\neter. The least lowering of pressure was 1\\nmm. The average for 30 patients was 10 mm.Thirty patients were controlled only with\\nvitamin C. Twenty patients were forced to', metadata={'source': './data\\\\FM docs 2024.3\\\\Eye Pressure Lowering Effect of Vitamin C.pdf', 'page': 0}),\n",
       "  0.31897402),\n",
       " (Document(page_content='use eye drops to lower the pressure below 20mm of mercury as they refused to take vita-\\nmin C.\\nConclusion\\nIn this series of 30 patients there was no\\noccasion in which the pressure was not low-ered with vitamin C. All drugs for glaucoma\\nare seriously toxic, and vitamin C has no\\ntoxicity yet known. The patients experiencedmany other good side effects from vitamin C\\nsuch as clearing of sinusitis, allergy symp-\\ntoms, arthritis improvement, cholesterol low-ering, laxative effect, diuretic effect for heart\\ndisease patients, and other improvements\\nassociated with vitamin C intake of “severalgrams per day” level. Ophthalmologists may\\nawaken to the marvels of vitamin C in treat-\\ning glaucoma!\\nIntroduction\\nVitamin C has been used since the trans-', metadata={'source': './data\\\\FM docs 2024.3\\\\Eye Pressure Lowering Effect of Vitamin C.pdf', 'page': 0}),\n",
       "  0.5914958),\n",
       " (Document(page_content='50 patients, 20 patients refused to take vita-min C and eye drops were used to lower the\\npressure in the standard manner.\\nAge Distribution\\n30-39 40-49 50-59 60-80\\n165 1 8\\nVisual Fields\\nNo defects were found in any of the 50\\npatients.\\nGonioscopy\\nAll 50 patients had open angle, and no\\nangles were particularly closed.\\nVitamin C Taken\\nThe most vitamin C taken was 35 grams\\nper day divided in three doses at mealtime.\\nThis lady had chronic sinusitis and was quite\\npleased to be relieved of this problem afterseveral years of unsuccessful drug therapy.\\nThe least amount taken was one gram per\\nday in two patients. The average for the 30patients was 10 grams per day. It was sug-\\ngested that patients take “bowel dosage” and', metadata={'source': './data\\\\FM docs 2024.3\\\\Eye Pressure Lowering Effect of Vitamin C.pdf', 'page': 0}),\n",
       "  0.5934002),\n",
       " (Document(page_content='Journal of Orthomolecular Medicine     Vol. 10, No. 3 & 4, 1995\\n166Average Drop in Eye Pressure\\nRight Eye: 4.8 mmLeft Eye: 6.3 mm\\nBoth Eyes: 5.6 mm\\nIt is an interesting observation that indi-\\nviduals who take vitamin C regularly and\\nhave their intraocular pressure taken on a\\nroutine basis for their eye exam have pres-sures in the range of 10-13 mm of mercury\\ncommonly. It has been my experience that I\\nhave yet to find the first patient with apressure over 20 mm who comes into the\\noffice and admits to taking any amount of\\nvitamin C daily. It also seems to be generallytrue that those people who do have pressure\\nelevated for the first time are those treating\\nthemselves with various toxic drugs, smok-ing, eating processed foods, and living a life', metadata={'source': './data\\\\FM docs 2024.3\\\\Eye Pressure Lowering Effect of Vitamin C.pdf', 'page': 1}),\n",
       "  0.5990593)]"
      ]
     },
     "execution_count": 30,
     "metadata": {},
     "output_type": "execute_result"
    }
   ],
   "source": [
    "similarity_documents = vectordb.similarity_search_with_score(query = query, k = 4, fetch_k = 20)\n",
    "similarity_documents"
   ]
  },
  {
   "cell_type": "code",
   "execution_count": 31,
   "metadata": {},
   "outputs": [
    {
     "data": {
      "text/plain": [
       "(0.31897402, 0.5914958, 0.5934002, 0.5990593)"
      ]
     },
     "execution_count": 31,
     "metadata": {},
     "output_type": "execute_result"
    }
   ],
   "source": [
    "documents, scores = zip(*similarity_documents)\n",
    "scores"
   ]
  },
  {
   "cell_type": "markdown",
   "metadata": {},
   "source": [
    "## similarity_search_with_relevance_scores"
   ]
  },
  {
   "cell_type": "code",
   "execution_count": 32,
   "metadata": {},
   "outputs": [
    {
     "name": "stdout",
     "output_type": "stream",
     "text": [
      "Help on method similarity_search_with_relevance_scores in module langchain_core.vectorstores:\n",
      "\n",
      "similarity_search_with_relevance_scores(query: 'str', k: 'int' = 4, **kwargs: 'Any') -> 'List[Tuple[Document, float]]' method of langchain_community.vectorstores.faiss.FAISS instance\n",
      "    Return docs and relevance scores in the range [0, 1].\n",
      "    \n",
      "    0 is dissimilar, 1 is most similar.\n",
      "    \n",
      "    Args:\n",
      "        query: input text\n",
      "        k: Number of Documents to return. Defaults to 4.\n",
      "        **kwargs: kwargs to be passed to similarity search. Should include:\n",
      "            score_threshold: Optional, a floating point value between 0 to 1 to\n",
      "                filter the resulting set of retrieved docs\n",
      "    \n",
      "    Returns:\n",
      "        List of Tuples of (doc, similarity_score)\n",
      "\n"
     ]
    }
   ],
   "source": [
    "help(vectordb.similarity_search_with_relevance_scores)"
   ]
  },
  {
   "cell_type": "code",
   "execution_count": 33,
   "metadata": {},
   "outputs": [
    {
     "data": {
      "text/plain": [
       "[(Document(page_content='Eye Pressure Lowering Effect of Vitamin C\\nHerschell H. Boyd, M.D.1\\nPurpose\\nTo document the pressure before the use\\nof vitamin C and after the daily intake of\\nmaximum amounts of vitamin C, three times\\na day.\\nMethods\\nThirty patients (16 men and 14 women)\\nwere advised to take three divided doses of\\nvitamin C in capsule form each day until\\nloose stools occured and then back downslightly from this amount (bowel dosage) for\\na daily intake. Average daily intake for all\\npatients was 10 grams per day.\\nResults\\nThe greatest lowering of pressure was 13\\nmm as measured with a Goldmann tonom-\\neter. The least lowering of pressure was 1\\nmm. The average for 30 patients was 10 mm.Thirty patients were controlled only with\\nvitamin C. Twenty patients were forced to', metadata={'source': './data\\\\FM docs 2024.3\\\\Eye Pressure Lowering Effect of Vitamin C.pdf', 'page': 0}),\n",
       "  0.6810259819030762),\n",
       " (Document(page_content='use eye drops to lower the pressure below 20mm of mercury as they refused to take vita-\\nmin C.\\nConclusion\\nIn this series of 30 patients there was no\\noccasion in which the pressure was not low-ered with vitamin C. All drugs for glaucoma\\nare seriously toxic, and vitamin C has no\\ntoxicity yet known. The patients experiencedmany other good side effects from vitamin C\\nsuch as clearing of sinusitis, allergy symp-\\ntoms, arthritis improvement, cholesterol low-ering, laxative effect, diuretic effect for heart\\ndisease patients, and other improvements\\nassociated with vitamin C intake of “severalgrams per day” level. Ophthalmologists may\\nawaken to the marvels of vitamin C in treat-\\ning glaucoma!\\nIntroduction\\nVitamin C has been used since the trans-', metadata={'source': './data\\\\FM docs 2024.3\\\\Eye Pressure Lowering Effect of Vitamin C.pdf', 'page': 0}),\n",
       "  0.4085041880607605),\n",
       " (Document(page_content='50 patients, 20 patients refused to take vita-min C and eye drops were used to lower the\\npressure in the standard manner.\\nAge Distribution\\n30-39 40-49 50-59 60-80\\n165 1 8\\nVisual Fields\\nNo defects were found in any of the 50\\npatients.\\nGonioscopy\\nAll 50 patients had open angle, and no\\nangles were particularly closed.\\nVitamin C Taken\\nThe most vitamin C taken was 35 grams\\nper day divided in three doses at mealtime.\\nThis lady had chronic sinusitis and was quite\\npleased to be relieved of this problem afterseveral years of unsuccessful drug therapy.\\nThe least amount taken was one gram per\\nday in two patients. The average for the 30patients was 10 grams per day. It was sug-\\ngested that patients take “bowel dosage” and', metadata={'source': './data\\\\FM docs 2024.3\\\\Eye Pressure Lowering Effect of Vitamin C.pdf', 'page': 0}),\n",
       "  0.40659981966018677),\n",
       " (Document(page_content='Journal of Orthomolecular Medicine     Vol. 10, No. 3 & 4, 1995\\n166Average Drop in Eye Pressure\\nRight Eye: 4.8 mmLeft Eye: 6.3 mm\\nBoth Eyes: 5.6 mm\\nIt is an interesting observation that indi-\\nviduals who take vitamin C regularly and\\nhave their intraocular pressure taken on a\\nroutine basis for their eye exam have pres-sures in the range of 10-13 mm of mercury\\ncommonly. It has been my experience that I\\nhave yet to find the first patient with apressure over 20 mm who comes into the\\noffice and admits to taking any amount of\\nvitamin C daily. It also seems to be generallytrue that those people who do have pressure\\nelevated for the first time are those treating\\nthemselves with various toxic drugs, smok-ing, eating processed foods, and living a life', metadata={'source': './data\\\\FM docs 2024.3\\\\Eye Pressure Lowering Effect of Vitamin C.pdf', 'page': 1}),\n",
       "  0.4009407162666321)]"
      ]
     },
     "execution_count": 33,
     "metadata": {},
     "output_type": "execute_result"
    }
   ],
   "source": [
    "similarity_documents = vectordb.similarity_search_with_relevance_scores(query = query, k = 4, fetch_k = 20)\n",
    "similarity_documents"
   ]
  },
  {
   "cell_type": "code",
   "execution_count": 34,
   "metadata": {},
   "outputs": [
    {
     "data": {
      "text/plain": [
       "(0.6810259819030762,\n",
       " 0.4085041880607605,\n",
       " 0.40659981966018677,\n",
       " 0.4009407162666321)"
      ]
     },
     "execution_count": 34,
     "metadata": {},
     "output_type": "execute_result"
    }
   ],
   "source": [
    "documents, scores = zip(*similarity_documents)\n",
    "scores"
   ]
  },
  {
   "cell_type": "markdown",
   "metadata": {},
   "source": [
    "## similarity_search_by_vector"
   ]
  },
  {
   "cell_type": "code",
   "execution_count": 35,
   "metadata": {},
   "outputs": [
    {
     "name": "stdout",
     "output_type": "stream",
     "text": [
      "Help on method similarity_search_by_vector in module langchain_community.vectorstores.faiss:\n",
      "\n",
      "similarity_search_by_vector(embedding: 'List[float]', k: 'int' = 4, filter: 'Optional[Dict[str, Any]]' = None, fetch_k: 'int' = 20, **kwargs: 'Any') -> 'List[Document]' method of langchain_community.vectorstores.faiss.FAISS instance\n",
      "    Return docs most similar to embedding vector.\n",
      "    \n",
      "    Args:\n",
      "        embedding: Embedding to look up documents similar to.\n",
      "        k: Number of Documents to return. Defaults to 4.\n",
      "        filter (Optional[Dict[str, str]]): Filter by metadata.\n",
      "            Defaults to None. If a callable, it must take as input the\n",
      "            metadata dict of Document and return a bool.\n",
      "    \n",
      "        fetch_k: (Optional[int]) Number of Documents to fetch before filtering.\n",
      "                  Defaults to 20.\n",
      "    \n",
      "    Returns:\n",
      "        List of Documents most similar to the embedding.\n",
      "\n"
     ]
    }
   ],
   "source": [
    "help(vectordb.similarity_search_by_vector)"
   ]
  },
  {
   "cell_type": "markdown",
   "metadata": {},
   "source": [
    "## similarity_search_with_score_by_vector"
   ]
  },
  {
   "cell_type": "code",
   "execution_count": 36,
   "metadata": {},
   "outputs": [
    {
     "name": "stdout",
     "output_type": "stream",
     "text": [
      "Help on method similarity_search_with_score_by_vector in module langchain_community.vectorstores.faiss:\n",
      "\n",
      "similarity_search_with_score_by_vector(embedding: 'List[float]', k: 'int' = 4, filter: 'Optional[Union[Callable, Dict[str, Any]]]' = None, fetch_k: 'int' = 20, **kwargs: 'Any') -> 'List[Tuple[Document, float]]' method of langchain_community.vectorstores.faiss.FAISS instance\n",
      "    Return docs most similar to query.\n",
      "    \n",
      "    Args:\n",
      "        embedding: Embedding vector to look up documents similar to.\n",
      "        k: Number of Documents to return. Defaults to 4.\n",
      "        filter (Optional[Union[Callable, Dict[str, Any]]]): Filter by metadata.\n",
      "            Defaults to None. If a callable, it must take as input the\n",
      "            metadata dict of Document and return a bool.\n",
      "        fetch_k: (Optional[int]) Number of Documents to fetch before filtering.\n",
      "                  Defaults to 20.\n",
      "        **kwargs: kwargs to be passed to similarity search. Can include:\n",
      "            score_threshold: Optional, a floating point value between 0 to 1 to\n",
      "                filter the resulting set of retrieved docs\n",
      "    \n",
      "    Returns:\n",
      "        List of documents most similar to the query text and L2 distance\n",
      "        in float for each. Lower score represents more similarity.\n",
      "\n"
     ]
    }
   ],
   "source": [
    "help(vectordb.similarity_search_with_score_by_vector)"
   ]
  },
  {
   "cell_type": "markdown",
   "metadata": {},
   "source": [
    "# retriever"
   ]
  },
  {
   "cell_type": "code",
   "execution_count": 37,
   "metadata": {},
   "outputs": [
    {
     "name": "stdout",
     "output_type": "stream",
     "text": [
      "Help on method as_retriever in module langchain_core.vectorstores:\n",
      "\n",
      "as_retriever(**kwargs: 'Any') -> 'VectorStoreRetriever' method of langchain_community.vectorstores.faiss.FAISS instance\n",
      "    Return VectorStoreRetriever initialized from this VectorStore.\n",
      "    \n",
      "    Args:\n",
      "        search_type (Optional[str]): Defines the type of search that\n",
      "            the Retriever should perform.\n",
      "            Can be \"similarity\" (default), \"mmr\", or\n",
      "            \"similarity_score_threshold\".\n",
      "        search_kwargs (Optional[Dict]): Keyword arguments to pass to the\n",
      "            search function. Can include things like:\n",
      "                k: Amount of documents to return (Default: 4)\n",
      "                score_threshold: Minimum relevance threshold\n",
      "                    for similarity_score_threshold\n",
      "                fetch_k: Amount of documents to pass to MMR algorithm (Default: 20)\n",
      "                lambda_mult: Diversity of results returned by MMR;\n",
      "                    1 for minimum diversity and 0 for maximum. (Default: 0.5)\n",
      "                filter: Filter by document metadata\n",
      "    \n",
      "    Returns:\n",
      "        VectorStoreRetriever: Retriever class for VectorStore.\n",
      "    \n",
      "    Examples:\n",
      "    \n",
      "    .. code-block:: python\n",
      "    \n",
      "        # Retrieve more documents with higher diversity\n",
      "        # Useful if your dataset has many similar documents\n",
      "        docsearch.as_retriever(\n",
      "            search_type=\"mmr\",\n",
      "            search_kwargs={'k': 6, 'lambda_mult': 0.25}\n",
      "        )\n",
      "    \n",
      "        # Fetch more documents for the MMR algorithm to consider\n",
      "        # But only return the top 5\n",
      "        docsearch.as_retriever(\n",
      "            search_type=\"mmr\",\n",
      "            search_kwargs={'k': 5, 'fetch_k': 50}\n",
      "        )\n",
      "    \n",
      "        # Only retrieve documents that have a relevance score\n",
      "        # Above a certain threshold\n",
      "        docsearch.as_retriever(\n",
      "            search_type=\"similarity_score_threshold\",\n",
      "            search_kwargs={'score_threshold': 0.8}\n",
      "        )\n",
      "    \n",
      "        # Only get the single most similar document from the dataset\n",
      "        docsearch.as_retriever(search_kwargs={'k': 1})\n",
      "    \n",
      "        # Use a filter to only retrieve documents from a specific paper\n",
      "        docsearch.as_retriever(\n",
      "            search_kwargs={'filter': {'paper_title':'GPT-4 Technical Report'}}\n",
      "        )\n",
      "\n"
     ]
    }
   ],
   "source": [
    "help(vectordb.as_retriever)"
   ]
  },
  {
   "cell_type": "code",
   "execution_count": 38,
   "metadata": {},
   "outputs": [
    {
     "data": {
      "text/plain": [
       "VectorStoreRetriever(tags=['FAISS', 'HuggingFaceEmbeddings'], vectorstore=<langchain_community.vectorstores.faiss.FAISS object at 0x0000019AC9770B80>, search_type='similarity_score_threshold', search_kwargs={'k': 4, 'score_threshold': 0.15, 'fetch_k': 20})"
      ]
     },
     "execution_count": 38,
     "metadata": {},
     "output_type": "execute_result"
    }
   ],
   "source": [
    "# search_type: 'similarity', 'similarity_score_threshold', 'mmr'\n",
    "retriever = vectordb.as_retriever(\n",
    "    search_type = \"similarity_score_threshold\",\n",
    "    search_kwargs = {\"k\": 4, \"score_threshold\": 0.15, \"fetch_k\": 20}\n",
    ")\n",
    "retriever"
   ]
  },
  {
   "cell_type": "code",
   "execution_count": 42,
   "metadata": {},
   "outputs": [
    {
     "data": {
      "text/plain": [
       "<langchain_community.vectorstores.faiss.FAISS at 0x19ac9770b80>"
      ]
     },
     "execution_count": 42,
     "metadata": {},
     "output_type": "execute_result"
    }
   ],
   "source": [
    "retriever.vectorstore"
   ]
  },
  {
   "cell_type": "markdown",
   "metadata": {},
   "source": [
    "## invoke"
   ]
  },
  {
   "cell_type": "code",
   "execution_count": 43,
   "metadata": {},
   "outputs": [
    {
     "name": "stdout",
     "output_type": "stream",
     "text": [
      "Help on method invoke in module langchain_core.retrievers:\n",
      "\n",
      "invoke(input: 'str', config: 'Optional[RunnableConfig]' = None, **kwargs: 'Any') -> 'List[Document]' method of langchain_core.vectorstores.VectorStoreRetriever instance\n",
      "    Invoke the retriever to get relevant documents.\n",
      "    \n",
      "    Main entry point for synchronous retriever invocations.\n",
      "    \n",
      "    Args:\n",
      "        input: The query string\n",
      "        config: Configuration for the retriever\n",
      "        **kwargs: Additional arguments to pass to the retriever\n",
      "    \n",
      "    Returns:\n",
      "        List of relevant documents\n",
      "    \n",
      "    Examples:\n",
      "    \n",
      "    .. code-block:: python\n",
      "    \n",
      "        retriever.invoke(\"query\")\n",
      "\n"
     ]
    }
   ],
   "source": [
    "help(retriever.invoke)"
   ]
  },
  {
   "cell_type": "code",
   "execution_count": 44,
   "metadata": {},
   "outputs": [
    {
     "data": {
      "text/plain": [
       "[Document(page_content='Eye Pressure Lowering Effect of Vitamin C\\nHerschell H. Boyd, M.D.1\\nPurpose\\nTo document the pressure before the use\\nof vitamin C and after the daily intake of\\nmaximum amounts of vitamin C, three times\\na day.\\nMethods\\nThirty patients (16 men and 14 women)\\nwere advised to take three divided doses of\\nvitamin C in capsule form each day until\\nloose stools occured and then back downslightly from this amount (bowel dosage) for\\na daily intake. Average daily intake for all\\npatients was 10 grams per day.\\nResults\\nThe greatest lowering of pressure was 13\\nmm as measured with a Goldmann tonom-\\neter. The least lowering of pressure was 1\\nmm. The average for 30 patients was 10 mm.Thirty patients were controlled only with\\nvitamin C. Twenty patients were forced to', metadata={'source': './data\\\\FM docs 2024.3\\\\Eye Pressure Lowering Effect of Vitamin C.pdf', 'page': 0}),\n",
       " Document(page_content='use eye drops to lower the pressure below 20mm of mercury as they refused to take vita-\\nmin C.\\nConclusion\\nIn this series of 30 patients there was no\\noccasion in which the pressure was not low-ered with vitamin C. All drugs for glaucoma\\nare seriously toxic, and vitamin C has no\\ntoxicity yet known. The patients experiencedmany other good side effects from vitamin C\\nsuch as clearing of sinusitis, allergy symp-\\ntoms, arthritis improvement, cholesterol low-ering, laxative effect, diuretic effect for heart\\ndisease patients, and other improvements\\nassociated with vitamin C intake of “severalgrams per day” level. Ophthalmologists may\\nawaken to the marvels of vitamin C in treat-\\ning glaucoma!\\nIntroduction\\nVitamin C has been used since the trans-', metadata={'source': './data\\\\FM docs 2024.3\\\\Eye Pressure Lowering Effect of Vitamin C.pdf', 'page': 0}),\n",
       " Document(page_content='50 patients, 20 patients refused to take vita-min C and eye drops were used to lower the\\npressure in the standard manner.\\nAge Distribution\\n30-39 40-49 50-59 60-80\\n165 1 8\\nVisual Fields\\nNo defects were found in any of the 50\\npatients.\\nGonioscopy\\nAll 50 patients had open angle, and no\\nangles were particularly closed.\\nVitamin C Taken\\nThe most vitamin C taken was 35 grams\\nper day divided in three doses at mealtime.\\nThis lady had chronic sinusitis and was quite\\npleased to be relieved of this problem afterseveral years of unsuccessful drug therapy.\\nThe least amount taken was one gram per\\nday in two patients. The average for the 30patients was 10 grams per day. It was sug-\\ngested that patients take “bowel dosage” and', metadata={'source': './data\\\\FM docs 2024.3\\\\Eye Pressure Lowering Effect of Vitamin C.pdf', 'page': 0}),\n",
       " Document(page_content='Journal of Orthomolecular Medicine     Vol. 10, No. 3 & 4, 1995\\n166Average Drop in Eye Pressure\\nRight Eye: 4.8 mmLeft Eye: 6.3 mm\\nBoth Eyes: 5.6 mm\\nIt is an interesting observation that indi-\\nviduals who take vitamin C regularly and\\nhave their intraocular pressure taken on a\\nroutine basis for their eye exam have pres-sures in the range of 10-13 mm of mercury\\ncommonly. It has been my experience that I\\nhave yet to find the first patient with apressure over 20 mm who comes into the\\noffice and admits to taking any amount of\\nvitamin C daily. It also seems to be generallytrue that those people who do have pressure\\nelevated for the first time are those treating\\nthemselves with various toxic drugs, smok-ing, eating processed foods, and living a life', metadata={'source': './data\\\\FM docs 2024.3\\\\Eye Pressure Lowering Effect of Vitamin C.pdf', 'page': 1})]"
      ]
     },
     "execution_count": 44,
     "metadata": {},
     "output_type": "execute_result"
    }
   ],
   "source": [
    "similarity_documents = retriever.invoke(query)\n",
    "similarity_documents"
   ]
  },
  {
   "cell_type": "code",
   "execution_count": 45,
   "metadata": {},
   "outputs": [
    {
     "name": "stderr",
     "output_type": "stream",
     "text": [
      "f:\\Miniconda3\\envs\\llm\\lib\\site-packages\\langchain_core\\vectorstores.py:330: UserWarning: Relevance scores must be between 0 and 1, got [(Document(page_content='It is absolutely essential to become accustomed \\nto eating \"lunch\" for breakfast, lunch, and dinner \\n— in other words, the same food all day long — \\nand to ignore or forget the standard American \\neggs, toast, milk, and cereal breakfast. Some \\nchildren enjoy calling this their \"cave man\" diet, \\nbecause, after all, the cave man probably had no \\nmilk, refined sugar, or cultivated grain. \\n(2) Why rotate foods over an entire week \\ninstead of over a shorter period of time?  \\nIt takes four to five days for the effect of an \\nallergenic food to wear off after it has been eaten, \\nproviding it has not been re-eaten during the same \\nperiod of time. \\n(3) Does a \"little bit\" of any food really mat \\nter? \\nYes, it does. In order to get results from this', metadata={'source': './data\\\\FM docs 2024.3\\\\JOM_1973_02_3_03_Clinical_Observations_on_the_Treatment_of_Schizophrenic-.pdf', 'page': 7}), -0.12831592559814453), (Document(page_content='SUNDAY:  turkey  corn                          grapefruit Mazola marg.  spinach  \\nMay add salt. Drink only water, except *any pure fruit juice may be used the same day the fruit is on the list. Sugars and spic es \\nare food and should be tested as such (see p. 3 of instructions). Meats are to be fried in their own grease, baked, or broiled. Fruit \\nand vegetables are eaten raw or cooked at  home. Additional fruits and vegetables may be added if found in the market — use \\nonly once a week.  \\n \\n ROTATING DIET WORKED OUT BY A MOTHER FOR A TEENAGER   \\n SUNDAY  MONDAY  TUESDAY  WEDNESDAY THURSDAY  FRIDAY  SATURDAY  \\nCitrus Fruit  Grapefruit  Oranges  Tangerines  Berries  Limes  Pineapple or \\nPapaya  Lemon  \\nCarbohy Fruit  Apples  Dates Plums or', metadata={'source': './data\\\\FM docs 2024.3\\\\JOM_1973_02_3_03_Clinical_Observations_on_the_Treatment_of_Schizophrenic-.pdf', 'page': 10}), -0.1586017608642578), (Document(page_content='have adapted to it and should fast now and then \\nto force our bodies to react. Perhaps this explains \\nsome of the benefit of the fast in people who have \\nno food allergies. But the type of malnutrition \\ncurrent today became possible only when our \\ntechnology discovered how to separate our food \\ninto its chemical components and to reconstitute \\nthem into what appears to be food. These food \\nartifacts are engineered to appeal to our visual \\nand taste instincts. They are sweet and colorful, \\nbut they have almost ignored the prime function \\nof food—to nourish.   A   California   physician   \\nhas declared, \"If man made it, don\\'t eat it.\" This is \\nsurely a powerful indictment of most of our \\nprocessed foods. \\nThe type of malnutrition which is particularly', metadata={'source': './data\\\\FM docs 2024.3\\\\JOM_1977_06_1_01_Does_Ascorbic_Acid_Destroy_Vitamin_B12.pdf', 'page': 1}), -0.1794271469116211), (Document(page_content='habits. I also discovered that the craving for \\nalcohol and other drugs was diminished by a \\nprotein \"cocktail\" at breakfast consisting of: \\nMixing in a blender—4 oz. of unsweetened juice, \\n1 tablespoon (heaping) of protein powder, and 1 \\nteaspoon unheated  honey, with the option of \\nadding an egg or 1/2  ripe banana on occasion, if \\ndesired. They were also asked to take the same \\nsupplements listed above, together with the high-\\nprotein, low-carbohydrate diet. \\nThe diet* was carefully covered with each \\nperson with them listin g foods or beverages \\nconsumed daily . They were particularly \\nencouraged to leave those foods out of their diets \\nfor three to four weeks and then to be aware of \\nhow they felt when one of the foods was eaten', metadata={'source': './data\\\\FM docs 2024.3\\\\JOM_1977_06_1_01_Does_Ascorbic_Acid_Destroy_Vitamin_B12.pdf', 'page': 2}), -0.18926727771759033)]\n",
      "  warnings.warn(\n",
      "f:\\Miniconda3\\envs\\llm\\lib\\site-packages\\langchain_core\\vectorstores.py:342: UserWarning: No relevant docs were retrieved using the relevance score threshold 0.15\n",
      "  warnings.warn(\n"
     ]
    },
    {
     "data": {
      "text/plain": [
       "[]"
      ]
     },
     "execution_count": 45,
     "metadata": {},
     "output_type": "execute_result"
    }
   ],
   "source": [
    "similarity_documents = retriever.invoke(\"今天吃了吗\")\n",
    "similarity_documents"
   ]
  },
  {
   "cell_type": "code",
   "execution_count": null,
   "metadata": {},
   "outputs": [],
   "source": []
  }
 ],
 "metadata": {
  "kernelspec": {
   "display_name": "mm",
   "language": "python",
   "name": "python3"
  },
  "language_info": {
   "codemirror_mode": {
    "name": "ipython",
    "version": 3
   },
   "file_extension": ".py",
   "mimetype": "text/x-python",
   "name": "python",
   "nbconvert_exporter": "python",
   "pygments_lexer": "ipython3",
   "version": "3.10.14"
  }
 },
 "nbformat": 4,
 "nbformat_minor": 2
}

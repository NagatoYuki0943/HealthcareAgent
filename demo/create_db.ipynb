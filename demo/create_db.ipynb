{
 "cells": [
  {
   "cell_type": "code",
   "execution_count": 1,
   "metadata": {},
   "outputs": [],
   "source": [
    "# 首先导入所需第三方库\n",
    "from langchain_community.document_loaders import (\n",
    "    UnstructuredFileLoader,\n",
    "    UnstructuredMarkdownLoader,\n",
    "    PyPDFLoader,\n",
    ")\n",
    "from langchain.text_splitter import RecursiveCharacterTextSplitter\n",
    "from langchain_community.vectorstores import Chroma\n",
    "from langchain.embeddings.huggingface import HuggingFaceEmbeddings\n",
    "from tqdm import tqdm\n",
    "import os"
   ]
  },
  {
   "cell_type": "markdown",
   "metadata": {},
   "source": [
    "# 遍历目录获取数据"
   ]
  },
  {
   "cell_type": "code",
   "execution_count": 2,
   "metadata": {},
   "outputs": [],
   "source": [
    "# 获取文件路径函数\n",
    "def get_files(dir_path):\n",
    "    # args：dir_path，目标文件夹路径\n",
    "    file_list = []\n",
    "    for filepath, dirnames, filenames in os.walk(dir_path):\n",
    "        # os.walk 函数将递归遍历指定文件夹\n",
    "        for filename in filenames:\n",
    "            # 通过后缀名判断文件类型是否满足要求\n",
    "            if filename.endswith(\".md\"):\n",
    "                # 如果满足要求，将其绝对路径加入到结果列表\n",
    "                file_list.append(os.path.join(filepath, filename))\n",
    "            elif filename.endswith(\".txt\"):\n",
    "                file_list.append(os.path.join(filepath, filename))\n",
    "            elif filename.endswith(\".pdf\"):\n",
    "                file_list.append(os.path.join(filepath, filename))\n",
    "    return file_list"
   ]
  },
  {
   "cell_type": "code",
   "execution_count": 3,
   "metadata": {},
   "outputs": [],
   "source": [
    "def get_text(dir_path):\n",
    "    # args：dir_path，目标文件夹路径\n",
    "    # 首先调用上文定义的函数得到目标文件路径列表\n",
    "    file_lst = get_files(dir_path)\n",
    "    # docs 存放加载之后的纯文本对象\n",
    "    docs = []\n",
    "    # 遍历所有目标文件\n",
    "    for one_file in tqdm(file_lst):\n",
    "        print(one_file)\n",
    "        file_type = one_file.split('.')[-1]\n",
    "        if file_type == 'md':\n",
    "            loader = UnstructuredMarkdownLoader(one_file)\n",
    "        elif file_type == 'txt':\n",
    "            loader = UnstructuredFileLoader(one_file)\n",
    "        elif file_type == 'pdf':\n",
    "            loader = PyPDFLoader(one_file)\n",
    "        else:\n",
    "            print(\"不符合条件的文件：\", one_file)\n",
    "            # 如果是不符合条件的文件，直接跳过\n",
    "            continue\n",
    "        docs.extend(loader.load())\n",
    "    return docs"
   ]
  },
  {
   "cell_type": "code",
   "execution_count": 4,
   "metadata": {},
   "outputs": [
    {
     "data": {
      "text/plain": [
       "['./data\\\\FM docs 2024.3']"
      ]
     },
     "execution_count": 4,
     "metadata": {},
     "output_type": "execute_result"
    }
   ],
   "source": [
    "# 目标文件夹\n",
    "tar_dirs = \"./data\"\n",
    "dirs = os.listdir(tar_dirs)\n",
    "dirs = [os.path.join(tar_dirs, dir) for dir in dirs]\n",
    "dirs = [dir for dir in dirs if os.path.isdir(dir)]\n",
    "dirs"
   ]
  },
  {
   "cell_type": "code",
   "execution_count": 5,
   "metadata": {},
   "outputs": [
    {
     "name": "stderr",
     "output_type": "stream",
     "text": [
      "  0%|          | 0/134 [00:00<?, ?it/s]"
     ]
    },
    {
     "name": "stderr",
     "output_type": "stream",
     "text": [
      "  1%|          | 1/134 [00:00<00:19,  6.65it/s]Ignoring wrong pointing object 13 0 (offset 0)\n",
      "Ignoring wrong pointing object 16 0 (offset 0)\n",
      "Ignoring wrong pointing object 21 0 (offset 0)\n",
      "Ignoring wrong pointing object 44 0 (offset 0)\n",
      "Ignoring wrong pointing object 57 0 (offset 0)\n"
     ]
    },
    {
     "name": "stdout",
     "output_type": "stream",
     "text": [
      "./data\\FM docs 2024.3\\Eye Pressure Lowering Effect of Vitamin C.pdf\n",
      "./data\\FM docs 2024.3\\High-Dose-Intravenous-Vitamin-C-Treatment-for-Zika-Fever-31.1.pdf\n"
     ]
    },
    {
     "name": "stderr",
     "output_type": "stream",
     "text": [
      "  3%|▎         | 4/134 [00:00<00:12, 10.16it/s]"
     ]
    },
    {
     "name": "stdout",
     "output_type": "stream",
     "text": [
      "./data\\FM docs 2024.3\\JOM_1970_02_4_02_Vitamin_B3_and_Krebiozen_-_a_polemic.pdf\n",
      "./data\\FM docs 2024.3\\JOM_1970_02_4_04_The_Parenteral_Use_of_Vitamins_in_the_Treatment-.pdf\n",
      "./data\\FM docs 2024.3\\JOM_1971_03_1_03_A_Vitamin_B3_Dependent_Family.pdf\n"
     ]
    },
    {
     "name": "stderr",
     "output_type": "stream",
     "text": [
      "  4%|▍         | 6/134 [00:00<00:14,  8.60it/s]"
     ]
    },
    {
     "name": "stdout",
     "output_type": "stream",
     "text": [
      "./data\\FM docs 2024.3\\JOM_1971_03_1_05_The_Use_of_Mega_Vitamin_Therapy_in_Regulating_Severe-.pdf\n",
      "./data\\FM docs 2024.3\\JOM_1971_03_2_07_Vitamin_B3_Dependent_Child.pdf\n"
     ]
    },
    {
     "name": "stderr",
     "output_type": "stream",
     "text": [
      "  5%|▌         | 7/134 [00:00<00:15,  8.28it/s]"
     ]
    },
    {
     "name": "stdout",
     "output_type": "stream",
     "text": [
      "./data\\FM docs 2024.3\\JOM_1972_01_1_05_The_Use_of_Vitamin_B12b_in_Psychiatric_Practice.pdf\n"
     ]
    },
    {
     "name": "stderr",
     "output_type": "stream",
     "text": [
      "  6%|▌         | 8/134 [00:01<00:19,  6.44it/s]"
     ]
    },
    {
     "name": "stdout",
     "output_type": "stream",
     "text": [
      "./data\\FM docs 2024.3\\JOM_1972_01_2-3_09_A_Study_of_Neurological_Organization_Procedures-.pdf\n"
     ]
    },
    {
     "name": "stderr",
     "output_type": "stream",
     "text": [
      "  7%|▋         | 9/134 [00:01<00:25,  4.94it/s]"
     ]
    },
    {
     "name": "stdout",
     "output_type": "stream",
     "text": [
      "./data\\FM docs 2024.3\\JOM_1973_02_3_03_Clinical_Observations_on_the_Treatment_of_Schizophrenic-.pdf\n"
     ]
    },
    {
     "name": "stderr",
     "output_type": "stream",
     "text": [
      "  8%|▊         | 11/134 [00:01<00:26,  4.64it/s]"
     ]
    },
    {
     "name": "stdout",
     "output_type": "stream",
     "text": [
      "./data\\FM docs 2024.3\\JOM_1973_02_3_05_An_Examination_of_the_Double-Blind_Method-.pdf\n",
      "./data\\FM docs 2024.3\\JOM_1974_03_3_02_Early_Evidence_About_Vitamin_C_And_the_Common_Cold.pdf\n"
     ]
    },
    {
     "name": "stderr",
     "output_type": "stream",
     "text": [
      " 10%|█         | 14/134 [00:02<00:22,  5.33it/s]"
     ]
    },
    {
     "name": "stdout",
     "output_type": "stream",
     "text": [
      "./data\\FM docs 2024.3\\JOM_1974_03_3_11_To_the_Editor_The_Road_to_Shangri-La_is_Paved_with-.pdf\n",
      "./data\\FM docs 2024.3\\JOM_1974_03_4_06_Megavitamins.pdf\n",
      "./data\\FM docs 2024.3\\JOM_1975_04_1_11_Administration_of_Massive_Doses_of_Vitamin_E-.pdf\n",
      "./data\\FM docs 2024.3\\JOM_1975_04_2_04_The_Vitamin_D-Problem_An_Important_Lesson-.pdf\n"
     ]
    },
    {
     "name": "stderr",
     "output_type": "stream",
     "text": [
      " 12%|█▏        | 16/134 [00:02<00:19,  5.99it/s]"
     ]
    },
    {
     "name": "stdout",
     "output_type": "stream",
     "text": [
      "./data\\FM docs 2024.3\\JOM_1975_04_3_06_Diet-Vitamin_Program_for_Jail_Inmates.pdf\n"
     ]
    },
    {
     "name": "stderr",
     "output_type": "stream",
     "text": [
      " 13%|█▎        | 17/134 [00:03<00:25,  4.62it/s]"
     ]
    },
    {
     "name": "stdout",
     "output_type": "stream",
     "text": [
      "./data\\FM docs 2024.3\\JOM_1975_04_4_07_The_Use_of_Megavitamin_Treatment_in_Children-.pdf\n"
     ]
    },
    {
     "name": "stderr",
     "output_type": "stream",
     "text": [
      " 13%|█▎        | 18/134 [00:03<00:25,  4.54it/s]"
     ]
    },
    {
     "name": "stdout",
     "output_type": "stream",
     "text": [
      "./data\\FM docs 2024.3\\JOM_1975_04_4_09_An_Update_of_Megavitamin_Therapy_in_Orthomolecular-.pdf\n"
     ]
    },
    {
     "name": "stderr",
     "output_type": "stream",
     "text": [
      " 15%|█▍        | 20/134 [00:03<00:24,  4.61it/s]"
     ]
    },
    {
     "name": "stdout",
     "output_type": "stream",
     "text": [
      "./data\\FM docs 2024.3\\JOM_1976_05_2_02_The_Eating_Habits_of_High_and_Low_Vitamin_C_Users.pdf\n",
      "./data\\FM docs 2024.3\\JOM_1976_05_3_03_Megavitamin_Therapy_for_Different_Cases.pdf\n"
     ]
    },
    {
     "name": "stderr",
     "output_type": "stream",
     "text": [
      " 16%|█▋        | 22/134 [00:04<00:25,  4.41it/s]"
     ]
    },
    {
     "name": "stdout",
     "output_type": "stream",
     "text": [
      "./data\\FM docs 2024.3\\JOM_1976_05_3_05_Massive_Vitamin_C_as_an_Adjunct_in_Methadone_Maintenance-.pdf\n",
      "./data\\FM docs 2024.3\\JOM_1976_05_3_08_Stomach_Acid_and_Megavitamins.pdf\n"
     ]
    },
    {
     "name": "stderr",
     "output_type": "stream",
     "text": [
      " 18%|█▊        | 24/134 [00:04<00:20,  5.32it/s]"
     ]
    },
    {
     "name": "stdout",
     "output_type": "stream",
     "text": [
      "./data\\FM docs 2024.3\\JOM_1976_05_4_02_A_Report_on_a_Twelve-Month_Period_of_Treating_Metabolic_Diseases-.pdf\n",
      "./data\\FM docs 2024.3\\JOM_1977_06_1_01_Does_Ascorbic_Acid_Destroy_Vitamin_B12.pdf\n"
     ]
    },
    {
     "name": "stderr",
     "output_type": "stream",
     "text": [
      " 19%|█▉        | 26/134 [00:04<00:17,  6.23it/s]"
     ]
    },
    {
     "name": "stdout",
     "output_type": "stream",
     "text": [
      "./data\\FM docs 2024.3\\JOM_1977_06_1_06_Meditation_Protein_Diet_and_Megavitamins_in_the_Treatment-.pdf\n",
      "./data\\FM docs 2024.3\\JOM_1978_07_2_03_Reduction_of_Blood_Lead_Levels_in_Battery_Workers-.pdf\n"
     ]
    },
    {
     "name": "stderr",
     "output_type": "stream",
     "text": [
      " 21%|██        | 28/134 [00:05<00:19,  5.33it/s]"
     ]
    },
    {
     "name": "stdout",
     "output_type": "stream",
     "text": [
      "./data\\FM docs 2024.3\\JOM_1978_07_4_06_A_Reply_to_the_American_Psychiatric_Association_Task-.pdf\n",
      "./data\\FM docs 2024.3\\JOM_1979_08_2_02_Large_Amounts_of_Nicotinic_Acid_and_Vitamin_B12-.pdf\n",
      "./data\\FM docs 2024.3\\JOM_1979_08_2_04_X-Linked_Dominant_Manic-Depressive_Illness_Linkage_with-.pdf\n"
     ]
    },
    {
     "name": "stderr",
     "output_type": "stream",
     "text": [
      " 22%|██▏       | 30/134 [00:05<00:16,  6.44it/s]"
     ]
    },
    {
     "name": "stdout",
     "output_type": "stream",
     "text": [
      "./data\\FM docs 2024.3\\JOM_1979_08_4_06_Resistance_To_Orthomolecular_Medicine_Or_Why_You_Dont-.pdf\n",
      "./data\\FM docs 2024.3\\JOM_1979_08_4_08_Orthomolecular_Medicine_and_Megavitamin_Therapy-.pdf\n"
     ]
    },
    {
     "name": "stderr",
     "output_type": "stream",
     "text": [
      " 25%|██▍       | 33/134 [00:05<00:15,  6.44it/s]"
     ]
    },
    {
     "name": "stdout",
     "output_type": "stream",
     "text": [
      "./data\\FM docs 2024.3\\JOM_1980_09_1_06_Vitamins_B1_B6_and_B12_In_The_Adjunctive_Treatment-.pdf\n",
      "./data\\FM docs 2024.3\\JOM_1980_09_1_10_Vitamins_The_Get-Smart_Pills.pdf\n"
     ]
    },
    {
     "name": "stderr",
     "output_type": "stream",
     "text": [
      " 25%|██▌       | 34/134 [00:06<00:17,  5.62it/s]"
     ]
    },
    {
     "name": "stdout",
     "output_type": "stream",
     "text": [
      "./data\\FM docs 2024.3\\JOM_1981_10_2_06_The_Method_of_Determining_Proper_Doses_of_Vitamin_C-.pdf\n"
     ]
    },
    {
     "name": "stderr",
     "output_type": "stream",
     "text": [
      " 27%|██▋       | 36/134 [00:06<00:18,  5.28it/s]"
     ]
    },
    {
     "name": "stdout",
     "output_type": "stream",
     "text": [
      "./data\\FM docs 2024.3\\JOM_1981_10_3_04_Psychiatric_Significance_of_the_Plasma_Concentrations-.pdf\n",
      "./data\\FM docs 2024.3\\JOM_1982_11_1_06_Vitamins_Bl_B6_and_B12_in_the_Adjunctive_Treatment-.pdf\n",
      "./data\\FM docs 2024.3\\JOM_1982_11_2_02_Vitamin_B6_Nutritional_Status_of_a_Psychiatric-.pdf\n"
     ]
    },
    {
     "name": "stderr",
     "output_type": "stream",
     "text": [
      " 28%|██▊       | 38/134 [00:06<00:16,  5.70it/s]"
     ]
    },
    {
     "name": "stdout",
     "output_type": "stream",
     "text": [
      "./data\\FM docs 2024.3\\JOM_1982_11_2_07_Vitamin_C_and_Tolerance_of_Heat_and_Cold_Human_Evidence.pdf\n",
      "./data\\FM docs 2024.3\\JOM_1982_11_4_03_Vitamin_B15_A_Review_and_Update.pdf\n"
     ]
    },
    {
     "name": "stderr",
     "output_type": "stream",
     "text": [
      " 31%|███       | 41/134 [00:07<00:14,  6.22it/s]"
     ]
    },
    {
     "name": "stdout",
     "output_type": "stream",
     "text": [
      "./data\\FM docs 2024.3\\JOM_1983_12_4_08_Vitamin_B-12_Levels_of_Cerebrospinal_Fluid_in_Patients-.pdf\n",
      "./data\\FM docs 2024.3\\JOM_1984_13_2_03_Alzheimers_Disease_Alcohol_Dementia_Association-.pdf\n"
     ]
    },
    {
     "name": "stderr",
     "output_type": "stream",
     "text": [
      " 33%|███▎      | 44/134 [00:07<00:13,  6.82it/s]"
     ]
    },
    {
     "name": "stdout",
     "output_type": "stream",
     "text": [
      "./data\\FM docs 2024.3\\JOM_1984_13_4_08_The_Effect_of_EDTA_Chelation_Therapy_With_Multivitamin-.pdf\n",
      "./data\\FM docs 2024.3\\JOM_1985_14_1_08_The_Clinical_Change_in_Patients_Treated_with_EDTA-.pdf\n",
      "./data\\FM docs 2024.3\\JOM_1985_14_4_01_National_Institute_of_Health_Promotes_Megavitamin_Therapy.pdf\n",
      "./data\\FM docs 2024.3\\JOM_1986_01_1_05_The_Prevention_Of_Tardive_Dyskinesia_with_High_Dosage-.pdf\n"
     ]
    },
    {
     "name": "stderr",
     "output_type": "stream",
     "text": [
      " 35%|███▌      | 47/134 [00:08<00:12,  7.06it/s]"
     ]
    },
    {
     "name": "stdout",
     "output_type": "stream",
     "text": [
      "./data\\FM docs 2024.3\\JOM_1986_01_1_10_Vitamin_Therapy_for_Hyperactivity_and_Schizophreniae-.pdf\n"
     ]
    },
    {
     "name": "stderr",
     "output_type": "stream",
     "text": [
      " 37%|███▋      | 49/134 [00:08<00:11,  7.70it/s]"
     ]
    },
    {
     "name": "stdout",
     "output_type": "stream",
     "text": [
      "./data\\FM docs 2024.3\\JOM_1986_01_4_04_The_Ideal_Vitamin_C_Intake.pdf\n",
      "./data\\FM docs 2024.3\\JOM_1986_01_4_06_Alzheimers_Dementia_Some_Possible_Mechanisms_Related_To_Vitamins-.pdf\n",
      "./data\\FM docs 2024.3\\JOM_1987_02_2_02_Im_Schizophrenic_Doctor_Not_Stupid.pdf\n"
     ]
    },
    {
     "name": "stderr",
     "output_type": "stream",
     "text": [
      " 37%|███▋      | 50/134 [00:08<00:12,  6.80it/s]XRef object at 1067 can not be read, some object may be missing\n",
      "XRef object at 969 can not be read, some object may be missing\n",
      " 39%|███▉      | 52/134 [00:08<00:09,  8.78it/s]XRef object at 969 can not be read, some object may be missing\n"
     ]
    },
    {
     "name": "stdout",
     "output_type": "stream",
     "text": [
      "./data\\FM docs 2024.3\\JOM_1988_03_1_06_Around_The_World_International_Vitamin_Convention-.pdf\n",
      "./data\\FM docs 2024.3\\JOM_1988_03_1_11_Correspondence.pdf\n",
      "./data\\FM docs 2024.3\\JOM_1988_03_2_05_Around_The_World_AIDS_Vitamin_C_and_Egg_Lecithin.pdf\n",
      "./data\\FM docs 2024.3\\JOM_1989_04_4_06_Megavitamin_Therapy_in_the_Reduction_of_Anxiety-.pdf\n"
     ]
    },
    {
     "name": "stderr",
     "output_type": "stream",
     "text": [
      " 40%|████      | 54/134 [00:08<00:08,  9.46it/s]"
     ]
    },
    {
     "name": "stdout",
     "output_type": "stream",
     "text": [
      "./data\\FM docs 2024.3\\JOM_1990_05_1_02_Case_study_High_Dose_intravenous_Vitamin_C_in_the-.pdf\n",
      "./data\\FM docs 2024.3\\JOM_1990_05_1_04_Nutritional_Interrelationships_Minerals_Vitamins-.pdf\n"
     ]
    },
    {
     "name": "stderr",
     "output_type": "stream",
     "text": [
      " 42%|████▏     | 56/134 [00:09<00:09,  8.20it/s]XRef object at 1201 can not be read, some object may be missing\n"
     ]
    },
    {
     "name": "stdout",
     "output_type": "stream",
     "text": [
      "./data\\FM docs 2024.3\\JOM_1990_05_3_06_Hardin_Jones_Biostatistical_Analysis_of_Mortality_Data-.pdf\n"
     ]
    },
    {
     "name": "stderr",
     "output_type": "stream",
     "text": [
      " 43%|████▎     | 57/134 [00:09<00:18,  4.14it/s]XRef object at 1104 can not be read, some object may be missing\n",
      " 43%|████▎     | 58/134 [00:10<00:17,  4.42it/s]XRef object at 1041 can not be read, some object may be missing\n"
     ]
    },
    {
     "name": "stdout",
     "output_type": "stream",
     "text": [
      "./data\\FM docs 2024.3\\JOM_1991_06_1_04_Cardiovascular_Dynamics_and_Edta_Chelation_with-.pdf\n",
      "./data\\FM docs 2024.3\\JOM_1991_06_1_07_The_Nutritional_Relationships_of_Vitamin_A.pdf\n"
     ]
    },
    {
     "name": "stderr",
     "output_type": "stream",
     "text": [
      " 44%|████▍     | 59/134 [00:10<00:16,  4.68it/s]XRef object at 1009 can not be read, some object may be missing\n",
      "XRef object at 1032 can not be read, some object may be missing\n",
      " 46%|████▌     | 61/134 [00:10<00:12,  5.93it/s]"
     ]
    },
    {
     "name": "stdout",
     "output_type": "stream",
     "text": [
      "./data\\FM docs 2024.3\\JOM_1991_06_2_05_Treatment_of_Hypercholesterolemia_with_Vitamin_E_C-.pdf\n",
      "./data\\FM docs 2024.3\\JOM_1991_06_2_08_The_Origin_of_the_42-year_Stonewall_of_Vitamin_C.pdf\n"
     ]
    },
    {
     "name": "stderr",
     "output_type": "stream",
     "text": [
      "XRef object at 946 can not be read, some object may be missing\n",
      "XRef object at 974 can not be read, some object may be missing\n"
     ]
    },
    {
     "name": "stdout",
     "output_type": "stream",
     "text": [
      "./data\\FM docs 2024.3\\JOM_1991_06_3-4_02_Welcome_To_Second_World_Congress_on_Vitamin_C.pdf\n",
      "./data\\FM docs 2024.3\\JOM_1991_06_3-4_07_Vitamin_C_and_Stomatology_A_Mouthful_of_Evidence.pdf\n"
     ]
    },
    {
     "name": "stderr",
     "output_type": "stream",
     "text": [
      " 47%|████▋     | 63/134 [00:10<00:11,  6.28it/s]XRef object at 973 can not be read, some object may be missing\n",
      " 48%|████▊     | 64/134 [00:11<00:11,  5.95it/s]XRef object at 944 can not be read, some object may be missing\n"
     ]
    },
    {
     "name": "stdout",
     "output_type": "stream",
     "text": [
      "./data\\FM docs 2024.3\\JOM_1991_06_3-4_08_Clinical_Procedures_in_Treating_Terminally_Ill_Cancer-.pdf\n",
      "./data\\FM docs 2024.3\\JOM_1991_06_3-4_09_Vitamin_C_and_Multifactorial_Disease.pdf\n"
     ]
    },
    {
     "name": "stderr",
     "output_type": "stream",
     "text": [
      " 49%|████▊     | 65/134 [00:11<00:11,  6.25it/s]XRef object at 1156 can not be read, some object may be missing\n",
      " 49%|████▉     | 66/134 [00:11<00:11,  5.96it/s]"
     ]
    },
    {
     "name": "stdout",
     "output_type": "stream",
     "text": [
      "./data\\FM docs 2024.3\\JOM_1991_06_3-4_10_Vitamin_C_Deficiency_Cholesterol_Metabolism-.pdf\n"
     ]
    },
    {
     "name": "stderr",
     "output_type": "stream",
     "text": [
      "XRef object at 972 can not be read, some object may be missing\n",
      " 50%|█████     | 67/134 [00:11<00:11,  6.02it/s]XRef object at 1094 can not be read, some object may be missing\n"
     ]
    },
    {
     "name": "stdout",
     "output_type": "stream",
     "text": [
      "./data\\FM docs 2024.3\\JOM_1991_06_3-4_12_Children_Vitamin_C_and_Medical_Progress.pdf\n",
      "./data\\FM docs 2024.3\\JOM_1992_07_1_06_Vitamin_Mineral_Supplementation_and_the_intelligence-.pdf\n"
     ]
    },
    {
     "name": "stderr",
     "output_type": "stream",
     "text": [
      " 51%|█████     | 68/134 [00:11<00:12,  5.41it/s]XRef object at 1067 can not be read, some object may be missing\n",
      " 51%|█████▏    | 69/134 [00:11<00:10,  5.99it/s]XRef object at 948 can not be read, some object may be missing\n"
     ]
    },
    {
     "name": "stdout",
     "output_type": "stream",
     "text": [
      "./data\\FM docs 2024.3\\JOM_1992_07_4_02_The_Third_Face_of_Vitamin_C.pdf\n",
      "./data\\FM docs 2024.3\\JOM_1992_07_4_04_Cancer_Immunology_and_Aging_The_Nutritional_influence.pdf\n"
     ]
    },
    {
     "name": "stderr",
     "output_type": "stream",
     "text": [
      " 52%|█████▏    | 70/134 [00:11<00:09,  6.53it/s]XRef object at 1158 can not be read, some object may be missing\n"
     ]
    },
    {
     "name": "stdout",
     "output_type": "stream",
     "text": [
      "./data\\FM docs 2024.3\\JOM_1993_08_2_09_Megavitamins_and_Psychotherapy_Effective_Economical-.pdf\n"
     ]
    },
    {
     "name": "stderr",
     "output_type": "stream",
     "text": [
      " 53%|█████▎    | 71/134 [00:12<00:17,  3.58it/s]XRef object at 1132 can not be read, some object may be missing\n"
     ]
    },
    {
     "name": "stdout",
     "output_type": "stream",
     "text": [
      "./data\\FM docs 2024.3\\JOM_1993_08_3_09_Hardin_Jones_Biostatistical_Analysis_of_Mortality_Data-.pdf\n"
     ]
    },
    {
     "name": "stderr",
     "output_type": "stream",
     "text": [
      " 54%|█████▎    | 72/134 [00:13<00:21,  2.89it/s]XRef object at 1080 can not be read, some object may be missing\n"
     ]
    },
    {
     "name": "stdout",
     "output_type": "stream",
     "text": [
      "./data\\FM docs 2024.3\\JOM_1994_09_1_04_Vitamin_C_and_Fatigue.pdf\n"
     ]
    },
    {
     "name": "stderr",
     "output_type": "stream",
     "text": [
      " 54%|█████▍    | 73/134 [00:13<00:19,  3.17it/s]XRef object at 1079 can not be read, some object may be missing\n",
      "XRef object at 941 can not be read, some object may be missing\n",
      " 56%|█████▌    | 75/134 [00:13<00:12,  4.70it/s]"
     ]
    },
    {
     "name": "stdout",
     "output_type": "stream",
     "text": [
      "./data\\FM docs 2024.3\\JOM_1994_09_1_06_Vitamin_B6_and_Carpal_Tunnel_Syndrome_A_Case_Report.pdf\n",
      "./data\\FM docs 2024.3\\JOM_1994_09_3_02_Pride_Prejudice_and_Vitamin_C.pdf\n",
      "./data\\FM docs 2024.3\\JOM_1995_10_2_05_High_Dose_intravenous_Vitamin_C_and_Long_Time_Survival- (1).pdf\n"
     ]
    },
    {
     "name": "stderr",
     "output_type": "stream",
     "text": [
      " 58%|█████▊    | 78/134 [00:13<00:07,  7.52it/s]"
     ]
    },
    {
     "name": "stdout",
     "output_type": "stream",
     "text": [
      "./data\\FM docs 2024.3\\JOM_1995_10_2_05_High_Dose_intravenous_Vitamin_C_and_Long_Time_Survival-.pdf\n",
      "./data\\FM docs 2024.3\\JOM_1995_10_2_07_Treatment_of_Iritis_and_Herpes_Zoster_with_Vitamin_C.pdf\n",
      "./data\\FM docs 2024.3\\JOM_1996_11_2_04_Intravenous_Vitamin_C_in_A_Terminal_Cancer_Patient (1).pdf\n",
      "./data\\FM docs 2024.3\\JOM_1996_11_2_04_Intravenous_Vitamin_C_in_A_Terminal_Cancer_Patient.pdf\n",
      "./data\\FM docs 2024.3\\JOM_1998_13_2_02_High-dose_intravenous_Vitamin_C_in_the_Treatment_of_A-.pdf\n"
     ]
    },
    {
     "name": "stderr",
     "output_type": "stream",
     "text": [
      " 60%|██████    | 81/134 [00:13<00:05, 10.15it/s]"
     ]
    },
    {
     "name": "stdout",
     "output_type": "stream",
     "text": [
      "./data\\FM docs 2024.3\\JOM_1998_13_4_02_Observations_On_the_Dose_and_Administration_of_Ascorbic-.pdf\n"
     ]
    },
    {
     "name": "stderr",
     "output_type": "stream",
     "text": [
      " 62%|██████▏   | 83/134 [00:14<00:07,  6.53it/s]"
     ]
    },
    {
     "name": "stdout",
     "output_type": "stream",
     "text": [
      "./data\\FM docs 2024.3\\JOM_1998_13_4_05_The_Health_of_the_NaturopathVitamin_Supplementation-.pdf\n",
      "./data\\FM docs 2024.3\\JOM_1998_13_4_06_The_Application_of_the_Hardin_Jones-Pauling-.pdf\n"
     ]
    },
    {
     "name": "stderr",
     "output_type": "stream",
     "text": [
      " 63%|██████▎   | 85/134 [00:14<00:08,  5.76it/s]"
     ]
    },
    {
     "name": "stdout",
     "output_type": "stream",
     "text": [
      "./data\\FM docs 2024.3\\JOM_1999_14_1_03_Treatment_of_Ambulant_Schizophrenics_with_Vitamin_B3- (1).pdf\n",
      "./data\\FM docs 2024.3\\JOM_1999_14_1_03_Treatment_of_Ambulant_Schizophrenics_with_Vitamin_B3-.pdf\n"
     ]
    },
    {
     "name": "stderr",
     "output_type": "stream",
     "text": [
      " 65%|██████▍   | 87/134 [00:15<00:07,  6.16it/s]"
     ]
    },
    {
     "name": "stdout",
     "output_type": "stream",
     "text": [
      "./data\\FM docs 2024.3\\JOM_2000_15_4_01_Vitamin_C_and_Cancer_-_A_Workshop.pdf\n",
      "./data\\FM docs 2024.3\\JOM_2000_15_4_02_Vitamin_C_as_Cancer_Therapy_An_Overview.pdf\n"
     ]
    },
    {
     "name": "stderr",
     "output_type": "stream",
     "text": [
      " 66%|██████▌   | 88/134 [00:15<00:08,  5.69it/s]"
     ]
    },
    {
     "name": "stdout",
     "output_type": "stream",
     "text": [
      "./data\\FM docs 2024.3\\JOM_2000_15_4_03_Vitamin_C_Case_History_of_an_Alternative_Cancer_Therapy.pdf\n"
     ]
    },
    {
     "name": "stderr",
     "output_type": "stream",
     "text": [
      " 67%|██████▋   | 90/134 [00:15<00:08,  5.13it/s]"
     ]
    },
    {
     "name": "stdout",
     "output_type": "stream",
     "text": [
      "./data\\FM docs 2024.3\\JOM_2000_15_4_04_Clinical_Evaluation_of_Vitamin_C_and_other-.pdf\n",
      "./data\\FM docs 2024.3\\JOM_2001_16_3_08_Vitamin_C_in_Cardiovascular_Disease.pdf\n"
     ]
    },
    {
     "name": "stderr",
     "output_type": "stream",
     "text": [
      " 68%|██████▊   | 91/134 [00:15<00:07,  5.50it/s]"
     ]
    },
    {
     "name": "stdout",
     "output_type": "stream",
     "text": [
      "./data\\FM docs 2024.3\\JOM_2001_16_3_10_The_Effect_of_Alternating_Magnetic_Field_Exposure_and-.pdf\n"
     ]
    },
    {
     "name": "stderr",
     "output_type": "stream",
     "text": [
      " 69%|██████▉   | 93/134 [00:17<00:15,  2.69it/s]"
     ]
    },
    {
     "name": "stdout",
     "output_type": "stream",
     "text": [
      "./data\\FM docs 2024.3\\JOM_2001_16_4_05_Vitamin_C_Symptoms_and_Respiratory_Symptoms.pdf\n",
      "./data\\FM docs 2024.3\\JOM_2002_17_1_03_The_Role_of_Vitamins_B3_and_C_in_the_Treatment-.pdf\n"
     ]
    },
    {
     "name": "stderr",
     "output_type": "stream",
     "text": [
      " 70%|███████   | 94/134 [00:17<00:12,  3.14it/s]"
     ]
    },
    {
     "name": "stdout",
     "output_type": "stream",
     "text": [
      "./data\\FM docs 2024.3\\JOM_2002_17_1_04_Fatigue_and_Vitamin_C.pdf\n",
      "./data\\FM docs 2024.3\\JOM_2002_17_2_06_Case_from_the_Center_Sixteen-Year_History_with_High-.pdf\n"
     ]
    },
    {
     "name": "stderr",
     "output_type": "stream",
     "text": [
      " 72%|███████▏  | 96/134 [00:18<00:12,  3.01it/s]"
     ]
    },
    {
     "name": "stdout",
     "output_type": "stream",
     "text": [
      "./data\\FM docs 2024.3\\JOM_2002_17_4_07_Vitamin_C_and_Oxidative_DNA_Damage_Revisited.pdf\n"
     ]
    },
    {
     "name": "stderr",
     "output_type": "stream",
     "text": [
      " 72%|███████▏  | 97/134 [00:18<00:13,  2.65it/s]"
     ]
    },
    {
     "name": "stdout",
     "output_type": "stream",
     "text": [
      "./data\\FM docs 2024.3\\JOM_2003_18_2_05_Effect_of_Vitamin_C_Supplementation_on_Ex_Vivo_Immune-.pdf\n"
     ]
    },
    {
     "name": "stderr",
     "output_type": "stream",
     "text": [
      " 73%|███████▎  | 98/134 [00:18<00:12,  2.90it/s]"
     ]
    },
    {
     "name": "stdout",
     "output_type": "stream",
     "text": [
      "./data\\FM docs 2024.3\\JOM_2003_18_3-4_03_Vitamin_A_and_Beta-Carotene.pdf\n"
     ]
    },
    {
     "name": "stderr",
     "output_type": "stream",
     "text": [
      " 74%|███████▍  | 99/134 [00:19<00:13,  2.56it/s]"
     ]
    },
    {
     "name": "stdout",
     "output_type": "stream",
     "text": [
      "./data\\FM docs 2024.3\\JOM_2003_18_3-4_04_Negative_and_Positive_Side_Effects_of_Vitamin_B3.pdf\n"
     ]
    },
    {
     "name": "stderr",
     "output_type": "stream",
     "text": [
      " 75%|███████▌  | 101/134 [00:20<00:11,  2.86it/s]"
     ]
    },
    {
     "name": "stdout",
     "output_type": "stream",
     "text": [
      "./data\\FM docs 2024.3\\JOM_2003_18_3-4_05_Vitamin_B6_Extract_of_Submission_to_the_UK’s_Food-.pdf\n",
      "./data\\FM docs 2024.3\\JOM_2003_18_3-4_08_The_Trials_and_Tribulations_of_Vitamin_C.pdf\n"
     ]
    },
    {
     "name": "stderr",
     "output_type": "stream",
     "text": [
      " 76%|███████▌  | 102/134 [00:20<00:13,  2.44it/s]"
     ]
    },
    {
     "name": "stdout",
     "output_type": "stream",
     "text": [
      "./data\\FM docs 2024.3\\JOM_2003_18_3-4_09_The_Gift_of_Vitamin_C.pdf\n"
     ]
    },
    {
     "name": "stderr",
     "output_type": "stream",
     "text": [
      " 77%|███████▋  | 103/134 [00:20<00:11,  2.79it/s]"
     ]
    },
    {
     "name": "stdout",
     "output_type": "stream",
     "text": [
      "./data\\FM docs 2024.3\\JOM_2003_18_3-4_10_Vitamin_D_Deficiency_Diversity_and_Dosage.pdf\n"
     ]
    },
    {
     "name": "stderr",
     "output_type": "stream",
     "text": [
      " 78%|███████▊  | 104/134 [00:21<00:11,  2.66it/s]"
     ]
    },
    {
     "name": "stdout",
     "output_type": "stream",
     "text": [
      "./data\\FM docs 2024.3\\JOM_2003_18_3-4_11_Vitamin_E_A_Cure_in_Search_of_Recognition.pdf\n"
     ]
    },
    {
     "name": "stderr",
     "output_type": "stream",
     "text": [
      " 79%|███████▉  | 106/134 [00:21<00:07,  3.62it/s]"
     ]
    },
    {
     "name": "stdout",
     "output_type": "stream",
     "text": [
      "./data\\FM docs 2024.3\\JOM_2003_18_3-4_12_Can_Vitamin_Supplements_Take_the_Place_of_a_Bad_Diet.pdf\n",
      "./data\\FM docs 2024.3\\JOM_2004_19_1_04_Vitamin_D_Supplementation_in_the_Fight_Against_Multiple-.pdf\n"
     ]
    },
    {
     "name": "stderr",
     "output_type": "stream",
     "text": [
      " 81%|████████  | 108/134 [00:22<00:07,  3.70it/s]"
     ]
    },
    {
     "name": "stdout",
     "output_type": "stream",
     "text": [
      "./data\\FM docs 2024.3\\JOM_2004_19_4_01_The_Use_of_Vitamin_C_and_Other_Antioxidants_with-.pdf\n",
      "./data\\FM docs 2024.3\\JOM_2004_19_4_02_The_Use_of_Vitamin_C_with_Chemotherapy_in_Cancer-.pdf\n"
     ]
    },
    {
     "name": "stderr",
     "output_type": "stream",
     "text": [
      " 82%|████████▏ | 110/134 [00:24<00:13,  1.81it/s]"
     ]
    },
    {
     "name": "stdout",
     "output_type": "stream",
     "text": [
      "./data\\FM docs 2024.3\\JOM_2005_20_1_03_Folic_Acid_Vitamin_D_and_Prehistoric_Polymorphisms-.pdf\n",
      "./data\\FM docs 2024.3\\JOM_2005_20_2_06_Vitamin_C_as_an_Ergogenic_Aid.pdf\n"
     ]
    },
    {
     "name": "stderr",
     "output_type": "stream",
     "text": [
      " 84%|████████▍ | 113/134 [00:24<00:05,  3.61it/s]"
     ]
    },
    {
     "name": "stdout",
     "output_type": "stream",
     "text": [
      "./data\\FM docs 2024.3\\JOM_2005_20_2_11_Vitamin_C_and_Osteoporosis_Is_There_a_Connection.pdf\n",
      "./data\\FM docs 2024.3\\JOM_2005_20_3_01_Can_One_Vitamin_Overcome_the_General_Nutrient-.pdf\n"
     ]
    },
    {
     "name": "stderr",
     "output_type": "stream",
     "text": [
      " 85%|████████▌ | 114/134 [00:24<00:04,  4.08it/s]"
     ]
    },
    {
     "name": "stdout",
     "output_type": "stream",
     "text": [
      "./data\\FM docs 2024.3\\JOM_2005_20_4_07_Screening_for_Vitamin_C_in_the_Urine_Is_it_Clinically-.pdf\n",
      "./data\\FM docs 2024.3\\JOM_2006_21_1_05_Vitamin_D_and_Health_Implications_for_High-latitude-.pdf\n"
     ]
    },
    {
     "name": "stderr",
     "output_type": "stream",
     "text": [
      " 87%|████████▋ | 116/134 [00:25<00:05,  3.03it/s]"
     ]
    },
    {
     "name": "stdout",
     "output_type": "stream",
     "text": [
      "./data\\FM docs 2024.3\\JOM_2006_21_4_03_Special_Report_False_Positive_Finger_Stick_Blood-.pdf\n",
      "./data\\FM docs 2024.3\\JOM_2006_21_4_07_Clinical_Experiences_with_a_Vitamin_B3_Dependent_Family.pdf\n"
     ]
    },
    {
     "name": "stderr",
     "output_type": "stream",
     "text": [
      " 88%|████████▊ | 118/134 [00:26<00:04,  3.56it/s]"
     ]
    },
    {
     "name": "stdout",
     "output_type": "stream",
     "text": [
      "./data\\FM docs 2024.3\\JOM_2007_22_1_03_Poor_Methodology_in_Meta-Analysis_of_Vitamins.pdf\n",
      "./data\\FM docs 2024.3\\JOM_2007_22_1_05_Schedule-Dependence_in_Cancer_Therapy_What_is_the_True-.pdf\n"
     ]
    },
    {
     "name": "stderr",
     "output_type": "stream",
     "text": [
      " 89%|████████▉ | 119/134 [00:27<00:06,  2.30it/s]"
     ]
    },
    {
     "name": "stdout",
     "output_type": "stream",
     "text": [
      "./data\\FM docs 2024.3\\JOM_2007_22_3_02_Safety_and_Effectiveness_of_Vitamins.pdf\n"
     ]
    },
    {
     "name": "stderr",
     "output_type": "stream",
     "text": [
      " 90%|████████▉ | 120/134 [00:27<00:06,  2.00it/s]"
     ]
    },
    {
     "name": "stdout",
     "output_type": "stream",
     "text": [
      "./data\\FM docs 2024.3\\JOM_2007_22_3_08_The_Effect_of_High_Dose_IV_Vitamin_C_on_Plasma-.pdf\n"
     ]
    },
    {
     "name": "stderr",
     "output_type": "stream",
     "text": [
      " 90%|█████████ | 121/134 [00:27<00:05,  2.31it/s]"
     ]
    },
    {
     "name": "stdout",
     "output_type": "stream",
     "text": [
      "./data\\FM docs 2024.3\\JOM_2008_23_1_04_Vitamin_K_Deficiency_Disease.pdf\n"
     ]
    },
    {
     "name": "stderr",
     "output_type": "stream",
     "text": [
      " 91%|█████████ | 122/134 [00:28<00:04,  2.57it/s]"
     ]
    },
    {
     "name": "stdout",
     "output_type": "stream",
     "text": [
      "./data\\FM docs 2024.3\\JOM_2008_23_2_03_Vitamin_C_and_the_Common_Cold.pdf\n"
     ]
    },
    {
     "name": "stderr",
     "output_type": "stream",
     "text": [
      " 92%|█████████▏| 123/134 [00:28<00:04,  2.53it/s]"
     ]
    },
    {
     "name": "stdout",
     "output_type": "stream",
     "text": [
      "./data\\FM docs 2024.3\\JOM_2008_23_3_04_The_Real_Story_of_Vitamin_C_and_Cancer.pdf\n"
     ]
    },
    {
     "name": "stderr",
     "output_type": "stream",
     "text": [
      " 93%|█████████▎| 124/134 [00:28<00:03,  2.90it/s]"
     ]
    },
    {
     "name": "stdout",
     "output_type": "stream",
     "text": [
      "./data\\FM docs 2024.3\\JOM_2008_23_4_03_Vitamin_C_and_Chemotherapy.pdf\n"
     ]
    },
    {
     "name": "stderr",
     "output_type": "stream",
     "text": [
      " 94%|█████████▍| 126/134 [00:29<00:02,  3.37it/s]"
     ]
    },
    {
     "name": "stdout",
     "output_type": "stream",
     "text": [
      "./data\\FM docs 2024.3\\JOM_2008_23_4_05_The_Proper_Treatment_of_Schizophrenia_Requires_Optimal-.pdf\n"
     ]
    },
    {
     "name": "stderr",
     "output_type": "stream",
     "text": [
      " 95%|█████████▍| 127/134 [00:29<00:01,  3.83it/s]"
     ]
    },
    {
     "name": "stdout",
     "output_type": "stream",
     "text": [
      "./data\\FM docs 2024.3\\JOM_2008_23_4_07_Changes_in_Worker_Fatigue_after_Vitamin_C_Administration.pdf\n",
      "./data\\FM docs 2024.3\\JOM_2008_23_4_10_Correspondence VE.pdf\n"
     ]
    },
    {
     "name": "stderr",
     "output_type": "stream",
     "text": [
      " 96%|█████████▌| 128/134 [00:29<00:01,  3.44it/s]"
     ]
    },
    {
     "name": "stdout",
     "output_type": "stream",
     "text": [
      "./data\\FM docs 2024.3\\JOM_2009_24_1_04_Antioxidant_Vitamins_Reduce_the_Risk_for_Cancer_Part_One.pdf\n"
     ]
    },
    {
     "name": "stderr",
     "output_type": "stream",
     "text": [
      " 97%|█████████▋| 130/134 [00:30<00:01,  3.05it/s]"
     ]
    },
    {
     "name": "stdout",
     "output_type": "stream",
     "text": [
      "./data\\FM docs 2024.3\\JOM_2009_24_1_07_Correspondence.pdf\n",
      "./data\\FM docs 2024.3\\JOM_2009_24_2_02_Vitamin_D_25-OH-D3_Status_of_200_Chronically_Ill-.pdf\n",
      "./data\\FM docs 2024.3\\JOM_2009_24_2_04_Antioxidant_Vitamins_Reduce_the_Risk_for_Cancer_Part_Two.pdf\n"
     ]
    },
    {
     "name": "stderr",
     "output_type": "stream",
     "text": [
      " 99%|█████████▊| 132/134 [00:32<00:01,  1.68it/s]"
     ]
    },
    {
     "name": "stdout",
     "output_type": "stream",
     "text": [
      "./data\\FM docs 2024.3\\Role of Fat-Soluble Vitamins A and D in the Pathogenesis of Influenza.pdf\n"
     ]
    },
    {
     "name": "stderr",
     "output_type": "stream",
     "text": [
      "100%|██████████| 134/134 [00:35<00:00,  3.81it/s]"
     ]
    },
    {
     "name": "stdout",
     "output_type": "stream",
     "text": [
      "./data\\FM docs 2024.3\\Vitamin C and Hot Flashes.pdf\n"
     ]
    },
    {
     "name": "stderr",
     "output_type": "stream",
     "text": [
      "\n"
     ]
    },
    {
     "data": {
      "text/plain": [
       "[Document(page_content='Eye Pressure Lowering Effect of Vitamin C\\nHerschell H. Boyd, M.D.1\\nPurpose\\nTo document the pressure before the use\\nof vitamin C and after the daily intake of\\nmaximum amounts of vitamin C, three times\\na day.\\nMethods\\nThirty patients (16 men and 14 women)\\nwere advised to take three divided doses of\\nvitamin C in capsule form each day until\\nloose stools occured and then back downslightly from this amount (bowel dosage) for\\na daily intake. Average daily intake for all\\npatients was 10 grams per day.\\nResults\\nThe greatest lowering of pressure was 13\\nmm as measured with a Goldmann tonom-\\neter. The least lowering of pressure was 1\\nmm. The average for 30 patients was 10 mm.Thirty patients were controlled only with\\nvitamin C. Twenty patients were forced to\\nuse eye drops to lower the pressure below 20mm of mercury as they refused to take vita-\\nmin C.\\nConclusion\\nIn this series of 30 patients there was no\\noccasion in which the pressure was not low-ered with vitamin C. All drugs for glaucoma\\nare seriously toxic, and vitamin C has no\\ntoxicity yet known. The patients experiencedmany other good side effects from vitamin C\\nsuch as clearing of sinusitis, allergy symp-\\ntoms, arthritis improvement, cholesterol low-ering, laxative effect, diuretic effect for heart\\ndisease patients, and other improvements\\nassociated with vitamin C intake of “severalgrams per day” level. Ophthalmologists may\\nawaken to the marvels of vitamin C in treat-\\ning glaucoma!\\nIntroduction\\nVitamin C has been used since the trans-\\nformation of glucose, C\\n6H12O6, into vitamin\\n1. Eastview Professional Building, 1370 - 116th Avenue\\nN.E., Suite 212, Bellevue WA 98004-4679.\\n165C, C6H8O6, in the early 1930s. Its use in\\nlowering the pressure in glaucoma datesback to 1962 as reported in Experimental\\nEye Research.\\n1 Since then there have been\\nmany references in the foreign literature, butin the U.S. it has escaped the attention of the\\nophthalmologists. This study consists of fifty\\nconsecutive patients who presented withintraocular pressure greater than 20 mm of\\nmercury as measured with the Goldmann\\napplanation tonometer from August 1993through March 1995. The highest pressure\\nwas 36 mm of mercury in the study. Out of\\n50 patients, 20 patients refused to take vita-min C and eye drops were used to lower the\\npressure in the standard manner.\\nAge Distribution\\n30-39 40-49 50-59 60-80\\n165 1 8\\nVisual Fields\\nNo defects were found in any of the 50\\npatients.\\nGonioscopy\\nAll 50 patients had open angle, and no\\nangles were particularly closed.\\nVitamin C Taken\\nThe most vitamin C taken was 35 grams\\nper day divided in three doses at mealtime.\\nThis lady had chronic sinusitis and was quite\\npleased to be relieved of this problem afterseveral years of unsuccessful drug therapy.\\nThe least amount taken was one gram per\\nday in two patients. The average for the 30patients was 10 grams per day. It was sug-\\ngested that patients take “bowel dosage” and\\nthen back down, but this advice is almostalways ignored by patients as they feel the\\nidea is unreasonable and generally have this\\nreinforced by friends and relatives who givestatements of shock and dismay. But 20 out\\nof 30 patients did take ten or more grams per\\nday so perhaps we should be pleased withthis result.', metadata={'source': './data\\\\FM docs 2024.3\\\\Eye Pressure Lowering Effect of Vitamin C.pdf', 'page': 0}),\n",
       " Document(page_content=\"Journal of Orthomolecular Medicine     Vol. 10, No. 3 & 4, 1995\\n166Average Drop in Eye Pressure\\nRight Eye: 4.8 mmLeft Eye: 6.3 mm\\nBoth Eyes: 5.6 mm\\nIt is an interesting observation that indi-\\nviduals who take vitamin C regularly and\\nhave their intraocular pressure taken on a\\nroutine basis for their eye exam have pres-sures in the range of 10-13 mm of mercury\\ncommonly. It has been my experience that I\\nhave yet to find the first patient with apressure over 20 mm who comes into the\\noffice and admits to taking any amount of\\nvitamin C daily. It also seems to be generallytrue that those people who do have pressure\\nelevated for the first time are those treating\\nthemselves with various toxic drugs, smok-ing, eating processed foods, and living a life\\nstyle saturated with free radicals. I assume\\nthe little amount of vitamin C they eat in aday is not enough to keep the eye pressure\\nnormal. Another interesting observation is\\nthat patients who already have taken medi-cation for years are generally unable to stop\\nthe medication and reverse the high pressure\\nwith vitamin C. This group seems to fit thepicture of the diabetic group who finally are\\nplaced upon insulin by needle and cannot\\nlater usually get off the needle, whereas,before that the diabetes may be reversed.\\nGreatest Drop in Pressure\\nOne patient had the pressure decrease in\\none eye by 13 mm. Seven eyes dropped by\\n10 to 13 mm of mercury.\\nSide Effects\\nNo side effects were encountered as vita-\\nmin C apparently has none. All drugs we use\\nin glaucoma have multiple side effects in-\\ncluding death.\\nDiscussion\\nIt is said that the aqueous fluid in the eye\\nhas 25 times the amount of vitamin C as in\\nthe blood. This may explain why the pres-\\nsure decreased with the increased intake ofvitamin C with an opening of the many\\nchannels called Schlemm's canal. Any swell-\\ning in the area would be removed with theantihistamine effect of vitamin C. Further\\nresearch could explain the possibility.\\nAnother explanation of the lowering ef-\\nfect of vitamin C could be the ability ofvitamin C to increase the T4 cells. Maybe\\ndebris is removed from the Schlemm's canalby T4 cells so iris pigment and inflammatory\\ncells are unable to plug the outflow of the\\neye. Further studies could answer this ques-tion.\\nIn 1969, Dr. Erich Linner explained that\\nthe fall in pressure in ocular hypertensionwas due to a reduction in the rate of aqueous\\nflow and possibly by “bulk drainage by way\\nof posterior uveo-scleral routes”.\\n6\\nSince the patients in this study would not\\ntake “bowel dosage” of vitamin C, or that\\namount needed to loosen stools and thenback down in dosage, the effects of vitamin\\nC could be further improved from those\\nobtained in this study. The reparative effectsof vitamin C are certainly demonstrated and\\nin my experience can be seen as well in other\\neye diseases.\\nSince vitamin C makes collagen needed to\\nstrengthen the blood vessel walls, diabetics\\nquit bleeding in the retina and of courseelsewhere in the body. This reduces the need\\nfor laser treatment to the retina and in many\\ncases in the development of late glaucoma.In diabetes with an electron microscope the\\ncollagenous reticulum is absent at the site of\\nretinal microaneurism. These develop in longstanding diabetes and indicate a derange-\\nment in some slow metabolic process.\\n4 The\\nobvious savings financially for various pay-ers is staggering. We may see the day when\\nthese people are told to take vitamin C by the\\ninsurers as they are totally cost oriented andare unemotional in their thinking.\\nIt is generally agreed that macular degen-\\neration occurs in 25% of the U.S. populationover 55. This group can be helped enor-\\nmously with antioxidants to improve what\\nmacula is left and protect the macular fromworsening. People with glaucoma also be-\\ncome a major problem in management. In\\nmany cases my experience is that the visionmay improve dramatically with vitamin C\\nand other antioxidants. Here, too, it seems\\nlogical to effect life style changes to elimi-nate free radicals.\\nCataract removal represents the largest\\nsurgical expense in Medicare, and there aremany patients in my practice who improve\\nseveral lines of vision on the Snellen eye\\nchart. One dramatic example was a lady with20/40 who achieved 20/20 in eight weeks\", metadata={'source': './data\\\\FM docs 2024.3\\\\Eye Pressure Lowering Effect of Vitamin C.pdf', 'page': 1}),\n",
       " Document(page_content=\"Eye Pressure Lowering Effect of Vitamin C\\n167with 12 grams of vitamin C each day. She\\nwas a smoker in her early fifties, and she hascontinued to smoke with good reason to\\ncease.\\nGlaucoma accompanies the cataract pa-\\ntients so a daily intake of vitamin C could\\nsave the country literally in the billions of\\ndollars. This would admittedly be detrimen-tal to the financial health of ophthalmolo-\\ngists, but of course this is not the issue.\\nAscorbic acid has been reported to be of\\ntherapeutic benefit in numerous pathologi-\\ncal conditions, and researchers vary in their\\nestimates of the daily requirement needed byman. Animals which are capable of synthe-\\nsizing their own ascorbic acid usually have\\ntissue levels approaching saturation.\\nTherefore in man it would seem desirable\\nto ensure the intake of ascorbic C is suffi-\\nciently high for tissue saturation.\\n5 This pa-\\nper shows that in glaucoma, tissue saturation\\nis needed to lower intraocular pressure. In a\\nmodern world of processed foods and excessfree radicals, it is surprising that we have a\\nrelatively small group of glaucoma patients.\\nAscorbic acid concentrations have been\\nshown to change in the body under various\\nconditions of stress such as trauma, surgery,\\nexposure to cold, after the administration ofcortisone or ACTH and during infection.\\n5 In\\nophthalmology we need to give vitamin C\\nsupplements for any of the glaucoma surger-ies and for that matter with all our surgeries.\\nThe lens in the eye is necessary for main-\\ntaining the normal level of ascorbic acidwithin the aqueous humor, vitreous body\\nand the cornea. The diminution of the\\nintraocular ascorbic acid content does nottake place when traces of lens fibers are\\npresent in the eye.\\n3 This could be an interest-\\ning study for glaucoma and cataract removal.\\nThe structure of the vitreous body de-\\npends upon both the integrity of the mesh\\nwork of collagen fibrils and on the mainte-nance of the polymeric state of the muco-\\npolysaccharide hyaluronic acid. With a defi-\\nciency in vitamin C, abnormal mucopoly-saccharide formation occurs. Disorganiza-\\ntion of the vitreous body with the formation\\nof vitreous bands is often associated withretinal detachment.\\n5 Here also the associa-\\ntion of glaucoma with these people would be\\nan interesting observation.\\nMichele Virno, M.D. used intravenousvitamin C of 0.4 to 1.0 gram per 1 kg body\\nweight to induce a “marked ocular hypotonyin approximately 60 to 90 minutes”. These\\ngood results instigated the idea to use vita-\\nmin C by mouth to lower intraocular pres-sure.\\n3\\nVirno found in 1967 that 0.5 g per 1 kg of\\nbody weight of vitamin C in all patients withglaucoma a reduction of intraocular pres-\\nsure was obtained. The C was given 3 to 4\\ntimes per day, and in some patients whocould not be controlled with diamox and 2%\\npilocarpine\\n1it was possible to obtain almost\\nnormal pressures.\\nErich Linner, M.D. gave only 0.5 gram\\nvitamin C twice a day for 4 to 6 weeks and\\nonly decreased the pressure by 2 to 3 mm Hgafter two days of use. As Michele Virno,\\nM.D. concluded, this was not enough, but\\nthe idea was good in 1964.\\n2\\nIrwin Stone, Ph.D. in his book of 1972\\nmade the remark “of all the disorders afflict-\\ning man, blindness causes the most wide-spread disability. Yet in spite of significant\\nadvances in eye research, the incidence of\\nblindness is increasing. Megascorbic therapymight one day help to reverse this trend.”\\nDoctor Stone reports that from 1965 to\\n1969 there were numerous papers reportedon the prompt reduction of the intraocular\\npressure with two American journals in 1966\\nand 1967 reporting on the good results fromItalian workers. There have been no Ameri-\\ncan authors reporting on this exacting re-\\nsearch or treatment of their patients.\\n7\\nDoctor Stone made the very accurate ob-\\nservation that “research should be started\\nimmediately on population groups near fortyand older to determine the long-term effect\\nof the inhibition of glaucoma by means of\\nthe continued daily intake of about 3 to 5grams of ascorbic acid. This will help to\\ndetermine if a simple and harmless ascorbic\\nacid regimen can be worked out which willprevent blindness in our senior citizens.”\\nCataracts and macular degeneration that are\\nmore common than glaucoma would haveimmense benefit.\\nIt is the experience of this author that\\nprivate patients do not present with maculardegeneration, cataracts to remove, or glau-\\ncoma who have taken vitamins for years\\nwith ascorbic acid. One has to ask why it isthat physicians in ophtahlmology don't tell\", metadata={'source': './data\\\\FM docs 2024.3\\\\Eye Pressure Lowering Effect of Vitamin C.pdf', 'page': 2}),\n",
       " Document(page_content=\"Journal of Orthomolecular Medicine     Vol. 10, No. 3 & 4, 1995\\n168every patient to take the antioxidants with\\ntissue saturation levels of vitamin C? Theanswer may be:\\n1. It is not taught in medical school.\\n2. Friends and associates don't use it.3. Medical literature does not have it cur-\\nrently.\\n4. Standard of care does not include this\\ntreatment.\\n5. Fear of being out of “main stream” medi-\\ncine.\\n6. Fear of a lawyer charging that the “stand-\\nard of care was not met”.\\n7. Double blind studies have not been done\\nrecently.\\n8. No office has a drug salesman selling\\nvitamin C as there is not profit.\\n9. Many patients cannot accept a treatment\\nthat does not involve drugs, as they al-\\nways get from all other doctors.\\n10. Fear of losing the confidence of a pa-\\ntient, his friends and his family.\\n11. Insurance payors will not reimburse the\\npatient for treatment not on their toxic\\ndrug list.\\n12. In glaucoma with even the best of drug\\ntherapy an adverse result may occur with\\na resulting lawsuit and no help from the\\nexperts in glaucoma called upon to tes-tify.\\nWhy don't Medical Schools do research\\non vitamin C? As a past member of theAdvisory Board in the medical school at\\nVanderbilt in Nashville, Tenessee, this same\\nquestion was asked of the Vice Chancellor.The response was that at Vanderbilt Medical\\nSchool the salaries of the workers there are\\npaid by research grants from drug compa-nies and from the National Institute of Health\\nin Washington, D.C. These two areas don't\\nfund vitamin C. If a source of private moneycould be found, the medical school would be\\npleased to do studies as desired. A private\\nfoundation may be the salvation of the glau-coma patients, and, of course, the many\\nother areas we need to treat.\\nConclusion\\n1. Vitamin C does lower the intraocular\\npressure in all patients with elevatedpressure.\\n2. Toxicity is non-existent.\\n3. Side effects of vitamin C were all posi-\\ntive; a) clearing of chronic sinusitis ofmany years, b) improvement of arthritis\\nsymptoms, c) lowering of cholesterol, d)improvement of visual acuity in macular\\ndegeneration.\\n4. Twenty of 50 consecutive patients re-\\nfused to take the vitamin C as instructed\\nand preferred to be treated with eye drops.\\n5. The largest drop in pressure was 13 mm\\nHg.\\n6. The average drop was 5.6 mm Hg.\\n7. The average amount of vitamin C taken\\ndaily was 10 grams in three divided doses\\nat meal time.\\n8. “Bowel dosage” was resisted by patients.9. All other vitamins were included with\\nvitamin C.\\nReferences\\n1. Virno M, Bucci M: Oral treatment of\\nGlaucoma with Vitamin C, The Eye, Ear,\\nNose and Throat Monthly , Vol. 46, 1502-\\n1508, Dec. 1967.\\n2. Linner E: Intra-ocular Pressure Regulation\\nand Ascorbic Acid, Acta Soc. Med. Upsol  59,\\n225, 1964.\\n3. Virno M, Bucci M, et al: Intravenous Glycerol-\\nVitamin C (Sodium Salt) as Osmotic Agentsto Reduce Intraocular Pressure, American\\nJournal of Ophthalmology , pp. 824-833, Vol.\\n62, No. 5, Nov. 1966.\\n4. Pope CN: Diabetes 9, 9, 1960.5. Heath: The Distribution and Possible\\nFunctions of Ascorbic Acid in the Eye, Exp.\\nEye Res.  1, 362-367, 1962.\\n6. Linner E: The Pressure Lowering Effect of\\nAscorbic Acid in Ocular Hypertension, ACTA\\nOphthalmologica , Vol. 47, pp. 685-689, 1969.\\n7. Stone Irwin: The Healing Factor “Vitamin\\nC” Against Disease , Gorsset & Dunlap, N.Y.,\\n126-132, 1972.\", metadata={'source': './data\\\\FM docs 2024.3\\\\Eye Pressure Lowering Effect of Vitamin C.pdf', 'page': 3}),\n",
       " Document(page_content='Case Report JOM Volume  31, Number 1, 2016 19High Dose Intravenous Vitamin C \\nTreatment for Zika Fever\\n \\n Michael J. Gonzalez, NMD, DSc, PhD, FACN;1 Miguel J. Berdie,l MD;2 Jorgé R. Miranda- \\nMassari, PharmD;2 Jorgé Duconge, PhD;1 Joshua L. Rodríguez-López, BS;3 Pedro A. \\nAdrover-López, BS 3\\n¹University of Puerto Rico, Medical Sciences Campus, Schools of Public Health and Pharmacy, San Juan, PR, 00936-5067 \\n²Berdiel Clinic, Ponce, PR, 00716\\n3Ponce Health Sciences University, School of Medicine, Ponce, PR, 00716\\nAbstract  /T_he Zika Fever is a viral disease caused by a single-stranded RNA virus from the Fla -\\nvivirus genus, Flaviviridae family, from the Spondweni group. Its transmission occurs through \\nmosquito vectors, principally Aedes Aegypti. /T_he most common symptoms of Zika are fever, rash, joint \\npain, and conjunctivitis (red eyes). Other common symptoms include muscle pain and headache. As of \\nnow, no vaccine exists for the virus and no o ﬃcial treatment has been developed aside from standard \\nprocedures of the use of acetaminophen (paracetamol) and non-steroidal anti-in /f_lammatory drugs.  \\n/T_his is a case report of a 54 year-old Hispanic female who arrived at the clinic with symptomatology \\ncongruent with the Zika fever. /T_he patient was treated with high doses of intravenous vitamin C \\nover three days. /T_he symptoms resolved after the infusions without any side e ﬀects at day four. Re -\\ncovery from this viral infection takes normally around two weeks. Based on the positive outcome in \\nthis case, we propose that intravenous vitamin C should be studied further as a potential treatment \\nfor acute viral infections.\\nIntroduction\\nZika virus (ZIKV) is a member of the \\nvirus family Flaviviridae and the genus \\nFlavivirus (Knipe et al, 2007). Like other \\n/f_laviviruses, Zika virus is enveloped and \\nicosahedral and has a nonsegmented, single-\\nstranded, positive-sense RNA genome. It \\nis spread by daytime active Aedes mosqui -\\ntoes, such as A. Aegypti and A. Albopictus \\n(Knipe et al, 2007). Its name comes from \\nthe Zika Forest of Uganda, where the virus \\nwas /f_irst isolated in 1947 (European Center \\nfor Disease Prevention and Control, 2015). \\nZika virus is related to dengue, yellow fever, \\nJapanese encephalitis, and West Nile viruses  (European Center for Disease Prevention and \\nControl, 2015). As of February 2016, there are \\nthree reported cases indicating that Zika virus \\ncould possibly be sexually transmitted (World \\nHealth Organization, 2016a).\\n/T_he infection, known as Zika fever, often \\ncauses none or only mild symptoms, simi -\\nlar to a mild form of dengue fever (Knipe \\net al, 2007). /T_he illness cannot be prevented \\nby medications or vaccines and is treated \\nmainly by rest (Chen et al, 2016). Zika fe -\\nver in pregnant women is associated with \\nmicrocephaly but it is unclear whether the \\nvirus is the cause (Knipe et al, 2007; Cable \\nNews Network, 2015; Centers for Disease ', metadata={'source': './data\\\\FM docs 2024.3\\\\High-Dose-Intravenous-Vitamin-C-Treatment-for-Zika-Fever-31.1.pdf', 'page': 0})]"
      ]
     },
     "execution_count": 5,
     "metadata": {},
     "output_type": "execute_result"
    }
   ],
   "source": [
    "# 加载目标文件\n",
    "docs = []\n",
    "for dir_path in dirs:\n",
    "    docs.extend(get_text(dir_path))\n",
    "docs[:5]"
   ]
  },
  {
   "cell_type": "markdown",
   "metadata": {},
   "source": [
    "# 文本分块"
   ]
  },
  {
   "cell_type": "code",
   "execution_count": 6,
   "metadata": {},
   "outputs": [
    {
     "data": {
      "text/plain": [
       "<langchain_text_splitters.character.RecursiveCharacterTextSplitter at 0x2197ae2a530>"
      ]
     },
     "execution_count": 6,
     "metadata": {},
     "output_type": "execute_result"
    }
   ],
   "source": [
    "# 对文本进行分块\n",
    "text_splitter = RecursiveCharacterTextSplitter(\n",
    "    chunk_size=500, chunk_overlap=150)\n",
    "text_splitter"
   ]
  },
  {
   "cell_type": "code",
   "execution_count": 7,
   "metadata": {},
   "outputs": [
    {
     "data": {
      "text/plain": [
       "[Document(page_content='Eye Pressure Lowering Effect of Vitamin C\\nHerschell H. Boyd, M.D.1\\nPurpose\\nTo document the pressure before the use\\nof vitamin C and after the daily intake of\\nmaximum amounts of vitamin C, three times\\na day.\\nMethods\\nThirty patients (16 men and 14 women)\\nwere advised to take three divided doses of\\nvitamin C in capsule form each day until\\nloose stools occured and then back downslightly from this amount (bowel dosage) for\\na daily intake. Average daily intake for all\\npatients was 10 grams per day.', metadata={'source': './data\\\\FM docs 2024.3\\\\Eye Pressure Lowering Effect of Vitamin C.pdf', 'page': 0}),\n",
       " Document(page_content='a daily intake. Average daily intake for all\\npatients was 10 grams per day.\\nResults\\nThe greatest lowering of pressure was 13\\nmm as measured with a Goldmann tonom-\\neter. The least lowering of pressure was 1\\nmm. The average for 30 patients was 10 mm.Thirty patients were controlled only with\\nvitamin C. Twenty patients were forced to\\nuse eye drops to lower the pressure below 20mm of mercury as they refused to take vita-\\nmin C.\\nConclusion\\nIn this series of 30 patients there was no', metadata={'source': './data\\\\FM docs 2024.3\\\\Eye Pressure Lowering Effect of Vitamin C.pdf', 'page': 0}),\n",
       " Document(page_content='use eye drops to lower the pressure below 20mm of mercury as they refused to take vita-\\nmin C.\\nConclusion\\nIn this series of 30 patients there was no\\noccasion in which the pressure was not low-ered with vitamin C. All drugs for glaucoma\\nare seriously toxic, and vitamin C has no\\ntoxicity yet known. The patients experiencedmany other good side effects from vitamin C\\nsuch as clearing of sinusitis, allergy symp-', metadata={'source': './data\\\\FM docs 2024.3\\\\Eye Pressure Lowering Effect of Vitamin C.pdf', 'page': 0}),\n",
       " Document(page_content='toxicity yet known. The patients experiencedmany other good side effects from vitamin C\\nsuch as clearing of sinusitis, allergy symp-\\ntoms, arthritis improvement, cholesterol low-ering, laxative effect, diuretic effect for heart\\ndisease patients, and other improvements\\nassociated with vitamin C intake of “severalgrams per day” level. Ophthalmologists may\\nawaken to the marvels of vitamin C in treat-\\ning glaucoma!\\nIntroduction\\nVitamin C has been used since the trans-\\nformation of glucose, C', metadata={'source': './data\\\\FM docs 2024.3\\\\Eye Pressure Lowering Effect of Vitamin C.pdf', 'page': 0}),\n",
       " Document(page_content='awaken to the marvels of vitamin C in treat-\\ning glaucoma!\\nIntroduction\\nVitamin C has been used since the trans-\\nformation of glucose, C\\n6H12O6, into vitamin\\n1. Eastview Professional Building, 1370 - 116th Avenue\\nN.E., Suite 212, Bellevue WA 98004-4679.\\n165C, C6H8O6, in the early 1930s. Its use in\\nlowering the pressure in glaucoma datesback to 1962 as reported in Experimental\\nEye Research.\\n1 Since then there have been', metadata={'source': './data\\\\FM docs 2024.3\\\\Eye Pressure Lowering Effect of Vitamin C.pdf', 'page': 0})]"
      ]
     },
     "execution_count": 7,
     "metadata": {},
     "output_type": "execute_result"
    }
   ],
   "source": [
    "split_docs = text_splitter.split_documents(docs)\n",
    "split_docs[:5]"
   ]
  },
  {
   "cell_type": "markdown",
   "metadata": {},
   "source": [
    "# 向量化保存数据库"
   ]
  },
  {
   "cell_type": "code",
   "execution_count": 8,
   "metadata": {},
   "outputs": [],
   "source": [
    "# 定义持久化路径\n",
    "persist_directory = './vector_db/chroma'"
   ]
  },
  {
   "cell_type": "code",
   "execution_count": 9,
   "metadata": {},
   "outputs": [
    {
     "data": {
      "text/plain": [
       "HuggingFaceEmbeddings(client=SentenceTransformer(\n",
       "  (0): Transformer({'max_seq_length': 128, 'do_lower_case': False}) with Transformer model: BertModel \n",
       "  (1): Pooling({'word_embedding_dimension': 384, 'pooling_mode_cls_token': False, 'pooling_mode_mean_tokens': True, 'pooling_mode_max_tokens': False, 'pooling_mode_mean_sqrt_len_tokens': False, 'pooling_mode_weightedmean_tokens': False, 'pooling_mode_lasttoken': False, 'include_prompt': True})\n",
       "), model_name='./sentence-transformer', cache_folder=None, model_kwargs={}, encode_kwargs={}, multi_process=False, show_progress=False)"
      ]
     },
     "execution_count": 9,
     "metadata": {},
     "output_type": "execute_result"
    }
   ],
   "source": [
    "# 加载开源词向量模型\n",
    "embeddings = HuggingFaceEmbeddings(model_name=\"./sentence-transformer\")\n",
    "embeddings"
   ]
  },
  {
   "cell_type": "code",
   "execution_count": 10,
   "metadata": {},
   "outputs": [
    {
     "name": "stdout",
     "output_type": "stream",
     "text": [
      "Help on method from_documents in module langchain_community.vectorstores.chroma:\n",
      "\n",
      "from_documents(documents: 'List[Document]', embedding: 'Optional[Embeddings]' = None, ids: 'Optional[List[str]]' = None, collection_name: 'str' = 'langchain', persist_directory: 'Optional[str]' = None, client_settings: 'Optional[chromadb.config.Settings]' = None, client: 'Optional[chromadb.Client]' = None, collection_metadata: 'Optional[Dict]' = None, **kwargs: 'Any') -> 'Chroma' method of abc.ABCMeta instance\n",
      "    Create a Chroma vectorstore from a list of documents.\n",
      "    \n",
      "    If a persist_directory is specified, the collection will be persisted there.\n",
      "    Otherwise, the data will be ephemeral in-memory.\n",
      "    \n",
      "    Args:\n",
      "        collection_name (str): Name of the collection to create.\n",
      "        persist_directory (Optional[str]): Directory to persist the collection.\n",
      "        ids (Optional[List[str]]): List of document IDs. Defaults to None.\n",
      "        documents (List[Document]): List of documents to add to the vectorstore.\n",
      "        embedding (Optional[Embeddings]): Embedding function. Defaults to None.\n",
      "        client_settings (Optional[chromadb.config.Settings]): Chroma client settings\n",
      "        collection_metadata (Optional[Dict]): Collection configurations.\n",
      "                                              Defaults to None.\n",
      "    \n",
      "    Returns:\n",
      "        Chroma: Chroma vectorstore.\n",
      "\n"
     ]
    }
   ],
   "source": [
    "help(Chroma.from_documents)"
   ]
  },
  {
   "cell_type": "code",
   "execution_count": 11,
   "metadata": {},
   "outputs": [
    {
     "data": {
      "text/plain": [
       "<langchain_community.vectorstores.chroma.Chroma at 0x2197ef192d0>"
      ]
     },
     "execution_count": 11,
     "metadata": {},
     "output_type": "execute_result"
    }
   ],
   "source": [
    "# 构建向量数据库\n",
    "# 加载数据库\n",
    "vectordb = Chroma.from_documents(\n",
    "    documents=split_docs,\n",
    "    embedding=embeddings,\n",
    "    persist_directory=persist_directory  # 允许我们将persist_directory目录保存到磁盘上\n",
    ")\n",
    "vectordb"
   ]
  },
  {
   "cell_type": "code",
   "execution_count": 12,
   "metadata": {},
   "outputs": [],
   "source": [
    "# 将加载的向量数据库持久化到磁盘上\n",
    "vectordb.persist()"
   ]
  },
  {
   "cell_type": "markdown",
   "metadata": {},
   "source": [
    "# 加载数据库"
   ]
  },
  {
   "cell_type": "code",
   "execution_count": 13,
   "metadata": {},
   "outputs": [],
   "source": [
    "vectordb = Chroma(\n",
    "    persist_directory=persist_directory,  # 允许我们将persist_directory目录保存到磁盘上\n",
    "    embedding_function=embeddings\n",
    ")"
   ]
  },
  {
   "cell_type": "code",
   "execution_count": 14,
   "metadata": {},
   "outputs": [
    {
     "data": {
      "text/plain": [
       "VectorStoreRetriever(tags=['Chroma', 'HuggingFaceEmbeddings'], vectorstore=<langchain_community.vectorstores.chroma.Chroma object at 0x000002192CD9C1F0>)"
      ]
     },
     "execution_count": 14,
     "metadata": {},
     "output_type": "execute_result"
    }
   ],
   "source": [
    "vectordb.as_retriever()"
   ]
  },
  {
   "cell_type": "code",
   "execution_count": 15,
   "metadata": {},
   "outputs": [
    {
     "data": {
      "text/plain": [
       "<langchain_community.vectorstores.chroma.Chroma at 0x2192cd9c1f0>"
      ]
     },
     "execution_count": 15,
     "metadata": {},
     "output_type": "execute_result"
    }
   ],
   "source": [
    "vectordb.as_retriever().vectorstore"
   ]
  },
  {
   "cell_type": "code",
   "execution_count": 29,
   "metadata": {},
   "outputs": [
    {
     "name": "stdout",
     "output_type": "stream",
     "text": [
      "Help on method similarity_search in module langchain_community.vectorstores.chroma:\n",
      "\n",
      "similarity_search(query: 'str', k: 'int' = 4, filter: 'Optional[Dict[str, str]]' = None, **kwargs: 'Any') -> 'List[Document]' method of langchain_community.vectorstores.chroma.Chroma instance\n",
      "    Run similarity search with Chroma.\n",
      "    \n",
      "    Args:\n",
      "        query (str): Query text to search for.\n",
      "        k (int): Number of results to return. Defaults to 4.\n",
      "        filter (Optional[Dict[str, str]]): Filter by metadata. Defaults to None.\n",
      "    \n",
      "    Returns:\n",
      "        List[Document]: List of documents most similar to the query text.\n",
      "\n"
     ]
    }
   ],
   "source": [
    "help(vectordb.similarity_search)"
   ]
  },
  {
   "cell_type": "code",
   "execution_count": 16,
   "metadata": {},
   "outputs": [
    {
     "data": {
      "text/plain": [
       "[Document(page_content='of this discussion, vitamin C is utilized to \\nshow that vitamin C intake modifies all of the \\nperipheral lamellae.  \\n \\n                                                                              85', metadata={'page': 1, 'source': './data\\\\FM docs 2024.3\\\\JOM_1976_05_2_02_The_Eating_Habits_of_High_and_Low_Vitamin_C_Users.pdf'}),\n",
       " Document(page_content='before vitamin \\nC  after vitamin C p-value\\nHemglobin A1c (%)   5.46±0.38  4.88±0.33 0.000\\nCortisol (μg/dL) 11.64±3.83  8.80±2.75 0.000\\nAspartate aminotranferase (U/L) 28.09±19.92 23.85±7.65 0.000\\nAlanine aminotranferase  (U/L) 28.45±20.66 25.12±17.75 0.011\\nr-GTP (U/L) 32.59±28.92 25.93±18.05 0.000\\nC-reactive protein(mg/L)   0.11±0.20   0.05±0.07 0.033\\nvitamin C (μmol/L) 42.90±12.4 68.60±26.57 0.000Table 3. Blood test after vitamin C administration.', metadata={'page': 2, 'source': './data\\\\FM docs 2024.3\\\\JOM_2008_23_4_07_Changes_in_Worker_Fatigue_after_Vitamin_C_Administration.pdf'}),\n",
       " Document(page_content='excretion of ascorbic acid, thus increasing\\nthe body’s requirements for vitamin C.  Therecommended daily allowance for vitamin\\nC is between 30-60 mg daily.  These doses\\nare too low to detect any possible ergogenicactivity of vitamin C.\\nOne of the most recognized features of\\nvitamin C is its antioxidant action. Vita-min C protects cells, especially muscle cells\\nfrom harmful effects of highly reactive free\\nradicals produced when the rate of oxygenconsumption is substantially increased', metadata={'page': 0, 'source': './data\\\\FM docs 2024.3\\\\JOM_2005_20_2_06_Vitamin_C_as_an_Ergogenic_Aid.pdf'}),\n",
       " Document(page_content='teria are presented.\\nThe well-publicized Mayo Clinic study\\nclaiming the lack of efficacy of vitamin C in\\nprolonging the lives of patients with ad-\\nv a n c e d  c o l o r e c t a l  c a n c e r  i s  s h o w n  t o  v i o -late each of the three criteria. A detailedaccount is given of the reprehensible treat-\\nment received by Linus Pauling and the\\nauthor from the New England Journal ofMedicine when they attempted to publish', metadata={'page': 0, 'source': './data\\\\FM docs 2024.3\\\\JOM_1998_13_4_06_The_Application_of_the_Hardin_Jones-Pauling-.pdf'}),\n",
       " Document(page_content='I knew about vitamin C. \\nThe surgeon responded negatively. He said \\nvitamin C was like many ineffective popular \\ntheories, such as Laetrile. I pointed out vitamin C \\nwas being successfully used by a small number of \\ndoctors in America. He finally agreed to talk to \\nan M. D. advocate of vitamin C in that area. I \\nfound one by a telephone search. Two days later \\nthe surgeon told me he had discussed the case \\nwith the vitamin C advocate and they had agreed \\nvitamin C was not appropriate.', metadata={'page': 1, 'source': './data\\\\FM docs 2024.3\\\\JOM_1994_09_3_02_Pride_Prejudice_and_Vitamin_C.pdf'})]"
      ]
     },
     "execution_count": 16,
     "metadata": {},
     "output_type": "execute_result"
    }
   ],
   "source": [
    "vectordb.similarity_search(query='Vitamin C', k=5)"
   ]
  },
  {
   "cell_type": "code",
   "execution_count": 17,
   "metadata": {},
   "outputs": [
    {
     "data": {
      "text/plain": [
       "<coroutine object VectorStore.asimilarity_search at 0x000002192D2F8DD0>"
      ]
     },
     "execution_count": 17,
     "metadata": {},
     "output_type": "execute_result"
    }
   ],
   "source": [
    "vectordb.asimilarity_search(query='Vitamin C', k=5)"
   ]
  },
  {
   "cell_type": "code",
   "execution_count": 18,
   "metadata": {},
   "outputs": [
    {
     "name": "stdout",
     "output_type": "stream",
     "text": [
      "Help on method search in module langchain_core.vectorstores:\n",
      "\n",
      "search(query: 'str', search_type: 'str', **kwargs: 'Any') -> 'List[Document]' method of langchain_community.vectorstores.chroma.Chroma instance\n",
      "    Return docs most similar to query using specified search type.\n",
      "\n"
     ]
    }
   ],
   "source": [
    "help(vectordb.search)"
   ]
  },
  {
   "cell_type": "code",
   "execution_count": 20,
   "metadata": {},
   "outputs": [
    {
     "data": {
      "text/plain": [
       "[Document(page_content='of this discussion, vitamin C is utilized to \\nshow that vitamin C intake modifies all of the \\nperipheral lamellae.  \\n \\n                                                                              85', metadata={'page': 1, 'source': './data\\\\FM docs 2024.3\\\\JOM_1976_05_2_02_The_Eating_Habits_of_High_and_Low_Vitamin_C_Users.pdf'}),\n",
       " Document(page_content='before vitamin \\nC  after vitamin C p-value\\nHemglobin A1c (%)   5.46±0.38  4.88±0.33 0.000\\nCortisol (μg/dL) 11.64±3.83  8.80±2.75 0.000\\nAspartate aminotranferase (U/L) 28.09±19.92 23.85±7.65 0.000\\nAlanine aminotranferase  (U/L) 28.45±20.66 25.12±17.75 0.011\\nr-GTP (U/L) 32.59±28.92 25.93±18.05 0.000\\nC-reactive protein(mg/L)   0.11±0.20   0.05±0.07 0.033\\nvitamin C (μmol/L) 42.90±12.4 68.60±26.57 0.000Table 3. Blood test after vitamin C administration.', metadata={'page': 2, 'source': './data\\\\FM docs 2024.3\\\\JOM_2008_23_4_07_Changes_in_Worker_Fatigue_after_Vitamin_C_Administration.pdf'}),\n",
       " Document(page_content='excretion of ascorbic acid, thus increasing\\nthe body’s requirements for vitamin C.  Therecommended daily allowance for vitamin\\nC is between 30-60 mg daily.  These doses\\nare too low to detect any possible ergogenicactivity of vitamin C.\\nOne of the most recognized features of\\nvitamin C is its antioxidant action. Vita-min C protects cells, especially muscle cells\\nfrom harmful effects of highly reactive free\\nradicals produced when the rate of oxygenconsumption is substantially increased', metadata={'page': 0, 'source': './data\\\\FM docs 2024.3\\\\JOM_2005_20_2_06_Vitamin_C_as_an_Ergogenic_Aid.pdf'}),\n",
       " Document(page_content='teria are presented.\\nThe well-publicized Mayo Clinic study\\nclaiming the lack of efficacy of vitamin C in\\nprolonging the lives of patients with ad-\\nv a n c e d  c o l o r e c t a l  c a n c e r  i s  s h o w n  t o  v i o -late each of the three criteria. A detailedaccount is given of the reprehensible treat-\\nment received by Linus Pauling and the\\nauthor from the New England Journal ofMedicine when they attempted to publish', metadata={'page': 0, 'source': './data\\\\FM docs 2024.3\\\\JOM_1998_13_4_06_The_Application_of_the_Hardin_Jones-Pauling-.pdf'}),\n",
       " Document(page_content='I knew about vitamin C. \\nThe surgeon responded negatively. He said \\nvitamin C was like many ineffective popular \\ntheories, such as Laetrile. I pointed out vitamin C \\nwas being successfully used by a small number of \\ndoctors in America. He finally agreed to talk to \\nan M. D. advocate of vitamin C in that area. I \\nfound one by a telephone search. Two days later \\nthe surgeon told me he had discussed the case \\nwith the vitamin C advocate and they had agreed \\nvitamin C was not appropriate.', metadata={'page': 1, 'source': './data\\\\FM docs 2024.3\\\\JOM_1994_09_3_02_Pride_Prejudice_and_Vitamin_C.pdf'})]"
      ]
     },
     "execution_count": 20,
     "metadata": {},
     "output_type": "execute_result"
    }
   ],
   "source": [
    "# search_type: 'similarity' or 'mmr'.\n",
    "vectordb.search(query='Vitamin C', search_type='similarity', k=5)"
   ]
  },
  {
   "cell_type": "code",
   "execution_count": 21,
   "metadata": {},
   "outputs": [
    {
     "data": {
      "text/plain": [
       "<coroutine object VectorStore.asearch at 0x000002192D2F8F90>"
      ]
     },
     "execution_count": 21,
     "metadata": {},
     "output_type": "execute_result"
    }
   ],
   "source": [
    "vectordb.asearch(query='Vitamin C', search_type='similarity', k=5)"
   ]
  },
  {
   "cell_type": "code",
   "execution_count": null,
   "metadata": {},
   "outputs": [],
   "source": []
  }
 ],
 "metadata": {
  "kernelspec": {
   "display_name": "mm",
   "language": "python",
   "name": "python3"
  },
  "language_info": {
   "codemirror_mode": {
    "name": "ipython",
    "version": 3
   },
   "file_extension": ".py",
   "mimetype": "text/x-python",
   "name": "python",
   "nbconvert_exporter": "python",
   "pygments_lexer": "ipython3",
   "version": "3.10.14"
  }
 },
 "nbformat": 4,
 "nbformat_minor": 2
}

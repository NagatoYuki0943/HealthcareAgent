{
 "cells": [
  {
   "cell_type": "markdown",
   "metadata": {},
   "source": [
    "# install\n",
    "\n",
    "```\n",
    "pip install sentence-transformers BCEmbedding llama-index llama-index-llms-huggingface llama-index-embeddings-huggingfacellama-index-embeddings-instructor llama-index-vector-stores-faiss\n",
    "```"
   ]
  },
  {
   "cell_type": "code",
   "execution_count": 3,
   "metadata": {},
   "outputs": [],
   "source": [
    "import torch\n",
    "from llama_index.core import Document, Settings, SimpleDirectoryReader, VectorStoreIndex, StorageContext, load_index_from_storage\n",
    "from llama_index.core.node_parser import SentenceSplitter\n",
    "from llama_index.core.postprocessor import SimilarityPostprocessor\n",
    "from llama_index.vector_stores.faiss import FaissVectorStore\n",
    "from llama_index.embeddings.huggingface import HuggingFaceEmbedding\n",
    "import faiss"
   ]
  },
  {
   "cell_type": "code",
   "execution_count": 19,
   "metadata": {},
   "outputs": [],
   "source": [
    "DATA_PATH: str = \"./data\"\n",
    "EMBEDDING_MODEL_PATH: str = \"./models/bce-embedding-base_v1\"\n",
    "RERANKER_MODEL_PATH: str = \"./models/bce-reranker-base_v1\"\n",
    "PERSIST_DIRECTORY: str = \"./vector_db/llama-index-faiss\"\n",
    "SIMILARITY_TOP_K: int = 4\n",
    "SCORE_THRESHOLD: float = 0.15\n",
    "ALLOW_SUFFIX: tuple[str] = (\".txt\", \".md\", \".docx\", \".doc\", \".pdf\")"
   ]
  },
  {
   "cell_type": "markdown",
   "metadata": {},
   "source": [
    "# SimpleDirectoryReader 读取文档"
   ]
  },
  {
   "cell_type": "code",
   "execution_count": 20,
   "metadata": {},
   "outputs": [
    {
     "name": "stderr",
     "output_type": "stream",
     "text": [
      "06/12/2024 19:44:09 - [WARNING] -pypdf._reader->>>    Ignoring wrong pointing object 13 0 (offset 0)\n",
      "06/12/2024 19:44:09 - [WARNING] -pypdf._reader->>>    Ignoring wrong pointing object 16 0 (offset 0)\n",
      "06/12/2024 19:44:09 - [WARNING] -pypdf._reader->>>    Ignoring wrong pointing object 21 0 (offset 0)\n",
      "06/12/2024 19:44:09 - [WARNING] -pypdf._reader->>>    Ignoring wrong pointing object 44 0 (offset 0)\n",
      "06/12/2024 19:44:09 - [WARNING] -pypdf._reader->>>    Ignoring wrong pointing object 57 0 (offset 0)\n",
      "06/12/2024 19:44:17 - [WARNING] -pypdf._reader->>>    XRef object at 1067 can not be read, some object may be missing\n",
      "06/12/2024 19:44:17 - [WARNING] -pypdf._reader->>>    XRef object at 969 can not be read, some object may be missing\n",
      "06/12/2024 19:44:18 - [WARNING] -pypdf._reader->>>    XRef object at 969 can not be read, some object may be missing\n",
      "06/12/2024 19:44:18 - [WARNING] -pypdf._reader->>>    XRef object at 1201 can not be read, some object may be missing\n",
      "06/12/2024 19:44:19 - [WARNING] -pypdf._reader->>>    XRef object at 1104 can not be read, some object may be missing\n",
      "06/12/2024 19:44:19 - [WARNING] -pypdf._reader->>>    XRef object at 1041 can not be read, some object may be missing\n",
      "06/12/2024 19:44:19 - [WARNING] -pypdf._reader->>>    XRef object at 1009 can not be read, some object may be missing\n",
      "06/12/2024 19:44:19 - [WARNING] -pypdf._reader->>>    XRef object at 1032 can not be read, some object may be missing\n",
      "06/12/2024 19:44:19 - [WARNING] -pypdf._reader->>>    XRef object at 946 can not be read, some object may be missing\n",
      "06/12/2024 19:44:20 - [WARNING] -pypdf._reader->>>    XRef object at 974 can not be read, some object may be missing\n",
      "06/12/2024 19:44:20 - [WARNING] -pypdf._reader->>>    XRef object at 973 can not be read, some object may be missing\n",
      "06/12/2024 19:44:20 - [WARNING] -pypdf._reader->>>    XRef object at 944 can not be read, some object may be missing\n",
      "06/12/2024 19:44:20 - [WARNING] -pypdf._reader->>>    XRef object at 1156 can not be read, some object may be missing\n",
      "06/12/2024 19:44:20 - [WARNING] -pypdf._reader->>>    XRef object at 972 can not be read, some object may be missing\n",
      "06/12/2024 19:44:20 - [WARNING] -pypdf._reader->>>    XRef object at 1094 can not be read, some object may be missing\n",
      "06/12/2024 19:44:21 - [WARNING] -pypdf._reader->>>    XRef object at 1067 can not be read, some object may be missing\n",
      "06/12/2024 19:44:21 - [WARNING] -pypdf._reader->>>    XRef object at 948 can not be read, some object may be missing\n",
      "06/12/2024 19:44:21 - [WARNING] -pypdf._reader->>>    XRef object at 1158 can not be read, some object may be missing\n",
      "06/12/2024 19:44:21 - [WARNING] -pypdf._reader->>>    XRef object at 1132 can not be read, some object may be missing\n",
      "06/12/2024 19:44:22 - [WARNING] -pypdf._reader->>>    XRef object at 1080 can not be read, some object may be missing\n",
      "06/12/2024 19:44:22 - [WARNING] -pypdf._reader->>>    XRef object at 1079 can not be read, some object may be missing\n",
      "06/12/2024 19:44:22 - [WARNING] -pypdf._reader->>>    XRef object at 941 can not be read, some object may be missing\n",
      "06/12/2024 19:45:02 - [WARNING] -pypdf._reader->>>    XRef object at 1069 can not be read, some object may be missing\n",
      "06/12/2024 19:45:16 - [WARNING] -pypdf._reader->>>    XRef object at 1437 can not be read, some object may be missing\n",
      "06/12/2024 19:45:51 - [WARNING] -pypdf._reader->>>    XRef object at 921 can not be read, some object may be missing\n"
     ]
    },
    {
     "data": {
      "text/plain": [
       "3217"
      ]
     },
     "execution_count": 20,
     "metadata": {},
     "output_type": "execute_result"
    }
   ],
   "source": [
    "# https://docs.llamaindex.ai/en/stable/module_guides/loading/simpledirectoryreader/\n",
    "reader = SimpleDirectoryReader(\n",
    "    input_dir = DATA_PATH,\n",
    "    input_files = None, # 指定文件,可以提前去重文件\n",
    "    recursive = True,\n",
    "    required_exts = ALLOW_SUFFIX,\n",
    ")\n",
    "documents = reader.load_data()\n",
    "len(documents)"
   ]
  },
  {
   "cell_type": "markdown",
   "metadata": {},
   "source": [
    "# Embeddings\n",
    "https://docs.llamaindex.ai/en/stable/module_guides/models/embeddings/"
   ]
  },
  {
   "cell_type": "code",
   "execution_count": 21,
   "metadata": {},
   "outputs": [
    {
     "name": "stderr",
     "output_type": "stream",
     "text": [
      "06/12/2024 19:47:23 - [INFO] -sentence_transformers.SentenceTransformer->>>    Load pretrained SentenceTransformer: ./models/bce-embedding-base_v1\n",
      "06/12/2024 19:47:24 - [INFO] -sentence_transformers.SentenceTransformer->>>    2 prompts are loaded, with the keys: ['query', 'text']\n"
     ]
    },
    {
     "data": {
      "text/plain": [
       "SentenceTransformer(\n",
       "  (0): Transformer({'max_seq_length': 512, 'do_lower_case': False}) with Transformer model: XLMRobertaModel \n",
       "  (1): Pooling({'word_embedding_dimension': 768, 'pooling_mode_cls_token': True, 'pooling_mode_mean_tokens': False, 'pooling_mode_max_tokens': False, 'pooling_mode_mean_sqrt_len_tokens': False, 'pooling_mode_weightedmean_tokens': False, 'pooling_mode_lasttoken': False, 'include_prompt': True})\n",
       "  (2): Normalize()\n",
       ")"
      ]
     },
     "execution_count": 21,
     "metadata": {},
     "output_type": "execute_result"
    }
   ],
   "source": [
    "embed_model = HuggingFaceEmbedding(\n",
    "    model_name = EMBEDDING_MODEL_PATH,\n",
    "    normalize = True,\n",
    "    device = \"cuda\",\n",
    ")\n",
    "embed_model._model.half()\n",
    "\n",
    "# 可以这样初始化默认模型，也能在后面传递参数\n",
    "# Settings.embed_model = embed_model"
   ]
  },
  {
   "cell_type": "markdown",
   "metadata": {},
   "source": [
    "# VectorStoreIndex.from_documents\n",
    "\n",
    "https://docs.llamaindex.ai/en/stable/module_guides/loading/documents_and_nodes/"
   ]
  },
  {
   "cell_type": "code",
   "execution_count": 22,
   "metadata": {},
   "outputs": [],
   "source": [
    "# index: VectorStoreIndex = VectorStoreIndex.from_documents(\n",
    "#     documents = documents,\n",
    "#     embed_model = embed_model,\n",
    "# )\n",
    "# index"
   ]
  },
  {
   "cell_type": "markdown",
   "metadata": {},
   "source": [
    "# SentenceSplitter\n",
    "\n",
    "https://docs.llamaindex.ai/en/stable/module_guides/loading/documents_and_nodes/"
   ]
  },
  {
   "cell_type": "code",
   "execution_count": 23,
   "metadata": {},
   "outputs": [
    {
     "data": {
      "text/plain": [
       "SentenceSplitter(include_metadata=True, include_prev_next_rel=True, callback_manager=<llama_index.core.callbacks.base.CallbackManager object at 0x000001CC06CEAAD0>, id_func=<function default_id_func at 0x000001CB1196FE20>, chunk_size=512, chunk_overlap=32, separator=' ', paragraph_separator='\\n\\n\\n', secondary_chunking_regex='[^,.;。？！]+[,.;。？！]?')"
      ]
     },
     "execution_count": 23,
     "metadata": {},
     "output_type": "execute_result"
    }
   ],
   "source": [
    "parser = SentenceSplitter(chunk_size=512, chunk_overlap=32)\n",
    "parser"
   ]
  },
  {
   "cell_type": "code",
   "execution_count": 24,
   "metadata": {},
   "outputs": [
    {
     "data": {
      "text/plain": [
       "9230"
      ]
     },
     "execution_count": 24,
     "metadata": {},
     "output_type": "execute_result"
    }
   ],
   "source": [
    "nodes = parser.get_nodes_from_documents(documents = documents)\n",
    "len(nodes)"
   ]
  },
  {
   "cell_type": "markdown",
   "metadata": {},
   "source": [
    "# VectorStoreIndex from nodes"
   ]
  },
  {
   "cell_type": "code",
   "execution_count": 25,
   "metadata": {},
   "outputs": [],
   "source": [
    "# index: VectorStoreIndex = VectorStoreIndex(\n",
    "#     nodes = nodes,\n",
    "#     embed_model = embed_model\n",
    "# )\n",
    "# index"
   ]
  },
  {
   "cell_type": "markdown",
   "metadata": {},
   "source": [
    "# faiss\n",
    "\n",
    "https://docs.llamaindex.ai/en/stable/examples/vector_stores/FaissIndexDemo/"
   ]
  },
  {
   "cell_type": "markdown",
   "metadata": {},
   "source": [
    "## FaissVectorStore"
   ]
  },
  {
   "cell_type": "code",
   "execution_count": 26,
   "metadata": {},
   "outputs": [
    {
     "data": {
      "text/plain": [
       "<faiss.swigfaiss_avx2.IndexFlatL2; proxy of <Swig Object of type 'faiss::IndexFlatL2 *' at 0x000001CC06CEA2B0> >"
      ]
     },
     "execution_count": 26,
     "metadata": {},
     "output_type": "execute_result"
    }
   ],
   "source": [
    "# dimensions of bce-embedding-base_v1\n",
    "d = 768\n",
    "faiss_index = faiss.IndexFlatL2(d)\n",
    "faiss_index"
   ]
  },
  {
   "cell_type": "code",
   "execution_count": 27,
   "metadata": {},
   "outputs": [
    {
     "data": {
      "text/plain": [
       "FaissVectorStore(stores_text=False, is_embedding_query=True)"
      ]
     },
     "execution_count": 27,
     "metadata": {},
     "output_type": "execute_result"
    }
   ],
   "source": [
    "vector_store = FaissVectorStore(faiss_index = faiss_index)\n",
    "vector_store"
   ]
  },
  {
   "cell_type": "markdown",
   "metadata": {},
   "source": [
    "## StorageContext"
   ]
  },
  {
   "cell_type": "code",
   "execution_count": 28,
   "metadata": {},
   "outputs": [
    {
     "data": {
      "text/plain": [
       "StorageContext(docstore=<llama_index.core.storage.docstore.simple_docstore.SimpleDocumentStore object at 0x000001CC0F3A7550>, index_store=<llama_index.core.storage.index_store.simple_index_store.SimpleIndexStore object at 0x000001CC0F3A74F0>, vector_stores={'default': FaissVectorStore(stores_text=False, is_embedding_query=True), 'image': SimpleVectorStore(stores_text=False, is_embedding_query=True, data=SimpleVectorStoreData(embedding_dict={}, text_id_to_ref_doc_id={}, metadata_dict={}))}, graph_store=<llama_index.core.graph_stores.simple.SimpleGraphStore object at 0x000001CC0F3A71F0>, property_graph_store=None)"
      ]
     },
     "execution_count": 28,
     "metadata": {},
     "output_type": "execute_result"
    }
   ],
   "source": [
    "storage_context: StorageContext = StorageContext.from_defaults(vector_store = vector_store)\n",
    "storage_context"
   ]
  },
  {
   "cell_type": "markdown",
   "metadata": {},
   "source": [
    "## VectorStoreIndex"
   ]
  },
  {
   "cell_type": "code",
   "execution_count": 29,
   "metadata": {},
   "outputs": [
    {
     "data": {
      "text/plain": [
       "<llama_index.core.indices.vector_store.base.VectorStoreIndex at 0x1cc0f3a7460>"
      ]
     },
     "execution_count": 29,
     "metadata": {},
     "output_type": "execute_result"
    }
   ],
   "source": [
    "index = VectorStoreIndex(\n",
    "    nodes = nodes,\n",
    "    embed_model = embed_model,\n",
    "    storage_context = storage_context,\n",
    ")\n",
    "index"
   ]
  },
  {
   "cell_type": "markdown",
   "metadata": {},
   "source": [
    "## save index to disk"
   ]
  },
  {
   "cell_type": "code",
   "execution_count": 32,
   "metadata": {},
   "outputs": [],
   "source": [
    "index.storage_context.persist(persist_dir = PERSIST_DIRECTORY)"
   ]
  },
  {
   "cell_type": "markdown",
   "metadata": {},
   "source": [
    "## load index from disk"
   ]
  },
  {
   "cell_type": "code",
   "execution_count": 33,
   "metadata": {},
   "outputs": [
    {
     "name": "stderr",
     "output_type": "stream",
     "text": [
      "06/12/2024 19:55:29 - [INFO] -root->>>    Loading llama_index.vector_stores.faiss.base from ./vector_db/llama-index-faiss\\default__vector_store.json.\n"
     ]
    },
    {
     "data": {
      "text/plain": [
       "FaissVectorStore(stores_text=False, is_embedding_query=True)"
      ]
     },
     "execution_count": 33,
     "metadata": {},
     "output_type": "execute_result"
    }
   ],
   "source": [
    "vector_store: FaissVectorStore = FaissVectorStore.from_persist_dir(persist_dir = PERSIST_DIRECTORY)\n",
    "vector_store"
   ]
  },
  {
   "cell_type": "code",
   "execution_count": 34,
   "metadata": {},
   "outputs": [
    {
     "data": {
      "text/plain": [
       "StorageContext(docstore=<llama_index.core.storage.docstore.simple_docstore.SimpleDocumentStore object at 0x000001CC11B99BD0>, index_store=<llama_index.core.storage.index_store.simple_index_store.SimpleIndexStore object at 0x000001CC72503BB0>, vector_stores={'default': FaissVectorStore(stores_text=False, is_embedding_query=True)}, graph_store=<llama_index.core.graph_stores.simple.SimpleGraphStore object at 0x000001CC0F40A770>, property_graph_store=None)"
      ]
     },
     "execution_count": 34,
     "metadata": {},
     "output_type": "execute_result"
    }
   ],
   "source": [
    "storage_context = StorageContext.from_defaults(\n",
    "    vector_store = vector_store,\n",
    "    persist_dir = PERSIST_DIRECTORY,\n",
    ")\n",
    "storage_context"
   ]
  },
  {
   "cell_type": "code",
   "execution_count": 35,
   "metadata": {},
   "outputs": [
    {
     "name": "stderr",
     "output_type": "stream",
     "text": [
      "06/12/2024 19:55:32 - [INFO] -llama_index.core.indices.loading->>>    Loading all indices.\n"
     ]
    },
    {
     "data": {
      "text/plain": [
       "<llama_index.core.indices.vector_store.base.VectorStoreIndex at 0x1cc06a99300>"
      ]
     },
     "execution_count": 35,
     "metadata": {},
     "output_type": "execute_result"
    }
   ],
   "source": [
    "index = load_index_from_storage(\n",
    "    storage_context = storage_context,\n",
    "    embed_model = embed_model,\n",
    ")\n",
    "index"
   ]
  },
  {
   "cell_type": "code",
   "execution_count": null,
   "metadata": {},
   "outputs": [],
   "source": [
    "# 不能这样载入\n",
    "# ValueError: Cannot initialize from a vector store that does not store text.\n",
    "# index = VectorStoreIndex.from_vector_store(\n",
    "#     vector_store = vector_store,\n",
    "#     embed_model = embed_model,\n",
    "# )\n",
    "# index"
   ]
  },
  {
   "cell_type": "markdown",
   "metadata": {},
   "source": [
    "# Retriever\n",
    "\n",
    "https://docs.llamaindex.ai/en/stable/module_guides/querying/retriever/\n",
    "\n",
    "https://docs.llamaindex.ai/en/stable/module_guides/querying/retriever/retriever_modes/"
   ]
  },
  {
   "cell_type": "code",
   "execution_count": 45,
   "metadata": {},
   "outputs": [
    {
     "data": {
      "text/plain": [
       "<llama_index.core.indices.vector_store.retrievers.retriever.VectorIndexRetriever at 0x1cc06d805e0>"
      ]
     },
     "execution_count": 45,
     "metadata": {},
     "output_type": "execute_result"
    }
   ],
   "source": [
    "retriever = index.as_retriever(\n",
    "    retriever_mode = \"embedding\", # embedding, llm\n",
    "    choice_batch_size = SIMILARITY_TOP_K * 2,\n",
    ")\n",
    "retriever"
   ]
  },
  {
   "cell_type": "code",
   "execution_count": 66,
   "metadata": {},
   "outputs": [],
   "source": [
    "query = \"Eye Pressure Lowering Effect of Vitamin C\"\n",
    "# query = \"吃了吗\""
   ]
  },
  {
   "cell_type": "code",
   "execution_count": 71,
   "metadata": {},
   "outputs": [
    {
     "data": {
      "application/vnd.jupyter.widget-view+json": {
       "model_id": "e3164f4470b14bb284fe090428485c12",
       "version_major": 2,
       "version_minor": 0
      },
      "text/plain": [
       "Batches:   0%|          | 0/1 [00:00<?, ?it/s]"
      ]
     },
     "metadata": {},
     "output_type": "display_data"
    },
    {
     "data": {
      "text/plain": [
       "[NodeWithScore(node=TextNode(id_='41e00465-e27a-4cbc-8b31-6a2d18f19b00', embedding=None, metadata={'page_label': '1', 'file_name': 'JOM_1995_10_3-4_08_Eye_Pressure_Lowering_Effect_of_Vitamin_C.pdf', 'file_path': 'd:\\\\AI\\\\14_llm\\\\HealthcareAgent\\\\data\\\\healthcare_data6.2\\\\JOM_1995_10_3-4_08_Eye_Pressure_Lowering_Effect_of_Vitamin_C.pdf', 'file_type': 'application/pdf', 'file_size': 66128, 'creation_date': '2024-06-03', 'last_modified_date': '2024-05-26'}, excluded_embed_metadata_keys=['file_name', 'file_type', 'file_size', 'creation_date', 'last_modified_date', 'last_accessed_date'], excluded_llm_metadata_keys=['file_name', 'file_type', 'file_size', 'creation_date', 'last_modified_date', 'last_accessed_date'], relationships={<NodeRelationship.SOURCE: '1'>: RelatedNodeInfo(node_id='f8203772-9bc8-4149-96f4-3122c4d6ad2b', node_type=<ObjectType.DOCUMENT: '4'>, metadata={'page_label': '1', 'file_name': 'JOM_1995_10_3-4_08_Eye_Pressure_Lowering_Effect_of_Vitamin_C.pdf', 'file_path': 'd:\\\\AI\\\\14_llm\\\\HealthcareAgent\\\\data\\\\healthcare_data6.2\\\\JOM_1995_10_3-4_08_Eye_Pressure_Lowering_Effect_of_Vitamin_C.pdf', 'file_type': 'application/pdf', 'file_size': 66128, 'creation_date': '2024-06-03', 'last_modified_date': '2024-05-26'}, hash='dea7f26027e1fe156307e82c06fe7dadd8d57b5e3735aa6f15ad981deba51bb5'), <NodeRelationship.NEXT: '3'>: RelatedNodeInfo(node_id='f74eba31-b196-4bd4-954b-1be06e6e40ed', node_type=<ObjectType.TEXT: '1'>, metadata={}, hash='3968ca66c4a4b34ddc7c15b83d8c7e53d5b85f9623213df5980bfe7eccd8256c')}, text='Eye Pressure Lowering Effect of Vitamin C\\nHerschell H. Boyd, M.D.1\\nPurpose\\nTo document the pressure before the use\\nof vitamin C and after the daily intake of\\nmaximum amounts of vitamin C, three times\\na day.\\nMethods\\nThirty patients (16 men and 14 women)\\nwere advised to take three divided doses of\\nvitamin C in capsule form each day until\\nloose stools occured and then back downslightly from this amount (bowel dosage) for\\na daily intake. Average daily intake for all\\npatients was 10 grams per day.\\nResults\\nThe greatest lowering of pressure was 13\\nmm as measured with a Goldmann tonom-\\neter. The least lowering of pressure was 1\\nmm. The average for 30 patients was 10 mm.Thirty patients were controlled only with\\nvitamin C. Twenty patients were forced to\\nuse eye drops to lower the pressure below 20mm of mercury as they refused to take vita-\\nmin C.\\nConclusion\\nIn this series of 30 patients there was no\\noccasion in which the pressure was not low-ered with vitamin C. All drugs for glaucoma\\nare seriously toxic, and vitamin C has no\\ntoxicity yet known. The patients experiencedmany other good side effects from vitamin C\\nsuch as clearing of sinusitis, allergy symp-\\ntoms, arthritis improvement, cholesterol low-ering, laxative effect, diuretic effect for heart\\ndisease patients, and other improvements\\nassociated with vitamin C intake of “severalgrams per day” level. Ophthalmologists may\\nawaken to the marvels of vitamin C in treat-\\ning glaucoma!\\nIntroduction\\nVitamin C has been used since the trans-\\nformation of glucose, C\\n6H12O6, into vitamin\\n1. Eastview Professional Building, 1370 - 116th Avenue\\nN.E., Suite 212, Bellevue WA 98004-4679.\\n165C, C6H8O6, in the early 1930s.', start_char_idx=0, end_char_idx=1675, text_template='{metadata_str}\\n\\n{content}', metadata_template='{key}: {value}', metadata_seperator='\\n'), score=0.36982595920562744),\n",
       " NodeWithScore(node=TextNode(id_='6473578e-c258-408c-812c-e3cf2630abd9', embedding=None, metadata={'page_label': '1', 'file_name': 'Eye Pressure Lowering Effect of Vitamin C.pdf', 'file_path': 'd:\\\\AI\\\\14_llm\\\\HealthcareAgent\\\\data\\\\FM docs 2024.3\\\\Eye Pressure Lowering Effect of Vitamin C.pdf', 'file_type': 'application/pdf', 'file_size': 66128, 'creation_date': '2024-05-08', 'last_modified_date': '2024-01-27'}, excluded_embed_metadata_keys=['file_name', 'file_type', 'file_size', 'creation_date', 'last_modified_date', 'last_accessed_date'], excluded_llm_metadata_keys=['file_name', 'file_type', 'file_size', 'creation_date', 'last_modified_date', 'last_accessed_date'], relationships={<NodeRelationship.SOURCE: '1'>: RelatedNodeInfo(node_id='8264aa79-59a4-4d2d-b181-ce95c5c9f52f', node_type=<ObjectType.DOCUMENT: '4'>, metadata={'page_label': '1', 'file_name': 'Eye Pressure Lowering Effect of Vitamin C.pdf', 'file_path': 'd:\\\\AI\\\\14_llm\\\\HealthcareAgent\\\\data\\\\FM docs 2024.3\\\\Eye Pressure Lowering Effect of Vitamin C.pdf', 'file_type': 'application/pdf', 'file_size': 66128, 'creation_date': '2024-05-08', 'last_modified_date': '2024-01-27'}, hash='8454a2b12e1123c86dc7c26a6008a32065d05151372fb8859aa405474f2a6a1d'), <NodeRelationship.NEXT: '3'>: RelatedNodeInfo(node_id='01ac1373-ede5-47e7-a935-bb5286886c57', node_type=<ObjectType.TEXT: '1'>, metadata={}, hash='6e36e93efa5dec4c42b4540b4c655fa668a7987892e7c956e05c5f79e34291c6')}, text='Eye Pressure Lowering Effect of Vitamin C\\nHerschell H. Boyd, M.D.1\\nPurpose\\nTo document the pressure before the use\\nof vitamin C and after the daily intake of\\nmaximum amounts of vitamin C, three times\\na day.\\nMethods\\nThirty patients (16 men and 14 women)\\nwere advised to take three divided doses of\\nvitamin C in capsule form each day until\\nloose stools occured and then back downslightly from this amount (bowel dosage) for\\na daily intake. Average daily intake for all\\npatients was 10 grams per day.\\nResults\\nThe greatest lowering of pressure was 13\\nmm as measured with a Goldmann tonom-\\neter. The least lowering of pressure was 1\\nmm. The average for 30 patients was 10 mm.Thirty patients were controlled only with\\nvitamin C. Twenty patients were forced to\\nuse eye drops to lower the pressure below 20mm of mercury as they refused to take vita-\\nmin C.\\nConclusion\\nIn this series of 30 patients there was no\\noccasion in which the pressure was not low-ered with vitamin C. All drugs for glaucoma\\nare seriously toxic, and vitamin C has no\\ntoxicity yet known. The patients experiencedmany other good side effects from vitamin C\\nsuch as clearing of sinusitis, allergy symp-\\ntoms, arthritis improvement, cholesterol low-ering, laxative effect, diuretic effect for heart\\ndisease patients, and other improvements\\nassociated with vitamin C intake of “severalgrams per day” level. Ophthalmologists may\\nawaken to the marvels of vitamin C in treat-\\ning glaucoma!\\nIntroduction\\nVitamin C has been used since the trans-\\nformation of glucose, C\\n6H12O6, into vitamin\\n1. Eastview Professional Building, 1370 - 116th Avenue\\nN.E., Suite 212, Bellevue WA 98004-4679.\\n165C, C6H8O6, in the early 1930s. Its use in\\nlowering the pressure in glaucoma datesback to 1962 as reported in Experimental\\nEye Research.', start_char_idx=0, end_char_idx=1780, text_template='{metadata_str}\\n\\n{content}', metadata_template='{key}: {value}', metadata_seperator='\\n'), score=0.39507097005844116)]"
      ]
     },
     "execution_count": 71,
     "metadata": {},
     "output_type": "execute_result"
    }
   ],
   "source": [
    "nodes = retriever.retrieve(query)\n",
    "nodes"
   ]
  },
  {
   "cell_type": "markdown",
   "metadata": {},
   "source": [
    "# SimilarityPostprocessor\n",
    "\n",
    "https://docs.llamaindex.ai/en/stable/module_guides/querying/node_postprocessors/"
   ]
  },
  {
   "cell_type": "code",
   "execution_count": 62,
   "metadata": {},
   "outputs": [
    {
     "data": {
      "text/plain": [
       "SimilarityPostprocessor(callback_manager=<llama_index.core.callbacks.base.CallbackManager object at 0x000001CC06AB4430>, similarity_cutoff=0.15)"
      ]
     },
     "execution_count": 62,
     "metadata": {},
     "output_type": "execute_result"
    }
   ],
   "source": [
    "# similarity postprocessor: filter nodes below 0.25 similarity score\n",
    "similarity_processor = SimilarityPostprocessor(similarity_cutoff = SCORE_THRESHOLD)\n",
    "similarity_processor"
   ]
  },
  {
   "cell_type": "code",
   "execution_count": 68,
   "metadata": {},
   "outputs": [
    {
     "data": {
      "text/plain": [
       "[NodeWithScore(node=TextNode(id_='41e00465-e27a-4cbc-8b31-6a2d18f19b00', embedding=None, metadata={'page_label': '1', 'file_name': 'JOM_1995_10_3-4_08_Eye_Pressure_Lowering_Effect_of_Vitamin_C.pdf', 'file_path': 'd:\\\\AI\\\\14_llm\\\\HealthcareAgent\\\\data\\\\healthcare_data6.2\\\\JOM_1995_10_3-4_08_Eye_Pressure_Lowering_Effect_of_Vitamin_C.pdf', 'file_type': 'application/pdf', 'file_size': 66128, 'creation_date': '2024-06-03', 'last_modified_date': '2024-05-26'}, excluded_embed_metadata_keys=['file_name', 'file_type', 'file_size', 'creation_date', 'last_modified_date', 'last_accessed_date'], excluded_llm_metadata_keys=['file_name', 'file_type', 'file_size', 'creation_date', 'last_modified_date', 'last_accessed_date'], relationships={<NodeRelationship.SOURCE: '1'>: RelatedNodeInfo(node_id='f8203772-9bc8-4149-96f4-3122c4d6ad2b', node_type=<ObjectType.DOCUMENT: '4'>, metadata={'page_label': '1', 'file_name': 'JOM_1995_10_3-4_08_Eye_Pressure_Lowering_Effect_of_Vitamin_C.pdf', 'file_path': 'd:\\\\AI\\\\14_llm\\\\HealthcareAgent\\\\data\\\\healthcare_data6.2\\\\JOM_1995_10_3-4_08_Eye_Pressure_Lowering_Effect_of_Vitamin_C.pdf', 'file_type': 'application/pdf', 'file_size': 66128, 'creation_date': '2024-06-03', 'last_modified_date': '2024-05-26'}, hash='dea7f26027e1fe156307e82c06fe7dadd8d57b5e3735aa6f15ad981deba51bb5'), <NodeRelationship.NEXT: '3'>: RelatedNodeInfo(node_id='f74eba31-b196-4bd4-954b-1be06e6e40ed', node_type=<ObjectType.TEXT: '1'>, metadata={}, hash='3968ca66c4a4b34ddc7c15b83d8c7e53d5b85f9623213df5980bfe7eccd8256c')}, text='Eye Pressure Lowering Effect of Vitamin C\\nHerschell H. Boyd, M.D.1\\nPurpose\\nTo document the pressure before the use\\nof vitamin C and after the daily intake of\\nmaximum amounts of vitamin C, three times\\na day.\\nMethods\\nThirty patients (16 men and 14 women)\\nwere advised to take three divided doses of\\nvitamin C in capsule form each day until\\nloose stools occured and then back downslightly from this amount (bowel dosage) for\\na daily intake. Average daily intake for all\\npatients was 10 grams per day.\\nResults\\nThe greatest lowering of pressure was 13\\nmm as measured with a Goldmann tonom-\\neter. The least lowering of pressure was 1\\nmm. The average for 30 patients was 10 mm.Thirty patients were controlled only with\\nvitamin C. Twenty patients were forced to\\nuse eye drops to lower the pressure below 20mm of mercury as they refused to take vita-\\nmin C.\\nConclusion\\nIn this series of 30 patients there was no\\noccasion in which the pressure was not low-ered with vitamin C. All drugs for glaucoma\\nare seriously toxic, and vitamin C has no\\ntoxicity yet known. The patients experiencedmany other good side effects from vitamin C\\nsuch as clearing of sinusitis, allergy symp-\\ntoms, arthritis improvement, cholesterol low-ering, laxative effect, diuretic effect for heart\\ndisease patients, and other improvements\\nassociated with vitamin C intake of “severalgrams per day” level. Ophthalmologists may\\nawaken to the marvels of vitamin C in treat-\\ning glaucoma!\\nIntroduction\\nVitamin C has been used since the trans-\\nformation of glucose, C\\n6H12O6, into vitamin\\n1. Eastview Professional Building, 1370 - 116th Avenue\\nN.E., Suite 212, Bellevue WA 98004-4679.\\n165C, C6H8O6, in the early 1930s.', start_char_idx=0, end_char_idx=1675, text_template='{metadata_str}\\n\\n{content}', metadata_template='{key}: {value}', metadata_seperator='\\n'), score=0.36982595920562744),\n",
       " NodeWithScore(node=TextNode(id_='6473578e-c258-408c-812c-e3cf2630abd9', embedding=None, metadata={'page_label': '1', 'file_name': 'Eye Pressure Lowering Effect of Vitamin C.pdf', 'file_path': 'd:\\\\AI\\\\14_llm\\\\HealthcareAgent\\\\data\\\\FM docs 2024.3\\\\Eye Pressure Lowering Effect of Vitamin C.pdf', 'file_type': 'application/pdf', 'file_size': 66128, 'creation_date': '2024-05-08', 'last_modified_date': '2024-01-27'}, excluded_embed_metadata_keys=['file_name', 'file_type', 'file_size', 'creation_date', 'last_modified_date', 'last_accessed_date'], excluded_llm_metadata_keys=['file_name', 'file_type', 'file_size', 'creation_date', 'last_modified_date', 'last_accessed_date'], relationships={<NodeRelationship.SOURCE: '1'>: RelatedNodeInfo(node_id='8264aa79-59a4-4d2d-b181-ce95c5c9f52f', node_type=<ObjectType.DOCUMENT: '4'>, metadata={'page_label': '1', 'file_name': 'Eye Pressure Lowering Effect of Vitamin C.pdf', 'file_path': 'd:\\\\AI\\\\14_llm\\\\HealthcareAgent\\\\data\\\\FM docs 2024.3\\\\Eye Pressure Lowering Effect of Vitamin C.pdf', 'file_type': 'application/pdf', 'file_size': 66128, 'creation_date': '2024-05-08', 'last_modified_date': '2024-01-27'}, hash='8454a2b12e1123c86dc7c26a6008a32065d05151372fb8859aa405474f2a6a1d'), <NodeRelationship.NEXT: '3'>: RelatedNodeInfo(node_id='01ac1373-ede5-47e7-a935-bb5286886c57', node_type=<ObjectType.TEXT: '1'>, metadata={}, hash='6e36e93efa5dec4c42b4540b4c655fa668a7987892e7c956e05c5f79e34291c6')}, text='Eye Pressure Lowering Effect of Vitamin C\\nHerschell H. Boyd, M.D.1\\nPurpose\\nTo document the pressure before the use\\nof vitamin C and after the daily intake of\\nmaximum amounts of vitamin C, three times\\na day.\\nMethods\\nThirty patients (16 men and 14 women)\\nwere advised to take three divided doses of\\nvitamin C in capsule form each day until\\nloose stools occured and then back downslightly from this amount (bowel dosage) for\\na daily intake. Average daily intake for all\\npatients was 10 grams per day.\\nResults\\nThe greatest lowering of pressure was 13\\nmm as measured with a Goldmann tonom-\\neter. The least lowering of pressure was 1\\nmm. The average for 30 patients was 10 mm.Thirty patients were controlled only with\\nvitamin C. Twenty patients were forced to\\nuse eye drops to lower the pressure below 20mm of mercury as they refused to take vita-\\nmin C.\\nConclusion\\nIn this series of 30 patients there was no\\noccasion in which the pressure was not low-ered with vitamin C. All drugs for glaucoma\\nare seriously toxic, and vitamin C has no\\ntoxicity yet known. The patients experiencedmany other good side effects from vitamin C\\nsuch as clearing of sinusitis, allergy symp-\\ntoms, arthritis improvement, cholesterol low-ering, laxative effect, diuretic effect for heart\\ndisease patients, and other improvements\\nassociated with vitamin C intake of “severalgrams per day” level. Ophthalmologists may\\nawaken to the marvels of vitamin C in treat-\\ning glaucoma!\\nIntroduction\\nVitamin C has been used since the trans-\\nformation of glucose, C\\n6H12O6, into vitamin\\n1. Eastview Professional Building, 1370 - 116th Avenue\\nN.E., Suite 212, Bellevue WA 98004-4679.\\n165C, C6H8O6, in the early 1930s. Its use in\\nlowering the pressure in glaucoma datesback to 1962 as reported in Experimental\\nEye Research.', start_char_idx=0, end_char_idx=1780, text_template='{metadata_str}\\n\\n{content}', metadata_template='{key}: {value}', metadata_seperator='\\n'), score=0.39507097005844116)]"
      ]
     },
     "execution_count": 68,
     "metadata": {},
     "output_type": "execute_result"
    }
   ],
   "source": [
    "similarity_nodes = similarity_processor.postprocess_nodes(nodes = nodes)\n",
    "similarity_nodes"
   ]
  },
  {
   "cell_type": "markdown",
   "metadata": {},
   "source": [
    "# BCERerank\n",
    "\n",
    "https://github.com/netease-youdao/BCEmbedding/blob/master/BCEmbedding/tools/llama_index/bce_rerank.py"
   ]
  },
  {
   "cell_type": "code",
   "execution_count": 64,
   "metadata": {},
   "outputs": [],
   "source": [
    "from BCEmbedding.tools.llama_index import BCERerank"
   ]
  },
  {
   "cell_type": "code",
   "execution_count": 58,
   "metadata": {},
   "outputs": [
    {
     "name": "stderr",
     "output_type": "stream",
     "text": [
      "06/12/2024 19:58:38 - [INFO] -BCEmbedding.models.RerankerModel->>>    Loading from `./models/bce-reranker-base_v1`.\n",
      "06/12/2024 19:58:38 - [INFO] -BCEmbedding.models.RerankerModel->>>    Execute device: cuda;\t gpu num: 1;\t use fp16: True\n"
     ]
    },
    {
     "data": {
      "text/plain": [
       "BCERerank(callback_manager=<llama_index.core.callbacks.base.CallbackManager object at 0x000001CC06E210C0>, model='./models/bce-reranker-base_v1', top_n=4)"
      ]
     },
     "execution_count": 58,
     "metadata": {},
     "output_type": "execute_result"
    }
   ],
   "source": [
    "reranker = BCERerank(\n",
    "    top_n = SIMILARITY_TOP_K,\n",
    "    model = RERANKER_MODEL_PATH,\n",
    "    device = 'cuda',\n",
    "    use_fp16 = True\n",
    ")\n",
    "reranker"
   ]
  },
  {
   "cell_type": "code",
   "execution_count": 69,
   "metadata": {},
   "outputs": [
    {
     "data": {
      "text/plain": [
       "[NodeWithScore(node=TextNode(id_='6473578e-c258-408c-812c-e3cf2630abd9', embedding=None, metadata={'page_label': '1', 'file_name': 'Eye Pressure Lowering Effect of Vitamin C.pdf', 'file_path': 'd:\\\\AI\\\\14_llm\\\\HealthcareAgent\\\\data\\\\FM docs 2024.3\\\\Eye Pressure Lowering Effect of Vitamin C.pdf', 'file_type': 'application/pdf', 'file_size': 66128, 'creation_date': '2024-05-08', 'last_modified_date': '2024-01-27'}, excluded_embed_metadata_keys=['file_name', 'file_type', 'file_size', 'creation_date', 'last_modified_date', 'last_accessed_date'], excluded_llm_metadata_keys=['file_name', 'file_type', 'file_size', 'creation_date', 'last_modified_date', 'last_accessed_date'], relationships={<NodeRelationship.SOURCE: '1'>: RelatedNodeInfo(node_id='8264aa79-59a4-4d2d-b181-ce95c5c9f52f', node_type=<ObjectType.DOCUMENT: '4'>, metadata={'page_label': '1', 'file_name': 'Eye Pressure Lowering Effect of Vitamin C.pdf', 'file_path': 'd:\\\\AI\\\\14_llm\\\\HealthcareAgent\\\\data\\\\FM docs 2024.3\\\\Eye Pressure Lowering Effect of Vitamin C.pdf', 'file_type': 'application/pdf', 'file_size': 66128, 'creation_date': '2024-05-08', 'last_modified_date': '2024-01-27'}, hash='8454a2b12e1123c86dc7c26a6008a32065d05151372fb8859aa405474f2a6a1d'), <NodeRelationship.NEXT: '3'>: RelatedNodeInfo(node_id='01ac1373-ede5-47e7-a935-bb5286886c57', node_type=<ObjectType.TEXT: '1'>, metadata={}, hash='6e36e93efa5dec4c42b4540b4c655fa668a7987892e7c956e05c5f79e34291c6')}, text='Eye Pressure Lowering Effect of Vitamin C\\nHerschell H. Boyd, M.D.1\\nPurpose\\nTo document the pressure before the use\\nof vitamin C and after the daily intake of\\nmaximum amounts of vitamin C, three times\\na day.\\nMethods\\nThirty patients (16 men and 14 women)\\nwere advised to take three divided doses of\\nvitamin C in capsule form each day until\\nloose stools occured and then back downslightly from this amount (bowel dosage) for\\na daily intake. Average daily intake for all\\npatients was 10 grams per day.\\nResults\\nThe greatest lowering of pressure was 13\\nmm as measured with a Goldmann tonom-\\neter. The least lowering of pressure was 1\\nmm. The average for 30 patients was 10 mm.Thirty patients were controlled only with\\nvitamin C. Twenty patients were forced to\\nuse eye drops to lower the pressure below 20mm of mercury as they refused to take vita-\\nmin C.\\nConclusion\\nIn this series of 30 patients there was no\\noccasion in which the pressure was not low-ered with vitamin C. All drugs for glaucoma\\nare seriously toxic, and vitamin C has no\\ntoxicity yet known. The patients experiencedmany other good side effects from vitamin C\\nsuch as clearing of sinusitis, allergy symp-\\ntoms, arthritis improvement, cholesterol low-ering, laxative effect, diuretic effect for heart\\ndisease patients, and other improvements\\nassociated with vitamin C intake of “severalgrams per day” level. Ophthalmologists may\\nawaken to the marvels of vitamin C in treat-\\ning glaucoma!\\nIntroduction\\nVitamin C has been used since the trans-\\nformation of glucose, C\\n6H12O6, into vitamin\\n1. Eastview Professional Building, 1370 - 116th Avenue\\nN.E., Suite 212, Bellevue WA 98004-4679.\\n165C, C6H8O6, in the early 1930s. Its use in\\nlowering the pressure in glaucoma datesback to 1962 as reported in Experimental\\nEye Research.', start_char_idx=0, end_char_idx=1780, text_template='{metadata_str}\\n\\n{content}', metadata_template='{key}: {value}', metadata_seperator='\\n'), score=0.6253237724304199),\n",
       " NodeWithScore(node=TextNode(id_='41e00465-e27a-4cbc-8b31-6a2d18f19b00', embedding=None, metadata={'page_label': '1', 'file_name': 'JOM_1995_10_3-4_08_Eye_Pressure_Lowering_Effect_of_Vitamin_C.pdf', 'file_path': 'd:\\\\AI\\\\14_llm\\\\HealthcareAgent\\\\data\\\\healthcare_data6.2\\\\JOM_1995_10_3-4_08_Eye_Pressure_Lowering_Effect_of_Vitamin_C.pdf', 'file_type': 'application/pdf', 'file_size': 66128, 'creation_date': '2024-06-03', 'last_modified_date': '2024-05-26'}, excluded_embed_metadata_keys=['file_name', 'file_type', 'file_size', 'creation_date', 'last_modified_date', 'last_accessed_date'], excluded_llm_metadata_keys=['file_name', 'file_type', 'file_size', 'creation_date', 'last_modified_date', 'last_accessed_date'], relationships={<NodeRelationship.SOURCE: '1'>: RelatedNodeInfo(node_id='f8203772-9bc8-4149-96f4-3122c4d6ad2b', node_type=<ObjectType.DOCUMENT: '4'>, metadata={'page_label': '1', 'file_name': 'JOM_1995_10_3-4_08_Eye_Pressure_Lowering_Effect_of_Vitamin_C.pdf', 'file_path': 'd:\\\\AI\\\\14_llm\\\\HealthcareAgent\\\\data\\\\healthcare_data6.2\\\\JOM_1995_10_3-4_08_Eye_Pressure_Lowering_Effect_of_Vitamin_C.pdf', 'file_type': 'application/pdf', 'file_size': 66128, 'creation_date': '2024-06-03', 'last_modified_date': '2024-05-26'}, hash='dea7f26027e1fe156307e82c06fe7dadd8d57b5e3735aa6f15ad981deba51bb5'), <NodeRelationship.NEXT: '3'>: RelatedNodeInfo(node_id='f74eba31-b196-4bd4-954b-1be06e6e40ed', node_type=<ObjectType.TEXT: '1'>, metadata={}, hash='3968ca66c4a4b34ddc7c15b83d8c7e53d5b85f9623213df5980bfe7eccd8256c')}, text='Eye Pressure Lowering Effect of Vitamin C\\nHerschell H. Boyd, M.D.1\\nPurpose\\nTo document the pressure before the use\\nof vitamin C and after the daily intake of\\nmaximum amounts of vitamin C, three times\\na day.\\nMethods\\nThirty patients (16 men and 14 women)\\nwere advised to take three divided doses of\\nvitamin C in capsule form each day until\\nloose stools occured and then back downslightly from this amount (bowel dosage) for\\na daily intake. Average daily intake for all\\npatients was 10 grams per day.\\nResults\\nThe greatest lowering of pressure was 13\\nmm as measured with a Goldmann tonom-\\neter. The least lowering of pressure was 1\\nmm. The average for 30 patients was 10 mm.Thirty patients were controlled only with\\nvitamin C. Twenty patients were forced to\\nuse eye drops to lower the pressure below 20mm of mercury as they refused to take vita-\\nmin C.\\nConclusion\\nIn this series of 30 patients there was no\\noccasion in which the pressure was not low-ered with vitamin C. All drugs for glaucoma\\nare seriously toxic, and vitamin C has no\\ntoxicity yet known. The patients experiencedmany other good side effects from vitamin C\\nsuch as clearing of sinusitis, allergy symp-\\ntoms, arthritis improvement, cholesterol low-ering, laxative effect, diuretic effect for heart\\ndisease patients, and other improvements\\nassociated with vitamin C intake of “severalgrams per day” level. Ophthalmologists may\\nawaken to the marvels of vitamin C in treat-\\ning glaucoma!\\nIntroduction\\nVitamin C has been used since the trans-\\nformation of glucose, C\\n6H12O6, into vitamin\\n1. Eastview Professional Building, 1370 - 116th Avenue\\nN.E., Suite 212, Bellevue WA 98004-4679.\\n165C, C6H8O6, in the early 1930s.', start_char_idx=0, end_char_idx=1675, text_template='{metadata_str}\\n\\n{content}', metadata_template='{key}: {value}', metadata_seperator='\\n'), score=0.6226887702941895)]"
      ]
     },
     "execution_count": 69,
     "metadata": {},
     "output_type": "execute_result"
    }
   ],
   "source": [
    "reranked_nodes = reranker.postprocess_nodes(nodes = similarity_nodes, query_str = query)\n",
    "reranked_nodes"
   ]
  },
  {
   "cell_type": "code",
   "execution_count": null,
   "metadata": {},
   "outputs": [],
   "source": []
  }
 ],
 "metadata": {
  "kernelspec": {
   "display_name": "pytorch",
   "language": "python",
   "name": "python3"
  },
  "language_info": {
   "codemirror_mode": {
    "name": "ipython",
    "version": 3
   },
   "file_extension": ".py",
   "mimetype": "text/x-python",
   "name": "python",
   "nbconvert_exporter": "python",
   "pygments_lexer": "ipython3",
   "version": "3.10.14"
  }
 },
 "nbformat": 4,
 "nbformat_minor": 2
}

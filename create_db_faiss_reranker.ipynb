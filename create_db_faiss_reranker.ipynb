{
 "cells": [
  {
   "cell_type": "code",
   "execution_count": 4,
   "metadata": {},
   "outputs": [],
   "source": [
    "# 首先导入所需第三方库\n",
    "from langchain_community.document_loaders import (\n",
    "    UnstructuredFileLoader,\n",
    "    UnstructuredMarkdownLoader,\n",
    "    UnstructuredWordDocumentLoader,\n",
    "    PyPDFLoader,\n",
    ")\n",
    "from langchain.text_splitter import RecursiveCharacterTextSplitter\n",
    "from langchain_community.embeddings import HuggingFaceEmbeddings\n",
    "from langchain_community.vectorstores import FAISS\n",
    "from langchain_community.vectorstores.utils import DistanceStrategy\n",
    "from langchain.retrievers import ContextualCompressionRetriever\n",
    "from BCEmbedding.tools.langchain import BCERerank\n",
    "from tqdm import tqdm\n",
    "import os\n",
    "from utils import hashfile"
   ]
  },
  {
   "cell_type": "markdown",
   "metadata": {},
   "source": [
    "# 遍历目录获取数据"
   ]
  },
  {
   "cell_type": "code",
   "execution_count": 5,
   "metadata": {},
   "outputs": [],
   "source": [
    "# 获取文件路径函数\n",
    "def get_files(dir_path: str) -> list[str]:\n",
    "    # args：dir_path，目标文件夹路径\n",
    "    file_list = []\n",
    "    for filepath, dirnames, filenames in os.walk(dir_path):\n",
    "        # os.walk 函数将递归遍历指定文件夹\n",
    "        for filename in filenames:\n",
    "            # 通过后缀名判断文件类型是否满足要求\n",
    "            if filename.endswith((\".txt\", \".md\", \".docx\", \".doc\", \".pdf\")):\n",
    "                # 忽略 readme.md\n",
    "                # if filename.lower() == 'readme.md':\n",
    "                #     continue\n",
    "                file_list.append(os.path.join(filepath, filename))\n",
    "    return file_list"
   ]
  },
  {
   "cell_type": "code",
   "execution_count": 6,
   "metadata": {},
   "outputs": [],
   "source": [
    "def get_text(file_list: list[str]) -> list:\n",
    "    # docs 存放加载之后的纯文本对象\n",
    "    docs: list = []\n",
    "    file_hashes: list[str] = []\n",
    "    repeated_files: list[str] = []\n",
    "    # 遍历所有目标文件\n",
    "    for file in tqdm(file_list):\n",
    "        # 运算文件hash\n",
    "        hashcode: str = hashfile(file)\n",
    "        if hashcode in file_hashes:\n",
    "            print(f\"file: `{file}` repeated, ignore this file\")\n",
    "            repeated_files.append(file)\n",
    "            continue\n",
    "        file_hashes.append(hashcode)\n",
    "\n",
    "        if file.endswith(\".txt\"):\n",
    "            # txt, md, docx, doc: pip install unstructured\n",
    "            loader = UnstructuredFileLoader(file)\n",
    "        elif file.endswith(\".md\"):\n",
    "            loader = UnstructuredMarkdownLoader(file)\n",
    "        elif file.endswith((\".docx\", \".doc\")):\n",
    "            # pip install python-docx\n",
    "            loader = UnstructuredWordDocumentLoader(file)\n",
    "        elif file.endswith(\".pdf\"):\n",
    "            # pip install pypdf\n",
    "            loader = PyPDFLoader(file)\n",
    "        docs.extend(loader.load())\n",
    "\n",
    "    if len(repeated_files) > 0:\n",
    "        print(f\"repeated_files: {', '.join(repeated_files)}, please delete them.\")\n",
    "    return docs"
   ]
  },
  {
   "cell_type": "code",
   "execution_count": 7,
   "metadata": {},
   "outputs": [],
   "source": [
    "# 目标文件夹\n",
    "tar_dirs = \"./data\""
   ]
  },
  {
   "cell_type": "code",
   "execution_count": 8,
   "metadata": {},
   "outputs": [
    {
     "data": {
      "text/plain": [
       "384"
      ]
     },
     "execution_count": 8,
     "metadata": {},
     "output_type": "execute_result"
    }
   ],
   "source": [
    "# 首先调用上文定义的函数得到目标文件路径列表\n",
    "file_list = get_files(tar_dirs)\n",
    "len(file_list)"
   ]
  },
  {
   "cell_type": "code",
   "execution_count": 9,
   "metadata": {},
   "outputs": [
    {
     "name": "stderr",
     "output_type": "stream",
     "text": [
      "  0%|          | 1/384 [00:00<01:21,  4.72it/s]06/03/2024 20:33:33 - [WARNING] -pypdf._reader->>>    Ignoring wrong pointing object 13 0 (offset 0)\n",
      "06/03/2024 20:33:33 - [WARNING] -pypdf._reader->>>    Ignoring wrong pointing object 16 0 (offset 0)\n",
      "06/03/2024 20:33:33 - [WARNING] -pypdf._reader->>>    Ignoring wrong pointing object 21 0 (offset 0)\n",
      "06/03/2024 20:33:33 - [WARNING] -pypdf._reader->>>    Ignoring wrong pointing object 44 0 (offset 0)\n",
      "06/03/2024 20:33:33 - [WARNING] -pypdf._reader->>>    Ignoring wrong pointing object 57 0 (offset 0)\n",
      " 13%|█▎        | 50/384 [00:08<00:52,  6.33it/s]06/03/2024 20:33:42 - [WARNING] -pypdf._reader->>>    XRef object at 1067 can not be read, some object may be missing\n",
      "06/03/2024 20:33:42 - [WARNING] -pypdf._reader->>>    XRef object at 969 can not be read, some object may be missing\n",
      " 14%|█▎        | 52/384 [00:08<00:38,  8.61it/s]06/03/2024 20:33:42 - [WARNING] -pypdf._reader->>>    XRef object at 969 can not be read, some object may be missing\n",
      " 15%|█▍        | 56/384 [00:09<00:36,  8.89it/s]06/03/2024 20:33:42 - [WARNING] -pypdf._reader->>>    XRef object at 1201 can not be read, some object may be missing\n",
      " 15%|█▍        | 57/384 [00:09<01:18,  4.15it/s]06/03/2024 20:33:43 - [WARNING] -pypdf._reader->>>    XRef object at 1104 can not be read, some object may be missing\n",
      " 15%|█▌        | 58/384 [00:09<01:11,  4.58it/s]06/03/2024 20:33:43 - [WARNING] -pypdf._reader->>>    XRef object at 1041 can not be read, some object may be missing\n",
      " 15%|█▌        | 59/384 [00:10<01:03,  5.13it/s]06/03/2024 20:33:43 - [WARNING] -pypdf._reader->>>    XRef object at 1009 can not be read, some object may be missing\n",
      "06/03/2024 20:33:43 - [WARNING] -pypdf._reader->>>    XRef object at 1032 can not be read, some object may be missing\n",
      " 16%|█▌        | 61/384 [00:10<00:49,  6.47it/s]06/03/2024 20:33:43 - [WARNING] -pypdf._reader->>>    XRef object at 946 can not be read, some object may be missing\n",
      " 16%|█▌        | 62/384 [00:10<00:48,  6.69it/s]06/03/2024 20:33:44 - [WARNING] -pypdf._reader->>>    XRef object at 974 can not be read, some object may be missing\n",
      " 16%|█▋        | 63/384 [00:10<00:53,  6.03it/s]06/03/2024 20:33:44 - [WARNING] -pypdf._reader->>>    XRef object at 973 can not be read, some object may be missing\n",
      " 17%|█▋        | 64/384 [00:10<00:51,  6.17it/s]06/03/2024 20:33:44 - [WARNING] -pypdf._reader->>>    XRef object at 944 can not be read, some object may be missing\n",
      " 17%|█▋        | 65/384 [00:10<00:49,  6.51it/s]06/03/2024 20:33:44 - [WARNING] -pypdf._reader->>>    XRef object at 1156 can not be read, some object may be missing\n",
      " 17%|█▋        | 66/384 [00:11<00:50,  6.27it/s]06/03/2024 20:33:44 - [WARNING] -pypdf._reader->>>    XRef object at 972 can not be read, some object may be missing\n",
      " 17%|█▋        | 67/384 [00:11<00:49,  6.45it/s]06/03/2024 20:33:44 - [WARNING] -pypdf._reader->>>    XRef object at 1094 can not be read, some object may be missing\n",
      " 18%|█▊        | 68/384 [00:11<00:52,  5.98it/s]06/03/2024 20:33:45 - [WARNING] -pypdf._reader->>>    XRef object at 1067 can not be read, some object may be missing\n",
      " 18%|█▊        | 69/384 [00:11<00:54,  5.83it/s]06/03/2024 20:33:45 - [WARNING] -pypdf._reader->>>    XRef object at 948 can not be read, some object may be missing\n",
      "06/03/2024 20:33:45 - [WARNING] -pypdf._reader->>>    XRef object at 1158 can not be read, some object may be missing\n",
      " 18%|█▊        | 71/384 [00:12<01:13,  4.24it/s]06/03/2024 20:33:45 - [WARNING] -pypdf._reader->>>    XRef object at 1132 can not be read, some object may be missing\n",
      " 19%|█▉        | 72/384 [00:12<01:32,  3.36it/s]06/03/2024 20:33:46 - [WARNING] -pypdf._reader->>>    XRef object at 1080 can not be read, some object may be missing\n",
      " 19%|█▉        | 73/384 [00:12<01:24,  3.68it/s]06/03/2024 20:33:46 - [WARNING] -pypdf._reader->>>    XRef object at 1079 can not be read, some object may be missing\n",
      "06/03/2024 20:33:46 - [WARNING] -pypdf._reader->>>    XRef object at 941 can not be read, some object may be missing\n",
      " 21%|██        | 81/384 [00:13<00:25, 12.08it/s]"
     ]
    },
    {
     "name": "stdout",
     "output_type": "stream",
     "text": [
      "file: `./data\\FM docs 2024.3\\JOM_1995_10_2_05_High_Dose_intravenous_Vitamin_C_and_Long_Time_Survival-.pdf` repeated, ignore this file\n",
      "file: `./data\\FM docs 2024.3\\JOM_1996_11_2_04_Intravenous_Vitamin_C_in_A_Terminal_Cancer_Patient.pdf` repeated, ignore this file\n"
     ]
    },
    {
     "name": "stderr",
     "output_type": "stream",
     "text": [
      " 23%|██▎       | 87/384 [00:14<00:38,  7.69it/s]"
     ]
    },
    {
     "name": "stdout",
     "output_type": "stream",
     "text": [
      "file: `./data\\FM docs 2024.3\\JOM_1999_14_1_03_Treatment_of_Ambulant_Schizophrenics_with_Vitamin_B3-.pdf` repeated, ignore this file\n"
     ]
    },
    {
     "name": "stderr",
     "output_type": "stream",
     "text": [
      " 38%|███▊      | 144/384 [00:38<01:01,  3.88it/s]06/03/2024 20:34:12 - [WARNING] -pypdf._reader->>>    XRef object at 921 can not be read, some object may be missing\n",
      " 39%|███▉      | 151/384 [00:39<00:32,  7.27it/s]"
     ]
    },
    {
     "name": "stdout",
     "output_type": "stream",
     "text": [
      "file: `./data\\HealthCareData_5.8\\JOM_1996_11_1_08_Vitamin_C_and_Hot_Flashes_FACT_Use_in_Chronic-.pdf` repeated, ignore this file\n"
     ]
    },
    {
     "name": "stderr",
     "output_type": "stream",
     "text": [
      " 46%|████▌     | 177/384 [00:54<01:38,  2.10it/s]"
     ]
    },
    {
     "name": "stdout",
     "output_type": "stream",
     "text": [
      "file: `./data\\HealthCareData_5.8\\nutrients-14-03474-with-cover_副本.pdf` repeated, ignore this file\n"
     ]
    },
    {
     "name": "stderr",
     "output_type": "stream",
     "text": [
      " 49%|████▉     | 189/384 [01:01<01:25,  2.29it/s]"
     ]
    },
    {
     "name": "stdout",
     "output_type": "stream",
     "text": [
      "file: `./data\\healthcare_data6.2\\JOM_1981_10_4_03_Treatment_of_a_Mucopolysaccharide_Type_of_Storage-.pdf` repeated, ignore this file\n",
      "file: `./data\\healthcare_data6.2\\JOM_1984_13_3_05_Nutrient_Pioneers_Alva_Rae_Patton_Conrad_Elvehjem.pdf` repeated, ignore this file\n",
      "file: `./data\\healthcare_data6.2\\JOM_1989_04_2_07_Ascorbic_acid_and_mental_depression.pdf` repeated, ignore this file\n"
     ]
    },
    {
     "name": "stderr",
     "output_type": "stream",
     "text": [
      " 50%|█████     | 193/384 [01:03<01:11,  2.68it/s]"
     ]
    },
    {
     "name": "stdout",
     "output_type": "stream",
     "text": [
      "file: `./data\\healthcare_data6.2\\JOM_1995_10_2_05_High_Dose_intravenous_Vitamin_C_and_Long_Time_Survival-.pdf` repeated, ignore this file\n"
     ]
    },
    {
     "name": "stderr",
     "output_type": "stream",
     "text": [
      " 54%|█████▍    | 209/384 [01:04<00:13, 12.83it/s]"
     ]
    },
    {
     "name": "stdout",
     "output_type": "stream",
     "text": [
      "file: `./data\\healthcare_data6.2\\JOM_1995_10_3-4_08_Eye_Pressure_Lowering_Effect_of_Vitamin_C.pdf` repeated, ignore this file\n",
      "file: `./data\\healthcare_data6.2\\JOM_1995_10_3-4_09_Orthomolecular_The_Optimum_Treatment_for_Schizophrenia.pdf` repeated, ignore this file\n",
      "file: `./data\\healthcare_data6.2\\JOM_1995_10_3-4_10_Minerals_and_Disease.pdf` repeated, ignore this file\n",
      "file: `./data\\healthcare_data6.2\\JOM_1996_11_1_02_Coronary_Artery_Occlusion_Chelation_and_Cholesterol-.pdf` repeated, ignore this file\n",
      "file: `./data\\healthcare_data6.2\\JOM_1996_11_1_03_Hair_Trace_Element_Status_of_Appalachian_Head_Start-.pdf` repeated, ignore this file\n",
      "file: `./data\\healthcare_data6.2\\JOM_1996_11_1_05_The_Serotonin_Connection.pdf` repeated, ignore this file\n",
      "file: `./data\\healthcare_data6.2\\JOM_1996_11_1_07_Cranial_Electrical_Stimulation.pdf` repeated, ignore this file\n",
      "file: `./data\\healthcare_data6.2\\JOM_1996_11_1_08_Vitamin_C_and_Hot_Flashes_FACT_Use_in_Chronic-.pdf` repeated, ignore this file\n"
     ]
    },
    {
     "name": "stderr",
     "output_type": "stream",
     "text": [
      " 57%|█████▋    | 217/384 [01:05<00:11, 15.05it/s]"
     ]
    },
    {
     "name": "stdout",
     "output_type": "stream",
     "text": [
      "file: `./data\\healthcare_data6.2\\JOM_1996_11_2_04_Intravenous_Vitamin_C_in_A_Terminal_Cancer_Patient.pdf` repeated, ignore this file\n"
     ]
    },
    {
     "name": "stderr",
     "output_type": "stream",
     "text": [
      " 68%|██████▊   | 262/384 [01:14<00:22,  5.52it/s]"
     ]
    },
    {
     "name": "stdout",
     "output_type": "stream",
     "text": [
      "file: `./data\\healthcare_data6.2\\JOM_1998_13_2_02_High-dose_intravenous_Vitamin_C_in_the_Treatment_of_A-.pdf` repeated, ignore this file\n"
     ]
    },
    {
     "name": "stderr",
     "output_type": "stream",
     "text": [
      " 70%|███████   | 269/384 [01:16<00:33,  3.48it/s]06/03/2024 20:34:50 - [WARNING] -pypdf._reader->>>    XRef object at 1069 can not be read, some object may be missing\n",
      " 72%|███████▏  | 275/384 [01:17<00:13,  7.95it/s]"
     ]
    },
    {
     "name": "stdout",
     "output_type": "stream",
     "text": [
      "file: `./data\\healthcare_data6.2\\JOM_1998_13_4_05_The_Health_of_the_NaturopathVitamin_Supplementation-.pdf` repeated, ignore this file\n",
      "file: `./data\\healthcare_data6.2\\JOM_1998_13_4_06_The_Application_of_the_Hardin_Jones-Pauling-.pdf` repeated, ignore this file\n",
      "file: `./data\\healthcare_data6.2\\JOM_1999_14_1_03_Treatment_of_Ambulant_Schizophrenics_with_Vitamin_B3-.pdf` repeated, ignore this file\n"
     ]
    },
    {
     "name": "stderr",
     "output_type": "stream",
     "text": [
      " 75%|███████▍  | 287/384 [01:21<00:31,  3.04it/s]"
     ]
    },
    {
     "name": "stdout",
     "output_type": "stream",
     "text": [
      "file: `./data\\healthcare_data6.2\\JOM_2000_15_4_02_Vitamin_C_as_Cancer_Therapy_An_Overview.pdf` repeated, ignore this file\n",
      "file: `./data\\healthcare_data6.2\\JOM_2000_15_4_03_Vitamin_C_Case_History_of_an_Alternative_Cancer_Therapy.pdf` repeated, ignore this file\n",
      "file: `./data\\healthcare_data6.2\\JOM_2000_15_4_04_Clinical_Evaluation_of_Vitamin_C_and_other-.pdf` repeated, ignore this file\n"
     ]
    },
    {
     "name": "stderr",
     "output_type": "stream",
     "text": [
      " 79%|███████▊  | 302/384 [01:24<00:16,  4.98it/s]"
     ]
    },
    {
     "name": "stdout",
     "output_type": "stream",
     "text": [
      "file: `./data\\healthcare_data6.2\\JOM_2001_16_3_08_Vitamin_C_in_Cardiovascular_Disease.pdf` repeated, ignore this file\n"
     ]
    },
    {
     "name": "stderr",
     "output_type": "stream",
     "text": [
      " 80%|████████  | 309/384 [01:26<00:15,  4.89it/s]"
     ]
    },
    {
     "name": "stdout",
     "output_type": "stream",
     "text": [
      "file: `./data\\healthcare_data6.2\\JOM_2002_17_1_03_The_Role_of_Vitamins_B3_and_C_in_the_Treatment-.pdf` repeated, ignore this file\n",
      "file: `./data\\healthcare_data6.2\\JOM_2002_17_1_04_Fatigue_and_Vitamin_C.pdf` repeated, ignore this file\n"
     ]
    },
    {
     "name": "stderr",
     "output_type": "stream",
     "text": [
      " 81%|████████  | 311/384 [01:28<00:33,  2.20it/s]06/03/2024 20:35:01 - [WARNING] -pypdf._reader->>>    XRef object at 1437 can not be read, some object may be missing\n",
      " 82%|████████▏ | 313/384 [01:31<01:05,  1.09it/s]"
     ]
    },
    {
     "name": "stdout",
     "output_type": "stream",
     "text": [
      "file: `./data\\healthcare_data6.2\\JOM_2002_17_2_06_Case_from_the_Center_Sixteen-Year_History_with_High-.pdf` repeated, ignore this file\n"
     ]
    },
    {
     "name": "stderr",
     "output_type": "stream",
     "text": [
      " 84%|████████▍ | 323/384 [01:36<00:22,  2.71it/s]"
     ]
    },
    {
     "name": "stdout",
     "output_type": "stream",
     "text": [
      "file: `./data\\healthcare_data6.2\\JOM_2002_17_4_07_Vitamin_C_and_Oxidative_DNA_Damage_Revisited.pdf` repeated, ignore this file\n"
     ]
    },
    {
     "name": "stderr",
     "output_type": "stream",
     "text": [
      " 86%|████████▌ | 330/384 [01:37<00:10,  4.92it/s]"
     ]
    },
    {
     "name": "stdout",
     "output_type": "stream",
     "text": [
      "file: `./data\\healthcare_data6.2\\JOM_2003_18_2_05_Effect_of_Vitamin_C_Supplementation_on_Ex_Vivo_Immune-.pdf` repeated, ignore this file\n"
     ]
    },
    {
     "name": "stderr",
     "output_type": "stream",
     "text": [
      " 88%|████████▊ | 339/384 [01:38<00:04,  9.28it/s]"
     ]
    },
    {
     "name": "stdout",
     "output_type": "stream",
     "text": [
      "file: `./data\\healthcare_data6.2\\JOM_2003_18_3-4_03_Vitamin_A_and_Beta-Carotene.pdf` repeated, ignore this file\n",
      "file: `./data\\healthcare_data6.2\\JOM_2003_18_3-4_04_Negative_and_Positive_Side_Effects_of_Vitamin_B3.pdf` repeated, ignore this file\n",
      "file: `./data\\healthcare_data6.2\\JOM_2003_18_3-4_05_Vitamin_B6_Extract_of_Submission_to_the_UK’s_Food-.pdf` repeated, ignore this file\n",
      "file: `./data\\healthcare_data6.2\\JOM_2003_18_3-4_08_The_Trials_and_Tribulations_of_Vitamin_C.pdf` repeated, ignore this file\n",
      "file: `./data\\healthcare_data6.2\\JOM_2003_18_3-4_09_The_Gift_of_Vitamin_C.pdf` repeated, ignore this file\n",
      "file: `./data\\healthcare_data6.2\\JOM_2003_18_3-4_10_Vitamin_D_Deficiency_Diversity_and_Dosage.pdf` repeated, ignore this file\n",
      "file: `./data\\healthcare_data6.2\\JOM_2003_18_3-4_11_Vitamin_E_A_Cure_in_Search_of_Recognition.pdf` repeated, ignore this file\n",
      "file: `./data\\healthcare_data6.2\\JOM_2003_18_3-4_12_Can_Vitamin_Supplements_Take_the_Place_of_a_Bad_Diet.pdf` repeated, ignore this file\n"
     ]
    },
    {
     "name": "stderr",
     "output_type": "stream",
     "text": [
      " 90%|█████████ | 347/384 [01:39<00:03, 10.29it/s]"
     ]
    },
    {
     "name": "stdout",
     "output_type": "stream",
     "text": [
      "file: `./data\\healthcare_data6.2\\JOM_2004_19_1_04_Vitamin_D_Supplementation_in_the_Fight_Against_Multiple-.pdf` repeated, ignore this file\n"
     ]
    },
    {
     "name": "stderr",
     "output_type": "stream",
     "text": [
      " 92%|█████████▏| 352/384 [01:40<00:06,  4.92it/s]"
     ]
    },
    {
     "name": "stdout",
     "output_type": "stream",
     "text": [
      "file: `./data\\healthcare_data6.2\\JOM_2004_19_4_02_The_Use_of_Vitamin_C_with_Chemotherapy_in_Cancer-.pdf` repeated, ignore this file\n"
     ]
    },
    {
     "name": "stderr",
     "output_type": "stream",
     "text": [
      " 93%|█████████▎| 356/384 [01:41<00:04,  6.37it/s]"
     ]
    },
    {
     "name": "stdout",
     "output_type": "stream",
     "text": [
      "file: `./data\\healthcare_data6.2\\JOM_2005_20_1_03_Folic_Acid_Vitamin_D_and_Prehistoric_Polymorphisms-.pdf` repeated, ignore this file\n"
     ]
    },
    {
     "name": "stderr",
     "output_type": "stream",
     "text": [
      " 93%|█████████▎| 359/384 [01:42<00:05,  4.29it/s]"
     ]
    },
    {
     "name": "stdout",
     "output_type": "stream",
     "text": [
      "file: `./data\\healthcare_data6.2\\JOM_2005_20_2_06_Vitamin_C_as_an_Ergogenic_Aid.pdf` repeated, ignore this file\n"
     ]
    },
    {
     "name": "stderr",
     "output_type": "stream",
     "text": [
      " 96%|█████████▌| 367/384 [01:45<00:08,  1.96it/s]"
     ]
    },
    {
     "name": "stdout",
     "output_type": "stream",
     "text": [
      "file: `./data\\healthcare_data6.2\\JOM_2005_20_4_07_Screening_for_Vitamin_C_in_the_Urine_Is_it_Clinically-.pdf` repeated, ignore this file\n"
     ]
    },
    {
     "name": "stderr",
     "output_type": "stream",
     "text": [
      " 99%|█████████▉| 381/384 [01:49<00:00,  4.90it/s]"
     ]
    },
    {
     "name": "stdout",
     "output_type": "stream",
     "text": [
      "file: `./data\\healthcare_data6.2\\JOM_2006_21_4_03_Special_Report_False_Positive_Finger_Stick_Blood-.pdf` repeated, ignore this file\n"
     ]
    },
    {
     "name": "stderr",
     "output_type": "stream",
     "text": [
      "100%|██████████| 384/384 [01:49<00:00,  3.51it/s]"
     ]
    },
    {
     "name": "stdout",
     "output_type": "stream",
     "text": [
      "file: `./data\\healthcare_data6.2\\nutrients-11-02205-with-cover.pdf` repeated, ignore this file\n",
      "file: `./data\\healthcare_data6.2\\nutrients-12-01181-with-cover.pdf` repeated, ignore this file\n",
      "repeated_files: ./data\\FM docs 2024.3\\JOM_1995_10_2_05_High_Dose_intravenous_Vitamin_C_and_Long_Time_Survival-.pdf, ./data\\FM docs 2024.3\\JOM_1996_11_2_04_Intravenous_Vitamin_C_in_A_Terminal_Cancer_Patient.pdf, ./data\\FM docs 2024.3\\JOM_1999_14_1_03_Treatment_of_Ambulant_Schizophrenics_with_Vitamin_B3-.pdf, ./data\\HealthCareData_5.8\\JOM_1996_11_1_08_Vitamin_C_and_Hot_Flashes_FACT_Use_in_Chronic-.pdf, ./data\\HealthCareData_5.8\\nutrients-14-03474-with-cover_副本.pdf, ./data\\healthcare_data6.2\\JOM_1981_10_4_03_Treatment_of_a_Mucopolysaccharide_Type_of_Storage-.pdf, ./data\\healthcare_data6.2\\JOM_1984_13_3_05_Nutrient_Pioneers_Alva_Rae_Patton_Conrad_Elvehjem.pdf, ./data\\healthcare_data6.2\\JOM_1989_04_2_07_Ascorbic_acid_and_mental_depression.pdf, ./data\\healthcare_data6.2\\JOM_1995_10_2_05_High_Dose_intravenous_Vitamin_C_and_Long_Time_Survival-.pdf, ./data\\healthcare_data6.2\\JOM_1995_10_3-4_08_Eye_Pressure_Lowering_Effect_of_Vitamin_C.pdf, ./data\\healthcare_data6.2\\JOM_1995_10_3-4_09_Orthomolecular_The_Optimum_Treatment_for_Schizophrenia.pdf, ./data\\healthcare_data6.2\\JOM_1995_10_3-4_10_Minerals_and_Disease.pdf, ./data\\healthcare_data6.2\\JOM_1996_11_1_02_Coronary_Artery_Occlusion_Chelation_and_Cholesterol-.pdf, ./data\\healthcare_data6.2\\JOM_1996_11_1_03_Hair_Trace_Element_Status_of_Appalachian_Head_Start-.pdf, ./data\\healthcare_data6.2\\JOM_1996_11_1_05_The_Serotonin_Connection.pdf, ./data\\healthcare_data6.2\\JOM_1996_11_1_07_Cranial_Electrical_Stimulation.pdf, ./data\\healthcare_data6.2\\JOM_1996_11_1_08_Vitamin_C_and_Hot_Flashes_FACT_Use_in_Chronic-.pdf, ./data\\healthcare_data6.2\\JOM_1996_11_2_04_Intravenous_Vitamin_C_in_A_Terminal_Cancer_Patient.pdf, ./data\\healthcare_data6.2\\JOM_1998_13_2_02_High-dose_intravenous_Vitamin_C_in_the_Treatment_of_A-.pdf, ./data\\healthcare_data6.2\\JOM_1998_13_4_05_The_Health_of_the_NaturopathVitamin_Supplementation-.pdf, ./data\\healthcare_data6.2\\JOM_1998_13_4_06_The_Application_of_the_Hardin_Jones-Pauling-.pdf, ./data\\healthcare_data6.2\\JOM_1999_14_1_03_Treatment_of_Ambulant_Schizophrenics_with_Vitamin_B3-.pdf, ./data\\healthcare_data6.2\\JOM_2000_15_4_02_Vitamin_C_as_Cancer_Therapy_An_Overview.pdf, ./data\\healthcare_data6.2\\JOM_2000_15_4_03_Vitamin_C_Case_History_of_an_Alternative_Cancer_Therapy.pdf, ./data\\healthcare_data6.2\\JOM_2000_15_4_04_Clinical_Evaluation_of_Vitamin_C_and_other-.pdf, ./data\\healthcare_data6.2\\JOM_2001_16_3_08_Vitamin_C_in_Cardiovascular_Disease.pdf, ./data\\healthcare_data6.2\\JOM_2002_17_1_03_The_Role_of_Vitamins_B3_and_C_in_the_Treatment-.pdf, ./data\\healthcare_data6.2\\JOM_2002_17_1_04_Fatigue_and_Vitamin_C.pdf, ./data\\healthcare_data6.2\\JOM_2002_17_2_06_Case_from_the_Center_Sixteen-Year_History_with_High-.pdf, ./data\\healthcare_data6.2\\JOM_2002_17_4_07_Vitamin_C_and_Oxidative_DNA_Damage_Revisited.pdf, ./data\\healthcare_data6.2\\JOM_2003_18_2_05_Effect_of_Vitamin_C_Supplementation_on_Ex_Vivo_Immune-.pdf, ./data\\healthcare_data6.2\\JOM_2003_18_3-4_03_Vitamin_A_and_Beta-Carotene.pdf, ./data\\healthcare_data6.2\\JOM_2003_18_3-4_04_Negative_and_Positive_Side_Effects_of_Vitamin_B3.pdf, ./data\\healthcare_data6.2\\JOM_2003_18_3-4_05_Vitamin_B6_Extract_of_Submission_to_the_UK’s_Food-.pdf, ./data\\healthcare_data6.2\\JOM_2003_18_3-4_08_The_Trials_and_Tribulations_of_Vitamin_C.pdf, ./data\\healthcare_data6.2\\JOM_2003_18_3-4_09_The_Gift_of_Vitamin_C.pdf, ./data\\healthcare_data6.2\\JOM_2003_18_3-4_10_Vitamin_D_Deficiency_Diversity_and_Dosage.pdf, ./data\\healthcare_data6.2\\JOM_2003_18_3-4_11_Vitamin_E_A_Cure_in_Search_of_Recognition.pdf, ./data\\healthcare_data6.2\\JOM_2003_18_3-4_12_Can_Vitamin_Supplements_Take_the_Place_of_a_Bad_Diet.pdf, ./data\\healthcare_data6.2\\JOM_2004_19_1_04_Vitamin_D_Supplementation_in_the_Fight_Against_Multiple-.pdf, ./data\\healthcare_data6.2\\JOM_2004_19_4_02_The_Use_of_Vitamin_C_with_Chemotherapy_in_Cancer-.pdf, ./data\\healthcare_data6.2\\JOM_2005_20_1_03_Folic_Acid_Vitamin_D_and_Prehistoric_Polymorphisms-.pdf, ./data\\healthcare_data6.2\\JOM_2005_20_2_06_Vitamin_C_as_an_Ergogenic_Aid.pdf, ./data\\healthcare_data6.2\\JOM_2005_20_4_07_Screening_for_Vitamin_C_in_the_Urine_Is_it_Clinically-.pdf, ./data\\healthcare_data6.2\\JOM_2006_21_4_03_Special_Report_False_Positive_Finger_Stick_Blood-.pdf, ./data\\healthcare_data6.2\\nutrients-11-02205-with-cover.pdf, ./data\\healthcare_data6.2\\nutrients-12-01181-with-cover.pdf, please delete them.\n"
     ]
    },
    {
     "name": "stderr",
     "output_type": "stream",
     "text": [
      "\n"
     ]
    },
    {
     "data": {
      "text/plain": [
       "[Document(page_content='Eye Pressure Lowering Effect of Vitamin C\\nHerschell H. Boyd, M.D.1\\nPurpose\\nTo document the pressure before the use\\nof vitamin C and after the daily intake of\\nmaximum amounts of vitamin C, three times\\na day.\\nMethods\\nThirty patients (16 men and 14 women)\\nwere advised to take three divided doses of\\nvitamin C in capsule form each day until\\nloose stools occured and then back downslightly from this amount (bowel dosage) for\\na daily intake. Average daily intake for all\\npatients was 10 grams per day.\\nResults\\nThe greatest lowering of pressure was 13\\nmm as measured with a Goldmann tonom-\\neter. The least lowering of pressure was 1\\nmm. The average for 30 patients was 10 mm.Thirty patients were controlled only with\\nvitamin C. Twenty patients were forced to\\nuse eye drops to lower the pressure below 20mm of mercury as they refused to take vita-\\nmin C.\\nConclusion\\nIn this series of 30 patients there was no\\noccasion in which the pressure was not low-ered with vitamin C. All drugs for glaucoma\\nare seriously toxic, and vitamin C has no\\ntoxicity yet known. The patients experiencedmany other good side effects from vitamin C\\nsuch as clearing of sinusitis, allergy symp-\\ntoms, arthritis improvement, cholesterol low-ering, laxative effect, diuretic effect for heart\\ndisease patients, and other improvements\\nassociated with vitamin C intake of “severalgrams per day” level. Ophthalmologists may\\nawaken to the marvels of vitamin C in treat-\\ning glaucoma!\\nIntroduction\\nVitamin C has been used since the trans-\\nformation of glucose, C\\n6H12O6, into vitamin\\n1. Eastview Professional Building, 1370 - 116th Avenue\\nN.E., Suite 212, Bellevue WA 98004-4679.\\n165C, C6H8O6, in the early 1930s. Its use in\\nlowering the pressure in glaucoma datesback to 1962 as reported in Experimental\\nEye Research.\\n1 Since then there have been\\nmany references in the foreign literature, butin the U.S. it has escaped the attention of the\\nophthalmologists. This study consists of fifty\\nconsecutive patients who presented withintraocular pressure greater than 20 mm of\\nmercury as measured with the Goldmann\\napplanation tonometer from August 1993through March 1995. The highest pressure\\nwas 36 mm of mercury in the study. Out of\\n50 patients, 20 patients refused to take vita-min C and eye drops were used to lower the\\npressure in the standard manner.\\nAge Distribution\\n30-39 40-49 50-59 60-80\\n165 1 8\\nVisual Fields\\nNo defects were found in any of the 50\\npatients.\\nGonioscopy\\nAll 50 patients had open angle, and no\\nangles were particularly closed.\\nVitamin C Taken\\nThe most vitamin C taken was 35 grams\\nper day divided in three doses at mealtime.\\nThis lady had chronic sinusitis and was quite\\npleased to be relieved of this problem afterseveral years of unsuccessful drug therapy.\\nThe least amount taken was one gram per\\nday in two patients. The average for the 30patients was 10 grams per day. It was sug-\\ngested that patients take “bowel dosage” and\\nthen back down, but this advice is almostalways ignored by patients as they feel the\\nidea is unreasonable and generally have this\\nreinforced by friends and relatives who givestatements of shock and dismay. But 20 out\\nof 30 patients did take ten or more grams per\\nday so perhaps we should be pleased withthis result.', metadata={'source': './data\\\\FM docs 2024.3\\\\Eye Pressure Lowering Effect of Vitamin C.pdf', 'page': 0}),\n",
       " Document(page_content=\"Journal of Orthomolecular Medicine     Vol. 10, No. 3 & 4, 1995\\n166Average Drop in Eye Pressure\\nRight Eye: 4.8 mmLeft Eye: 6.3 mm\\nBoth Eyes: 5.6 mm\\nIt is an interesting observation that indi-\\nviduals who take vitamin C regularly and\\nhave their intraocular pressure taken on a\\nroutine basis for their eye exam have pres-sures in the range of 10-13 mm of mercury\\ncommonly. It has been my experience that I\\nhave yet to find the first patient with apressure over 20 mm who comes into the\\noffice and admits to taking any amount of\\nvitamin C daily. It also seems to be generallytrue that those people who do have pressure\\nelevated for the first time are those treating\\nthemselves with various toxic drugs, smok-ing, eating processed foods, and living a life\\nstyle saturated with free radicals. I assume\\nthe little amount of vitamin C they eat in aday is not enough to keep the eye pressure\\nnormal. Another interesting observation is\\nthat patients who already have taken medi-cation for years are generally unable to stop\\nthe medication and reverse the high pressure\\nwith vitamin C. This group seems to fit thepicture of the diabetic group who finally are\\nplaced upon insulin by needle and cannot\\nlater usually get off the needle, whereas,before that the diabetes may be reversed.\\nGreatest Drop in Pressure\\nOne patient had the pressure decrease in\\none eye by 13 mm. Seven eyes dropped by\\n10 to 13 mm of mercury.\\nSide Effects\\nNo side effects were encountered as vita-\\nmin C apparently has none. All drugs we use\\nin glaucoma have multiple side effects in-\\ncluding death.\\nDiscussion\\nIt is said that the aqueous fluid in the eye\\nhas 25 times the amount of vitamin C as in\\nthe blood. This may explain why the pres-\\nsure decreased with the increased intake ofvitamin C with an opening of the many\\nchannels called Schlemm's canal. Any swell-\\ning in the area would be removed with theantihistamine effect of vitamin C. Further\\nresearch could explain the possibility.\\nAnother explanation of the lowering ef-\\nfect of vitamin C could be the ability ofvitamin C to increase the T4 cells. Maybe\\ndebris is removed from the Schlemm's canalby T4 cells so iris pigment and inflammatory\\ncells are unable to plug the outflow of the\\neye. Further studies could answer this ques-tion.\\nIn 1969, Dr. Erich Linner explained that\\nthe fall in pressure in ocular hypertensionwas due to a reduction in the rate of aqueous\\nflow and possibly by “bulk drainage by way\\nof posterior uveo-scleral routes”.\\n6\\nSince the patients in this study would not\\ntake “bowel dosage” of vitamin C, or that\\namount needed to loosen stools and thenback down in dosage, the effects of vitamin\\nC could be further improved from those\\nobtained in this study. The reparative effectsof vitamin C are certainly demonstrated and\\nin my experience can be seen as well in other\\neye diseases.\\nSince vitamin C makes collagen needed to\\nstrengthen the blood vessel walls, diabetics\\nquit bleeding in the retina and of courseelsewhere in the body. This reduces the need\\nfor laser treatment to the retina and in many\\ncases in the development of late glaucoma.In diabetes with an electron microscope the\\ncollagenous reticulum is absent at the site of\\nretinal microaneurism. These develop in longstanding diabetes and indicate a derange-\\nment in some slow metabolic process.\\n4 The\\nobvious savings financially for various pay-ers is staggering. We may see the day when\\nthese people are told to take vitamin C by the\\ninsurers as they are totally cost oriented andare unemotional in their thinking.\\nIt is generally agreed that macular degen-\\neration occurs in 25% of the U.S. populationover 55. This group can be helped enor-\\nmously with antioxidants to improve what\\nmacula is left and protect the macular fromworsening. People with glaucoma also be-\\ncome a major problem in management. In\\nmany cases my experience is that the visionmay improve dramatically with vitamin C\\nand other antioxidants. Here, too, it seems\\nlogical to effect life style changes to elimi-nate free radicals.\\nCataract removal represents the largest\\nsurgical expense in Medicare, and there aremany patients in my practice who improve\\nseveral lines of vision on the Snellen eye\\nchart. One dramatic example was a lady with20/40 who achieved 20/20 in eight weeks\", metadata={'source': './data\\\\FM docs 2024.3\\\\Eye Pressure Lowering Effect of Vitamin C.pdf', 'page': 1}),\n",
       " Document(page_content=\"Eye Pressure Lowering Effect of Vitamin C\\n167with 12 grams of vitamin C each day. She\\nwas a smoker in her early fifties, and she hascontinued to smoke with good reason to\\ncease.\\nGlaucoma accompanies the cataract pa-\\ntients so a daily intake of vitamin C could\\nsave the country literally in the billions of\\ndollars. This would admittedly be detrimen-tal to the financial health of ophthalmolo-\\ngists, but of course this is not the issue.\\nAscorbic acid has been reported to be of\\ntherapeutic benefit in numerous pathologi-\\ncal conditions, and researchers vary in their\\nestimates of the daily requirement needed byman. Animals which are capable of synthe-\\nsizing their own ascorbic acid usually have\\ntissue levels approaching saturation.\\nTherefore in man it would seem desirable\\nto ensure the intake of ascorbic C is suffi-\\nciently high for tissue saturation.\\n5 This pa-\\nper shows that in glaucoma, tissue saturation\\nis needed to lower intraocular pressure. In a\\nmodern world of processed foods and excessfree radicals, it is surprising that we have a\\nrelatively small group of glaucoma patients.\\nAscorbic acid concentrations have been\\nshown to change in the body under various\\nconditions of stress such as trauma, surgery,\\nexposure to cold, after the administration ofcortisone or ACTH and during infection.\\n5 In\\nophthalmology we need to give vitamin C\\nsupplements for any of the glaucoma surger-ies and for that matter with all our surgeries.\\nThe lens in the eye is necessary for main-\\ntaining the normal level of ascorbic acidwithin the aqueous humor, vitreous body\\nand the cornea. The diminution of the\\nintraocular ascorbic acid content does nottake place when traces of lens fibers are\\npresent in the eye.\\n3 This could be an interest-\\ning study for glaucoma and cataract removal.\\nThe structure of the vitreous body de-\\npends upon both the integrity of the mesh\\nwork of collagen fibrils and on the mainte-nance of the polymeric state of the muco-\\npolysaccharide hyaluronic acid. With a defi-\\nciency in vitamin C, abnormal mucopoly-saccharide formation occurs. Disorganiza-\\ntion of the vitreous body with the formation\\nof vitreous bands is often associated withretinal detachment.\\n5 Here also the associa-\\ntion of glaucoma with these people would be\\nan interesting observation.\\nMichele Virno, M.D. used intravenousvitamin C of 0.4 to 1.0 gram per 1 kg body\\nweight to induce a “marked ocular hypotonyin approximately 60 to 90 minutes”. These\\ngood results instigated the idea to use vita-\\nmin C by mouth to lower intraocular pres-sure.\\n3\\nVirno found in 1967 that 0.5 g per 1 kg of\\nbody weight of vitamin C in all patients withglaucoma a reduction of intraocular pres-\\nsure was obtained. The C was given 3 to 4\\ntimes per day, and in some patients whocould not be controlled with diamox and 2%\\npilocarpine\\n1it was possible to obtain almost\\nnormal pressures.\\nErich Linner, M.D. gave only 0.5 gram\\nvitamin C twice a day for 4 to 6 weeks and\\nonly decreased the pressure by 2 to 3 mm Hgafter two days of use. As Michele Virno,\\nM.D. concluded, this was not enough, but\\nthe idea was good in 1964.\\n2\\nIrwin Stone, Ph.D. in his book of 1972\\nmade the remark “of all the disorders afflict-\\ning man, blindness causes the most wide-spread disability. Yet in spite of significant\\nadvances in eye research, the incidence of\\nblindness is increasing. Megascorbic therapymight one day help to reverse this trend.”\\nDoctor Stone reports that from 1965 to\\n1969 there were numerous papers reportedon the prompt reduction of the intraocular\\npressure with two American journals in 1966\\nand 1967 reporting on the good results fromItalian workers. There have been no Ameri-\\ncan authors reporting on this exacting re-\\nsearch or treatment of their patients.\\n7\\nDoctor Stone made the very accurate ob-\\nservation that “research should be started\\nimmediately on population groups near fortyand older to determine the long-term effect\\nof the inhibition of glaucoma by means of\\nthe continued daily intake of about 3 to 5grams of ascorbic acid. This will help to\\ndetermine if a simple and harmless ascorbic\\nacid regimen can be worked out which willprevent blindness in our senior citizens.”\\nCataracts and macular degeneration that are\\nmore common than glaucoma would haveimmense benefit.\\nIt is the experience of this author that\\nprivate patients do not present with maculardegeneration, cataracts to remove, or glau-\\ncoma who have taken vitamins for years\\nwith ascorbic acid. One has to ask why it isthat physicians in ophtahlmology don't tell\", metadata={'source': './data\\\\FM docs 2024.3\\\\Eye Pressure Lowering Effect of Vitamin C.pdf', 'page': 2}),\n",
       " Document(page_content=\"Journal of Orthomolecular Medicine     Vol. 10, No. 3 & 4, 1995\\n168every patient to take the antioxidants with\\ntissue saturation levels of vitamin C? Theanswer may be:\\n1. It is not taught in medical school.\\n2. Friends and associates don't use it.3. Medical literature does not have it cur-\\nrently.\\n4. Standard of care does not include this\\ntreatment.\\n5. Fear of being out of “main stream” medi-\\ncine.\\n6. Fear of a lawyer charging that the “stand-\\nard of care was not met”.\\n7. Double blind studies have not been done\\nrecently.\\n8. No office has a drug salesman selling\\nvitamin C as there is not profit.\\n9. Many patients cannot accept a treatment\\nthat does not involve drugs, as they al-\\nways get from all other doctors.\\n10. Fear of losing the confidence of a pa-\\ntient, his friends and his family.\\n11. Insurance payors will not reimburse the\\npatient for treatment not on their toxic\\ndrug list.\\n12. In glaucoma with even the best of drug\\ntherapy an adverse result may occur with\\na resulting lawsuit and no help from the\\nexperts in glaucoma called upon to tes-tify.\\nWhy don't Medical Schools do research\\non vitamin C? As a past member of theAdvisory Board in the medical school at\\nVanderbilt in Nashville, Tenessee, this same\\nquestion was asked of the Vice Chancellor.The response was that at Vanderbilt Medical\\nSchool the salaries of the workers there are\\npaid by research grants from drug compa-nies and from the National Institute of Health\\nin Washington, D.C. These two areas don't\\nfund vitamin C. If a source of private moneycould be found, the medical school would be\\npleased to do studies as desired. A private\\nfoundation may be the salvation of the glau-coma patients, and, of course, the many\\nother areas we need to treat.\\nConclusion\\n1. Vitamin C does lower the intraocular\\npressure in all patients with elevatedpressure.\\n2. Toxicity is non-existent.\\n3. Side effects of vitamin C were all posi-\\ntive; a) clearing of chronic sinusitis ofmany years, b) improvement of arthritis\\nsymptoms, c) lowering of cholesterol, d)improvement of visual acuity in macular\\ndegeneration.\\n4. Twenty of 50 consecutive patients re-\\nfused to take the vitamin C as instructed\\nand preferred to be treated with eye drops.\\n5. The largest drop in pressure was 13 mm\\nHg.\\n6. The average drop was 5.6 mm Hg.\\n7. The average amount of vitamin C taken\\ndaily was 10 grams in three divided doses\\nat meal time.\\n8. “Bowel dosage” was resisted by patients.9. All other vitamins were included with\\nvitamin C.\\nReferences\\n1. Virno M, Bucci M: Oral treatment of\\nGlaucoma with Vitamin C, The Eye, Ear,\\nNose and Throat Monthly , Vol. 46, 1502-\\n1508, Dec. 1967.\\n2. Linner E: Intra-ocular Pressure Regulation\\nand Ascorbic Acid, Acta Soc. Med. Upsol  59,\\n225, 1964.\\n3. Virno M, Bucci M, et al: Intravenous Glycerol-\\nVitamin C (Sodium Salt) as Osmotic Agentsto Reduce Intraocular Pressure, American\\nJournal of Ophthalmology , pp. 824-833, Vol.\\n62, No. 5, Nov. 1966.\\n4. Pope CN: Diabetes 9, 9, 1960.5. Heath: The Distribution and Possible\\nFunctions of Ascorbic Acid in the Eye, Exp.\\nEye Res.  1, 362-367, 1962.\\n6. Linner E: The Pressure Lowering Effect of\\nAscorbic Acid in Ocular Hypertension, ACTA\\nOphthalmologica , Vol. 47, pp. 685-689, 1969.\\n7. Stone Irwin: The Healing Factor “Vitamin\\nC” Against Disease , Gorsset & Dunlap, N.Y.,\\n126-132, 1972.\", metadata={'source': './data\\\\FM docs 2024.3\\\\Eye Pressure Lowering Effect of Vitamin C.pdf', 'page': 3}),\n",
       " Document(page_content='Case Report JOM Volume  31, Number 1, 2016 19High Dose Intravenous Vitamin C \\nTreatment for Zika Fever\\n \\n Michael J. Gonzalez, NMD, DSc, PhD, FACN;1 Miguel J. Berdie,l MD;2 Jorgé R. Miranda- \\nMassari, PharmD;2 Jorgé Duconge, PhD;1 Joshua L. Rodríguez-López, BS;3 Pedro A. \\nAdrover-López, BS 3\\n¹University of Puerto Rico, Medical Sciences Campus, Schools of Public Health and Pharmacy, San Juan, PR, 00936-5067 \\n²Berdiel Clinic, Ponce, PR, 00716\\n3Ponce Health Sciences University, School of Medicine, Ponce, PR, 00716\\nAbstract  /T_he Zika Fever is a viral disease caused by a single-stranded RNA virus from the Fla -\\nvivirus genus, Flaviviridae family, from the Spondweni group. Its transmission occurs through \\nmosquito vectors, principally Aedes Aegypti. /T_he most common symptoms of Zika are fever, rash, joint \\npain, and conjunctivitis (red eyes). Other common symptoms include muscle pain and headache. As of \\nnow, no vaccine exists for the virus and no o ﬃcial treatment has been developed aside from standard \\nprocedures of the use of acetaminophen (paracetamol) and non-steroidal anti-in /f_lammatory drugs.  \\n/T_his is a case report of a 54 year-old Hispanic female who arrived at the clinic with symptomatology \\ncongruent with the Zika fever. /T_he patient was treated with high doses of intravenous vitamin C \\nover three days. /T_he symptoms resolved after the infusions without any side e ﬀects at day four. Re -\\ncovery from this viral infection takes normally around two weeks. Based on the positive outcome in \\nthis case, we propose that intravenous vitamin C should be studied further as a potential treatment \\nfor acute viral infections.\\nIntroduction\\nZika virus (ZIKV) is a member of the \\nvirus family Flaviviridae and the genus \\nFlavivirus (Knipe et al, 2007). Like other \\n/f_laviviruses, Zika virus is enveloped and \\nicosahedral and has a nonsegmented, single-\\nstranded, positive-sense RNA genome. It \\nis spread by daytime active Aedes mosqui -\\ntoes, such as A. Aegypti and A. Albopictus \\n(Knipe et al, 2007). Its name comes from \\nthe Zika Forest of Uganda, where the virus \\nwas /f_irst isolated in 1947 (European Center \\nfor Disease Prevention and Control, 2015). \\nZika virus is related to dengue, yellow fever, \\nJapanese encephalitis, and West Nile viruses  (European Center for Disease Prevention and \\nControl, 2015). As of February 2016, there are \\nthree reported cases indicating that Zika virus \\ncould possibly be sexually transmitted (World \\nHealth Organization, 2016a).\\n/T_he infection, known as Zika fever, often \\ncauses none or only mild symptoms, simi -\\nlar to a mild form of dengue fever (Knipe \\net al, 2007). /T_he illness cannot be prevented \\nby medications or vaccines and is treated \\nmainly by rest (Chen et al, 2016). Zika fe -\\nver in pregnant women is associated with \\nmicrocephaly but it is unclear whether the \\nvirus is the cause (Knipe et al, 2007; Cable \\nNews Network, 2015; Centers for Disease ', metadata={'source': './data\\\\FM docs 2024.3\\\\High-Dose-Intravenous-Vitamin-C-Treatment-for-Zika-Fever-31.1.pdf', 'page': 0})]"
      ]
     },
     "execution_count": 9,
     "metadata": {},
     "output_type": "execute_result"
    }
   ],
   "source": [
    "# 加载目标文件\n",
    "docs = get_text(file_list)\n",
    "docs[:5]"
   ]
  },
  {
   "cell_type": "markdown",
   "metadata": {},
   "source": [
    "# 文本分块"
   ]
  },
  {
   "cell_type": "code",
   "execution_count": 10,
   "metadata": {},
   "outputs": [
    {
     "data": {
      "text/plain": [
       "<langchain_text_splitters.character.RecursiveCharacterTextSplitter at 0x1f59db3faf0>"
      ]
     },
     "execution_count": 10,
     "metadata": {},
     "output_type": "execute_result"
    }
   ],
   "source": [
    "# 对文本进行分块\n",
    "text_splitter = RecursiveCharacterTextSplitter(chunk_size = 768, chunk_overlap = 32)\n",
    "text_splitter"
   ]
  },
  {
   "cell_type": "code",
   "execution_count": 11,
   "metadata": {},
   "outputs": [
    {
     "data": {
      "text/plain": [
       "[Document(page_content='Eye Pressure Lowering Effect of Vitamin C\\nHerschell H. Boyd, M.D.1\\nPurpose\\nTo document the pressure before the use\\nof vitamin C and after the daily intake of\\nmaximum amounts of vitamin C, three times\\na day.\\nMethods\\nThirty patients (16 men and 14 women)\\nwere advised to take three divided doses of\\nvitamin C in capsule form each day until\\nloose stools occured and then back downslightly from this amount (bowel dosage) for\\na daily intake. Average daily intake for all\\npatients was 10 grams per day.\\nResults\\nThe greatest lowering of pressure was 13\\nmm as measured with a Goldmann tonom-\\neter. The least lowering of pressure was 1\\nmm. The average for 30 patients was 10 mm.Thirty patients were controlled only with\\nvitamin C. Twenty patients were forced to', metadata={'source': './data\\\\FM docs 2024.3\\\\Eye Pressure Lowering Effect of Vitamin C.pdf', 'page': 0}),\n",
       " Document(page_content='use eye drops to lower the pressure below 20mm of mercury as they refused to take vita-\\nmin C.\\nConclusion\\nIn this series of 30 patients there was no\\noccasion in which the pressure was not low-ered with vitamin C. All drugs for glaucoma\\nare seriously toxic, and vitamin C has no\\ntoxicity yet known. The patients experiencedmany other good side effects from vitamin C\\nsuch as clearing of sinusitis, allergy symp-\\ntoms, arthritis improvement, cholesterol low-ering, laxative effect, diuretic effect for heart\\ndisease patients, and other improvements\\nassociated with vitamin C intake of “severalgrams per day” level. Ophthalmologists may\\nawaken to the marvels of vitamin C in treat-\\ning glaucoma!\\nIntroduction\\nVitamin C has been used since the trans-', metadata={'source': './data\\\\FM docs 2024.3\\\\Eye Pressure Lowering Effect of Vitamin C.pdf', 'page': 0}),\n",
       " Document(page_content='formation of glucose, C\\n6H12O6, into vitamin\\n1. Eastview Professional Building, 1370 - 116th Avenue\\nN.E., Suite 212, Bellevue WA 98004-4679.\\n165C, C6H8O6, in the early 1930s. Its use in\\nlowering the pressure in glaucoma datesback to 1962 as reported in Experimental\\nEye Research.\\n1 Since then there have been\\nmany references in the foreign literature, butin the U.S. it has escaped the attention of the\\nophthalmologists. This study consists of fifty\\nconsecutive patients who presented withintraocular pressure greater than 20 mm of\\nmercury as measured with the Goldmann\\napplanation tonometer from August 1993through March 1995. The highest pressure\\nwas 36 mm of mercury in the study. Out of', metadata={'source': './data\\\\FM docs 2024.3\\\\Eye Pressure Lowering Effect of Vitamin C.pdf', 'page': 0}),\n",
       " Document(page_content='50 patients, 20 patients refused to take vita-min C and eye drops were used to lower the\\npressure in the standard manner.\\nAge Distribution\\n30-39 40-49 50-59 60-80\\n165 1 8\\nVisual Fields\\nNo defects were found in any of the 50\\npatients.\\nGonioscopy\\nAll 50 patients had open angle, and no\\nangles were particularly closed.\\nVitamin C Taken\\nThe most vitamin C taken was 35 grams\\nper day divided in three doses at mealtime.\\nThis lady had chronic sinusitis and was quite\\npleased to be relieved of this problem afterseveral years of unsuccessful drug therapy.\\nThe least amount taken was one gram per\\nday in two patients. The average for the 30patients was 10 grams per day. It was sug-\\ngested that patients take “bowel dosage” and', metadata={'source': './data\\\\FM docs 2024.3\\\\Eye Pressure Lowering Effect of Vitamin C.pdf', 'page': 0}),\n",
       " Document(page_content='then back down, but this advice is almostalways ignored by patients as they feel the\\nidea is unreasonable and generally have this\\nreinforced by friends and relatives who givestatements of shock and dismay. But 20 out\\nof 30 patients did take ten or more grams per\\nday so perhaps we should be pleased withthis result.', metadata={'source': './data\\\\FM docs 2024.3\\\\Eye Pressure Lowering Effect of Vitamin C.pdf', 'page': 0})]"
      ]
     },
     "execution_count": 11,
     "metadata": {},
     "output_type": "execute_result"
    }
   ],
   "source": [
    "split_docs = text_splitter.split_documents(docs)\n",
    "split_docs[:5]"
   ]
  },
  {
   "cell_type": "markdown",
   "metadata": {},
   "source": [
    "# 向量化保存数据库"
   ]
  },
  {
   "cell_type": "code",
   "execution_count": 12,
   "metadata": {},
   "outputs": [],
   "source": [
    "# 定义持久化路径\n",
    "persist_directory = './vector_db/faiss_reranker'\n",
    "embedding_model_path = \"./models/bce-embedding-base_v1\""
   ]
  },
  {
   "cell_type": "code",
   "execution_count": 13,
   "metadata": {},
   "outputs": [
    {
     "name": "stderr",
     "output_type": "stream",
     "text": [
      "06/03/2024 20:35:26 - [INFO] -datasets->>>    PyTorch version 2.2.2+cu121 available.\n",
      "06/03/2024 20:35:27 - [INFO] -sentence_transformers.SentenceTransformer->>>    Load pretrained SentenceTransformer: ./models/bce-embedding-base_v1\n"
     ]
    },
    {
     "data": {
      "text/plain": [
       "HuggingFaceEmbeddings(client=SentenceTransformer(\n",
       "  (0): Transformer({'max_seq_length': 512, 'do_lower_case': False}) with Transformer model: XLMRobertaModel \n",
       "  (1): Pooling({'word_embedding_dimension': 768, 'pooling_mode_cls_token': True, 'pooling_mode_mean_tokens': False, 'pooling_mode_max_tokens': False, 'pooling_mode_mean_sqrt_len_tokens': False, 'pooling_mode_weightedmean_tokens': False, 'pooling_mode_lasttoken': False, 'include_prompt': True})\n",
       "  (2): Normalize()\n",
       "), model_name='./models/bce-embedding-base_v1', cache_folder=None, model_kwargs={'device': 'cuda'}, encode_kwargs={'normalize_embeddings': True}, multi_process=False, show_progress=False)"
      ]
     },
     "execution_count": 13,
     "metadata": {},
     "output_type": "execute_result"
    }
   ],
   "source": [
    "# 加载开源词向量模型\n",
    "embeddings = HuggingFaceEmbeddings(\n",
    "    model_name = embedding_model_path,\n",
    "    model_kwargs = {'device': 'cuda'},\n",
    "    encode_kwargs = {\n",
    "        'normalize_embeddings': True    # 尽可能保证相似度在0~1之间\n",
    "    }\n",
    ")\n",
    "embeddings"
   ]
  },
  {
   "cell_type": "code",
   "execution_count": 14,
   "metadata": {},
   "outputs": [
    {
     "data": {
      "text/plain": [
       "HuggingFaceEmbeddings(client=SentenceTransformer(\n",
       "  (0): Transformer({'max_seq_length': 512, 'do_lower_case': False}) with Transformer model: XLMRobertaModel \n",
       "  (1): Pooling({'word_embedding_dimension': 768, 'pooling_mode_cls_token': True, 'pooling_mode_mean_tokens': False, 'pooling_mode_max_tokens': False, 'pooling_mode_mean_sqrt_len_tokens': False, 'pooling_mode_weightedmean_tokens': False, 'pooling_mode_lasttoken': False, 'include_prompt': True})\n",
       "  (2): Normalize()\n",
       "), model_name='./models/bce-embedding-base_v1', cache_folder=None, model_kwargs={'device': 'cuda'}, encode_kwargs={'normalize_embeddings': True}, multi_process=False, show_progress=False)"
      ]
     },
     "execution_count": 14,
     "metadata": {},
     "output_type": "execute_result"
    }
   ],
   "source": [
    "embeddings.client = embeddings.client.half()\n",
    "embeddings"
   ]
  },
  {
   "cell_type": "code",
   "execution_count": 15,
   "metadata": {},
   "outputs": [
    {
     "name": "stdout",
     "output_type": "stream",
     "text": [
      "Help on method from_documents in module langchain_core.vectorstores:\n",
      "\n",
      "from_documents(documents: 'List[Document]', embedding: 'Embeddings', **kwargs: 'Any') -> 'VST' method of abc.ABCMeta instance\n",
      "    Return VectorStore initialized from documents and embeddings.\n",
      "\n"
     ]
    }
   ],
   "source": [
    "help(FAISS.from_documents)"
   ]
  },
  {
   "cell_type": "code",
   "execution_count": 16,
   "metadata": {},
   "outputs": [
    {
     "name": "stderr",
     "output_type": "stream",
     "text": [
      "06/03/2024 20:39:02 - [INFO] -faiss.loader->>>    Loading faiss with AVX2 support.\n",
      "06/03/2024 20:39:02 - [INFO] -faiss.loader->>>    Successfully loaded faiss with AVX2 support.\n"
     ]
    },
    {
     "data": {
      "text/plain": [
       "<langchain_community.vectorstores.faiss.FAISS at 0x1f5f9e090f0>"
      ]
     },
     "execution_count": 16,
     "metadata": {},
     "output_type": "execute_result"
    }
   ],
   "source": [
    "# 构建向量数据库\n",
    "vectordb = FAISS.from_documents(\n",
    "    documents = split_docs,\n",
    "    embedding = embeddings,\n",
    ")\n",
    "vectordb"
   ]
  },
  {
   "cell_type": "code",
   "execution_count": 17,
   "metadata": {},
   "outputs": [],
   "source": [
    "vectordb.save_local(folder_path = persist_directory)"
   ]
  },
  {
   "cell_type": "markdown",
   "metadata": {},
   "source": [
    "# 加载数据库"
   ]
  },
  {
   "cell_type": "code",
   "execution_count": 18,
   "metadata": {},
   "outputs": [
    {
     "data": {
      "text/plain": [
       "<langchain_community.vectorstores.faiss.FAISS at 0x1f64ab3a8c0>"
      ]
     },
     "execution_count": 18,
     "metadata": {},
     "output_type": "execute_result"
    }
   ],
   "source": [
    "# 加载数据库\n",
    "vectordb = FAISS.load_local(\n",
    "    folder_path = persist_directory,\n",
    "    embeddings = embeddings,\n",
    "    allow_dangerous_deserialization = True, # 允许读取pickle\n",
    "    # faiss 仅支持 EUCLIDEAN_DISTANCE MAX_INNER_PRODUCT COSINE\n",
    "    distance_strategy = DistanceStrategy.MAX_INNER_PRODUCT, # refer: https://github.com/InternLM/HuixiangDou/blob/main/huixiangdou/service/retriever.py\n",
    "    normalize_L2 = False,\n",
    ")\n",
    "vectordb"
   ]
  },
  {
   "cell_type": "code",
   "execution_count": 19,
   "metadata": {},
   "outputs": [],
   "source": [
    "query = \"Eye Pressure Lowering Effect of Vitamin C\""
   ]
  },
  {
   "cell_type": "markdown",
   "metadata": {},
   "source": [
    "# search"
   ]
  },
  {
   "cell_type": "markdown",
   "metadata": {},
   "source": [
    "## search"
   ]
  },
  {
   "cell_type": "code",
   "execution_count": 20,
   "metadata": {},
   "outputs": [
    {
     "name": "stdout",
     "output_type": "stream",
     "text": [
      "Help on method search in module langchain_core.vectorstores:\n",
      "\n",
      "search(query: 'str', search_type: 'str', **kwargs: 'Any') -> 'List[Document]' method of langchain_community.vectorstores.faiss.FAISS instance\n",
      "    Return docs most similar to query using specified search type.\n",
      "\n"
     ]
    }
   ],
   "source": [
    "help(vectordb.search)"
   ]
  },
  {
   "cell_type": "code",
   "execution_count": 21,
   "metadata": {},
   "outputs": [
    {
     "data": {
      "text/plain": [
       "[Document(page_content='Eye Pressure Lowering Effect of Vitamin C\\nHerschell H. Boyd, M.D.1\\nPurpose\\nTo document the pressure before the use\\nof vitamin C and after the daily intake of\\nmaximum amounts of vitamin C, three times\\na day.\\nMethods\\nThirty patients (16 men and 14 women)\\nwere advised to take three divided doses of\\nvitamin C in capsule form each day until\\nloose stools occured and then back downslightly from this amount (bowel dosage) for\\na daily intake. Average daily intake for all\\npatients was 10 grams per day.\\nResults\\nThe greatest lowering of pressure was 13\\nmm as measured with a Goldmann tonom-\\neter. The least lowering of pressure was 1\\nmm. The average for 30 patients was 10 mm.Thirty patients were controlled only with\\nvitamin C. Twenty patients were forced to', metadata={'source': './data\\\\FM docs 2024.3\\\\Eye Pressure Lowering Effect of Vitamin C.pdf', 'page': 0}),\n",
       " Document(page_content='use eye drops to lower the pressure below 20mm of mercury as they refused to take vita-\\nmin C.\\nConclusion\\nIn this series of 30 patients there was no\\noccasion in which the pressure was not low-ered with vitamin C. All drugs for glaucoma\\nare seriously toxic, and vitamin C has no\\ntoxicity yet known. The patients experiencedmany other good side effects from vitamin C\\nsuch as clearing of sinusitis, allergy symp-\\ntoms, arthritis improvement, cholesterol low-ering, laxative effect, diuretic effect for heart\\ndisease patients, and other improvements\\nassociated with vitamin C intake of “severalgrams per day” level. Ophthalmologists may\\nawaken to the marvels of vitamin C in treat-\\ning glaucoma!\\nIntroduction\\nVitamin C has been used since the trans-', metadata={'source': './data\\\\FM docs 2024.3\\\\Eye Pressure Lowering Effect of Vitamin C.pdf', 'page': 0}),\n",
       " Document(page_content='50 patients, 20 patients refused to take vita-min C and eye drops were used to lower the\\npressure in the standard manner.\\nAge Distribution\\n30-39 40-49 50-59 60-80\\n165 1 8\\nVisual Fields\\nNo defects were found in any of the 50\\npatients.\\nGonioscopy\\nAll 50 patients had open angle, and no\\nangles were particularly closed.\\nVitamin C Taken\\nThe most vitamin C taken was 35 grams\\nper day divided in three doses at mealtime.\\nThis lady had chronic sinusitis and was quite\\npleased to be relieved of this problem afterseveral years of unsuccessful drug therapy.\\nThe least amount taken was one gram per\\nday in two patients. The average for the 30patients was 10 grams per day. It was sug-\\ngested that patients take “bowel dosage” and', metadata={'source': './data\\\\FM docs 2024.3\\\\Eye Pressure Lowering Effect of Vitamin C.pdf', 'page': 0}),\n",
       " Document(page_content='Journal of Orthomolecular Medicine     Vol. 10, No. 3 & 4, 1995\\n166Average Drop in Eye Pressure\\nRight Eye: 4.8 mmLeft Eye: 6.3 mm\\nBoth Eyes: 5.6 mm\\nIt is an interesting observation that indi-\\nviduals who take vitamin C regularly and\\nhave their intraocular pressure taken on a\\nroutine basis for their eye exam have pres-sures in the range of 10-13 mm of mercury\\ncommonly. It has been my experience that I\\nhave yet to find the first patient with apressure over 20 mm who comes into the\\noffice and admits to taking any amount of\\nvitamin C daily. It also seems to be generallytrue that those people who do have pressure\\nelevated for the first time are those treating\\nthemselves with various toxic drugs, smok-ing, eating processed foods, and living a life', metadata={'source': './data\\\\FM docs 2024.3\\\\Eye Pressure Lowering Effect of Vitamin C.pdf', 'page': 1})]"
      ]
     },
     "execution_count": 21,
     "metadata": {},
     "output_type": "execute_result"
    }
   ],
   "source": [
    "# search_type: 'similarity' or 'mmr'.\n",
    "similarity_documents = vectordb.search(query = query, search_type = 'similarity', k = 4, fetch_k = 20)\n",
    "similarity_documents"
   ]
  },
  {
   "cell_type": "markdown",
   "metadata": {},
   "source": [
    "## similarity_search"
   ]
  },
  {
   "cell_type": "code",
   "execution_count": 22,
   "metadata": {},
   "outputs": [
    {
     "name": "stdout",
     "output_type": "stream",
     "text": [
      "Help on method similarity_search in module langchain_community.vectorstores.faiss:\n",
      "\n",
      "similarity_search(query: 'str', k: 'int' = 4, filter: 'Optional[Union[Callable, Dict[str, Any]]]' = None, fetch_k: 'int' = 20, **kwargs: 'Any') -> 'List[Document]' method of langchain_community.vectorstores.faiss.FAISS instance\n",
      "    Return docs most similar to query.\n",
      "    \n",
      "    Args:\n",
      "        query: Text to look up documents similar to.\n",
      "        k: Number of Documents to return. Defaults to 4.\n",
      "        filter: (Optional[Dict[str, str]]): Filter by metadata. Defaults to None.\n",
      "        fetch_k: (Optional[int]) Number of Documents to fetch before filtering.\n",
      "                  Defaults to 20.\n",
      "    \n",
      "    Returns:\n",
      "        List of Documents most similar to the query.\n",
      "\n"
     ]
    }
   ],
   "source": [
    "help(vectordb.similarity_search)"
   ]
  },
  {
   "cell_type": "code",
   "execution_count": 23,
   "metadata": {},
   "outputs": [
    {
     "data": {
      "text/plain": [
       "[Document(page_content='Eye Pressure Lowering Effect of Vitamin C\\nHerschell H. Boyd, M.D.1\\nPurpose\\nTo document the pressure before the use\\nof vitamin C and after the daily intake of\\nmaximum amounts of vitamin C, three times\\na day.\\nMethods\\nThirty patients (16 men and 14 women)\\nwere advised to take three divided doses of\\nvitamin C in capsule form each day until\\nloose stools occured and then back downslightly from this amount (bowel dosage) for\\na daily intake. Average daily intake for all\\npatients was 10 grams per day.\\nResults\\nThe greatest lowering of pressure was 13\\nmm as measured with a Goldmann tonom-\\neter. The least lowering of pressure was 1\\nmm. The average for 30 patients was 10 mm.Thirty patients were controlled only with\\nvitamin C. Twenty patients were forced to', metadata={'source': './data\\\\FM docs 2024.3\\\\Eye Pressure Lowering Effect of Vitamin C.pdf', 'page': 0}),\n",
       " Document(page_content='use eye drops to lower the pressure below 20mm of mercury as they refused to take vita-\\nmin C.\\nConclusion\\nIn this series of 30 patients there was no\\noccasion in which the pressure was not low-ered with vitamin C. All drugs for glaucoma\\nare seriously toxic, and vitamin C has no\\ntoxicity yet known. The patients experiencedmany other good side effects from vitamin C\\nsuch as clearing of sinusitis, allergy symp-\\ntoms, arthritis improvement, cholesterol low-ering, laxative effect, diuretic effect for heart\\ndisease patients, and other improvements\\nassociated with vitamin C intake of “severalgrams per day” level. Ophthalmologists may\\nawaken to the marvels of vitamin C in treat-\\ning glaucoma!\\nIntroduction\\nVitamin C has been used since the trans-', metadata={'source': './data\\\\FM docs 2024.3\\\\Eye Pressure Lowering Effect of Vitamin C.pdf', 'page': 0}),\n",
       " Document(page_content='50 patients, 20 patients refused to take vita-min C and eye drops were used to lower the\\npressure in the standard manner.\\nAge Distribution\\n30-39 40-49 50-59 60-80\\n165 1 8\\nVisual Fields\\nNo defects were found in any of the 50\\npatients.\\nGonioscopy\\nAll 50 patients had open angle, and no\\nangles were particularly closed.\\nVitamin C Taken\\nThe most vitamin C taken was 35 grams\\nper day divided in three doses at mealtime.\\nThis lady had chronic sinusitis and was quite\\npleased to be relieved of this problem afterseveral years of unsuccessful drug therapy.\\nThe least amount taken was one gram per\\nday in two patients. The average for the 30patients was 10 grams per day. It was sug-\\ngested that patients take “bowel dosage” and', metadata={'source': './data\\\\FM docs 2024.3\\\\Eye Pressure Lowering Effect of Vitamin C.pdf', 'page': 0}),\n",
       " Document(page_content='Journal of Orthomolecular Medicine     Vol. 10, No. 3 & 4, 1995\\n166Average Drop in Eye Pressure\\nRight Eye: 4.8 mmLeft Eye: 6.3 mm\\nBoth Eyes: 5.6 mm\\nIt is an interesting observation that indi-\\nviduals who take vitamin C regularly and\\nhave their intraocular pressure taken on a\\nroutine basis for their eye exam have pres-sures in the range of 10-13 mm of mercury\\ncommonly. It has been my experience that I\\nhave yet to find the first patient with apressure over 20 mm who comes into the\\noffice and admits to taking any amount of\\nvitamin C daily. It also seems to be generallytrue that those people who do have pressure\\nelevated for the first time are those treating\\nthemselves with various toxic drugs, smok-ing, eating processed foods, and living a life', metadata={'source': './data\\\\FM docs 2024.3\\\\Eye Pressure Lowering Effect of Vitamin C.pdf', 'page': 1})]"
      ]
     },
     "execution_count": 23,
     "metadata": {},
     "output_type": "execute_result"
    }
   ],
   "source": [
    "similarity_documents = vectordb.similarity_search(query = query, k = 4, fetch_k = 20)\n",
    "similarity_documents"
   ]
  },
  {
   "cell_type": "code",
   "execution_count": 24,
   "metadata": {},
   "outputs": [
    {
     "data": {
      "text/plain": [
       "['./data\\\\FM docs 2024.3\\\\Eye Pressure Lowering Effect of Vitamin C.pdf']"
      ]
     },
     "execution_count": 24,
     "metadata": {},
     "output_type": "execute_result"
    }
   ],
   "source": [
    "similarity_documents_reference = list(set([doc.metadata['source'] for doc in similarity_documents]))\n",
    "similarity_documents_reference"
   ]
  },
  {
   "cell_type": "markdown",
   "metadata": {},
   "source": [
    "## similarity_search_with_score"
   ]
  },
  {
   "cell_type": "code",
   "execution_count": 25,
   "metadata": {},
   "outputs": [
    {
     "name": "stdout",
     "output_type": "stream",
     "text": [
      "Help on method similarity_search_with_score in module langchain_community.vectorstores.faiss:\n",
      "\n",
      "similarity_search_with_score(query: 'str', k: 'int' = 4, filter: 'Optional[Union[Callable, Dict[str, Any]]]' = None, fetch_k: 'int' = 20, **kwargs: 'Any') -> 'List[Tuple[Document, float]]' method of langchain_community.vectorstores.faiss.FAISS instance\n",
      "    Return docs most similar to query.\n",
      "    \n",
      "    Args:\n",
      "        query: Text to look up documents similar to.\n",
      "        k: Number of Documents to return. Defaults to 4.\n",
      "        filter (Optional[Dict[str, str]]): Filter by metadata.\n",
      "            Defaults to None. If a callable, it must take as input the\n",
      "            metadata dict of Document and return a bool.\n",
      "    \n",
      "        fetch_k: (Optional[int]) Number of Documents to fetch before filtering.\n",
      "                  Defaults to 20.\n",
      "    \n",
      "    Returns:\n",
      "        List of documents most similar to the query text with\n",
      "        L2 distance in float. Lower score represents more similarity.\n",
      "\n"
     ]
    }
   ],
   "source": [
    "help(vectordb.similarity_search_with_score)"
   ]
  },
  {
   "cell_type": "code",
   "execution_count": 26,
   "metadata": {},
   "outputs": [
    {
     "data": {
      "text/plain": [
       "[(Document(page_content='Eye Pressure Lowering Effect of Vitamin C\\nHerschell H. Boyd, M.D.1\\nPurpose\\nTo document the pressure before the use\\nof vitamin C and after the daily intake of\\nmaximum amounts of vitamin C, three times\\na day.\\nMethods\\nThirty patients (16 men and 14 women)\\nwere advised to take three divided doses of\\nvitamin C in capsule form each day until\\nloose stools occured and then back downslightly from this amount (bowel dosage) for\\na daily intake. Average daily intake for all\\npatients was 10 grams per day.\\nResults\\nThe greatest lowering of pressure was 13\\nmm as measured with a Goldmann tonom-\\neter. The least lowering of pressure was 1\\nmm. The average for 30 patients was 10 mm.Thirty patients were controlled only with\\nvitamin C. Twenty patients were forced to', metadata={'source': './data\\\\FM docs 2024.3\\\\Eye Pressure Lowering Effect of Vitamin C.pdf', 'page': 0}),\n",
       "  0.31897402),\n",
       " (Document(page_content='use eye drops to lower the pressure below 20mm of mercury as they refused to take vita-\\nmin C.\\nConclusion\\nIn this series of 30 patients there was no\\noccasion in which the pressure was not low-ered with vitamin C. All drugs for glaucoma\\nare seriously toxic, and vitamin C has no\\ntoxicity yet known. The patients experiencedmany other good side effects from vitamin C\\nsuch as clearing of sinusitis, allergy symp-\\ntoms, arthritis improvement, cholesterol low-ering, laxative effect, diuretic effect for heart\\ndisease patients, and other improvements\\nassociated with vitamin C intake of “severalgrams per day” level. Ophthalmologists may\\nawaken to the marvels of vitamin C in treat-\\ning glaucoma!\\nIntroduction\\nVitamin C has been used since the trans-', metadata={'source': './data\\\\FM docs 2024.3\\\\Eye Pressure Lowering Effect of Vitamin C.pdf', 'page': 0}),\n",
       "  0.5914958),\n",
       " (Document(page_content='50 patients, 20 patients refused to take vita-min C and eye drops were used to lower the\\npressure in the standard manner.\\nAge Distribution\\n30-39 40-49 50-59 60-80\\n165 1 8\\nVisual Fields\\nNo defects were found in any of the 50\\npatients.\\nGonioscopy\\nAll 50 patients had open angle, and no\\nangles were particularly closed.\\nVitamin C Taken\\nThe most vitamin C taken was 35 grams\\nper day divided in three doses at mealtime.\\nThis lady had chronic sinusitis and was quite\\npleased to be relieved of this problem afterseveral years of unsuccessful drug therapy.\\nThe least amount taken was one gram per\\nday in two patients. The average for the 30patients was 10 grams per day. It was sug-\\ngested that patients take “bowel dosage” and', metadata={'source': './data\\\\FM docs 2024.3\\\\Eye Pressure Lowering Effect of Vitamin C.pdf', 'page': 0}),\n",
       "  0.5934002),\n",
       " (Document(page_content='Journal of Orthomolecular Medicine     Vol. 10, No. 3 & 4, 1995\\n166Average Drop in Eye Pressure\\nRight Eye: 4.8 mmLeft Eye: 6.3 mm\\nBoth Eyes: 5.6 mm\\nIt is an interesting observation that indi-\\nviduals who take vitamin C regularly and\\nhave their intraocular pressure taken on a\\nroutine basis for their eye exam have pres-sures in the range of 10-13 mm of mercury\\ncommonly. It has been my experience that I\\nhave yet to find the first patient with apressure over 20 mm who comes into the\\noffice and admits to taking any amount of\\nvitamin C daily. It also seems to be generallytrue that those people who do have pressure\\nelevated for the first time are those treating\\nthemselves with various toxic drugs, smok-ing, eating processed foods, and living a life', metadata={'source': './data\\\\FM docs 2024.3\\\\Eye Pressure Lowering Effect of Vitamin C.pdf', 'page': 1}),\n",
       "  0.5990593)]"
      ]
     },
     "execution_count": 26,
     "metadata": {},
     "output_type": "execute_result"
    }
   ],
   "source": [
    "similarity_documents = vectordb.similarity_search_with_score(query = query, k = 4, fetch_k = 20)\n",
    "similarity_documents"
   ]
  },
  {
   "cell_type": "code",
   "execution_count": 27,
   "metadata": {},
   "outputs": [
    {
     "data": {
      "text/plain": [
       "(0.31897402, 0.5914958, 0.5934002, 0.5990593)"
      ]
     },
     "execution_count": 27,
     "metadata": {},
     "output_type": "execute_result"
    }
   ],
   "source": [
    "documents, scores = zip(*similarity_documents)\n",
    "scores"
   ]
  },
  {
   "cell_type": "markdown",
   "metadata": {},
   "source": [
    "## similarity_search_with_relevance_scores"
   ]
  },
  {
   "cell_type": "code",
   "execution_count": 28,
   "metadata": {},
   "outputs": [
    {
     "name": "stdout",
     "output_type": "stream",
     "text": [
      "Help on method similarity_search_with_relevance_scores in module langchain_core.vectorstores:\n",
      "\n",
      "similarity_search_with_relevance_scores(query: 'str', k: 'int' = 4, **kwargs: 'Any') -> 'List[Tuple[Document, float]]' method of langchain_community.vectorstores.faiss.FAISS instance\n",
      "    Return docs and relevance scores in the range [0, 1].\n",
      "    \n",
      "    0 is dissimilar, 1 is most similar.\n",
      "    \n",
      "    Args:\n",
      "        query: input text\n",
      "        k: Number of Documents to return. Defaults to 4.\n",
      "        **kwargs: kwargs to be passed to similarity search. Should include:\n",
      "            score_threshold: Optional, a floating point value between 0 to 1 to\n",
      "                filter the resulting set of retrieved docs\n",
      "    \n",
      "    Returns:\n",
      "        List of Tuples of (doc, similarity_score)\n",
      "\n"
     ]
    }
   ],
   "source": [
    "help(vectordb.similarity_search_with_relevance_scores)"
   ]
  },
  {
   "cell_type": "code",
   "execution_count": 29,
   "metadata": {},
   "outputs": [
    {
     "data": {
      "text/plain": [
       "[(Document(page_content='Eye Pressure Lowering Effect of Vitamin C\\nHerschell H. Boyd, M.D.1\\nPurpose\\nTo document the pressure before the use\\nof vitamin C and after the daily intake of\\nmaximum amounts of vitamin C, three times\\na day.\\nMethods\\nThirty patients (16 men and 14 women)\\nwere advised to take three divided doses of\\nvitamin C in capsule form each day until\\nloose stools occured and then back downslightly from this amount (bowel dosage) for\\na daily intake. Average daily intake for all\\npatients was 10 grams per day.\\nResults\\nThe greatest lowering of pressure was 13\\nmm as measured with a Goldmann tonom-\\neter. The least lowering of pressure was 1\\nmm. The average for 30 patients was 10 mm.Thirty patients were controlled only with\\nvitamin C. Twenty patients were forced to', metadata={'source': './data\\\\FM docs 2024.3\\\\Eye Pressure Lowering Effect of Vitamin C.pdf', 'page': 0}),\n",
       "  0.6810259819030762),\n",
       " (Document(page_content='use eye drops to lower the pressure below 20mm of mercury as they refused to take vita-\\nmin C.\\nConclusion\\nIn this series of 30 patients there was no\\noccasion in which the pressure was not low-ered with vitamin C. All drugs for glaucoma\\nare seriously toxic, and vitamin C has no\\ntoxicity yet known. The patients experiencedmany other good side effects from vitamin C\\nsuch as clearing of sinusitis, allergy symp-\\ntoms, arthritis improvement, cholesterol low-ering, laxative effect, diuretic effect for heart\\ndisease patients, and other improvements\\nassociated with vitamin C intake of “severalgrams per day” level. Ophthalmologists may\\nawaken to the marvels of vitamin C in treat-\\ning glaucoma!\\nIntroduction\\nVitamin C has been used since the trans-', metadata={'source': './data\\\\FM docs 2024.3\\\\Eye Pressure Lowering Effect of Vitamin C.pdf', 'page': 0}),\n",
       "  0.4085041880607605),\n",
       " (Document(page_content='50 patients, 20 patients refused to take vita-min C and eye drops were used to lower the\\npressure in the standard manner.\\nAge Distribution\\n30-39 40-49 50-59 60-80\\n165 1 8\\nVisual Fields\\nNo defects were found in any of the 50\\npatients.\\nGonioscopy\\nAll 50 patients had open angle, and no\\nangles were particularly closed.\\nVitamin C Taken\\nThe most vitamin C taken was 35 grams\\nper day divided in three doses at mealtime.\\nThis lady had chronic sinusitis and was quite\\npleased to be relieved of this problem afterseveral years of unsuccessful drug therapy.\\nThe least amount taken was one gram per\\nday in two patients. The average for the 30patients was 10 grams per day. It was sug-\\ngested that patients take “bowel dosage” and', metadata={'source': './data\\\\FM docs 2024.3\\\\Eye Pressure Lowering Effect of Vitamin C.pdf', 'page': 0}),\n",
       "  0.40659981966018677),\n",
       " (Document(page_content='Journal of Orthomolecular Medicine     Vol. 10, No. 3 & 4, 1995\\n166Average Drop in Eye Pressure\\nRight Eye: 4.8 mmLeft Eye: 6.3 mm\\nBoth Eyes: 5.6 mm\\nIt is an interesting observation that indi-\\nviduals who take vitamin C regularly and\\nhave their intraocular pressure taken on a\\nroutine basis for their eye exam have pres-sures in the range of 10-13 mm of mercury\\ncommonly. It has been my experience that I\\nhave yet to find the first patient with apressure over 20 mm who comes into the\\noffice and admits to taking any amount of\\nvitamin C daily. It also seems to be generallytrue that those people who do have pressure\\nelevated for the first time are those treating\\nthemselves with various toxic drugs, smok-ing, eating processed foods, and living a life', metadata={'source': './data\\\\FM docs 2024.3\\\\Eye Pressure Lowering Effect of Vitamin C.pdf', 'page': 1}),\n",
       "  0.4009407162666321)]"
      ]
     },
     "execution_count": 29,
     "metadata": {},
     "output_type": "execute_result"
    }
   ],
   "source": [
    "similarity_documents = vectordb.similarity_search_with_relevance_scores(query = query, k = 4, fetch_k = 20)\n",
    "similarity_documents"
   ]
  },
  {
   "cell_type": "code",
   "execution_count": 30,
   "metadata": {},
   "outputs": [
    {
     "data": {
      "text/plain": [
       "(0.6810259819030762,\n",
       " 0.4085041880607605,\n",
       " 0.40659981966018677,\n",
       " 0.4009407162666321)"
      ]
     },
     "execution_count": 30,
     "metadata": {},
     "output_type": "execute_result"
    }
   ],
   "source": [
    "documents, scores = zip(*similarity_documents)\n",
    "scores"
   ]
  },
  {
   "cell_type": "markdown",
   "metadata": {},
   "source": [
    "## similarity_search_by_vector"
   ]
  },
  {
   "cell_type": "code",
   "execution_count": 31,
   "metadata": {},
   "outputs": [
    {
     "name": "stdout",
     "output_type": "stream",
     "text": [
      "Help on method similarity_search_by_vector in module langchain_community.vectorstores.faiss:\n",
      "\n",
      "similarity_search_by_vector(embedding: 'List[float]', k: 'int' = 4, filter: 'Optional[Dict[str, Any]]' = None, fetch_k: 'int' = 20, **kwargs: 'Any') -> 'List[Document]' method of langchain_community.vectorstores.faiss.FAISS instance\n",
      "    Return docs most similar to embedding vector.\n",
      "    \n",
      "    Args:\n",
      "        embedding: Embedding to look up documents similar to.\n",
      "        k: Number of Documents to return. Defaults to 4.\n",
      "        filter (Optional[Dict[str, str]]): Filter by metadata.\n",
      "            Defaults to None. If a callable, it must take as input the\n",
      "            metadata dict of Document and return a bool.\n",
      "    \n",
      "        fetch_k: (Optional[int]) Number of Documents to fetch before filtering.\n",
      "                  Defaults to 20.\n",
      "    \n",
      "    Returns:\n",
      "        List of Documents most similar to the embedding.\n",
      "\n"
     ]
    }
   ],
   "source": [
    "help(vectordb.similarity_search_by_vector)"
   ]
  },
  {
   "cell_type": "markdown",
   "metadata": {},
   "source": [
    "## similarity_search_with_score_by_vector"
   ]
  },
  {
   "cell_type": "code",
   "execution_count": 32,
   "metadata": {},
   "outputs": [
    {
     "name": "stdout",
     "output_type": "stream",
     "text": [
      "Help on method similarity_search_with_score_by_vector in module langchain_community.vectorstores.faiss:\n",
      "\n",
      "similarity_search_with_score_by_vector(embedding: 'List[float]', k: 'int' = 4, filter: 'Optional[Union[Callable, Dict[str, Any]]]' = None, fetch_k: 'int' = 20, **kwargs: 'Any') -> 'List[Tuple[Document, float]]' method of langchain_community.vectorstores.faiss.FAISS instance\n",
      "    Return docs most similar to query.\n",
      "    \n",
      "    Args:\n",
      "        embedding: Embedding vector to look up documents similar to.\n",
      "        k: Number of Documents to return. Defaults to 4.\n",
      "        filter (Optional[Union[Callable, Dict[str, Any]]]): Filter by metadata.\n",
      "            Defaults to None. If a callable, it must take as input the\n",
      "            metadata dict of Document and return a bool.\n",
      "        fetch_k: (Optional[int]) Number of Documents to fetch before filtering.\n",
      "                  Defaults to 20.\n",
      "        **kwargs: kwargs to be passed to similarity search. Can include:\n",
      "            score_threshold: Optional, a floating point value between 0 to 1 to\n",
      "                filter the resulting set of retrieved docs\n",
      "    \n",
      "    Returns:\n",
      "        List of documents most similar to the query text and L2 distance\n",
      "        in float for each. Lower score represents more similarity.\n",
      "\n"
     ]
    }
   ],
   "source": [
    "help(vectordb.similarity_search_with_score_by_vector)"
   ]
  },
  {
   "cell_type": "markdown",
   "metadata": {},
   "source": [
    "# retriever"
   ]
  },
  {
   "cell_type": "code",
   "execution_count": 33,
   "metadata": {},
   "outputs": [
    {
     "name": "stdout",
     "output_type": "stream",
     "text": [
      "Help on method as_retriever in module langchain_core.vectorstores:\n",
      "\n",
      "as_retriever(**kwargs: 'Any') -> 'VectorStoreRetriever' method of langchain_community.vectorstores.faiss.FAISS instance\n",
      "    Return VectorStoreRetriever initialized from this VectorStore.\n",
      "    \n",
      "    Args:\n",
      "        search_type (Optional[str]): Defines the type of search that\n",
      "            the Retriever should perform.\n",
      "            Can be \"similarity\" (default), \"mmr\", or\n",
      "            \"similarity_score_threshold\".\n",
      "        search_kwargs (Optional[Dict]): Keyword arguments to pass to the\n",
      "            search function. Can include things like:\n",
      "                k: Amount of documents to return (Default: 4)\n",
      "                score_threshold: Minimum relevance threshold\n",
      "                    for similarity_score_threshold\n",
      "                fetch_k: Amount of documents to pass to MMR algorithm (Default: 20)\n",
      "                lambda_mult: Diversity of results returned by MMR;\n",
      "                    1 for minimum diversity and 0 for maximum. (Default: 0.5)\n",
      "                filter: Filter by document metadata\n",
      "    \n",
      "    Returns:\n",
      "        VectorStoreRetriever: Retriever class for VectorStore.\n",
      "    \n",
      "    Examples:\n",
      "    \n",
      "    .. code-block:: python\n",
      "    \n",
      "        # Retrieve more documents with higher diversity\n",
      "        # Useful if your dataset has many similar documents\n",
      "        docsearch.as_retriever(\n",
      "            search_type=\"mmr\",\n",
      "            search_kwargs={'k': 6, 'lambda_mult': 0.25}\n",
      "        )\n",
      "    \n",
      "        # Fetch more documents for the MMR algorithm to consider\n",
      "        # But only return the top 5\n",
      "        docsearch.as_retriever(\n",
      "            search_type=\"mmr\",\n",
      "            search_kwargs={'k': 5, 'fetch_k': 50}\n",
      "        )\n",
      "    \n",
      "        # Only retrieve documents that have a relevance score\n",
      "        # Above a certain threshold\n",
      "        docsearch.as_retriever(\n",
      "            search_type=\"similarity_score_threshold\",\n",
      "            search_kwargs={'score_threshold': 0.8}\n",
      "        )\n",
      "    \n",
      "        # Only get the single most similar document from the dataset\n",
      "        docsearch.as_retriever(search_kwargs={'k': 1})\n",
      "    \n",
      "        # Use a filter to only retrieve documents from a specific paper\n",
      "        docsearch.as_retriever(\n",
      "            search_kwargs={'filter': {'paper_title':'GPT-4 Technical Report'}}\n",
      "        )\n",
      "\n"
     ]
    }
   ],
   "source": [
    "help(vectordb.as_retriever)"
   ]
  },
  {
   "cell_type": "code",
   "execution_count": 34,
   "metadata": {},
   "outputs": [
    {
     "data": {
      "text/plain": [
       "VectorStoreRetriever(tags=['FAISS', 'HuggingFaceEmbeddings'], vectorstore=<langchain_community.vectorstores.faiss.FAISS object at 0x000001F64AB3A8C0>, search_type='similarity_score_threshold', search_kwargs={'k': 4, 'score_threshold': 0.15, 'fetch_k': 20})"
      ]
     },
     "execution_count": 34,
     "metadata": {},
     "output_type": "execute_result"
    }
   ],
   "source": [
    "# search_type: 'similarity', 'similarity_score_threshold', 'mmr'\n",
    "retriever = vectordb.as_retriever(\n",
    "    search_type = \"similarity_score_threshold\",\n",
    "    search_kwargs = {\"k\": 4, \"score_threshold\": 0.15, \"fetch_k\": 20}\n",
    ")\n",
    "retriever"
   ]
  },
  {
   "cell_type": "code",
   "execution_count": 35,
   "metadata": {},
   "outputs": [
    {
     "data": {
      "text/plain": [
       "<langchain_community.vectorstores.faiss.FAISS at 0x1f64ab3a8c0>"
      ]
     },
     "execution_count": 35,
     "metadata": {},
     "output_type": "execute_result"
    }
   ],
   "source": [
    "retriever.vectorstore"
   ]
  },
  {
   "cell_type": "markdown",
   "metadata": {},
   "source": [
    "## invoke"
   ]
  },
  {
   "cell_type": "code",
   "execution_count": 36,
   "metadata": {},
   "outputs": [
    {
     "name": "stdout",
     "output_type": "stream",
     "text": [
      "Help on method invoke in module langchain_core.retrievers:\n",
      "\n",
      "invoke(input: 'str', config: 'Optional[RunnableConfig]' = None, **kwargs: 'Any') -> 'List[Document]' method of langchain_core.vectorstores.VectorStoreRetriever instance\n",
      "    Invoke the retriever to get relevant documents.\n",
      "    \n",
      "    Main entry point for synchronous retriever invocations.\n",
      "    \n",
      "    Args:\n",
      "        input: The query string\n",
      "        config: Configuration for the retriever\n",
      "        **kwargs: Additional arguments to pass to the retriever\n",
      "    \n",
      "    Returns:\n",
      "        List of relevant documents\n",
      "    \n",
      "    Examples:\n",
      "    \n",
      "    .. code-block:: python\n",
      "    \n",
      "        retriever.invoke(\"query\")\n",
      "\n"
     ]
    }
   ],
   "source": [
    "help(retriever.invoke)"
   ]
  },
  {
   "cell_type": "code",
   "execution_count": 37,
   "metadata": {},
   "outputs": [
    {
     "data": {
      "text/plain": [
       "[Document(page_content='Eye Pressure Lowering Effect of Vitamin C\\nHerschell H. Boyd, M.D.1\\nPurpose\\nTo document the pressure before the use\\nof vitamin C and after the daily intake of\\nmaximum amounts of vitamin C, three times\\na day.\\nMethods\\nThirty patients (16 men and 14 women)\\nwere advised to take three divided doses of\\nvitamin C in capsule form each day until\\nloose stools occured and then back downslightly from this amount (bowel dosage) for\\na daily intake. Average daily intake for all\\npatients was 10 grams per day.\\nResults\\nThe greatest lowering of pressure was 13\\nmm as measured with a Goldmann tonom-\\neter. The least lowering of pressure was 1\\nmm. The average for 30 patients was 10 mm.Thirty patients were controlled only with\\nvitamin C. Twenty patients were forced to', metadata={'source': './data\\\\FM docs 2024.3\\\\Eye Pressure Lowering Effect of Vitamin C.pdf', 'page': 0}),\n",
       " Document(page_content='use eye drops to lower the pressure below 20mm of mercury as they refused to take vita-\\nmin C.\\nConclusion\\nIn this series of 30 patients there was no\\noccasion in which the pressure was not low-ered with vitamin C. All drugs for glaucoma\\nare seriously toxic, and vitamin C has no\\ntoxicity yet known. The patients experiencedmany other good side effects from vitamin C\\nsuch as clearing of sinusitis, allergy symp-\\ntoms, arthritis improvement, cholesterol low-ering, laxative effect, diuretic effect for heart\\ndisease patients, and other improvements\\nassociated with vitamin C intake of “severalgrams per day” level. Ophthalmologists may\\nawaken to the marvels of vitamin C in treat-\\ning glaucoma!\\nIntroduction\\nVitamin C has been used since the trans-', metadata={'source': './data\\\\FM docs 2024.3\\\\Eye Pressure Lowering Effect of Vitamin C.pdf', 'page': 0}),\n",
       " Document(page_content='50 patients, 20 patients refused to take vita-min C and eye drops were used to lower the\\npressure in the standard manner.\\nAge Distribution\\n30-39 40-49 50-59 60-80\\n165 1 8\\nVisual Fields\\nNo defects were found in any of the 50\\npatients.\\nGonioscopy\\nAll 50 patients had open angle, and no\\nangles were particularly closed.\\nVitamin C Taken\\nThe most vitamin C taken was 35 grams\\nper day divided in three doses at mealtime.\\nThis lady had chronic sinusitis and was quite\\npleased to be relieved of this problem afterseveral years of unsuccessful drug therapy.\\nThe least amount taken was one gram per\\nday in two patients. The average for the 30patients was 10 grams per day. It was sug-\\ngested that patients take “bowel dosage” and', metadata={'source': './data\\\\FM docs 2024.3\\\\Eye Pressure Lowering Effect of Vitamin C.pdf', 'page': 0}),\n",
       " Document(page_content='Journal of Orthomolecular Medicine     Vol. 10, No. 3 & 4, 1995\\n166Average Drop in Eye Pressure\\nRight Eye: 4.8 mmLeft Eye: 6.3 mm\\nBoth Eyes: 5.6 mm\\nIt is an interesting observation that indi-\\nviduals who take vitamin C regularly and\\nhave their intraocular pressure taken on a\\nroutine basis for their eye exam have pres-sures in the range of 10-13 mm of mercury\\ncommonly. It has been my experience that I\\nhave yet to find the first patient with apressure over 20 mm who comes into the\\noffice and admits to taking any amount of\\nvitamin C daily. It also seems to be generallytrue that those people who do have pressure\\nelevated for the first time are those treating\\nthemselves with various toxic drugs, smok-ing, eating processed foods, and living a life', metadata={'source': './data\\\\FM docs 2024.3\\\\Eye Pressure Lowering Effect of Vitamin C.pdf', 'page': 1})]"
      ]
     },
     "execution_count": 37,
     "metadata": {},
     "output_type": "execute_result"
    }
   ],
   "source": [
    "similarity_documents = retriever.invoke(query)\n",
    "similarity_documents"
   ]
  },
  {
   "cell_type": "code",
   "execution_count": 38,
   "metadata": {},
   "outputs": [
    {
     "name": "stderr",
     "output_type": "stream",
     "text": [
      "f:\\Miniconda3\\envs\\llm\\lib\\site-packages\\langchain_core\\vectorstores.py:330: UserWarning: Relevance scores must be between 0 and 1, got [(Document(page_content='It is absolutely essential to become accustomed \\nto eating \"lunch\" for breakfast, lunch, and dinner \\n— in other words, the same food all day long — \\nand to ignore or forget the standard American \\neggs, toast, milk, and cereal breakfast. Some \\nchildren enjoy calling this their \"cave man\" diet, \\nbecause, after all, the cave man probably had no \\nmilk, refined sugar, or cultivated grain. \\n(2) Why rotate foods over an entire week \\ninstead of over a shorter period of time?  \\nIt takes four to five days for the effect of an \\nallergenic food to wear off after it has been eaten, \\nproviding it has not been re-eaten during the same \\nperiod of time. \\n(3) Does a \"little bit\" of any food really mat \\nter? \\nYes, it does. In order to get results from this', metadata={'source': './data\\\\FM docs 2024.3\\\\JOM_1973_02_3_03_Clinical_Observations_on_the_Treatment_of_Schizophrenic-.pdf', 'page': 7}), -0.12831592559814453), (Document(page_content='SUNDAY:  turkey  corn                          grapefruit Mazola marg.  spinach  \\nMay add salt. Drink only water, except *any pure fruit juice may be used the same day the fruit is on the list. Sugars and spic es \\nare food and should be tested as such (see p. 3 of instructions). Meats are to be fried in their own grease, baked, or broiled. Fruit \\nand vegetables are eaten raw or cooked at  home. Additional fruits and vegetables may be added if found in the market — use \\nonly once a week.  \\n \\n ROTATING DIET WORKED OUT BY A MOTHER FOR A TEENAGER   \\n SUNDAY  MONDAY  TUESDAY  WEDNESDAY THURSDAY  FRIDAY  SATURDAY  \\nCitrus Fruit  Grapefruit  Oranges  Tangerines  Berries  Limes  Pineapple or \\nPapaya  Lemon  \\nCarbohy Fruit  Apples  Dates Plums or', metadata={'source': './data\\\\FM docs 2024.3\\\\JOM_1973_02_3_03_Clinical_Observations_on_the_Treatment_of_Schizophrenic-.pdf', 'page': 10}), -0.1586017608642578), (Document(page_content='have adapted to it and should fast now and then \\nto force our bodies to react. Perhaps this explains \\nsome of the benefit of the fast in people who have \\nno food allergies. But the type of malnutrition \\ncurrent today became possible only when our \\ntechnology discovered how to separate our food \\ninto its chemical components and to reconstitute \\nthem into what appears to be food. These food \\nartifacts are engineered to appeal to our visual \\nand taste instincts. They are sweet and colorful, \\nbut they have almost ignored the prime function \\nof food—to nourish.   A   California   physician   \\nhas declared, \"If man made it, don\\'t eat it.\" This is \\nsurely a powerful indictment of most of our \\nprocessed foods. \\nThe type of malnutrition which is particularly', metadata={'source': './data\\\\FM docs 2024.3\\\\JOM_1977_06_1_01_Does_Ascorbic_Acid_Destroy_Vitamin_B12.pdf', 'page': 1}), -0.1794271469116211), (Document(page_content='habits. I also discovered that the craving for \\nalcohol and other drugs was diminished by a \\nprotein \"cocktail\" at breakfast consisting of: \\nMixing in a blender—4 oz. of unsweetened juice, \\n1 tablespoon (heaping) of protein powder, and 1 \\nteaspoon unheated  honey, with the option of \\nadding an egg or 1/2  ripe banana on occasion, if \\ndesired. They were also asked to take the same \\nsupplements listed above, together with the high-\\nprotein, low-carbohydrate diet. \\nThe diet* was carefully covered with each \\nperson with them listin g foods or beverages \\nconsumed daily . They were particularly \\nencouraged to leave those foods out of their diets \\nfor three to four weeks and then to be aware of \\nhow they felt when one of the foods was eaten', metadata={'source': './data\\\\FM docs 2024.3\\\\JOM_1977_06_1_01_Does_Ascorbic_Acid_Destroy_Vitamin_B12.pdf', 'page': 2}), -0.18926727771759033)]\n",
      "  warnings.warn(\n",
      "f:\\Miniconda3\\envs\\llm\\lib\\site-packages\\langchain_core\\vectorstores.py:342: UserWarning: No relevant docs were retrieved using the relevance score threshold 0.15\n",
      "  warnings.warn(\n"
     ]
    },
    {
     "data": {
      "text/plain": [
       "[]"
      ]
     },
     "execution_count": 38,
     "metadata": {},
     "output_type": "execute_result"
    }
   ],
   "source": [
    "similarity_documents = retriever.invoke(\"今天吃了吗\")\n",
    "similarity_documents"
   ]
  },
  {
   "cell_type": "markdown",
   "metadata": {},
   "source": [
    "# 重排序\n",
    "参考： https://github.com/InternLM/HuixiangDou/blob/main/huixiangdou/service/retriever.py"
   ]
  },
  {
   "cell_type": "code",
   "execution_count": 39,
   "metadata": {},
   "outputs": [
    {
     "data": {
      "text/plain": [
       "VectorStoreRetriever(tags=['FAISS', 'HuggingFaceEmbeddings'], vectorstore=<langchain_community.vectorstores.faiss.FAISS object at 0x000001F64AB3A8C0>, search_type='similarity_score_threshold', search_kwargs={'k': 30, 'score_threshold': 0.15})"
      ]
     },
     "execution_count": 39,
     "metadata": {},
     "output_type": "execute_result"
    }
   ],
   "source": [
    "# search_type: 'similarity', 'similarity_score_threshold', 'mmr'\n",
    "retriever = vectordb.as_retriever(\n",
    "    search_type = \"similarity_score_threshold\",\n",
    "    search_kwargs = {\"k\": 30, \"score_threshold\": 0.15}\n",
    ")\n",
    "retriever"
   ]
  },
  {
   "cell_type": "code",
   "execution_count": 40,
   "metadata": {},
   "outputs": [],
   "source": [
    "reranker_model_path = \"./models/bce-reranker-base_v1\""
   ]
  },
  {
   "cell_type": "code",
   "execution_count": 41,
   "metadata": {},
   "outputs": [
    {
     "name": "stderr",
     "output_type": "stream",
     "text": [
      "06/03/2024 20:39:30 - [INFO] -BCEmbedding.models.RerankerModel->>>    Loading from `./models/bce-reranker-base_v1`.\n",
      "06/03/2024 20:39:30 - [INFO] -BCEmbedding.models.RerankerModel->>>    Execute device: cuda;\t gpu num: 1;\t use fp16: True\n"
     ]
    },
    {
     "data": {
      "text/plain": [
       "BCERerank(client='BCEmbedding.models.RerankerModel', top_n=4, model='./models/bce-reranker-base_v1')"
      ]
     },
     "execution_count": 41,
     "metadata": {},
     "output_type": "execute_result"
    }
   ],
   "source": [
    "reranker = BCERerank(\n",
    "    top_n = 4,\n",
    "    model = reranker_model_path,\n",
    "    device = 'cuda',\n",
    "    use_fp16 = True\n",
    ")\n",
    "reranker"
   ]
  },
  {
   "cell_type": "code",
   "execution_count": 42,
   "metadata": {},
   "outputs": [
    {
     "data": {
      "text/plain": [
       "ContextualCompressionRetriever(base_compressor=BCERerank(client='BCEmbedding.models.RerankerModel', top_n=4, model='./models/bce-reranker-base_v1'), base_retriever=VectorStoreRetriever(tags=['FAISS', 'HuggingFaceEmbeddings'], vectorstore=<langchain_community.vectorstores.faiss.FAISS object at 0x000001F64AB3A8C0>, search_type='similarity_score_threshold', search_kwargs={'k': 30, 'score_threshold': 0.15}))"
      ]
     },
     "execution_count": 42,
     "metadata": {},
     "output_type": "execute_result"
    }
   ],
   "source": [
    "compression_retriever = ContextualCompressionRetriever(\n",
    "    base_compressor = reranker,\n",
    "    base_retriever = retriever\n",
    ")\n",
    "compression_retriever"
   ]
  },
  {
   "cell_type": "markdown",
   "metadata": {},
   "source": [
    "## invoke"
   ]
  },
  {
   "cell_type": "code",
   "execution_count": 43,
   "metadata": {},
   "outputs": [
    {
     "name": "stderr",
     "output_type": "stream",
     "text": [
      "You're using a XLMRobertaTokenizerFast tokenizer. Please note that with a fast tokenizer, using the `__call__` method is faster than using a method to encode the text followed by a call to the `pad` method to get a padded encoding.\n"
     ]
    },
    {
     "data": {
      "text/plain": [
       "[Document(page_content='Eye Pressure Lowering Effect of Vitamin C\\nHerschell H. Boyd, M.D.1\\nPurpose\\nTo document the pressure before the use\\nof vitamin C and after the daily intake of\\nmaximum amounts of vitamin C, three times\\na day.\\nMethods\\nThirty patients (16 men and 14 women)\\nwere advised to take three divided doses of\\nvitamin C in capsule form each day until\\nloose stools occured and then back downslightly from this amount (bowel dosage) for\\na daily intake. Average daily intake for all\\npatients was 10 grams per day.\\nResults\\nThe greatest lowering of pressure was 13\\nmm as measured with a Goldmann tonom-\\neter. The least lowering of pressure was 1\\nmm. The average for 30 patients was 10 mm.Thirty patients were controlled only with\\nvitamin C. Twenty patients were forced to', metadata={'source': './data\\\\FM docs 2024.3\\\\Eye Pressure Lowering Effect of Vitamin C.pdf', 'page': 0, 'relevance_score': 0.6124255657196045}),\n",
       " Document(page_content='In 1969, Dr. Erich Linner explained that\\nthe fall in pressure in ocular hypertensionwas due to a reduction in the rate of aqueous\\nflow and possibly by “bulk drainage by way\\nof posterior uveo-scleral routes”.\\n6\\nSince the patients in this study would not\\ntake “bowel dosage” of vitamin C, or that\\namount needed to loosen stools and thenback down in dosage, the effects of vitamin\\nC could be further improved from those\\nobtained in this study. The reparative effectsof vitamin C are certainly demonstrated and\\nin my experience can be seen as well in other\\neye diseases.\\nSince vitamin C makes collagen needed to\\nstrengthen the blood vessel walls, diabetics\\nquit bleeding in the retina and of courseelsewhere in the body. This reduces the need', metadata={'source': './data\\\\FM docs 2024.3\\\\Eye Pressure Lowering Effect of Vitamin C.pdf', 'page': 1, 'relevance_score': 0.6083614230155945}),\n",
       " Document(page_content='fund vitamin C. If a source of private moneycould be found, the medical school would be\\npleased to do studies as desired. A private\\nfoundation may be the salvation of the glau-coma patients, and, of course, the many\\nother areas we need to treat.\\nConclusion\\n1. Vitamin C does lower the intraocular\\npressure in all patients with elevatedpressure.\\n2. Toxicity is non-existent.\\n3. Side effects of vitamin C were all posi-\\ntive; a) clearing of chronic sinusitis ofmany years, b) improvement of arthritis\\nsymptoms, c) lowering of cholesterol, d)improvement of visual acuity in macular\\ndegeneration.\\n4. Twenty of 50 consecutive patients re-\\nfused to take the vitamin C as instructed\\nand preferred to be treated with eye drops.\\n5. The largest drop in pressure was 13 mm\\nHg.', metadata={'source': './data\\\\FM docs 2024.3\\\\Eye Pressure Lowering Effect of Vitamin C.pdf', 'page': 3, 'relevance_score': 0.6022955179214478}),\n",
       " Document(page_content='Functions of Ascorbic Acid in the Eye, Exp.\\nEye Res.  1, 362-367, 1962.\\n6. Linner E: The Pressure Lowering Effect of\\nAscorbic Acid in Ocular Hypertension, ACTA\\nOphthalmologica , Vol. 47, pp. 685-689, 1969.\\n7. Stone Irwin: The Healing Factor “Vitamin\\nC” Against Disease , Gorsset & Dunlap, N.Y.,\\n126-132, 1972.', metadata={'source': './data\\\\FM docs 2024.3\\\\Eye Pressure Lowering Effect of Vitamin C.pdf', 'page': 3, 'relevance_score': 0.5786862969398499})]"
      ]
     },
     "execution_count": 43,
     "metadata": {},
     "output_type": "execute_result"
    }
   ],
   "source": [
    "similarity_documents = compression_retriever.invoke(query)\n",
    "similarity_documents"
   ]
  },
  {
   "cell_type": "code",
   "execution_count": 45,
   "metadata": {},
   "outputs": [
    {
     "name": "stderr",
     "output_type": "stream",
     "text": [
      "f:\\Miniconda3\\envs\\llm\\lib\\site-packages\\langchain_core\\vectorstores.py:330: UserWarning: Relevance scores must be between 0 and 1, got [(Document(page_content='It is absolutely essential to become accustomed \\nto eating \"lunch\" for breakfast, lunch, and dinner \\n— in other words, the same food all day long — \\nand to ignore or forget the standard American \\neggs, toast, milk, and cereal breakfast. Some \\nchildren enjoy calling this their \"cave man\" diet, \\nbecause, after all, the cave man probably had no \\nmilk, refined sugar, or cultivated grain. \\n(2) Why rotate foods over an entire week \\ninstead of over a shorter period of time?  \\nIt takes four to five days for the effect of an \\nallergenic food to wear off after it has been eaten, \\nproviding it has not been re-eaten during the same \\nperiod of time. \\n(3) Does a \"little bit\" of any food really mat \\nter? \\nYes, it does. In order to get results from this', metadata={'source': './data\\\\FM docs 2024.3\\\\JOM_1973_02_3_03_Clinical_Observations_on_the_Treatment_of_Schizophrenic-.pdf', 'page': 7}), -0.12831592559814453), (Document(page_content='SUNDAY:  turkey  corn                          grapefruit Mazola marg.  spinach  \\nMay add salt. Drink only water, except *any pure fruit juice may be used the same day the fruit is on the list. Sugars and spic es \\nare food and should be tested as such (see p. 3 of instructions). Meats are to be fried in their own grease, baked, or broiled. Fruit \\nand vegetables are eaten raw or cooked at  home. Additional fruits and vegetables may be added if found in the market — use \\nonly once a week.  \\n \\n ROTATING DIET WORKED OUT BY A MOTHER FOR A TEENAGER   \\n SUNDAY  MONDAY  TUESDAY  WEDNESDAY THURSDAY  FRIDAY  SATURDAY  \\nCitrus Fruit  Grapefruit  Oranges  Tangerines  Berries  Limes  Pineapple or \\nPapaya  Lemon  \\nCarbohy Fruit  Apples  Dates Plums or', metadata={'source': './data\\\\FM docs 2024.3\\\\JOM_1973_02_3_03_Clinical_Observations_on_the_Treatment_of_Schizophrenic-.pdf', 'page': 10}), -0.1586017608642578), (Document(page_content='have adapted to it and should fast now and then \\nto force our bodies to react. Perhaps this explains \\nsome of the benefit of the fast in people who have \\nno food allergies. But the type of malnutrition \\ncurrent today became possible only when our \\ntechnology discovered how to separate our food \\ninto its chemical components and to reconstitute \\nthem into what appears to be food. These food \\nartifacts are engineered to appeal to our visual \\nand taste instincts. They are sweet and colorful, \\nbut they have almost ignored the prime function \\nof food—to nourish.   A   California   physician   \\nhas declared, \"If man made it, don\\'t eat it.\" This is \\nsurely a powerful indictment of most of our \\nprocessed foods. \\nThe type of malnutrition which is particularly', metadata={'source': './data\\\\FM docs 2024.3\\\\JOM_1977_06_1_01_Does_Ascorbic_Acid_Destroy_Vitamin_B12.pdf', 'page': 1}), -0.1794271469116211), (Document(page_content='habits. I also discovered that the craving for \\nalcohol and other drugs was diminished by a \\nprotein \"cocktail\" at breakfast consisting of: \\nMixing in a blender—4 oz. of unsweetened juice, \\n1 tablespoon (heaping) of protein powder, and 1 \\nteaspoon unheated  honey, with the option of \\nadding an egg or 1/2  ripe banana on occasion, if \\ndesired. They were also asked to take the same \\nsupplements listed above, together with the high-\\nprotein, low-carbohydrate diet. \\nThe diet* was carefully covered with each \\nperson with them listin g foods or beverages \\nconsumed daily . They were particularly \\nencouraged to leave those foods out of their diets \\nfor three to four weeks and then to be aware of \\nhow they felt when one of the foods was eaten', metadata={'source': './data\\\\FM docs 2024.3\\\\JOM_1977_06_1_01_Does_Ascorbic_Acid_Destroy_Vitamin_B12.pdf', 'page': 2}), -0.18926727771759033), (Document(page_content='diet stresses what may be eaten rather than what \\nmay not be eaten. It is easier to institute any type \\nof dietary therapy if both parents are present at the \\nfirst visit. If the child is allowed to help himself to \\nfood at home or in stores, it may be advisable to \\nplace the entire family on his diet for two weeks. \\nThis will save a great deal of household \\ndisruption. Of course, if the food allergens are still \\nbeing given in this diet, further steps are necessary; but many children improve with the \\ncave man diet. \\nA more elaborate way of finding food allergens \\nis to use a rotating diet in which only one protein, \\nstarch, fruit, and vegetable is used each day for all \\nthree meals: the same things for breakfast, lunch,', metadata={'source': './data\\\\FM docs 2024.3\\\\JOM_1973_02_3_03_Clinical_Observations_on_the_Treatment_of_Schizophrenic-.pdf', 'page': 2}), -0.19487154483795166), (Document(page_content='became ill. That left the issue of what had \\nbeen the cause.        \\nI described the process of Provocative \\nFood Testing thus: The testing is carried \\nout by exposing the patient to only one new \\nfood substance at a time, eating or drinking \\nit, most conveniently mealtimes. If there is a \\nreaction, this will be felt as a return of any, \\nor all, or any combination of the patient’s \\nsymptoms, or a rise in pulse rate, between \\n20-30 minutes after trying the food, of \\ngreater than ten beats per minute over the \\nrate at the time the food was taken - where \\nthere is no other explanation of that rise.        \\nNo reaction will last for more than \\nan hour or so. From these reactions (or \\nlack of) two lists are built up. The first list', metadata={'source': './data\\\\healthcare_data6.2\\\\JOM_2006_21_2_02_A_School_Phobia_that_Wasnt.pdf', 'page': 1}), -0.19555187225341797), (Document(page_content='Nutrients 2020 ,12, 2510 9 of 28\\n3.1. Caloric Restriction and Fasting\\nTherapeutic fasting techniques include intermittent fasting (e.g., 60% energy restriction every other\\nday), partial fasting (e.g., 5-day diet providing 750–1100 kcal), and time-restricted feeding (limiting the\\ndaily period of food intake to ≤8 h). Therapeutic fasting leads to weight loss, it improves multiple\\nhealth indices (e.g., insulin resistance and risk factors for cardiovascular disease), and reduces the\\nproinﬂammatory state and oxidative stress, consecutively increasing cellular metabolism and promoting\\nstem cell-based regeneration [ 81]. Intermittent fasting (IF) contributes to prevention and deceleration', metadata={'source': './data\\\\HealthCareData_5.8\\\\nutrients-12-02510-with-cover.pdf', 'page': 9}), -0.20027518272399902), (Document(page_content='consists of those foods to which a reaction \\ntook place, and which should be avoided \\nwhenever possible thereafter.  The second \\nlist consists of those foods to which no \\nreaction occurred, and which can be safely \\ntaken at any of all of the following meals.  \\nAll mealtimes following a fast should be \\nconsidered testing sessions.\\nAF’s No-Reaction Food List \\nMilk  Cheeses  Coffee  \\nPeanuts  Tomato  Cauliflower\\nBread  Beef  Tea  \\nPeas  Carrot  Zucchini  Corn  Chicken  Sugar  \\nRice  Celery  Apple  \\nEggs  Turkey  Salt \\nPotato  Broccoli  Pear\\nBacon  Fish  Pepper  \\nLettuce  Cucumber  Orange  \\nApricots  Cherries  Pineapple  \\nPeach  Raspberries  Strawberries    \\nThe days went past. AF experienced \\nno reactions.  All involved, myself included,', metadata={'source': './data\\\\healthcare_data6.2\\\\JOM_2006_21_2_02_A_School_Phobia_that_Wasnt.pdf', 'page': 1}), -0.20278048515319824), (Document(page_content='and dinner, and between-meal snacks, with a \\ncompletely different menu for each day of the \\nweek. The necessity for a full dinner menu at \\nbreakfast and lunch must be stressed or the child \\nmay be hungry. The same menu is repeated each \\nMonday, each Tuesday, etc., in rotation. Leftovers \\nmay be served to other members of the family, or \\nsome of the food may be frozen from week to \\nweek, to minimize the expense and labor involved, \\nalthough some mothers have told me that this type \\nof diet is actually no more expensive than their \\nformer diet which   included   relatively   high-cost  \\nsnack foods and soft drinks. Incidentally, I might \\ninsert at this point my observation that the \\nsocioeconomic level of the family is one of the', metadata={'source': './data\\\\FM docs 2024.3\\\\JOM_1973_02_3_03_Clinical_Observations_on_the_Treatment_of_Schizophrenic-.pdf', 'page': 2}), -0.2050386667251587), (Document(page_content='same fresh fruit. Also, there are unusual foods \\nsuch as coconut, lechee nuts, olives, and others in \\ndelicatessens and health food stores. As time goes \\non, various species of nuts may be tested, and \\nthese, if tolerated, make excellent snacks. \\n(8) May we use potato or other types of \\nbread and cookies that are said to contain no \\nwheat?  \\nThe answer is \"No.\" These common products \\nhave been tested and found to contain wheat or \\nother grain glutens, despite the label. \\n(9) May canned fruit be used?  \\nCanned fruits are not allowed because the type \\nof sugar, whether beet, cane, or corn, is never \\nspecified. \\n(10) Why the plainness of the diet?  \\nSalad dressings, including mayonnaise, catsup, \\nand other commercial sauces contain a potpourri', metadata={'source': './data\\\\FM docs 2024.3\\\\JOM_1973_02_3_03_Clinical_Observations_on_the_Treatment_of_Schizophrenic-.pdf', 'page': 8}), -0.20768845081329346), (Document(page_content='Nutrition Examination Survey. Data are presented as OR (95% CI). Adjusted for age, gender, race/ethnicity,\\neducation levels, family income–poverty ratio, smoking status, physical activity, body mass index, total energy\\nintake, hypertension, high cholesterol, and diabetes. The strata variable was not included when stratifying\\nby itself.\\nIn addition to the above results, consistent results were also demonstrated when\\ndietary niacin intake levels were categorized into quintiles (Supplementary Table S2).\\n4. Discussion\\nIn this nationally representative US population-based study, our study is the ﬁrst to\\nidentify an inverse association between daily niacin consumption and NAFLD. Participants', metadata={'source': './data\\\\HealthCareData_5.8\\\\nutrients-15-04128-with-cover.pdf', 'page': 7}), -0.21180617809295654), (Document(page_content='completely eliminated. The only grains are corn \\nand rice. In making up your own diet, if you prefer \\ndifferent food combinations, a vitamin C-\\ncontaining fruit or vegetable should, as far as \\npossible, be used daily. These are the citrus fruits, \\nraw tomato, raw cabbage, pineapple, and, to a \\nlesser degree, papaya, apple, and other raw fruits. \\nOnce you have established the diet for the \\nweek, it must remain the same for succeeding \\nweeks. The reason for this is that it takes four to \\nfive days for the effect of food allergen to \\ncompletely wear off, so that a seven-day rotation \\nprovides a greater margin of safety than a five- or \\nsix-day rotation. Also, it is easier to remember. \\nFoods left over from any day may be eaten by the', metadata={'source': './data\\\\FM docs 2024.3\\\\JOM_1973_02_3_03_Clinical_Observations_on_the_Treatment_of_Schizophrenic-.pdf', 'page': 6}), -0.2238447666168213), (Document(page_content='7. During the study, how much candy did you eat per day? ______________________  \\nHow many per week? ______________  \\n8. Did you eat the peanut snack? \\nEvery night ___________  \\nSometimes ___________  How many nights per week? ________________  \\nNever _________  \\n9. During the study, I felt most hungry:  \\nbefore breakfast ____________  before lunch ____________  before dinner ____________  at night ___________  \\n10.The kind of food you eat and vitamins can make a differen ce in how you feel. How did you feel during the study period?  \\nFelt better ___________  Felt worse ____________  Felt the same _____________  \\n11.Check how you felt specifically during the study period:', metadata={'source': './data\\\\FM docs 2024.3\\\\JOM_1975_04_3_06_Diet-Vitamin_Program_for_Jail_Inmates.pdf', 'page': 4}), -0.22468388080596924), (Document(page_content='center for children and began a program of strict \\ndiet control. \\nOur diet policy had a number of elements : \\n1. Serving no foods contaminated with \\ncommercial fertilizers or insecticides (since \\nwe had been convinced by the gross effect of \\nthese substances on the health of pickers in \\nlarge doses, that less obvious allergic \\nresponses were likely in the lower quantities \\navailable in most foods). \\n2. Serving only breads milled freshly from high \\nprotein wheats, preserving the whole grain; \\nserving only unpolished rice and no highly \\nprocessed or low protein bread or pastries at \\nall. \\n3. Eliminating easily digested soft car-\\nbohydrates and sugars from the diet. \\n 4. Vitamin and mineral supplements. \\n5. High proportion of sprouts, young shoots and', metadata={'source': './data\\\\FM docs 2024.3\\\\JOM_1971_03_1_05_The_Use_of_Mega_Vitamin_Therapy_in_Regulating_Severe-.pdf', 'page': 1}), -0.2265176773071289), (Document(page_content='the appetite incheck, and when hungry, there is the con-stant temptation to satiate this primitiveinstinct by grabbing whatever is available.To keep this situation in check is difficult,', metadata={'source': './data\\\\healthcare_data6.2\\\\JOM_1997_12_2_06_A_Stone_That_Kills_Two_Birds_How_Pantothenic_Acid-.pdf', 'page': 8}), -0.227813720703125), (Document(page_content='rest of the family the next day, or they may be \\nfrozen and saved for the following week.  \\nA word of caution: Be sure to have enough food \\nfor each day. When milk and the grains, including \\nbread, are removed from a diet, a large part of the \\nbulk and calories are removed with them, and the \\nchild will need far greater amounts of meat, fruits, \\nand vegetables than one might think. The child \\nshould not be hungry. If necessary, feed him \\nseveral extra times a day. \\nThe first few days of the diet will be the \\nhardest. The child will want the foods to which he \\nis accustomed; his body will crave the foods to \\nwhich he is allergic; and he may be more irritable \\nthan usual. Clinically, one characteristic of the', metadata={'source': './data\\\\FM docs 2024.3\\\\JOM_1973_02_3_03_Clinical_Observations_on_the_Treatment_of_Schizophrenic-.pdf', 'page': 6}), -0.23021471500396729), (Document(page_content='72Journal of Orthomolecular Medicine     Vol. 21, No. 2, 2006\\nent theoretical weight loss strategy involv -\\ning high protein and low carbohydrate diets \\n(examples of which are the Atkins Diet \\nand the South Beach Diet). High protein \\ndiets have proven, in many cases, slightly \\nmore effective than low calorie low fat \\ndiets, largely due to reducing appetite by \\nstabilising blood sugar.7 However, their \\nlong-term results are not impressive, often \\ndue to poor compliance. Their long-term \\neffect on health, specifically on kidney \\nstone formation and bone health is also \\nquestionable.8,9\\nIncreasing awareness that not all carbo -\\nhydrates affect blood sugar in the same way \\nled to the creation of the Glycemic Index \\n(GI) of foods. The GI is a measure of how', metadata={'source': './data\\\\healthcare_data6.2\\\\JOM_2006_21_2_03_The_Effects_of_a_Low_Glycemic_Load_Diet_on_Weight_Loss-.pdf', 'page': 1}), -0.23178339004516602), (Document(page_content='died from a poisonous food and this was \\nrecognized by the survivors. Mammals, too, \\nknow enough not to eat food which is followed \\nby sickness. This is one of the protective habits \\nsurviving species have be en fortunate to possess. \\nIt is not very difficult to associate ill health with \\neating something, provided there is a close time \\nrelationship. It is much more difficult when food \\nconsumed for many years causes illness, \\nespecially when it tastes good, smells good and \\nis attractively packaged. \\nYet there is no foolproof method for making \\nthe right decision. Many foods today accepted as \\ngood and nutritious were once believed to very \\ntoxic; tomatoes are one example. How, then, can \\nwe determine which foods  or food preparations', metadata={'source': './data\\\\FM docs 2024.3\\\\JOM_1986_01_1_10_Vitamin_Therapy_for_Hyperactivity_and_Schizophreniae-.pdf', 'page': 8}), -0.23246026039123535), (Document(page_content='nutritional basis.  \\nAs in other papers written by us, we continue \\nin this one defending a non-reductionistic \\napproach in the course of the elaboration of our \\nbiological theories referent to crucial areas of \\norganismic metabolism.  \\n                                                                                65', metadata={'source': './data\\\\FM docs 2024.3\\\\JOM_1979_08_2_02_Large_Amounts_of_Nicotinic_Acid_and_Vitamin_B12-.pdf', 'page': 2}), -0.23759198188781738), (Document(page_content='occurred, and which can be safely taken at any of \\nall of the following meals. All mealtimes \\nfollowing a Fast should be considered testing; \\nsessions.  \\nThe List  \\n(Numbers in brackets refer to Notes below.) \\nMilk(l) Coffee Tomato \\nBread(2) Tea Carrot \\nCorn(3) Sugar Celery \\nEggs Salt Broccoli \\nBacon(4) Pepper Cucumber \\nApricots Pineapple Raspberries \\nCheeses(5) Peanuts Cauliflower \\nBeef Peas Zucchini \\nChicken Rice Apple \\nTurkey Potato Pear \\nFish(6) Lettuce Orange \\nCherries Peach Strawberries \\nNotes  \\n1. One glass of milk is representative of all dairy \\nproducts, and anything to which dairy \\nproducts have been added. \\n2. Two slices of bread, representative of all \\nwheat products, and anything to which wheat \\nhas been added.', metadata={'source': './data\\\\healthcare_data6.2\\\\JOM_1995_10_2_03_Staged_Management_for_Chronic_Fatigue_Syndrome.pdf', 'page': 6}), -0.23784661293029785), (Document(page_content='off. It\\'s part of the bet.\" He removes shirt and \\npants. \"Underwear, too.\" \"Okay, but hurry up.\" A crowd is gathering. \\nShe gets a good look, spending a couple of \\nminutes counting wrinkles. \\n\"You are 96!\" He is angry and frustrated as he \\npulls on his clothes. \\n\"How did you guess? There\\'s no clue on my \\nbody.\" \\n\"You told me yesterday!\" \\nThis whole congress is based on the concept \\nthat since we cannot go back to the way we are \\nmeant to be in the hunting and gathering days of \\ntwo million years ago, we have to make do with \\nwhat we\\'ve got. Linus Pauling tells us that those \\nancestors were eating about 600 mg of C daily. \\nFood was whole and natural. \\nA parting thought: Eat food that rots, but eat it \\nbefore it does rot. \\n186', metadata={'source': './data\\\\FM docs 2024.3\\\\JOM_1991_06_3-4_12_Children_Vitamin_C_and_Medical_Progress.pdf', 'page': 5}), -0.242264986038208), (Document(page_content=\"from sprays or the linings of cans, although special \\ndiets can be worked out to do this, too. Also, pills \\ncontaining cornstarch and other binding powders \\nwill not be indicated by the diet alone. However, \\n80 to 95 percent of the food problems can be \\ndetermined in this way.) \\nInstructions that may be given to the parent on \\nhow to rotate the diet  \\nTwo sample rotated diets are given. Certainly \\nyou may work out your own, provided the \\nprinciples of the diet are maintained. You will \\nobserve that no food is repeated within a week's \\nmenus, and also that many of the most common \\noffenders, i.e., milk and all milk   products,   egg  \\nand  all  egg  products, chocolate, nuts, wheat and all wheat products, rye, barley, and oats have been\", metadata={'source': './data\\\\FM docs 2024.3\\\\JOM_1973_02_3_03_Clinical_Observations_on_the_Treatment_of_Schizophrenic-.pdf', 'page': 6}), -0.24371850490570068), (Document(page_content='in the experimental group, and dietary \\nfat decreased significantly in the con -\\nventional group (P < .05 for both). At \\n12 months, average BMI was reduced \\nby 1.3 in the low-GL group compared \\nto a gain of 0.7 in the conventional diet \\ngroup (P = .02).16\\nAn established problem with con -\\nventional diets is that the lower calorie \\nintake leads to a lowering of the resting \\nmetabolic rate of the individual. A study \\ninvestigated whether dietary composition affects the physiological adaptations to \\nweight loss, as assessed by resting energy \\nexpenditure. The randomized parallel-\\ndesign study followed 39 overweight or \\nobese young adults aged 18 to 40 years \\nwho received an energy-restricted diet, \\neither low GL or low-fat. Participants’', metadata={'source': './data\\\\healthcare_data6.2\\\\JOM_2006_21_2_03_The_Effects_of_a_Low_Glycemic_Load_Diet_on_Weight_Loss-.pdf', 'page': 2}), -0.2438976764678955), (Document(page_content='Seaweed (Nori) 32.26–63.58 Microbiological [ 179]\\nSeaweed (Nori) 25.07–69.20 IF-Chemiluminescence [179]\\nMicroalgae (Klamath) 31.06–34.27 IF-Chemiluminescence [186]\\nMicroalgae ( Chlorella ) 200.9–211.6 IF-Chemiluminescence [189]\\nCyanobacteria (Spirulina) 127.2–244.3 Microbiological [ 191]\\nCyanobacteria (Spirulina) 6.2–17.4 IF-Chemiluminescence [191]\\nCyanobacteria ( Nostoc ) 11 HPLC [ 190]\\nTempeh 0.7–8 Not speciﬁed [ 195]\\nTempeh 0.02–0.7 Microbiological [ 196]\\nSauerkraut Up to 7.2 Microbiological [ 198]\\n9. Conclusions\\nThe choice of limiting or removing foods of animal origin from the diet is increasing in popularity\\ndue to ethical, environmental and health reasons, posing doubts over whether a number of these', metadata={'source': './data\\\\HealthCareData_5.8\\\\nutrients-08-00767-with-cover.pdf', 'page': 12}), -0.2441500425338745), (Document(page_content='controlled and longer term studies.Introduction \\nConventional weight loss diets are de -\\nvised on the basis that one’s weight is the \\nnet result of calories consumed from food, \\nless calories expended by exercise/activity \\nand the body’s basal metabolic rate. Since \\nfat has more calories per gram (9 kcals) \\nthan protein or carbohydrate (3.75 kcals \\nand 4 kcals respectively) conventional \\nweight loss diets are typically low fat and \\ntherefore low calorie diets. Despite the \\nemphasis on low fat, low calorie diets \\nover the past two decades the percentage \\nof people in the UK who are overweight \\nand obese has steadily risen.1\\nGovernment surveys show that the \\namount of calories consumed, and the \\npercentage of calories from fat, has', metadata={'source': './data\\\\healthcare_data6.2\\\\JOM_2006_21_2_03_The_Effects_of_a_Low_Glycemic_Load_Diet_on_Weight_Loss-.pdf', 'page': 0}), -0.24580812454223633), (Document(page_content='quickly the available carbohydrates within \\na food raise blood glucose, and for how long \\nthey remain elevated, compared to glucose. \\nThis led to diets based on eating more low \\nGI foods and less high GI foods as a means to \\ncontrol appetite and weight. Diets based on \\neating low GI foods have been inconsistent \\nand inconclusive in their effects on weight \\nloss,10 although there is a tendency for low \\nGI diets to promote satiety and to improve \\nglucose control, reduce glycosylated proteins \\nand cardiovascular risk.11\\nLow-GI diets, however, are essentially \\nunquantifiable since the GI of foods only \\ntells you about the quality of the sugars in a \\nfood in respect of raising blood sugar levels. \\nThe GI score tells you nothing about the', metadata={'source': './data\\\\healthcare_data6.2\\\\JOM_2006_21_2_03_The_Effects_of_a_Low_Glycemic_Load_Diet_on_Weight_Loss-.pdf', 'page': 1}), -0.24608898162841797), (Document(page_content='DIET-VITAMIN PROGRAM FOR JAIL INMATES  \\ngroup in all categories except \"How feel in \\ngeneral\" (see Table 10. All the respondents \\nreceived diet education and the evening snack. \\nResponses of the inmates given vitamins and \\nthose given placebos are compared.) \\nReports of staff observations also indicated \\nimprovement. Members of staff reported \"better \\nmorale\" and increased participation of inmates in \\nthe diet-vitamin group in other jail activities. \\nIncrease in contributions to the jail newspaper \\nwas noted and helpfulness in organization of \\nrecreational and other activities received remark. \\nA general observation was that these inmates \\nseemed to increase in self-motivated activity and \\nthat the activities engaged in were not', metadata={'source': './data\\\\FM docs 2024.3\\\\JOM_1975_04_3_06_Diet-Vitamin_Program_for_Jail_Inmates.pdf', 'page': 7}), -0.25074803829193115), (Document(page_content='symptoms today, the effects may accumulate over \\na period of time. If, however, food allergens are \\nscrupulously avoided, the very occasional \\naccidental eating as a single occurrence may be tolerated by the child without serious or long-term \\nrelapse of symptoms. An occasional eating of even \\na very large amount is less likely to produce \\nsymptoms than daily eating of small amounts, but \\nneither is recommended. \\nIf you find this concept of a rotated diet unusual \\nor difficult, do not be surprised. It is my custom to \\ntake at least an hour to present this to a new patient, \\nand then, on follow-up visits every few weeks, to \\nanswer questions and help with details of the diet. \\nUsually it is not necessary to help a parent with ob-', metadata={'source': './data\\\\FM docs 2024.3\\\\JOM_1973_02_3_03_Clinical_Observations_on_the_Treatment_of_Schizophrenic-.pdf', 'page': 9}), -0.25388646125793457), (Document(page_content='reﬂects dietary intake during the month before the baseline visit. For this study, we mainly\\nfocused on the food groups known to affect zinc status (e.g., meat, vegetables, ﬁsh, vegeta-\\nbles, grains and grain-based products, and eggs). Zn intake (mg/day) (per reported food\\ngroup) was determined by using the Dutch Food Composition Database [ 22].\\n2.3. Laboratory Analysis and Deﬁnitions\\nVenous blood samples were collected from participants throughout various times of\\nthe day by trained personnel using trace-element free heparinized tubes, following local\\nlaboratory protocol and procedures recommended by the International Zinc Nutrition Con-', metadata={'source': './data\\\\HealthCareData_5.8\\\\nutrients-13-03713-with-cover.pdf', 'page': 2}), -0.25524580478668213), (Document(page_content='history as in the emblematic example of how more Native Americans died from microbes\\nbrought by the European conquerors rather than by their swords and guns allowing the\\nrelatively easy conquest of the new discovered territories [ 1]. Humanity today is again\\nNutrients 2021 ,13, 180. https://doi.org/10.3390/nu13010180 https://www.mdpi.com/journal/nutrients', metadata={'source': './data\\\\HealthCareData_5.8\\\\nutrients-13-00180-with-cover.pdf', 'page': 1}), -0.2552931308746338)]\n",
      "  warnings.warn(\n",
      "f:\\Miniconda3\\envs\\llm\\lib\\site-packages\\langchain_core\\vectorstores.py:342: UserWarning: No relevant docs were retrieved using the relevance score threshold 0.15\n",
      "  warnings.warn(\n"
     ]
    },
    {
     "data": {
      "text/plain": [
       "[]"
      ]
     },
     "execution_count": 45,
     "metadata": {},
     "output_type": "execute_result"
    }
   ],
   "source": [
    "similarity_documents = compression_retriever.invoke(\"今天吃了吗\")\n",
    "similarity_documents"
   ]
  },
  {
   "cell_type": "code",
   "execution_count": null,
   "metadata": {},
   "outputs": [],
   "source": []
  }
 ],
 "metadata": {
  "kernelspec": {
   "display_name": "mm",
   "language": "python",
   "name": "python3"
  },
  "language_info": {
   "codemirror_mode": {
    "name": "ipython",
    "version": 3
   },
   "file_extension": ".py",
   "mimetype": "text/x-python",
   "name": "python",
   "nbconvert_exporter": "python",
   "pygments_lexer": "ipython3",
   "version": "3.10.14"
  }
 },
 "nbformat": 4,
 "nbformat_minor": 2
}

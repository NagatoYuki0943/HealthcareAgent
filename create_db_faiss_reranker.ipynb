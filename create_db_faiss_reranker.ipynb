{
 "cells": [
  {
   "cell_type": "code",
   "execution_count": 1,
   "metadata": {},
   "outputs": [
    {
     "name": "stderr",
     "output_type": "stream",
     "text": [
      "f:\\Miniconda3\\envs\\llm\\lib\\site-packages\\transformers\\utils\\generic.py:441: UserWarning: torch.utils._pytree._register_pytree_node is deprecated. Please use torch.utils._pytree.register_pytree_node instead.\n",
      "  _torch_pytree._register_pytree_node(\n"
     ]
    }
   ],
   "source": [
    "# 首先导入所需第三方库\n",
    "from langchain_community.document_loaders import (\n",
    "    UnstructuredFileLoader,\n",
    "    UnstructuredMarkdownLoader,\n",
    "    UnstructuredWordDocumentLoader,\n",
    "    PyPDFLoader,\n",
    ")\n",
    "from langchain.text_splitter import RecursiveCharacterTextSplitter\n",
    "from langchain.embeddings.huggingface import HuggingFaceEmbeddings\n",
    "from langchain_community.vectorstores import FAISS\n",
    "from langchain_community.vectorstores.utils import DistanceStrategy\n",
    "from langchain.retrievers import ContextualCompressionRetriever\n",
    "from BCEmbedding.tools.langchain import BCERerank\n",
    "from tqdm import tqdm\n",
    "import os"
   ]
  },
  {
   "cell_type": "markdown",
   "metadata": {},
   "source": [
    "# 遍历目录获取数据"
   ]
  },
  {
   "cell_type": "code",
   "execution_count": 2,
   "metadata": {},
   "outputs": [],
   "source": [
    "# 获取文件路径函数\n",
    "def get_files(dir_path: str) -> list:\n",
    "    # args：dir_path，目标文件夹路径\n",
    "    file_list = []\n",
    "    for filepath, dirnames, filenames in os.walk(dir_path):\n",
    "        # os.walk 函数将递归遍历指定文件夹\n",
    "        for filename in filenames:\n",
    "            # 通过后缀名判断文件类型是否满足要求\n",
    "            if filename.endswith((\".txt\", \".md\", \".docx\", \".doc\", \".pdf\")):\n",
    "                file_list.append(os.path.join(filepath, filename))\n",
    "    return file_list"
   ]
  },
  {
   "cell_type": "code",
   "execution_count": 3,
   "metadata": {},
   "outputs": [],
   "source": [
    "def get_text(dir_path: str) -> list:\n",
    "    # args：dir_path，目标文件夹路径\n",
    "    # 首先调用上文定义的函数得到目标文件路径列表\n",
    "    file_lst = get_files(dir_path)\n",
    "    # docs 存放加载之后的纯文本对象\n",
    "    docs = []\n",
    "    # 遍历所有目标文件\n",
    "    for one_file in tqdm(file_lst):\n",
    "        if one_file.endswith(\".txt\"):\n",
    "            # txt, md, docx, doc: pip install unstructured\n",
    "            loader = UnstructuredFileLoader(one_file)\n",
    "        elif one_file.endswith(\".md\"):\n",
    "            loader = UnstructuredMarkdownLoader(one_file)\n",
    "        elif one_file.endswith((\".docx\", \".doc\")):\n",
    "            # pip install python-docx\n",
    "            loader = UnstructuredWordDocumentLoader(one_file)\n",
    "        elif one_file.endswith(\".pdf\"):\n",
    "            # pip install pypdf\n",
    "            loader = PyPDFLoader(one_file)\n",
    "        docs.extend(loader.load())\n",
    "    return docs"
   ]
  },
  {
   "cell_type": "code",
   "execution_count": 4,
   "metadata": {},
   "outputs": [
    {
     "data": {
      "text/plain": [
       "['./data\\\\FM docs 2024.3']"
      ]
     },
     "execution_count": 4,
     "metadata": {},
     "output_type": "execute_result"
    }
   ],
   "source": [
    "# 目标文件夹\n",
    "tar_dirs = \"./data\"\n",
    "dirs = os.listdir(tar_dirs)\n",
    "dirs = [os.path.join(tar_dirs, dir) for dir in dirs]\n",
    "dirs = [dir for dir in dirs if os.path.isdir(dir)]\n",
    "dirs"
   ]
  },
  {
   "cell_type": "code",
   "execution_count": 5,
   "metadata": {},
   "outputs": [
    {
     "name": "stderr",
     "output_type": "stream",
     "text": [
      "  1%|          | 1/134 [00:00<00:23,  5.69it/s]04/24/2024 13:33:57 - [WARNING] -pypdf._reader->>>    Ignoring wrong pointing object 13 0 (offset 0)\n",
      "04/24/2024 13:33:57 - [WARNING] -pypdf._reader->>>    Ignoring wrong pointing object 16 0 (offset 0)\n",
      "04/24/2024 13:33:57 - [WARNING] -pypdf._reader->>>    Ignoring wrong pointing object 21 0 (offset 0)\n",
      "04/24/2024 13:33:57 - [WARNING] -pypdf._reader->>>    Ignoring wrong pointing object 44 0 (offset 0)\n",
      "04/24/2024 13:33:57 - [WARNING] -pypdf._reader->>>    Ignoring wrong pointing object 57 0 (offset 0)\n",
      " 37%|███▋      | 50/134 [00:08<00:12,  6.57it/s]04/24/2024 13:34:06 - [WARNING] -pypdf._reader->>>    XRef object at 1067 can not be read, some object may be missing\n",
      "04/24/2024 13:34:06 - [WARNING] -pypdf._reader->>>    XRef object at 969 can not be read, some object may be missing\n",
      " 39%|███▉      | 52/134 [00:08<00:09,  8.38it/s]04/24/2024 13:34:06 - [WARNING] -pypdf._reader->>>    XRef object at 969 can not be read, some object may be missing\n",
      " 42%|████▏     | 56/134 [00:09<00:10,  7.15it/s]04/24/2024 13:34:06 - [WARNING] -pypdf._reader->>>    XRef object at 1201 can not be read, some object may be missing\n",
      " 43%|████▎     | 57/134 [00:10<00:22,  3.46it/s]04/24/2024 13:34:07 - [WARNING] -pypdf._reader->>>    XRef object at 1104 can not be read, some object may be missing\n",
      " 43%|████▎     | 58/134 [00:10<00:21,  3.59it/s]04/24/2024 13:34:08 - [WARNING] -pypdf._reader->>>    XRef object at 1041 can not be read, some object may be missing\n",
      " 44%|████▍     | 59/134 [00:10<00:18,  4.04it/s]04/24/2024 13:34:08 - [WARNING] -pypdf._reader->>>    XRef object at 1009 can not be read, some object may be missing\n",
      "04/24/2024 13:34:08 - [WARNING] -pypdf._reader->>>    XRef object at 1032 can not be read, some object may be missing\n",
      " 46%|████▌     | 61/134 [00:10<00:14,  5.07it/s]04/24/2024 13:34:08 - [WARNING] -pypdf._reader->>>    XRef object at 946 can not be read, some object may be missing\n",
      "04/24/2024 13:34:08 - [WARNING] -pypdf._reader->>>    XRef object at 974 can not be read, some object may be missing\n",
      " 47%|████▋     | 63/134 [00:11<00:15,  4.73it/s]04/24/2024 13:34:09 - [WARNING] -pypdf._reader->>>    XRef object at 973 can not be read, some object may be missing\n",
      " 48%|████▊     | 64/134 [00:11<00:15,  4.47it/s]04/24/2024 13:34:09 - [WARNING] -pypdf._reader->>>    XRef object at 944 can not be read, some object may be missing\n",
      " 49%|████▊     | 65/134 [00:11<00:14,  4.85it/s]04/24/2024 13:34:09 - [WARNING] -pypdf._reader->>>    XRef object at 1156 can not be read, some object may be missing\n",
      " 49%|████▉     | 66/134 [00:12<00:16,  4.16it/s]04/24/2024 13:34:09 - [WARNING] -pypdf._reader->>>    XRef object at 972 can not be read, some object may be missing\n",
      " 50%|█████     | 67/134 [00:12<00:15,  4.22it/s]04/24/2024 13:34:09 - [WARNING] -pypdf._reader->>>    XRef object at 1094 can not be read, some object may be missing\n",
      " 51%|█████     | 68/134 [00:12<00:15,  4.20it/s]04/24/2024 13:34:10 - [WARNING] -pypdf._reader->>>    XRef object at 1067 can not be read, some object may be missing\n",
      " 51%|█████▏    | 69/134 [00:12<00:13,  4.76it/s]04/24/2024 13:34:10 - [WARNING] -pypdf._reader->>>    XRef object at 948 can not be read, some object may be missing\n",
      "04/24/2024 13:34:10 - [WARNING] -pypdf._reader->>>    XRef object at 1158 can not be read, some object may be missing\n",
      " 53%|█████▎    | 71/134 [00:13<00:17,  3.53it/s]04/24/2024 13:34:11 - [WARNING] -pypdf._reader->>>    XRef object at 1132 can not be read, some object may be missing\n",
      " 54%|█████▎    | 72/134 [00:14<00:21,  2.87it/s]04/24/2024 13:34:11 - [WARNING] -pypdf._reader->>>    XRef object at 1080 can not be read, some object may be missing\n",
      " 54%|█████▍    | 73/134 [00:14<00:19,  3.18it/s]04/24/2024 13:34:11 - [WARNING] -pypdf._reader->>>    XRef object at 1079 can not be read, some object may be missing\n",
      "04/24/2024 13:34:11 - [WARNING] -pypdf._reader->>>    XRef object at 941 can not be read, some object may be missing\n",
      "100%|██████████| 134/134 [00:37<00:00,  3.56it/s]\n"
     ]
    },
    {
     "data": {
      "text/plain": [
       "[Document(page_content='Eye Pressure Lowering Effect of Vitamin C\\nHerschell H. Boyd, M.D.1\\nPurpose\\nTo document the pressure before the use\\nof vitamin C and after the daily intake of\\nmaximum amounts of vitamin C, three times\\na day.\\nMethods\\nThirty patients (16 men and 14 women)\\nwere advised to take three divided doses of\\nvitamin C in capsule form each day until\\nloose stools occured and then back downslightly from this amount (bowel dosage) for\\na daily intake. Average daily intake for all\\npatients was 10 grams per day.\\nResults\\nThe greatest lowering of pressure was 13\\nmm as measured with a Goldmann tonom-\\neter. The least lowering of pressure was 1\\nmm. The average for 30 patients was 10 mm.Thirty patients were controlled only with\\nvitamin C. Twenty patients were forced to\\nuse eye drops to lower the pressure below 20mm of mercury as they refused to take vita-\\nmin C.\\nConclusion\\nIn this series of 30 patients there was no\\noccasion in which the pressure was not low-ered with vitamin C. All drugs for glaucoma\\nare seriously toxic, and vitamin C has no\\ntoxicity yet known. The patients experiencedmany other good side effects from vitamin C\\nsuch as clearing of sinusitis, allergy symp-\\ntoms, arthritis improvement, cholesterol low-ering, laxative effect, diuretic effect for heart\\ndisease patients, and other improvements\\nassociated with vitamin C intake of “severalgrams per day” level. Ophthalmologists may\\nawaken to the marvels of vitamin C in treat-\\ning glaucoma!\\nIntroduction\\nVitamin C has been used since the trans-\\nformation of glucose, C\\n6H12O6, into vitamin\\n1. Eastview Professional Building, 1370 - 116th Avenue\\nN.E., Suite 212, Bellevue WA 98004-4679.\\n165C, C6H8O6, in the early 1930s. Its use in\\nlowering the pressure in glaucoma datesback to 1962 as reported in Experimental\\nEye Research.\\n1 Since then there have been\\nmany references in the foreign literature, butin the U.S. it has escaped the attention of the\\nophthalmologists. This study consists of fifty\\nconsecutive patients who presented withintraocular pressure greater than 20 mm of\\nmercury as measured with the Goldmann\\napplanation tonometer from August 1993through March 1995. The highest pressure\\nwas 36 mm of mercury in the study. Out of\\n50 patients, 20 patients refused to take vita-min C and eye drops were used to lower the\\npressure in the standard manner.\\nAge Distribution\\n30-39 40-49 50-59 60-80\\n165 1 8\\nVisual Fields\\nNo defects were found in any of the 50\\npatients.\\nGonioscopy\\nAll 50 patients had open angle, and no\\nangles were particularly closed.\\nVitamin C Taken\\nThe most vitamin C taken was 35 grams\\nper day divided in three doses at mealtime.\\nThis lady had chronic sinusitis and was quite\\npleased to be relieved of this problem afterseveral years of unsuccessful drug therapy.\\nThe least amount taken was one gram per\\nday in two patients. The average for the 30patients was 10 grams per day. It was sug-\\ngested that patients take “bowel dosage” and\\nthen back down, but this advice is almostalways ignored by patients as they feel the\\nidea is unreasonable and generally have this\\nreinforced by friends and relatives who givestatements of shock and dismay. But 20 out\\nof 30 patients did take ten or more grams per\\nday so perhaps we should be pleased withthis result.', metadata={'source': './data\\\\FM docs 2024.3\\\\Eye Pressure Lowering Effect of Vitamin C.pdf', 'page': 0}),\n",
       " Document(page_content=\"Journal of Orthomolecular Medicine     Vol. 10, No. 3 & 4, 1995\\n166Average Drop in Eye Pressure\\nRight Eye: 4.8 mmLeft Eye: 6.3 mm\\nBoth Eyes: 5.6 mm\\nIt is an interesting observation that indi-\\nviduals who take vitamin C regularly and\\nhave their intraocular pressure taken on a\\nroutine basis for their eye exam have pres-sures in the range of 10-13 mm of mercury\\ncommonly. It has been my experience that I\\nhave yet to find the first patient with apressure over 20 mm who comes into the\\noffice and admits to taking any amount of\\nvitamin C daily. It also seems to be generallytrue that those people who do have pressure\\nelevated for the first time are those treating\\nthemselves with various toxic drugs, smok-ing, eating processed foods, and living a life\\nstyle saturated with free radicals. I assume\\nthe little amount of vitamin C they eat in aday is not enough to keep the eye pressure\\nnormal. Another interesting observation is\\nthat patients who already have taken medi-cation for years are generally unable to stop\\nthe medication and reverse the high pressure\\nwith vitamin C. This group seems to fit thepicture of the diabetic group who finally are\\nplaced upon insulin by needle and cannot\\nlater usually get off the needle, whereas,before that the diabetes may be reversed.\\nGreatest Drop in Pressure\\nOne patient had the pressure decrease in\\none eye by 13 mm. Seven eyes dropped by\\n10 to 13 mm of mercury.\\nSide Effects\\nNo side effects were encountered as vita-\\nmin C apparently has none. All drugs we use\\nin glaucoma have multiple side effects in-\\ncluding death.\\nDiscussion\\nIt is said that the aqueous fluid in the eye\\nhas 25 times the amount of vitamin C as in\\nthe blood. This may explain why the pres-\\nsure decreased with the increased intake ofvitamin C with an opening of the many\\nchannels called Schlemm's canal. Any swell-\\ning in the area would be removed with theantihistamine effect of vitamin C. Further\\nresearch could explain the possibility.\\nAnother explanation of the lowering ef-\\nfect of vitamin C could be the ability ofvitamin C to increase the T4 cells. Maybe\\ndebris is removed from the Schlemm's canalby T4 cells so iris pigment and inflammatory\\ncells are unable to plug the outflow of the\\neye. Further studies could answer this ques-tion.\\nIn 1969, Dr. Erich Linner explained that\\nthe fall in pressure in ocular hypertensionwas due to a reduction in the rate of aqueous\\nflow and possibly by “bulk drainage by way\\nof posterior uveo-scleral routes”.\\n6\\nSince the patients in this study would not\\ntake “bowel dosage” of vitamin C, or that\\namount needed to loosen stools and thenback down in dosage, the effects of vitamin\\nC could be further improved from those\\nobtained in this study. The reparative effectsof vitamin C are certainly demonstrated and\\nin my experience can be seen as well in other\\neye diseases.\\nSince vitamin C makes collagen needed to\\nstrengthen the blood vessel walls, diabetics\\nquit bleeding in the retina and of courseelsewhere in the body. This reduces the need\\nfor laser treatment to the retina and in many\\ncases in the development of late glaucoma.In diabetes with an electron microscope the\\ncollagenous reticulum is absent at the site of\\nretinal microaneurism. These develop in longstanding diabetes and indicate a derange-\\nment in some slow metabolic process.\\n4 The\\nobvious savings financially for various pay-ers is staggering. We may see the day when\\nthese people are told to take vitamin C by the\\ninsurers as they are totally cost oriented andare unemotional in their thinking.\\nIt is generally agreed that macular degen-\\neration occurs in 25% of the U.S. populationover 55. This group can be helped enor-\\nmously with antioxidants to improve what\\nmacula is left and protect the macular fromworsening. People with glaucoma also be-\\ncome a major problem in management. In\\nmany cases my experience is that the visionmay improve dramatically with vitamin C\\nand other antioxidants. Here, too, it seems\\nlogical to effect life style changes to elimi-nate free radicals.\\nCataract removal represents the largest\\nsurgical expense in Medicare, and there aremany patients in my practice who improve\\nseveral lines of vision on the Snellen eye\\nchart. One dramatic example was a lady with20/40 who achieved 20/20 in eight weeks\", metadata={'source': './data\\\\FM docs 2024.3\\\\Eye Pressure Lowering Effect of Vitamin C.pdf', 'page': 1}),\n",
       " Document(page_content=\"Eye Pressure Lowering Effect of Vitamin C\\n167with 12 grams of vitamin C each day. She\\nwas a smoker in her early fifties, and she hascontinued to smoke with good reason to\\ncease.\\nGlaucoma accompanies the cataract pa-\\ntients so a daily intake of vitamin C could\\nsave the country literally in the billions of\\ndollars. This would admittedly be detrimen-tal to the financial health of ophthalmolo-\\ngists, but of course this is not the issue.\\nAscorbic acid has been reported to be of\\ntherapeutic benefit in numerous pathologi-\\ncal conditions, and researchers vary in their\\nestimates of the daily requirement needed byman. Animals which are capable of synthe-\\nsizing their own ascorbic acid usually have\\ntissue levels approaching saturation.\\nTherefore in man it would seem desirable\\nto ensure the intake of ascorbic C is suffi-\\nciently high for tissue saturation.\\n5 This pa-\\nper shows that in glaucoma, tissue saturation\\nis needed to lower intraocular pressure. In a\\nmodern world of processed foods and excessfree radicals, it is surprising that we have a\\nrelatively small group of glaucoma patients.\\nAscorbic acid concentrations have been\\nshown to change in the body under various\\nconditions of stress such as trauma, surgery,\\nexposure to cold, after the administration ofcortisone or ACTH and during infection.\\n5 In\\nophthalmology we need to give vitamin C\\nsupplements for any of the glaucoma surger-ies and for that matter with all our surgeries.\\nThe lens in the eye is necessary for main-\\ntaining the normal level of ascorbic acidwithin the aqueous humor, vitreous body\\nand the cornea. The diminution of the\\nintraocular ascorbic acid content does nottake place when traces of lens fibers are\\npresent in the eye.\\n3 This could be an interest-\\ning study for glaucoma and cataract removal.\\nThe structure of the vitreous body de-\\npends upon both the integrity of the mesh\\nwork of collagen fibrils and on the mainte-nance of the polymeric state of the muco-\\npolysaccharide hyaluronic acid. With a defi-\\nciency in vitamin C, abnormal mucopoly-saccharide formation occurs. Disorganiza-\\ntion of the vitreous body with the formation\\nof vitreous bands is often associated withretinal detachment.\\n5 Here also the associa-\\ntion of glaucoma with these people would be\\nan interesting observation.\\nMichele Virno, M.D. used intravenousvitamin C of 0.4 to 1.0 gram per 1 kg body\\nweight to induce a “marked ocular hypotonyin approximately 60 to 90 minutes”. These\\ngood results instigated the idea to use vita-\\nmin C by mouth to lower intraocular pres-sure.\\n3\\nVirno found in 1967 that 0.5 g per 1 kg of\\nbody weight of vitamin C in all patients withglaucoma a reduction of intraocular pres-\\nsure was obtained. The C was given 3 to 4\\ntimes per day, and in some patients whocould not be controlled with diamox and 2%\\npilocarpine\\n1it was possible to obtain almost\\nnormal pressures.\\nErich Linner, M.D. gave only 0.5 gram\\nvitamin C twice a day for 4 to 6 weeks and\\nonly decreased the pressure by 2 to 3 mm Hgafter two days of use. As Michele Virno,\\nM.D. concluded, this was not enough, but\\nthe idea was good in 1964.\\n2\\nIrwin Stone, Ph.D. in his book of 1972\\nmade the remark “of all the disorders afflict-\\ning man, blindness causes the most wide-spread disability. Yet in spite of significant\\nadvances in eye research, the incidence of\\nblindness is increasing. Megascorbic therapymight one day help to reverse this trend.”\\nDoctor Stone reports that from 1965 to\\n1969 there were numerous papers reportedon the prompt reduction of the intraocular\\npressure with two American journals in 1966\\nand 1967 reporting on the good results fromItalian workers. There have been no Ameri-\\ncan authors reporting on this exacting re-\\nsearch or treatment of their patients.\\n7\\nDoctor Stone made the very accurate ob-\\nservation that “research should be started\\nimmediately on population groups near fortyand older to determine the long-term effect\\nof the inhibition of glaucoma by means of\\nthe continued daily intake of about 3 to 5grams of ascorbic acid. This will help to\\ndetermine if a simple and harmless ascorbic\\nacid regimen can be worked out which willprevent blindness in our senior citizens.”\\nCataracts and macular degeneration that are\\nmore common than glaucoma would haveimmense benefit.\\nIt is the experience of this author that\\nprivate patients do not present with maculardegeneration, cataracts to remove, or glau-\\ncoma who have taken vitamins for years\\nwith ascorbic acid. One has to ask why it isthat physicians in ophtahlmology don't tell\", metadata={'source': './data\\\\FM docs 2024.3\\\\Eye Pressure Lowering Effect of Vitamin C.pdf', 'page': 2}),\n",
       " Document(page_content=\"Journal of Orthomolecular Medicine     Vol. 10, No. 3 & 4, 1995\\n168every patient to take the antioxidants with\\ntissue saturation levels of vitamin C? Theanswer may be:\\n1. It is not taught in medical school.\\n2. Friends and associates don't use it.3. Medical literature does not have it cur-\\nrently.\\n4. Standard of care does not include this\\ntreatment.\\n5. Fear of being out of “main stream” medi-\\ncine.\\n6. Fear of a lawyer charging that the “stand-\\nard of care was not met”.\\n7. Double blind studies have not been done\\nrecently.\\n8. No office has a drug salesman selling\\nvitamin C as there is not profit.\\n9. Many patients cannot accept a treatment\\nthat does not involve drugs, as they al-\\nways get from all other doctors.\\n10. Fear of losing the confidence of a pa-\\ntient, his friends and his family.\\n11. Insurance payors will not reimburse the\\npatient for treatment not on their toxic\\ndrug list.\\n12. In glaucoma with even the best of drug\\ntherapy an adverse result may occur with\\na resulting lawsuit and no help from the\\nexperts in glaucoma called upon to tes-tify.\\nWhy don't Medical Schools do research\\non vitamin C? As a past member of theAdvisory Board in the medical school at\\nVanderbilt in Nashville, Tenessee, this same\\nquestion was asked of the Vice Chancellor.The response was that at Vanderbilt Medical\\nSchool the salaries of the workers there are\\npaid by research grants from drug compa-nies and from the National Institute of Health\\nin Washington, D.C. These two areas don't\\nfund vitamin C. If a source of private moneycould be found, the medical school would be\\npleased to do studies as desired. A private\\nfoundation may be the salvation of the glau-coma patients, and, of course, the many\\nother areas we need to treat.\\nConclusion\\n1. Vitamin C does lower the intraocular\\npressure in all patients with elevatedpressure.\\n2. Toxicity is non-existent.\\n3. Side effects of vitamin C were all posi-\\ntive; a) clearing of chronic sinusitis ofmany years, b) improvement of arthritis\\nsymptoms, c) lowering of cholesterol, d)improvement of visual acuity in macular\\ndegeneration.\\n4. Twenty of 50 consecutive patients re-\\nfused to take the vitamin C as instructed\\nand preferred to be treated with eye drops.\\n5. The largest drop in pressure was 13 mm\\nHg.\\n6. The average drop was 5.6 mm Hg.\\n7. The average amount of vitamin C taken\\ndaily was 10 grams in three divided doses\\nat meal time.\\n8. “Bowel dosage” was resisted by patients.9. All other vitamins were included with\\nvitamin C.\\nReferences\\n1. Virno M, Bucci M: Oral treatment of\\nGlaucoma with Vitamin C, The Eye, Ear,\\nNose and Throat Monthly , Vol. 46, 1502-\\n1508, Dec. 1967.\\n2. Linner E: Intra-ocular Pressure Regulation\\nand Ascorbic Acid, Acta Soc. Med. Upsol  59,\\n225, 1964.\\n3. Virno M, Bucci M, et al: Intravenous Glycerol-\\nVitamin C (Sodium Salt) as Osmotic Agentsto Reduce Intraocular Pressure, American\\nJournal of Ophthalmology , pp. 824-833, Vol.\\n62, No. 5, Nov. 1966.\\n4. Pope CN: Diabetes 9, 9, 1960.5. Heath: The Distribution and Possible\\nFunctions of Ascorbic Acid in the Eye, Exp.\\nEye Res.  1, 362-367, 1962.\\n6. Linner E: The Pressure Lowering Effect of\\nAscorbic Acid in Ocular Hypertension, ACTA\\nOphthalmologica , Vol. 47, pp. 685-689, 1969.\\n7. Stone Irwin: The Healing Factor “Vitamin\\nC” Against Disease , Gorsset & Dunlap, N.Y.,\\n126-132, 1972.\", metadata={'source': './data\\\\FM docs 2024.3\\\\Eye Pressure Lowering Effect of Vitamin C.pdf', 'page': 3}),\n",
       " Document(page_content='Case Report JOM Volume  31, Number 1, 2016 19High Dose Intravenous Vitamin C \\nTreatment for Zika Fever\\n \\n Michael J. Gonzalez, NMD, DSc, PhD, FACN;1 Miguel J. Berdie,l MD;2 Jorgé R. Miranda- \\nMassari, PharmD;2 Jorgé Duconge, PhD;1 Joshua L. Rodríguez-López, BS;3 Pedro A. \\nAdrover-López, BS 3\\n¹University of Puerto Rico, Medical Sciences Campus, Schools of Public Health and Pharmacy, San Juan, PR, 00936-5067 \\n²Berdiel Clinic, Ponce, PR, 00716\\n3Ponce Health Sciences University, School of Medicine, Ponce, PR, 00716\\nAbstract  /T_he Zika Fever is a viral disease caused by a single-stranded RNA virus from the Fla -\\nvivirus genus, Flaviviridae family, from the Spondweni group. Its transmission occurs through \\nmosquito vectors, principally Aedes Aegypti. /T_he most common symptoms of Zika are fever, rash, joint \\npain, and conjunctivitis (red eyes). Other common symptoms include muscle pain and headache. As of \\nnow, no vaccine exists for the virus and no o ﬃcial treatment has been developed aside from standard \\nprocedures of the use of acetaminophen (paracetamol) and non-steroidal anti-in /f_lammatory drugs.  \\n/T_his is a case report of a 54 year-old Hispanic female who arrived at the clinic with symptomatology \\ncongruent with the Zika fever. /T_he patient was treated with high doses of intravenous vitamin C \\nover three days. /T_he symptoms resolved after the infusions without any side e ﬀects at day four. Re -\\ncovery from this viral infection takes normally around two weeks. Based on the positive outcome in \\nthis case, we propose that intravenous vitamin C should be studied further as a potential treatment \\nfor acute viral infections.\\nIntroduction\\nZika virus (ZIKV) is a member of the \\nvirus family Flaviviridae and the genus \\nFlavivirus (Knipe et al, 2007). Like other \\n/f_laviviruses, Zika virus is enveloped and \\nicosahedral and has a nonsegmented, single-\\nstranded, positive-sense RNA genome. It \\nis spread by daytime active Aedes mosqui -\\ntoes, such as A. Aegypti and A. Albopictus \\n(Knipe et al, 2007). Its name comes from \\nthe Zika Forest of Uganda, where the virus \\nwas /f_irst isolated in 1947 (European Center \\nfor Disease Prevention and Control, 2015). \\nZika virus is related to dengue, yellow fever, \\nJapanese encephalitis, and West Nile viruses  (European Center for Disease Prevention and \\nControl, 2015). As of February 2016, there are \\nthree reported cases indicating that Zika virus \\ncould possibly be sexually transmitted (World \\nHealth Organization, 2016a).\\n/T_he infection, known as Zika fever, often \\ncauses none or only mild symptoms, simi -\\nlar to a mild form of dengue fever (Knipe \\net al, 2007). /T_he illness cannot be prevented \\nby medications or vaccines and is treated \\nmainly by rest (Chen et al, 2016). Zika fe -\\nver in pregnant women is associated with \\nmicrocephaly but it is unclear whether the \\nvirus is the cause (Knipe et al, 2007; Cable \\nNews Network, 2015; Centers for Disease ', metadata={'source': './data\\\\FM docs 2024.3\\\\High-Dose-Intravenous-Vitamin-C-Treatment-for-Zika-Fever-31.1.pdf', 'page': 0})]"
      ]
     },
     "execution_count": 5,
     "metadata": {},
     "output_type": "execute_result"
    }
   ],
   "source": [
    "# 加载目标文件\n",
    "docs = []\n",
    "for dir_path in dirs:\n",
    "    docs.extend(get_text(dir_path))\n",
    "docs[:5]"
   ]
  },
  {
   "cell_type": "markdown",
   "metadata": {},
   "source": [
    "# 文本分块"
   ]
  },
  {
   "cell_type": "code",
   "execution_count": 6,
   "metadata": {},
   "outputs": [
    {
     "data": {
      "text/plain": [
       "<langchain_text_splitters.character.RecursiveCharacterTextSplitter at 0x15a1ce4baf0>"
      ]
     },
     "execution_count": 6,
     "metadata": {},
     "output_type": "execute_result"
    }
   ],
   "source": [
    "# 对文本进行分块\n",
    "text_splitter = RecursiveCharacterTextSplitter(chunk_size = 500, chunk_overlap = 150)\n",
    "text_splitter"
   ]
  },
  {
   "cell_type": "code",
   "execution_count": 7,
   "metadata": {},
   "outputs": [
    {
     "data": {
      "text/plain": [
       "[Document(page_content='Eye Pressure Lowering Effect of Vitamin C\\nHerschell H. Boyd, M.D.1\\nPurpose\\nTo document the pressure before the use\\nof vitamin C and after the daily intake of\\nmaximum amounts of vitamin C, three times\\na day.\\nMethods\\nThirty patients (16 men and 14 women)\\nwere advised to take three divided doses of\\nvitamin C in capsule form each day until\\nloose stools occured and then back downslightly from this amount (bowel dosage) for\\na daily intake. Average daily intake for all\\npatients was 10 grams per day.', metadata={'source': './data\\\\FM docs 2024.3\\\\Eye Pressure Lowering Effect of Vitamin C.pdf', 'page': 0}),\n",
       " Document(page_content='a daily intake. Average daily intake for all\\npatients was 10 grams per day.\\nResults\\nThe greatest lowering of pressure was 13\\nmm as measured with a Goldmann tonom-\\neter. The least lowering of pressure was 1\\nmm. The average for 30 patients was 10 mm.Thirty patients were controlled only with\\nvitamin C. Twenty patients were forced to\\nuse eye drops to lower the pressure below 20mm of mercury as they refused to take vita-\\nmin C.\\nConclusion\\nIn this series of 30 patients there was no', metadata={'source': './data\\\\FM docs 2024.3\\\\Eye Pressure Lowering Effect of Vitamin C.pdf', 'page': 0}),\n",
       " Document(page_content='use eye drops to lower the pressure below 20mm of mercury as they refused to take vita-\\nmin C.\\nConclusion\\nIn this series of 30 patients there was no\\noccasion in which the pressure was not low-ered with vitamin C. All drugs for glaucoma\\nare seriously toxic, and vitamin C has no\\ntoxicity yet known. The patients experiencedmany other good side effects from vitamin C\\nsuch as clearing of sinusitis, allergy symp-', metadata={'source': './data\\\\FM docs 2024.3\\\\Eye Pressure Lowering Effect of Vitamin C.pdf', 'page': 0}),\n",
       " Document(page_content='toxicity yet known. The patients experiencedmany other good side effects from vitamin C\\nsuch as clearing of sinusitis, allergy symp-\\ntoms, arthritis improvement, cholesterol low-ering, laxative effect, diuretic effect for heart\\ndisease patients, and other improvements\\nassociated with vitamin C intake of “severalgrams per day” level. Ophthalmologists may\\nawaken to the marvels of vitamin C in treat-\\ning glaucoma!\\nIntroduction\\nVitamin C has been used since the trans-\\nformation of glucose, C', metadata={'source': './data\\\\FM docs 2024.3\\\\Eye Pressure Lowering Effect of Vitamin C.pdf', 'page': 0}),\n",
       " Document(page_content='awaken to the marvels of vitamin C in treat-\\ning glaucoma!\\nIntroduction\\nVitamin C has been used since the trans-\\nformation of glucose, C\\n6H12O6, into vitamin\\n1. Eastview Professional Building, 1370 - 116th Avenue\\nN.E., Suite 212, Bellevue WA 98004-4679.\\n165C, C6H8O6, in the early 1930s. Its use in\\nlowering the pressure in glaucoma datesback to 1962 as reported in Experimental\\nEye Research.\\n1 Since then there have been', metadata={'source': './data\\\\FM docs 2024.3\\\\Eye Pressure Lowering Effect of Vitamin C.pdf', 'page': 0})]"
      ]
     },
     "execution_count": 7,
     "metadata": {},
     "output_type": "execute_result"
    }
   ],
   "source": [
    "split_docs = text_splitter.split_documents(docs)\n",
    "split_docs[:5]"
   ]
  },
  {
   "cell_type": "markdown",
   "metadata": {},
   "source": [
    "# 向量化保存数据库"
   ]
  },
  {
   "cell_type": "code",
   "execution_count": 8,
   "metadata": {},
   "outputs": [],
   "source": [
    "# 定义持久化路径\n",
    "persist_directory = './vector_db/faiss_reranker'\n",
    "embedding_model_path = \"./models/bce-embedding-base_v1\""
   ]
  },
  {
   "cell_type": "code",
   "execution_count": 9,
   "metadata": {},
   "outputs": [
    {
     "name": "stderr",
     "output_type": "stream",
     "text": [
      "04/24/2024 13:34:36 - [INFO] -sentence_transformers.SentenceTransformer->>>    Load pretrained SentenceTransformer: ./models/bce-embedding-base_v1\n",
      "f:\\Miniconda3\\envs\\llm\\lib\\site-packages\\transformers\\utils\\generic.py:309: UserWarning: torch.utils._pytree._register_pytree_node is deprecated. Please use torch.utils._pytree.register_pytree_node instead.\n",
      "  _torch_pytree._register_pytree_node(\n",
      "f:\\Miniconda3\\envs\\llm\\lib\\site-packages\\transformers\\utils\\generic.py:309: UserWarning: torch.utils._pytree._register_pytree_node is deprecated. Please use torch.utils._pytree.register_pytree_node instead.\n",
      "  _torch_pytree._register_pytree_node(\n"
     ]
    },
    {
     "data": {
      "text/plain": [
       "HuggingFaceEmbeddings(client=SentenceTransformer(\n",
       "  (0): Transformer({'max_seq_length': 512, 'do_lower_case': False}) with Transformer model: XLMRobertaModel \n",
       "  (1): Pooling({'word_embedding_dimension': 768, 'pooling_mode_cls_token': True, 'pooling_mode_mean_tokens': False, 'pooling_mode_max_tokens': False, 'pooling_mode_mean_sqrt_len_tokens': False, 'pooling_mode_weightedmean_tokens': False, 'pooling_mode_lasttoken': False, 'include_prompt': True})\n",
       "  (2): Normalize()\n",
       "), model_name='./models/bce-embedding-base_v1', cache_folder=None, model_kwargs={'device': 'cuda'}, encode_kwargs={'normalize_embeddings': True}, multi_process=False, show_progress=False)"
      ]
     },
     "execution_count": 9,
     "metadata": {},
     "output_type": "execute_result"
    }
   ],
   "source": [
    "# 加载开源词向量模型\n",
    "embeddings = HuggingFaceEmbeddings(\n",
    "    model_name = embedding_model_path,\n",
    "    model_kwargs = {'device': 'cuda'},\n",
    "    encode_kwargs = {\n",
    "        'normalize_embeddings': True    # 尽可能保证相似度在0~1之间\n",
    "    }\n",
    ")\n",
    "embeddings"
   ]
  },
  {
   "cell_type": "code",
   "execution_count": 10,
   "metadata": {},
   "outputs": [
    {
     "data": {
      "text/plain": [
       "HuggingFaceEmbeddings(client=SentenceTransformer(\n",
       "  (0): Transformer({'max_seq_length': 512, 'do_lower_case': False}) with Transformer model: XLMRobertaModel \n",
       "  (1): Pooling({'word_embedding_dimension': 768, 'pooling_mode_cls_token': True, 'pooling_mode_mean_tokens': False, 'pooling_mode_max_tokens': False, 'pooling_mode_mean_sqrt_len_tokens': False, 'pooling_mode_weightedmean_tokens': False, 'pooling_mode_lasttoken': False, 'include_prompt': True})\n",
       "  (2): Normalize()\n",
       "), model_name='./models/bce-embedding-base_v1', cache_folder=None, model_kwargs={'device': 'cuda'}, encode_kwargs={'normalize_embeddings': True}, multi_process=False, show_progress=False)"
      ]
     },
     "execution_count": 10,
     "metadata": {},
     "output_type": "execute_result"
    }
   ],
   "source": [
    "embeddings.client = embeddings.client.half()\n",
    "embeddings"
   ]
  },
  {
   "cell_type": "code",
   "execution_count": 11,
   "metadata": {},
   "outputs": [
    {
     "name": "stdout",
     "output_type": "stream",
     "text": [
      "Help on method from_documents in module langchain_core.vectorstores:\n",
      "\n",
      "from_documents(documents: 'List[Document]', embedding: 'Embeddings', **kwargs: 'Any') -> 'VST' method of abc.ABCMeta instance\n",
      "    Return VectorStore initialized from documents and embeddings.\n",
      "\n"
     ]
    }
   ],
   "source": [
    "help(FAISS.from_documents)"
   ]
  },
  {
   "cell_type": "code",
   "execution_count": 12,
   "metadata": {},
   "outputs": [
    {
     "name": "stderr",
     "output_type": "stream",
     "text": [
      "04/24/2024 13:36:05 - [INFO] -faiss.loader->>>    Loading faiss with AVX2 support.\n",
      "04/24/2024 13:36:05 - [INFO] -faiss.loader->>>    Successfully loaded faiss with AVX2 support.\n"
     ]
    },
    {
     "data": {
      "text/plain": [
       "<langchain_community.vectorstores.faiss.FAISS at 0x15ad4f05d50>"
      ]
     },
     "execution_count": 12,
     "metadata": {},
     "output_type": "execute_result"
    }
   ],
   "source": [
    "# 构建向量数据库\n",
    "vectordb = FAISS.from_documents(\n",
    "    documents = split_docs,\n",
    "    embedding = embeddings,\n",
    ")\n",
    "vectordb"
   ]
  },
  {
   "cell_type": "code",
   "execution_count": 13,
   "metadata": {},
   "outputs": [],
   "source": [
    "vectordb.save_local(folder_path = persist_directory)"
   ]
  },
  {
   "cell_type": "markdown",
   "metadata": {},
   "source": [
    "# 加载数据库"
   ]
  },
  {
   "cell_type": "code",
   "execution_count": 14,
   "metadata": {},
   "outputs": [
    {
     "data": {
      "text/plain": [
       "<langchain_community.vectorstores.faiss.FAISS at 0x15a3aa37790>"
      ]
     },
     "execution_count": 14,
     "metadata": {},
     "output_type": "execute_result"
    }
   ],
   "source": [
    "# 加载数据库\n",
    "vectordb = FAISS.load_local(\n",
    "    folder_path = persist_directory,\n",
    "    embeddings = embeddings,\n",
    "    allow_dangerous_deserialization = True, # 允许读取pickle\n",
    "    # faiss 仅支持 EUCLIDEAN_DISTANCE MAX_INNER_PRODUCT COSINE\n",
    "    distance_strategy = DistanceStrategy.MAX_INNER_PRODUCT, # refer: https://github.com/InternLM/HuixiangDou/blob/main/huixiangdou/service/retriever.py\n",
    "    normalize_L2 = False,\n",
    ")\n",
    "vectordb"
   ]
  },
  {
   "cell_type": "code",
   "execution_count": 15,
   "metadata": {},
   "outputs": [],
   "source": [
    "query = \"Eye Pressure Lowering Effect of Vitamin C\""
   ]
  },
  {
   "cell_type": "markdown",
   "metadata": {},
   "source": [
    "# search"
   ]
  },
  {
   "cell_type": "markdown",
   "metadata": {},
   "source": [
    "## search"
   ]
  },
  {
   "cell_type": "code",
   "execution_count": 16,
   "metadata": {},
   "outputs": [
    {
     "name": "stdout",
     "output_type": "stream",
     "text": [
      "Help on method search in module langchain_core.vectorstores:\n",
      "\n",
      "search(query: 'str', search_type: 'str', **kwargs: 'Any') -> 'List[Document]' method of langchain_community.vectorstores.faiss.FAISS instance\n",
      "    Return docs most similar to query using specified search type.\n",
      "\n"
     ]
    }
   ],
   "source": [
    "help(vectordb.search)"
   ]
  },
  {
   "cell_type": "code",
   "execution_count": 17,
   "metadata": {},
   "outputs": [
    {
     "data": {
      "text/plain": [
       "[Document(page_content='Eye Pressure Lowering Effect of Vitamin C\\nHerschell H. Boyd, M.D.1\\nPurpose\\nTo document the pressure before the use\\nof vitamin C and after the daily intake of\\nmaximum amounts of vitamin C, three times\\na day.\\nMethods\\nThirty patients (16 men and 14 women)\\nwere advised to take three divided doses of\\nvitamin C in capsule form each day until\\nloose stools occured and then back downslightly from this amount (bowel dosage) for\\na daily intake. Average daily intake for all\\npatients was 10 grams per day.', metadata={'source': './data\\\\FM docs 2024.3\\\\Eye Pressure Lowering Effect of Vitamin C.pdf', 'page': 0}),\n",
       " Document(page_content='awaken to the marvels of vitamin C in treat-\\ning glaucoma!\\nIntroduction\\nVitamin C has been used since the trans-\\nformation of glucose, C\\n6H12O6, into vitamin\\n1. Eastview Professional Building, 1370 - 116th Avenue\\nN.E., Suite 212, Bellevue WA 98004-4679.\\n165C, C6H8O6, in the early 1930s. Its use in\\nlowering the pressure in glaucoma datesback to 1962 as reported in Experimental\\nEye Research.\\n1 Since then there have been', metadata={'source': './data\\\\FM docs 2024.3\\\\Eye Pressure Lowering Effect of Vitamin C.pdf', 'page': 0}),\n",
       " Document(page_content=\"paid by research grants from drug compa-nies and from the National Institute of Health\\nin Washington, D.C. These two areas don't\\nfund vitamin C. If a source of private moneycould be found, the medical school would be\\npleased to do studies as desired. A private\\nfoundation may be the salvation of the glau-coma patients, and, of course, the many\\nother areas we need to treat.\\nConclusion\\n1. Vitamin C does lower the intraocular\\npressure in all patients with elevatedpressure.\", metadata={'source': './data\\\\FM docs 2024.3\\\\Eye Pressure Lowering Effect of Vitamin C.pdf', 'page': 3}),\n",
       " Document(page_content='8. “Bowel dosage” was resisted by patients.9. All other vitamins were included with\\nvitamin C.\\nReferences\\n1. Virno M, Bucci M: Oral treatment of\\nGlaucoma with Vitamin C, The Eye, Ear,\\nNose and Throat Monthly , Vol. 46, 1502-\\n1508, Dec. 1967.\\n2. Linner E: Intra-ocular Pressure Regulation\\nand Ascorbic Acid, Acta Soc. Med. Upsol  59,\\n225, 1964.\\n3. Virno M, Bucci M, et al: Intravenous Glycerol-\\nVitamin C (Sodium Salt) as Osmotic Agentsto Reduce Intraocular Pressure, American', metadata={'source': './data\\\\FM docs 2024.3\\\\Eye Pressure Lowering Effect of Vitamin C.pdf', 'page': 3})]"
      ]
     },
     "execution_count": 17,
     "metadata": {},
     "output_type": "execute_result"
    }
   ],
   "source": [
    "# search_type: 'similarity' or 'mmr'.\n",
    "similarity_documents = vectordb.search(query = query, search_type = 'similarity', k = 4, fetch_k = 20)\n",
    "similarity_documents"
   ]
  },
  {
   "cell_type": "markdown",
   "metadata": {},
   "source": [
    "## similarity_search"
   ]
  },
  {
   "cell_type": "code",
   "execution_count": 18,
   "metadata": {},
   "outputs": [
    {
     "name": "stdout",
     "output_type": "stream",
     "text": [
      "Help on method similarity_search in module langchain_community.vectorstores.faiss:\n",
      "\n",
      "similarity_search(query: 'str', k: 'int' = 4, filter: 'Optional[Union[Callable, Dict[str, Any]]]' = None, fetch_k: 'int' = 20, **kwargs: 'Any') -> 'List[Document]' method of langchain_community.vectorstores.faiss.FAISS instance\n",
      "    Return docs most similar to query.\n",
      "    \n",
      "    Args:\n",
      "        query: Text to look up documents similar to.\n",
      "        k: Number of Documents to return. Defaults to 4.\n",
      "        filter: (Optional[Dict[str, str]]): Filter by metadata. Defaults to None.\n",
      "        fetch_k: (Optional[int]) Number of Documents to fetch before filtering.\n",
      "                  Defaults to 20.\n",
      "    \n",
      "    Returns:\n",
      "        List of Documents most similar to the query.\n",
      "\n"
     ]
    }
   ],
   "source": [
    "help(vectordb.similarity_search)"
   ]
  },
  {
   "cell_type": "code",
   "execution_count": 19,
   "metadata": {},
   "outputs": [
    {
     "data": {
      "text/plain": [
       "[Document(page_content='Eye Pressure Lowering Effect of Vitamin C\\nHerschell H. Boyd, M.D.1\\nPurpose\\nTo document the pressure before the use\\nof vitamin C and after the daily intake of\\nmaximum amounts of vitamin C, three times\\na day.\\nMethods\\nThirty patients (16 men and 14 women)\\nwere advised to take three divided doses of\\nvitamin C in capsule form each day until\\nloose stools occured and then back downslightly from this amount (bowel dosage) for\\na daily intake. Average daily intake for all\\npatients was 10 grams per day.', metadata={'source': './data\\\\FM docs 2024.3\\\\Eye Pressure Lowering Effect of Vitamin C.pdf', 'page': 0}),\n",
       " Document(page_content='awaken to the marvels of vitamin C in treat-\\ning glaucoma!\\nIntroduction\\nVitamin C has been used since the trans-\\nformation of glucose, C\\n6H12O6, into vitamin\\n1. Eastview Professional Building, 1370 - 116th Avenue\\nN.E., Suite 212, Bellevue WA 98004-4679.\\n165C, C6H8O6, in the early 1930s. Its use in\\nlowering the pressure in glaucoma datesback to 1962 as reported in Experimental\\nEye Research.\\n1 Since then there have been', metadata={'source': './data\\\\FM docs 2024.3\\\\Eye Pressure Lowering Effect of Vitamin C.pdf', 'page': 0}),\n",
       " Document(page_content=\"paid by research grants from drug compa-nies and from the National Institute of Health\\nin Washington, D.C. These two areas don't\\nfund vitamin C. If a source of private moneycould be found, the medical school would be\\npleased to do studies as desired. A private\\nfoundation may be the salvation of the glau-coma patients, and, of course, the many\\nother areas we need to treat.\\nConclusion\\n1. Vitamin C does lower the intraocular\\npressure in all patients with elevatedpressure.\", metadata={'source': './data\\\\FM docs 2024.3\\\\Eye Pressure Lowering Effect of Vitamin C.pdf', 'page': 3}),\n",
       " Document(page_content='8. “Bowel dosage” was resisted by patients.9. All other vitamins were included with\\nvitamin C.\\nReferences\\n1. Virno M, Bucci M: Oral treatment of\\nGlaucoma with Vitamin C, The Eye, Ear,\\nNose and Throat Monthly , Vol. 46, 1502-\\n1508, Dec. 1967.\\n2. Linner E: Intra-ocular Pressure Regulation\\nand Ascorbic Acid, Acta Soc. Med. Upsol  59,\\n225, 1964.\\n3. Virno M, Bucci M, et al: Intravenous Glycerol-\\nVitamin C (Sodium Salt) as Osmotic Agentsto Reduce Intraocular Pressure, American', metadata={'source': './data\\\\FM docs 2024.3\\\\Eye Pressure Lowering Effect of Vitamin C.pdf', 'page': 3})]"
      ]
     },
     "execution_count": 19,
     "metadata": {},
     "output_type": "execute_result"
    }
   ],
   "source": [
    "similarity_documents = vectordb.similarity_search(query = query, k = 4, fetch_k = 20)\n",
    "similarity_documents"
   ]
  },
  {
   "cell_type": "code",
   "execution_count": 20,
   "metadata": {},
   "outputs": [
    {
     "data": {
      "text/plain": [
       "['./data\\\\FM docs 2024.3\\\\Eye Pressure Lowering Effect of Vitamin C.pdf']"
      ]
     },
     "execution_count": 20,
     "metadata": {},
     "output_type": "execute_result"
    }
   ],
   "source": [
    "similarity_documents_reference = list(set([doc.metadata['source'] for doc in similarity_documents]))\n",
    "similarity_documents_reference"
   ]
  },
  {
   "cell_type": "markdown",
   "metadata": {},
   "source": [
    "## similarity_search_with_score"
   ]
  },
  {
   "cell_type": "code",
   "execution_count": 21,
   "metadata": {},
   "outputs": [
    {
     "name": "stdout",
     "output_type": "stream",
     "text": [
      "Help on method similarity_search_with_score in module langchain_community.vectorstores.faiss:\n",
      "\n",
      "similarity_search_with_score(query: 'str', k: 'int' = 4, filter: 'Optional[Union[Callable, Dict[str, Any]]]' = None, fetch_k: 'int' = 20, **kwargs: 'Any') -> 'List[Tuple[Document, float]]' method of langchain_community.vectorstores.faiss.FAISS instance\n",
      "    Return docs most similar to query.\n",
      "    \n",
      "    Args:\n",
      "        query: Text to look up documents similar to.\n",
      "        k: Number of Documents to return. Defaults to 4.\n",
      "        filter (Optional[Dict[str, str]]): Filter by metadata.\n",
      "            Defaults to None. If a callable, it must take as input the\n",
      "            metadata dict of Document and return a bool.\n",
      "    \n",
      "        fetch_k: (Optional[int]) Number of Documents to fetch before filtering.\n",
      "                  Defaults to 20.\n",
      "    \n",
      "    Returns:\n",
      "        List of documents most similar to the query text with\n",
      "        L2 distance in float. Lower score represents more similarity.\n",
      "\n"
     ]
    }
   ],
   "source": [
    "help(vectordb.similarity_search_with_score)"
   ]
  },
  {
   "cell_type": "code",
   "execution_count": 22,
   "metadata": {},
   "outputs": [
    {
     "data": {
      "text/plain": [
       "[(Document(page_content='Eye Pressure Lowering Effect of Vitamin C\\nHerschell H. Boyd, M.D.1\\nPurpose\\nTo document the pressure before the use\\nof vitamin C and after the daily intake of\\nmaximum amounts of vitamin C, three times\\na day.\\nMethods\\nThirty patients (16 men and 14 women)\\nwere advised to take three divided doses of\\nvitamin C in capsule form each day until\\nloose stools occured and then back downslightly from this amount (bowel dosage) for\\na daily intake. Average daily intake for all\\npatients was 10 grams per day.', metadata={'source': './data\\\\FM docs 2024.3\\\\Eye Pressure Lowering Effect of Vitamin C.pdf', 'page': 0}),\n",
       "  0.4786454),\n",
       " (Document(page_content='awaken to the marvels of vitamin C in treat-\\ning glaucoma!\\nIntroduction\\nVitamin C has been used since the trans-\\nformation of glucose, C\\n6H12O6, into vitamin\\n1. Eastview Professional Building, 1370 - 116th Avenue\\nN.E., Suite 212, Bellevue WA 98004-4679.\\n165C, C6H8O6, in the early 1930s. Its use in\\nlowering the pressure in glaucoma datesback to 1962 as reported in Experimental\\nEye Research.\\n1 Since then there have been', metadata={'source': './data\\\\FM docs 2024.3\\\\Eye Pressure Lowering Effect of Vitamin C.pdf', 'page': 0}),\n",
       "  0.5534744),\n",
       " (Document(page_content=\"paid by research grants from drug compa-nies and from the National Institute of Health\\nin Washington, D.C. These two areas don't\\nfund vitamin C. If a source of private moneycould be found, the medical school would be\\npleased to do studies as desired. A private\\nfoundation may be the salvation of the glau-coma patients, and, of course, the many\\nother areas we need to treat.\\nConclusion\\n1. Vitamin C does lower the intraocular\\npressure in all patients with elevatedpressure.\", metadata={'source': './data\\\\FM docs 2024.3\\\\Eye Pressure Lowering Effect of Vitamin C.pdf', 'page': 3}),\n",
       "  0.5545596),\n",
       " (Document(page_content='8. “Bowel dosage” was resisted by patients.9. All other vitamins were included with\\nvitamin C.\\nReferences\\n1. Virno M, Bucci M: Oral treatment of\\nGlaucoma with Vitamin C, The Eye, Ear,\\nNose and Throat Monthly , Vol. 46, 1502-\\n1508, Dec. 1967.\\n2. Linner E: Intra-ocular Pressure Regulation\\nand Ascorbic Acid, Acta Soc. Med. Upsol  59,\\n225, 1964.\\n3. Virno M, Bucci M, et al: Intravenous Glycerol-\\nVitamin C (Sodium Salt) as Osmotic Agentsto Reduce Intraocular Pressure, American', metadata={'source': './data\\\\FM docs 2024.3\\\\Eye Pressure Lowering Effect of Vitamin C.pdf', 'page': 3}),\n",
       "  0.61880374)]"
      ]
     },
     "execution_count": 22,
     "metadata": {},
     "output_type": "execute_result"
    }
   ],
   "source": [
    "similarity_documents = vectordb.similarity_search_with_score(query = query, k = 4, fetch_k = 20)\n",
    "similarity_documents"
   ]
  },
  {
   "cell_type": "code",
   "execution_count": 23,
   "metadata": {},
   "outputs": [
    {
     "data": {
      "text/plain": [
       "(0.4786454, 0.5534744, 0.5545596, 0.61880374)"
      ]
     },
     "execution_count": 23,
     "metadata": {},
     "output_type": "execute_result"
    }
   ],
   "source": [
    "documents, scores = zip(*similarity_documents)\n",
    "scores"
   ]
  },
  {
   "cell_type": "markdown",
   "metadata": {},
   "source": [
    "## similarity_search_with_relevance_scores"
   ]
  },
  {
   "cell_type": "code",
   "execution_count": 24,
   "metadata": {},
   "outputs": [
    {
     "name": "stdout",
     "output_type": "stream",
     "text": [
      "Help on method similarity_search_with_relevance_scores in module langchain_core.vectorstores:\n",
      "\n",
      "similarity_search_with_relevance_scores(query: 'str', k: 'int' = 4, **kwargs: 'Any') -> 'List[Tuple[Document, float]]' method of langchain_community.vectorstores.faiss.FAISS instance\n",
      "    Return docs and relevance scores in the range [0, 1].\n",
      "    \n",
      "    0 is dissimilar, 1 is most similar.\n",
      "    \n",
      "    Args:\n",
      "        query: input text\n",
      "        k: Number of Documents to return. Defaults to 4.\n",
      "        **kwargs: kwargs to be passed to similarity search. Should include:\n",
      "            score_threshold: Optional, a floating point value between 0 to 1 to\n",
      "                filter the resulting set of retrieved docs\n",
      "    \n",
      "    Returns:\n",
      "        List of Tuples of (doc, similarity_score)\n",
      "\n"
     ]
    }
   ],
   "source": [
    "help(vectordb.similarity_search_with_relevance_scores)"
   ]
  },
  {
   "cell_type": "code",
   "execution_count": 25,
   "metadata": {},
   "outputs": [
    {
     "data": {
      "text/plain": [
       "[(Document(page_content='Eye Pressure Lowering Effect of Vitamin C\\nHerschell H. Boyd, M.D.1\\nPurpose\\nTo document the pressure before the use\\nof vitamin C and after the daily intake of\\nmaximum amounts of vitamin C, three times\\na day.\\nMethods\\nThirty patients (16 men and 14 women)\\nwere advised to take three divided doses of\\nvitamin C in capsule form each day until\\nloose stools occured and then back downslightly from this amount (bowel dosage) for\\na daily intake. Average daily intake for all\\npatients was 10 grams per day.', metadata={'source': './data\\\\FM docs 2024.3\\\\Eye Pressure Lowering Effect of Vitamin C.pdf', 'page': 0}),\n",
       "  0.5213545858860016),\n",
       " (Document(page_content='awaken to the marvels of vitamin C in treat-\\ning glaucoma!\\nIntroduction\\nVitamin C has been used since the trans-\\nformation of glucose, C\\n6H12O6, into vitamin\\n1. Eastview Professional Building, 1370 - 116th Avenue\\nN.E., Suite 212, Bellevue WA 98004-4679.\\n165C, C6H8O6, in the early 1930s. Its use in\\nlowering the pressure in glaucoma datesback to 1962 as reported in Experimental\\nEye Research.\\n1 Since then there have been', metadata={'source': './data\\\\FM docs 2024.3\\\\Eye Pressure Lowering Effect of Vitamin C.pdf', 'page': 0}),\n",
       "  0.44652557373046875),\n",
       " (Document(page_content=\"paid by research grants from drug compa-nies and from the National Institute of Health\\nin Washington, D.C. These two areas don't\\nfund vitamin C. If a source of private moneycould be found, the medical school would be\\npleased to do studies as desired. A private\\nfoundation may be the salvation of the glau-coma patients, and, of course, the many\\nother areas we need to treat.\\nConclusion\\n1. Vitamin C does lower the intraocular\\npressure in all patients with elevatedpressure.\", metadata={'source': './data\\\\FM docs 2024.3\\\\Eye Pressure Lowering Effect of Vitamin C.pdf', 'page': 3}),\n",
       "  0.445440411567688),\n",
       " (Document(page_content='8. “Bowel dosage” was resisted by patients.9. All other vitamins were included with\\nvitamin C.\\nReferences\\n1. Virno M, Bucci M: Oral treatment of\\nGlaucoma with Vitamin C, The Eye, Ear,\\nNose and Throat Monthly , Vol. 46, 1502-\\n1508, Dec. 1967.\\n2. Linner E: Intra-ocular Pressure Regulation\\nand Ascorbic Acid, Acta Soc. Med. Upsol  59,\\n225, 1964.\\n3. Virno M, Bucci M, et al: Intravenous Glycerol-\\nVitamin C (Sodium Salt) as Osmotic Agentsto Reduce Intraocular Pressure, American', metadata={'source': './data\\\\FM docs 2024.3\\\\Eye Pressure Lowering Effect of Vitamin C.pdf', 'page': 3}),\n",
       "  0.3811962604522705)]"
      ]
     },
     "execution_count": 25,
     "metadata": {},
     "output_type": "execute_result"
    }
   ],
   "source": [
    "similarity_documents = vectordb.similarity_search_with_relevance_scores(query = query, k = 4, fetch_k = 20)\n",
    "similarity_documents"
   ]
  },
  {
   "cell_type": "code",
   "execution_count": 26,
   "metadata": {},
   "outputs": [
    {
     "data": {
      "text/plain": [
       "(0.5213545858860016,\n",
       " 0.44652557373046875,\n",
       " 0.445440411567688,\n",
       " 0.3811962604522705)"
      ]
     },
     "execution_count": 26,
     "metadata": {},
     "output_type": "execute_result"
    }
   ],
   "source": [
    "documents, scores = zip(*similarity_documents)\n",
    "scores"
   ]
  },
  {
   "cell_type": "markdown",
   "metadata": {},
   "source": [
    "## similarity_search_by_vector"
   ]
  },
  {
   "cell_type": "code",
   "execution_count": 27,
   "metadata": {},
   "outputs": [
    {
     "name": "stdout",
     "output_type": "stream",
     "text": [
      "Help on method similarity_search_by_vector in module langchain_community.vectorstores.faiss:\n",
      "\n",
      "similarity_search_by_vector(embedding: 'List[float]', k: 'int' = 4, filter: 'Optional[Dict[str, Any]]' = None, fetch_k: 'int' = 20, **kwargs: 'Any') -> 'List[Document]' method of langchain_community.vectorstores.faiss.FAISS instance\n",
      "    Return docs most similar to embedding vector.\n",
      "    \n",
      "    Args:\n",
      "        embedding: Embedding to look up documents similar to.\n",
      "        k: Number of Documents to return. Defaults to 4.\n",
      "        filter (Optional[Dict[str, str]]): Filter by metadata.\n",
      "            Defaults to None. If a callable, it must take as input the\n",
      "            metadata dict of Document and return a bool.\n",
      "    \n",
      "        fetch_k: (Optional[int]) Number of Documents to fetch before filtering.\n",
      "                  Defaults to 20.\n",
      "    \n",
      "    Returns:\n",
      "        List of Documents most similar to the embedding.\n",
      "\n"
     ]
    }
   ],
   "source": [
    "help(vectordb.similarity_search_by_vector)"
   ]
  },
  {
   "cell_type": "markdown",
   "metadata": {},
   "source": [
    "## similarity_search_with_score_by_vector"
   ]
  },
  {
   "cell_type": "code",
   "execution_count": 28,
   "metadata": {},
   "outputs": [
    {
     "name": "stdout",
     "output_type": "stream",
     "text": [
      "Help on method similarity_search_with_score_by_vector in module langchain_community.vectorstores.faiss:\n",
      "\n",
      "similarity_search_with_score_by_vector(embedding: 'List[float]', k: 'int' = 4, filter: 'Optional[Union[Callable, Dict[str, Any]]]' = None, fetch_k: 'int' = 20, **kwargs: 'Any') -> 'List[Tuple[Document, float]]' method of langchain_community.vectorstores.faiss.FAISS instance\n",
      "    Return docs most similar to query.\n",
      "    \n",
      "    Args:\n",
      "        embedding: Embedding vector to look up documents similar to.\n",
      "        k: Number of Documents to return. Defaults to 4.\n",
      "        filter (Optional[Union[Callable, Dict[str, Any]]]): Filter by metadata.\n",
      "            Defaults to None. If a callable, it must take as input the\n",
      "            metadata dict of Document and return a bool.\n",
      "        fetch_k: (Optional[int]) Number of Documents to fetch before filtering.\n",
      "                  Defaults to 20.\n",
      "        **kwargs: kwargs to be passed to similarity search. Can include:\n",
      "            score_threshold: Optional, a floating point value between 0 to 1 to\n",
      "                filter the resulting set of retrieved docs\n",
      "    \n",
      "    Returns:\n",
      "        List of documents most similar to the query text and L2 distance\n",
      "        in float for each. Lower score represents more similarity.\n",
      "\n"
     ]
    }
   ],
   "source": [
    "help(vectordb.similarity_search_with_score_by_vector)"
   ]
  },
  {
   "cell_type": "markdown",
   "metadata": {},
   "source": [
    "# retriever"
   ]
  },
  {
   "cell_type": "code",
   "execution_count": 29,
   "metadata": {},
   "outputs": [
    {
     "name": "stdout",
     "output_type": "stream",
     "text": [
      "Help on method as_retriever in module langchain_core.vectorstores:\n",
      "\n",
      "as_retriever(**kwargs: 'Any') -> 'VectorStoreRetriever' method of langchain_community.vectorstores.faiss.FAISS instance\n",
      "    Return VectorStoreRetriever initialized from this VectorStore.\n",
      "    \n",
      "    Args:\n",
      "        search_type (Optional[str]): Defines the type of search that\n",
      "            the Retriever should perform.\n",
      "            Can be \"similarity\" (default), \"mmr\", or\n",
      "            \"similarity_score_threshold\".\n",
      "        search_kwargs (Optional[Dict]): Keyword arguments to pass to the\n",
      "            search function. Can include things like:\n",
      "                k: Amount of documents to return (Default: 4)\n",
      "                score_threshold: Minimum relevance threshold\n",
      "                    for similarity_score_threshold\n",
      "                fetch_k: Amount of documents to pass to MMR algorithm (Default: 20)\n",
      "                lambda_mult: Diversity of results returned by MMR;\n",
      "                    1 for minimum diversity and 0 for maximum. (Default: 0.5)\n",
      "                filter: Filter by document metadata\n",
      "    \n",
      "    Returns:\n",
      "        VectorStoreRetriever: Retriever class for VectorStore.\n",
      "    \n",
      "    Examples:\n",
      "    \n",
      "    .. code-block:: python\n",
      "    \n",
      "        # Retrieve more documents with higher diversity\n",
      "        # Useful if your dataset has many similar documents\n",
      "        docsearch.as_retriever(\n",
      "            search_type=\"mmr\",\n",
      "            search_kwargs={'k': 6, 'lambda_mult': 0.25}\n",
      "        )\n",
      "    \n",
      "        # Fetch more documents for the MMR algorithm to consider\n",
      "        # But only return the top 5\n",
      "        docsearch.as_retriever(\n",
      "            search_type=\"mmr\",\n",
      "            search_kwargs={'k': 5, 'fetch_k': 50}\n",
      "        )\n",
      "    \n",
      "        # Only retrieve documents that have a relevance score\n",
      "        # Above a certain threshold\n",
      "        docsearch.as_retriever(\n",
      "            search_type=\"similarity_score_threshold\",\n",
      "            search_kwargs={'score_threshold': 0.8}\n",
      "        )\n",
      "    \n",
      "        # Only get the single most similar document from the dataset\n",
      "        docsearch.as_retriever(search_kwargs={'k': 1})\n",
      "    \n",
      "        # Use a filter to only retrieve documents from a specific paper\n",
      "        docsearch.as_retriever(\n",
      "            search_kwargs={'filter': {'paper_title':'GPT-4 Technical Report'}}\n",
      "        )\n",
      "\n"
     ]
    }
   ],
   "source": [
    "help(vectordb.as_retriever)"
   ]
  },
  {
   "cell_type": "code",
   "execution_count": 30,
   "metadata": {},
   "outputs": [
    {
     "data": {
      "text/plain": [
       "VectorStoreRetriever(tags=['FAISS', 'HuggingFaceEmbeddings'], vectorstore=<langchain_community.vectorstores.faiss.FAISS object at 0x0000015A3AA37790>, search_type='similarity_score_threshold', search_kwargs={'k': 4, 'score_threshold': 0.15, 'fetch_k': 20})"
      ]
     },
     "execution_count": 30,
     "metadata": {},
     "output_type": "execute_result"
    }
   ],
   "source": [
    "# search_type: 'similarity', 'similarity_score_threshold', 'mmr'\n",
    "retriever = vectordb.as_retriever(\n",
    "    search_type = \"similarity_score_threshold\",\n",
    "    search_kwargs = {\"k\": 4, \"score_threshold\": 0.15, \"fetch_k\": 20}\n",
    ")\n",
    "retriever"
   ]
  },
  {
   "cell_type": "code",
   "execution_count": 31,
   "metadata": {},
   "outputs": [
    {
     "data": {
      "text/plain": [
       "<langchain_community.vectorstores.faiss.FAISS at 0x15a3aa37790>"
      ]
     },
     "execution_count": 31,
     "metadata": {},
     "output_type": "execute_result"
    }
   ],
   "source": [
    "retriever.vectorstore"
   ]
  },
  {
   "cell_type": "markdown",
   "metadata": {},
   "source": [
    "## get_relevant_documents"
   ]
  },
  {
   "cell_type": "code",
   "execution_count": 32,
   "metadata": {},
   "outputs": [
    {
     "name": "stdout",
     "output_type": "stream",
     "text": [
      "Help on method get_relevant_documents in module langchain_core.retrievers:\n",
      "\n",
      "get_relevant_documents(query: 'str', *, callbacks: 'Callbacks' = None, tags: 'Optional[List[str]]' = None, metadata: 'Optional[Dict[str, Any]]' = None, run_name: 'Optional[str]' = None, **kwargs: 'Any') -> 'List[Document]' method of langchain_core.vectorstores.VectorStoreRetriever instance\n",
      "    Retrieve documents relevant to a query.\n",
      "    \n",
      "    Users should favor using `.invoke` or `.batch` rather than\n",
      "    `get_relevant_documents directly`.\n",
      "    \n",
      "    Args:\n",
      "        query: string to find relevant documents for\n",
      "        callbacks: Callback manager or list of callbacks\n",
      "        tags: Optional list of tags associated with the retriever. Defaults to None\n",
      "            These tags will be associated with each call to this retriever,\n",
      "            and passed as arguments to the handlers defined in `callbacks`.\n",
      "        metadata: Optional metadata associated with the retriever. Defaults to None\n",
      "            This metadata will be associated with each call to this retriever,\n",
      "            and passed as arguments to the handlers defined in `callbacks`.\n",
      "        run_name: Optional name for the run.\n",
      "    \n",
      "    Returns:\n",
      "        List of relevant documents\n",
      "\n"
     ]
    }
   ],
   "source": [
    "help(retriever.get_relevant_documents)"
   ]
  },
  {
   "cell_type": "code",
   "execution_count": 33,
   "metadata": {},
   "outputs": [
    {
     "data": {
      "text/plain": [
       "[Document(page_content='Eye Pressure Lowering Effect of Vitamin C\\nHerschell H. Boyd, M.D.1\\nPurpose\\nTo document the pressure before the use\\nof vitamin C and after the daily intake of\\nmaximum amounts of vitamin C, three times\\na day.\\nMethods\\nThirty patients (16 men and 14 women)\\nwere advised to take three divided doses of\\nvitamin C in capsule form each day until\\nloose stools occured and then back downslightly from this amount (bowel dosage) for\\na daily intake. Average daily intake for all\\npatients was 10 grams per day.', metadata={'source': './data\\\\FM docs 2024.3\\\\Eye Pressure Lowering Effect of Vitamin C.pdf', 'page': 0}),\n",
       " Document(page_content='awaken to the marvels of vitamin C in treat-\\ning glaucoma!\\nIntroduction\\nVitamin C has been used since the trans-\\nformation of glucose, C\\n6H12O6, into vitamin\\n1. Eastview Professional Building, 1370 - 116th Avenue\\nN.E., Suite 212, Bellevue WA 98004-4679.\\n165C, C6H8O6, in the early 1930s. Its use in\\nlowering the pressure in glaucoma datesback to 1962 as reported in Experimental\\nEye Research.\\n1 Since then there have been', metadata={'source': './data\\\\FM docs 2024.3\\\\Eye Pressure Lowering Effect of Vitamin C.pdf', 'page': 0}),\n",
       " Document(page_content=\"paid by research grants from drug compa-nies and from the National Institute of Health\\nin Washington, D.C. These two areas don't\\nfund vitamin C. If a source of private moneycould be found, the medical school would be\\npleased to do studies as desired. A private\\nfoundation may be the salvation of the glau-coma patients, and, of course, the many\\nother areas we need to treat.\\nConclusion\\n1. Vitamin C does lower the intraocular\\npressure in all patients with elevatedpressure.\", metadata={'source': './data\\\\FM docs 2024.3\\\\Eye Pressure Lowering Effect of Vitamin C.pdf', 'page': 3}),\n",
       " Document(page_content='8. “Bowel dosage” was resisted by patients.9. All other vitamins were included with\\nvitamin C.\\nReferences\\n1. Virno M, Bucci M: Oral treatment of\\nGlaucoma with Vitamin C, The Eye, Ear,\\nNose and Throat Monthly , Vol. 46, 1502-\\n1508, Dec. 1967.\\n2. Linner E: Intra-ocular Pressure Regulation\\nand Ascorbic Acid, Acta Soc. Med. Upsol  59,\\n225, 1964.\\n3. Virno M, Bucci M, et al: Intravenous Glycerol-\\nVitamin C (Sodium Salt) as Osmotic Agentsto Reduce Intraocular Pressure, American', metadata={'source': './data\\\\FM docs 2024.3\\\\Eye Pressure Lowering Effect of Vitamin C.pdf', 'page': 3})]"
      ]
     },
     "execution_count": 33,
     "metadata": {},
     "output_type": "execute_result"
    }
   ],
   "source": [
    "similarity_documents = retriever.get_relevant_documents(query)\n",
    "similarity_documents"
   ]
  },
  {
   "cell_type": "code",
   "execution_count": 34,
   "metadata": {},
   "outputs": [
    {
     "name": "stderr",
     "output_type": "stream",
     "text": [
      "f:\\Miniconda3\\envs\\llm\\lib\\site-packages\\langchain_core\\vectorstores.py:330: UserWarning: Relevance scores must be between 0 and 1, got [(Document(page_content='WEDNESDAY:  chicken  rice                     fresh pineapple  carrot  \\nTHURSDAY:  lamb buckwheat                      orange  artichoke  \\nFRIDAY:  fish peas or beans                   banana (gr. or dried)  lettuce tomato  \\nSATURDAY:  pork (no ham or \\nbacon)  sweet potato                     apple  raw cabbage  \\nSUNDAY:  turkey  corn                          grapefruit Mazola marg.  spinach', metadata={'source': './data\\\\FM docs 2024.3\\\\JOM_1973_02_3_03_Clinical_Observations_on_the_Treatment_of_Schizophrenic-.pdf', 'page': 10}), -0.13204801082611084), (Document(page_content='instead of over a shorter period of time?  \\nIt takes four to five days for the effect of an \\nallergenic food to wear off after it has been eaten, \\nproviding it has not been re-eaten during the same \\nperiod of time. \\n(3) Does a \"little bit\" of any food really mat \\nter? \\nYes, it does. In order to get results from this \\n\"detective game\" with diet, it must be followed \\nscrupulously. If mistakes are made, make a note of \\nthem and observe any effect in the child\\'s', metadata={'source': './data\\\\FM docs 2024.3\\\\JOM_1973_02_3_03_Clinical_Observations_on_the_Treatment_of_Schizophrenic-.pdf', 'page': 7}), -0.15635919570922852), (Document(page_content='bacon)  sweet potato                     apple  raw cabbage  \\nSUNDAY:  turkey  corn                          grapefruit Mazola marg.  spinach  \\nMay add salt. Drink only water, except *any pure fruit juice may be used the same day the fruit is on the list. Sugars and spic es \\nare food and should be tested as such (see p. 3 of instructions). Meats are to be fried in their own grease, baked, or broiled. Fruit', metadata={'source': './data\\\\FM docs 2024.3\\\\JOM_1973_02_3_03_Clinical_Observations_on_the_Treatment_of_Schizophrenic-.pdf', 'page': 10}), -0.16405296325683594), (Document(page_content='ascorbic acid, in a loading test. (The loading test \\nresults are referred to   in the words   \"pathological \\ndeficit\" in the summary of their paper.) \\nThe   ascorbic-acid   tablets   and   placebo tablets were dispensed at the first meal of the day, and \\nspecial steps were taken to see that they were \\nconsumed at that time and did not go to the wrong \\nperson. The soldiers were told what the \\ninvestigation was for and were requested not to eat', metadata={'source': './data\\\\FM docs 2024.3\\\\JOM_1974_03_3_02_Early_Evidence_About_Vitamin_C_And_the_Common_Cold.pdf', 'page': 6}), -0.1663069725036621)]\n",
      "  warnings.warn(\n",
      "f:\\Miniconda3\\envs\\llm\\lib\\site-packages\\langchain_core\\vectorstores.py:342: UserWarning: No relevant docs were retrieved using the relevance score threshold 0.15\n",
      "  warnings.warn(\n"
     ]
    },
    {
     "data": {
      "text/plain": [
       "[]"
      ]
     },
     "execution_count": 34,
     "metadata": {},
     "output_type": "execute_result"
    }
   ],
   "source": [
    "similarity_documents = retriever.get_relevant_documents(\"今天吃了吗\")\n",
    "similarity_documents"
   ]
  },
  {
   "cell_type": "markdown",
   "metadata": {},
   "source": [
    "## invoke"
   ]
  },
  {
   "cell_type": "code",
   "execution_count": 35,
   "metadata": {},
   "outputs": [
    {
     "name": "stdout",
     "output_type": "stream",
     "text": [
      "Help on method invoke in module langchain_core.retrievers:\n",
      "\n",
      "invoke(input: 'str', config: 'Optional[RunnableConfig]' = None, **kwargs: 'Any') -> 'List[Document]' method of langchain_core.vectorstores.VectorStoreRetriever instance\n",
      "    Invoke the retriever to get relevant documents.\n",
      "    \n",
      "    Main entry point for synchronous retriever invocations.\n",
      "    \n",
      "    Args:\n",
      "        input: The query string\n",
      "        config: Configuration for the retriever\n",
      "        **kwargs: Additional arguments to pass to the retriever\n",
      "    \n",
      "    Returns:\n",
      "        List of relevant documents\n",
      "    \n",
      "    Examples:\n",
      "    \n",
      "    .. code-block:: python\n",
      "    \n",
      "        retriever.invoke(\"query\")\n",
      "\n"
     ]
    }
   ],
   "source": [
    "help(retriever.invoke)"
   ]
  },
  {
   "cell_type": "code",
   "execution_count": 36,
   "metadata": {},
   "outputs": [
    {
     "data": {
      "text/plain": [
       "[Document(page_content='Eye Pressure Lowering Effect of Vitamin C\\nHerschell H. Boyd, M.D.1\\nPurpose\\nTo document the pressure before the use\\nof vitamin C and after the daily intake of\\nmaximum amounts of vitamin C, three times\\na day.\\nMethods\\nThirty patients (16 men and 14 women)\\nwere advised to take three divided doses of\\nvitamin C in capsule form each day until\\nloose stools occured and then back downslightly from this amount (bowel dosage) for\\na daily intake. Average daily intake for all\\npatients was 10 grams per day.', metadata={'source': './data\\\\FM docs 2024.3\\\\Eye Pressure Lowering Effect of Vitamin C.pdf', 'page': 0}),\n",
       " Document(page_content='awaken to the marvels of vitamin C in treat-\\ning glaucoma!\\nIntroduction\\nVitamin C has been used since the trans-\\nformation of glucose, C\\n6H12O6, into vitamin\\n1. Eastview Professional Building, 1370 - 116th Avenue\\nN.E., Suite 212, Bellevue WA 98004-4679.\\n165C, C6H8O6, in the early 1930s. Its use in\\nlowering the pressure in glaucoma datesback to 1962 as reported in Experimental\\nEye Research.\\n1 Since then there have been', metadata={'source': './data\\\\FM docs 2024.3\\\\Eye Pressure Lowering Effect of Vitamin C.pdf', 'page': 0}),\n",
       " Document(page_content=\"paid by research grants from drug compa-nies and from the National Institute of Health\\nin Washington, D.C. These two areas don't\\nfund vitamin C. If a source of private moneycould be found, the medical school would be\\npleased to do studies as desired. A private\\nfoundation may be the salvation of the glau-coma patients, and, of course, the many\\nother areas we need to treat.\\nConclusion\\n1. Vitamin C does lower the intraocular\\npressure in all patients with elevatedpressure.\", metadata={'source': './data\\\\FM docs 2024.3\\\\Eye Pressure Lowering Effect of Vitamin C.pdf', 'page': 3}),\n",
       " Document(page_content='8. “Bowel dosage” was resisted by patients.9. All other vitamins were included with\\nvitamin C.\\nReferences\\n1. Virno M, Bucci M: Oral treatment of\\nGlaucoma with Vitamin C, The Eye, Ear,\\nNose and Throat Monthly , Vol. 46, 1502-\\n1508, Dec. 1967.\\n2. Linner E: Intra-ocular Pressure Regulation\\nand Ascorbic Acid, Acta Soc. Med. Upsol  59,\\n225, 1964.\\n3. Virno M, Bucci M, et al: Intravenous Glycerol-\\nVitamin C (Sodium Salt) as Osmotic Agentsto Reduce Intraocular Pressure, American', metadata={'source': './data\\\\FM docs 2024.3\\\\Eye Pressure Lowering Effect of Vitamin C.pdf', 'page': 3})]"
      ]
     },
     "execution_count": 36,
     "metadata": {},
     "output_type": "execute_result"
    }
   ],
   "source": [
    "similarity_documents = retriever.invoke(query)\n",
    "similarity_documents"
   ]
  },
  {
   "cell_type": "markdown",
   "metadata": {},
   "source": [
    "# 重排序\n",
    "参考： https://github.com/InternLM/HuixiangDou/blob/main/huixiangdou/service/retriever.py"
   ]
  },
  {
   "cell_type": "code",
   "execution_count": 37,
   "metadata": {},
   "outputs": [
    {
     "data": {
      "text/plain": [
       "VectorStoreRetriever(tags=['FAISS', 'HuggingFaceEmbeddings'], vectorstore=<langchain_community.vectorstores.faiss.FAISS object at 0x0000015A3AA37790>, search_type='similarity_score_threshold', search_kwargs={'k': 30, 'score_threshold': 0.15})"
      ]
     },
     "execution_count": 37,
     "metadata": {},
     "output_type": "execute_result"
    }
   ],
   "source": [
    "# search_type: 'similarity', 'similarity_score_threshold', 'mmr'\n",
    "retriever = vectordb.as_retriever(\n",
    "    search_type = \"similarity_score_threshold\",\n",
    "    search_kwargs = {\"k\": 30, \"score_threshold\": 0.15}\n",
    ")\n",
    "retriever"
   ]
  },
  {
   "cell_type": "code",
   "execution_count": 38,
   "metadata": {},
   "outputs": [],
   "source": [
    "reranker_model_path = \"./models/bce-reranker-base_v1\""
   ]
  },
  {
   "cell_type": "code",
   "execution_count": 39,
   "metadata": {},
   "outputs": [
    {
     "name": "stderr",
     "output_type": "stream",
     "text": [
      "04/24/2024 13:36:08 - [INFO] -BCEmbedding.models.RerankerModel->>>    Loading from `./models/bce-reranker-base_v1`.\n",
      "04/24/2024 13:36:08 - [INFO] -BCEmbedding.models.RerankerModel->>>    Execute device: cuda;\t gpu num: 1;\t use fp16: True\n"
     ]
    },
    {
     "data": {
      "text/plain": [
       "BCERerank(client='BCEmbedding.models.RerankerModel', top_n=7, model='./models/bce-reranker-base_v1')"
      ]
     },
     "execution_count": 39,
     "metadata": {},
     "output_type": "execute_result"
    }
   ],
   "source": [
    "reranker = BCERerank(\n",
    "    top_n = 7,\n",
    "    model = reranker_model_path,\n",
    "    device = 'cuda',\n",
    "    use_fp16 = True\n",
    ")\n",
    "reranker"
   ]
  },
  {
   "cell_type": "code",
   "execution_count": 40,
   "metadata": {},
   "outputs": [
    {
     "data": {
      "text/plain": [
       "ContextualCompressionRetriever(base_compressor=BCERerank(client='BCEmbedding.models.RerankerModel', top_n=7, model='./models/bce-reranker-base_v1'), base_retriever=VectorStoreRetriever(tags=['FAISS', 'HuggingFaceEmbeddings'], vectorstore=<langchain_community.vectorstores.faiss.FAISS object at 0x0000015A3AA37790>, search_type='similarity_score_threshold', search_kwargs={'k': 30, 'score_threshold': 0.15}))"
      ]
     },
     "execution_count": 40,
     "metadata": {},
     "output_type": "execute_result"
    }
   ],
   "source": [
    "compression_retriever = ContextualCompressionRetriever(\n",
    "    base_compressor = reranker,\n",
    "    base_retriever = retriever\n",
    ")\n",
    "compression_retriever"
   ]
  },
  {
   "cell_type": "markdown",
   "metadata": {},
   "source": [
    "## get_relevant_documents"
   ]
  },
  {
   "cell_type": "code",
   "execution_count": 41,
   "metadata": {},
   "outputs": [
    {
     "name": "stdout",
     "output_type": "stream",
     "text": [
      "Help on method get_relevant_documents in module langchain_core.retrievers:\n",
      "\n",
      "get_relevant_documents(query: 'str', *, callbacks: 'Callbacks' = None, tags: 'Optional[List[str]]' = None, metadata: 'Optional[Dict[str, Any]]' = None, run_name: 'Optional[str]' = None, **kwargs: 'Any') -> 'List[Document]' method of langchain_core.vectorstores.VectorStoreRetriever instance\n",
      "    Retrieve documents relevant to a query.\n",
      "    \n",
      "    Users should favor using `.invoke` or `.batch` rather than\n",
      "    `get_relevant_documents directly`.\n",
      "    \n",
      "    Args:\n",
      "        query: string to find relevant documents for\n",
      "        callbacks: Callback manager or list of callbacks\n",
      "        tags: Optional list of tags associated with the retriever. Defaults to None\n",
      "            These tags will be associated with each call to this retriever,\n",
      "            and passed as arguments to the handlers defined in `callbacks`.\n",
      "        metadata: Optional metadata associated with the retriever. Defaults to None\n",
      "            This metadata will be associated with each call to this retriever,\n",
      "            and passed as arguments to the handlers defined in `callbacks`.\n",
      "        run_name: Optional name for the run.\n",
      "    \n",
      "    Returns:\n",
      "        List of relevant documents\n",
      "\n"
     ]
    }
   ],
   "source": [
    "help(retriever.get_relevant_documents)"
   ]
  },
  {
   "cell_type": "code",
   "execution_count": null,
   "metadata": {},
   "outputs": [
    {
     "data": {
      "text/plain": [
       "[Document(page_content='Eye Pressure Lowering Effect of Vitamin C\\nHerschell H. Boyd, M.D.1\\nPurpose\\nTo document the pressure before the use\\nof vitamin C and after the daily intake of\\nmaximum amounts of vitamin C, three times\\na day.\\nMethods\\nThirty patients (16 men and 14 women)\\nwere advised to take three divided doses of\\nvitamin C in capsule form each day until\\nloose stools occured and then back downslightly from this amount (bowel dosage) for\\na daily intake. Average daily intake for all\\npatients was 10 grams per day.', metadata={'source': './data\\\\FM docs 2024.3\\\\Eye Pressure Lowering Effect of Vitamin C.pdf', 'page': 0, 'relevance_score': 0.6476868391036987}),\n",
       " Document(page_content='awaken to the marvels of vitamin C in treat-\\ning glaucoma!\\nIntroduction\\nVitamin C has been used since the trans-\\nformation of glucose, C\\n6H12O6, into vitamin\\n1. Eastview Professional Building, 1370 - 116th Avenue\\nN.E., Suite 212, Bellevue WA 98004-4679.\\n165C, C6H8O6, in the early 1930s. Its use in\\nlowering the pressure in glaucoma datesback to 1962 as reported in Experimental\\nEye Research.\\n1 Since then there have been', metadata={'source': './data\\\\FM docs 2024.3\\\\Eye Pressure Lowering Effect of Vitamin C.pdf', 'page': 0, 'relevance_score': 0.5592599511146545}),\n",
       " Document(page_content=\"paid by research grants from drug compa-nies and from the National Institute of Health\\nin Washington, D.C. These two areas don't\\nfund vitamin C. If a source of private moneycould be found, the medical school would be\\npleased to do studies as desired. A private\\nfoundation may be the salvation of the glau-coma patients, and, of course, the many\\nother areas we need to treat.\\nConclusion\\n1. Vitamin C does lower the intraocular\\npressure in all patients with elevatedpressure.\", metadata={'source': './data\\\\FM docs 2024.3\\\\Eye Pressure Lowering Effect of Vitamin C.pdf', 'page': 3, 'relevance_score': 0.5946100950241089}),\n",
       " Document(page_content='8. “Bowel dosage” was resisted by patients.9. All other vitamins were included with\\nvitamin C.\\nReferences\\n1. Virno M, Bucci M: Oral treatment of\\nGlaucoma with Vitamin C, The Eye, Ear,\\nNose and Throat Monthly , Vol. 46, 1502-\\n1508, Dec. 1967.\\n2. Linner E: Intra-ocular Pressure Regulation\\nand Ascorbic Acid, Acta Soc. Med. Upsol  59,\\n225, 1964.\\n3. Virno M, Bucci M, et al: Intravenous Glycerol-\\nVitamin C (Sodium Salt) as Osmotic Agentsto Reduce Intraocular Pressure, American', metadata={'source': './data\\\\FM docs 2024.3\\\\Eye Pressure Lowering Effect of Vitamin C.pdf', 'page': 3, 'relevance_score': 0.49182963371276855}),\n",
       " Document(page_content='Journal of Orthomolecular Medicine     Vol. 10, No. 3 & 4, 1995\\n166Average Drop in Eye Pressure\\nRight Eye: 4.8 mmLeft Eye: 6.3 mm\\nBoth Eyes: 5.6 mm\\nIt is an interesting observation that indi-\\nviduals who take vitamin C regularly and\\nhave their intraocular pressure taken on a\\nroutine basis for their eye exam have pres-sures in the range of 10-13 mm of mercury\\ncommonly. It has been my experience that I\\nhave yet to find the first patient with apressure over 20 mm who comes into the', metadata={'source': './data\\\\FM docs 2024.3\\\\Eye Pressure Lowering Effect of Vitamin C.pdf', 'page': 1, 'relevance_score': 0.5776145458221436}),\n",
       " Document(page_content='use eye drops to lower the pressure below 20mm of mercury as they refused to take vita-\\nmin C.\\nConclusion\\nIn this series of 30 patients there was no\\noccasion in which the pressure was not low-ered with vitamin C. All drugs for glaucoma\\nare seriously toxic, and vitamin C has no\\ntoxicity yet known. The patients experiencedmany other good side effects from vitamin C\\nsuch as clearing of sinusitis, allergy symp-', metadata={'source': './data\\\\FM docs 2024.3\\\\Eye Pressure Lowering Effect of Vitamin C.pdf', 'page': 0, 'relevance_score': 0.5804709792137146}),\n",
       " Document(page_content='EARLY EVIDENCE ABOUT VITAMIN C AND THE COMMON COLD  \\npresent paper is that the evidence for this \\nprotective effect was already moderately strong \\nby 1942 (Glazebrook and Thomson; Cowan, \\nDiehl, and Baker), and was very strong by 1961. \\nDespite the strength of the evidence, which has \\nbeen systematically misrepresented by the \\nmedical and nutritional authorities, the possible \\nvalue of an increased intake of vitamin C in \\ndecreasing the amount of suffering and loss of', metadata={'source': './data\\\\FM docs 2024.3\\\\JOM_1974_03_3_02_Early_Evidence_About_Vitamin_C_And_the_Common_Cold.pdf', 'page': 12, 'relevance_score': 0.5732603669166565}),\n",
       " Document(page_content='Therefore in man it would seem desirable\\nto ensure the intake of ascorbic C is suffi-\\nciently high for tissue saturation.\\n5 This pa-\\nper shows that in glaucoma, tissue saturation\\nis needed to lower intraocular pressure. In a\\nmodern world of processed foods and excessfree radicals, it is surprising that we have a\\nrelatively small group of glaucoma patients.\\nAscorbic acid concentrations have been\\nshown to change in the body under various\\nconditions of stress such as trauma, surgery,', metadata={'source': './data\\\\FM docs 2024.3\\\\Eye Pressure Lowering Effect of Vitamin C.pdf', 'page': 2, 'relevance_score': 0.44414281845092773}),\n",
       " Document(page_content='207 Changes in Worker Fatigue After Vitamin C Administration\\nThe cortisol levels in the blood were re-\\nduced from 11.64±3.83 μg/dL to 8.80±2.75 μg/dL, and CRP levels were reduced from 0.11±0.20 mg/L to 0.05±0.07mg/L after vitamin C administration (p<0.005). Also, HgA1C levels were reduced from 5.46±0.38% to 4.88±0.33% after vitamin C administration (p<0.005).\\nDiscussion\\nFatigue is a common experience, and \\nmost people experience feelings of fatigue', metadata={'source': './data\\\\FM docs 2024.3\\\\JOM_2008_23_4_07_Changes_in_Worker_Fatigue_after_Vitamin_C_Administration.pdf', 'page': 2, 'relevance_score': 0.4618358314037323}),\n",
       " Document(page_content='claims intakes of 4-5 grams per hour of liposomal vitamin C, taken orally, have the reported effects with substantial biological variation in the doses required.', metadata={'source': './data\\\\FM docs 2024.3\\\\JOM_2008_23_2_03_Vitamin_C_and_the_Common_Cold.pdf', 'page': 2, 'relevance_score': 0.480631023645401}),\n",
       " Document(page_content=\"10 to 13 mm of mercury.\\nSide Effects\\nNo side effects were encountered as vita-\\nmin C apparently has none. All drugs we use\\nin glaucoma have multiple side effects in-\\ncluding death.\\nDiscussion\\nIt is said that the aqueous fluid in the eye\\nhas 25 times the amount of vitamin C as in\\nthe blood. This may explain why the pres-\\nsure decreased with the increased intake ofvitamin C with an opening of the many\\nchannels called Schlemm's canal. Any swell-\", metadata={'source': './data\\\\FM docs 2024.3\\\\Eye Pressure Lowering Effect of Vitamin C.pdf', 'page': 1, 'relevance_score': 0.5156503915786743}),\n",
       " Document(page_content='19. Cathcart RF: The three faces of vitamin C, J \\nOrthomol Med, 1993; 7(4),197-200.\\n20. Cathcart RF: Vitamin C: the non-toxic,nonrate-\\nlimited, antioxidant free radical scavenger, Medical Hypotheses,  1985; 18: 61-77.\\n21. Hickey S Roberts H: Vitamin C for preventing \\nand treating the colds, in Douglas R.M. Hemilä H. Chalker E. Treacy B. Vitamin C for prevent-ing and treating the common cold (Review), 2007. The Cochrane Library, Issue 3.\\n22. Higgins R: Doses too small, in Douglas R.M.', metadata={'source': './data\\\\FM docs 2024.3\\\\JOM_2008_23_2_03_Vitamin_C_and_the_Common_Cold.pdf', 'page': 5, 'relevance_score': 0.4030380845069885}),\n",
       " Document(page_content='Vitamin C is considered by some investi-\\ngators (Barron0) to function in metabolic \\nsynthetic processes and to be present in \\namounts proportionate to the metabolic activity \\nof the nervous tissue, whereas the B group \\nserves tissue respiration. It has been shown that \\nrecovery rates in vitamin deprivation \\nexperiments depend directly on the size of the \\nreplacement dose.  \\nGould summarizes the rationale for the \\nparenteral use of vitamins as follows:  \\n\"If, indeed, one regards vitamins as', metadata={'source': './data\\\\FM docs 2024.3\\\\JOM_1970_02_4_04_The_Parenteral_Use_of_Vitamins_in_the_Treatment-.pdf', 'page': 2, 'relevance_score': 0.4960518479347229}),\n",
       " Document(page_content='The Use of Vitamin B 12b \\nin Psychiatric Practice  \\nH. L. Newbold, M.D.  \\nINTRODUCTION  \\nThe recorded history of the use of vitamins in \\nthe treatment of mental illness goes back more \\nthan 2000 years, to a period long before lime juice \\nwas made required fare in the British Navy in \\n17951. The British rediscovered the forgotten \\nRoman fact that ascorbic acid containing fruits \\nwould prevent, as well as cure, scurvy.  \\nPrior to this discovery, British sea captains, in', metadata={'source': './data\\\\FM docs 2024.3\\\\JOM_1972_01_1_05_The_Use_of_Vitamin_B12b_in_Psychiatric_Practice.pdf', 'page': 0, 'relevance_score': 0.40615513920783997}),\n",
       " Document(page_content='orthomolecular medicine began with \\nthe publication of Linus Pauling’s book, Vitamin C and the Common Cold.  Since \\nthat time, a proportion of the population have been experimenting with high dose vitamin C, reflecting a belief in its efficacy as a treatment or preventative for this minor illness. However, some elements of conventional medicine continue to assume that vitamin C is ineffective. Here, we show that the available scien-tific evidence supports the use of this simple substance.', metadata={'source': './data\\\\FM docs 2024.3\\\\JOM_2008_23_2_03_Vitamin_C_and_the_Common_Cold.pdf', 'page': 0, 'relevance_score': 0.5515133142471313}),\n",
       " Document(page_content='CATHCART, R.F.: Clinical Trial of Vitamin C. Medical Tribune, \\nJune 25, 1975. \\nCATHCART, R.F.: Clinical Use of Large Doses of Ascorbic Acid. \\nPresented at the Annual Meeting of the California Orthomolecular \\nMedical Society, San Francisco, February 19,1976. \\nCATHCART, R.F.: Vitamin C as a Detoxifying Agent. Presented at \\nthe Annual Meeting of the Orthomolecular Medical Society, San \\nFrancisco, January 21,1978. \\nCATHCART, R.F.: Vitamin C-The Missing Stress Hormone.', metadata={'source': './data\\\\FM docs 2024.3\\\\JOM_1981_10_2_06_The_Method_of_Determining_Proper_Doses_of_Vitamin_C-.pdf', 'page': 6, 'relevance_score': 0.45177996158599854}),\n",
       " Document(page_content='E. Champaign, IL, AOCS Press, 2002; 32-49.\\n5. Rivers JM: Safety of high-level vitamin C inges-\\ntion. In eds. Burns JJ, Rivers JM, and MachlinLJ. Third Conference on Vitamin C. Annals of\\nthe New York Academy of Sciences.  New York,\\nNY, 1987; 498: 445-454.\\n6. Bendich A: Vitamin C safety in humans. In eds.\\nPacker L and Fuchs J. Vitamin C in Health and\\nDisease.  New York, NY, Marcel Dekker, Inc.,\\n1997; 367-379.\\n7. A Report of the Panel on Dietary Antioxidants', metadata={'source': './data\\\\FM docs 2024.3\\\\JOM_2003_18_3-4_08_The_Trials_and_Tribulations_of_Vitamin_C.pdf', 'page': 10, 'relevance_score': 0.4651748538017273}),\n",
       " Document(page_content='due to the vasodilatory effects of vitamin C.\\nThere has been speculation about the\\nutility of antioxidant vitamins used\\nadjunctively in surgery. In a randomized,\\nprospective study of 595 subjects, Nathenset al recently reported that the risk of pul-\\nmonary morbidity, organ failure and length\\nof ICU stay were substantially reduced insurgical trauma patients who received 1,000\\nIU of vitamin E and 1,000 mg of intravenous', metadata={'source': './data\\\\FM docs 2024.3\\\\JOM_2003_18_3-4_08_The_Trials_and_Tribulations_of_Vitamin_C.pdf', 'page': 6, 'relevance_score': 0.5033740401268005}),\n",
       " Document(page_content='aware that many are being deprived of a healing \\nmedical treatment based on a vitamin low in cost \\nand effective for specific diseases without the \\ntoxic effect of drugs. In short, we will go beyond \\nthe recent acceptance of vitamins as necessary to \\ngood health and reveal that vitamin C will not \\nonly prevent but will also cure disease. We have \\nmoved from the convention that vitamin \\ndeficiency causes specific maladies to the \\nunderstanding that vitamins are important', metadata={'source': './data\\\\FM docs 2024.3\\\\JOM_1994_09_3_02_Pride_Prejudice_and_Vitamin_C.pdf', 'page': 0, 'relevance_score': 0.5356146693229675}),\n",
       " Document(page_content='The Method of Determining Proper Doses of  \\nVitamin C for the Treatment of Disease by  \\nTitrating to Bowel Tolerance  \\nRobert F. Cathcart, III, M.D.1 \\nMy experience (Cathcart 1975, 1976, 1978, \\n1979) in utilizing vitamin C in large doses has \\nextended over a nine year period and has in-\\nvolved over 9,000 patients. Much of the or-\\niginal work with large amounts of vitamin C \\nwas done by Fred R, Klenner, M.D. (1948, \\n1949, 1971, 1974) of Riedsville, North Caro-', metadata={'source': './data\\\\FM docs 2024.3\\\\JOM_1981_10_2_06_The_Method_of_Determining_Proper_Doses_of_Vitamin_C-.pdf', 'page': 0, 'relevance_score': 0.4520823061466217}),\n",
       " Document(page_content='100Journal of Orthomolecular Medicine     Vol. 20, No. 2, 2005\\nAbstract\\nAthletes are always searching for legal\\nnutritional supplements that will give them\\na significant advantage over their competi-\\ntors. We will present vitamin C (ascorbicacid) as a non-toxic, safe, multifaceted and\\neffective ergogenic alternative. Vitamin C\\nm a y  h a v e  b e e n  n e g l e c t e d  a s  a n  e r g o g e n i caid mainly because of the lack of knowledge\\nof ascorbate’s biochemical and physiologi-', metadata={'source': './data\\\\FM docs 2024.3\\\\JOM_2005_20_2_06_Vitamin_C_as_an_Ergogenic_Aid.pdf', 'page': 0, 'relevance_score': 0.5156656503677368}),\n",
       " Document(page_content='vitamin C per day. On a mean basis, there is a decline in respiratory findings in both\\ngroups. However, the decrements are statistically significant only in the group charac-terized by the greater vitamin C intake.\\n<400 mg vitamin C per day [n=46]400+ mg vitamin C per day [n=46]\\n[percentage change]\\n[-15%]\\nt= 1.535\\nP>O.100[-12%]\\nt = 1.303\\nP>0.200\\n[49%]\\nt=2.963\\nP<0.005* [-53%]\\nt= 3.490\\nP< 0.001\\n*statistically significant difference of the means August 1972181\\n154\\n141\\n115\\n0.59\\n0.28mean\\nreported', metadata={'source': './data\\\\FM docs 2024.3\\\\JOM_2001_16_4_05_Vitamin_C_Symptoms_and_Respiratory_Symptoms.pdf', 'page': 4, 'relevance_score': 0.45662179589271545}),\n",
       " Document(page_content='Eye Pressure Lowering Effect of Vitamin C\\n167with 12 grams of vitamin C each day. She\\nwas a smoker in her early fifties, and she hascontinued to smoke with good reason to\\ncease.\\nGlaucoma accompanies the cataract pa-\\ntients so a daily intake of vitamin C could\\nsave the country literally in the billions of\\ndollars. This would admittedly be detrimen-tal to the financial health of ophthalmolo-\\ngists, but of course this is not the issue.\\nAscorbic acid has been reported to be of', metadata={'source': './data\\\\FM docs 2024.3\\\\Eye Pressure Lowering Effect of Vitamin C.pdf', 'page': 2, 'relevance_score': 0.6098146438598633}),\n",
       " Document(page_content='ORTHOMOLECULAR PSYCHIATRY, VOLUME 5, NUMBER 2, 1976, Pp. 84-88  \\n                                                                                                    TABLE 1  \\n                                                               the vitamin C profile (food frequency questionnaire)  \\n \\n <100mg  400+ mg  percentage    \\n vitamin C  vitamin C  change    \\nfactor  per day  per day   t P \\n( 1) vitamin E (units)  19 150 798 35.081  <0.001*  \\n( 2) vitamin B6  (mg) 1.8 7.1 292 34.227  <0.001*', metadata={'source': './data\\\\FM docs 2024.3\\\\JOM_1976_05_2_02_The_Eating_Habits_of_High_and_Low_Vitamin_C_Users.pdf', 'page': 2, 'relevance_score': 0.4401082694530487}),\n",
       " Document(page_content='lationship, Cathcart claimed a revers-ible cessation of symptoms at the oral threshold near bowel tolerance: increasing the dose slightly removes the symptoms, while lowering the dose brings them back. However, Levy reports that he has not achieved this effect with standard oral doses and that intravenous, or liposomal, doses may be required. Levy claims intakes of 4-5 grams per hour of liposomal vitamin C, taken orally, have the reported effects with substantial biological variation in the', metadata={'source': './data\\\\FM docs 2024.3\\\\JOM_2008_23_2_03_Vitamin_C_and_the_Common_Cold.pdf', 'page': 2, 'relevance_score': 0.4591367244720459}),\n",
       " Document(page_content='considered one of the key stress vitamins with a \\nprominent role in the metabolism of both \\nadrenaline and Cortisol. Donsbach, Pearson and \\nShaw (1981) write regarding this important \\nvitamin which is not often thought of as a \\n\"mental\" vitamin: \\nThe production of norepinephrine (the learning \\nand memory chemical in the brain) is inhibited in \\nthe vitamin C deficient subjects. \\nLesser (1981) has found megadoses of vitamin \\nC helpful for schizophrenia and drug addiction.', metadata={'source': './data\\\\FM docs 2024.3\\\\JOM_1993_08_2_09_Megavitamins_and_Psychotherapy_Effective_Economical-.pdf', 'page': 4, 'relevance_score': 0.49589550495147705}),\n",
       " Document(page_content='most free radical scavenging purposes. \\nParadoxically, the non-controversial use of minute \\ndoses of vitamin C in the prevention and \\ntreatment of scurvy has set the minds of many \\nagainst more creative uses.  \\n1. Allergy, Environmental, and Orthomolecular Medicine, \\n127 Second Street, Los Altos, California 94022, USA.  Vitamin C has differing benefits in increasing \\ndose ranges. Its usefulness is  in three such distinct \\nrealms that I will describe them as the three faces \\nof vitamin C.', metadata={'source': './data\\\\FM docs 2024.3\\\\JOM_1992_07_4_02_The_Third_Face_of_Vitamin_C.pdf', 'page': 0, 'relevance_score': 0.43092551827430725}),\n",
       " Document(page_content='The \"Ideal\" Vitamin C Intake  \\n                                                  Emanuel Cheraskin, M.D., D.M.D.1 \\nEaton and Konner, in their magnificent and \\nmonumental report, outline the diet of our \\nremote ancestors as a reference standard for \\nmodern human nutrition and a model for \\ndefense against certain so-called diseases of \\ncivilzation.1 \\nApropos vitamin C, they estimate from the \\nmean ascorbic acid content of 27 vegetables \\nconsumed by recent hunter-gatherers that the', metadata={'source': './data\\\\FM docs 2024.3\\\\JOM_1986_01_4_04_The_Ideal_Vitamin_C_Intake.pdf', 'page': 0, 'relevance_score': 0.49728015065193176}),\n",
       " Document(page_content='examination periods (on the abscissa) in thos e who, at the third examination, are con\\nsuming < 400 (dotted line) versus 400+ (continuous line) milligrams vitamin C per day.On a mean basis, there is a rise in vitamin C consumption in both groups. However , the\\nincrements are more statistically significant in the group characterized by the greater\\nvitamin C intake.\\n[+63%]t= 5.118\\nP>O.001*[-12%]\\nt = 1.303\\nP>0.200\\n[+44%]\\nt=4.141\\nP<0.001*[-53%]\\nt= 3.490P< 0.001', metadata={'source': './data\\\\FM docs 2024.3\\\\JOM_2001_16_4_05_Vitamin_C_Symptoms_and_Respiratory_Symptoms.pdf', 'page': 5, 'relevance_score': 0.5134474039077759}),\n",
       " Document(page_content='We now know that the earliest effect of \\nvitamin C deficiency is an increase in the blood \\nhistamine level, which precedes by many months \\nany collagen defect due to proline and lysine \\nhydroxylase deficiencies. \\nStress causes rapid adrenal ascorbic acid \\ndepletion; so does histamine injection. But stress \\nhas only minor effects on the blood total ascorbic \\nacid level. However, studies in my laboratory \\nhave shown that the stress of sleep deprivation', metadata={'source': './data\\\\FM docs 2024.3\\\\JOM_1991_06_3-4_09_Vitamin_C_and_Multifactorial_Disease.pdf', 'page': 0, 'relevance_score': 0.500755786895752})]"
      ]
     },
     "metadata": {},
     "output_type": "display_data"
    }
   ],
   "source": [
    "retriever.get_relevant_documents(query)"
   ]
  },
  {
   "cell_type": "code",
   "execution_count": 42,
   "metadata": {},
   "outputs": [
    {
     "name": "stderr",
     "output_type": "stream",
     "text": [
      "You're using a XLMRobertaTokenizerFast tokenizer. Please note that with a fast tokenizer, using the `__call__` method is faster than using a method to encode the text followed by a call to the `pad` method to get a padded encoding.\n"
     ]
    },
    {
     "data": {
      "text/plain": [
       "[Document(page_content='Eye Pressure Lowering Effect of Vitamin C\\nHerschell H. Boyd, M.D.1\\nPurpose\\nTo document the pressure before the use\\nof vitamin C and after the daily intake of\\nmaximum amounts of vitamin C, three times\\na day.\\nMethods\\nThirty patients (16 men and 14 women)\\nwere advised to take three divided doses of\\nvitamin C in capsule form each day until\\nloose stools occured and then back downslightly from this amount (bowel dosage) for\\na daily intake. Average daily intake for all\\npatients was 10 grams per day.', metadata={'source': './data\\\\FM docs 2024.3\\\\Eye Pressure Lowering Effect of Vitamin C.pdf', 'page': 0, 'relevance_score': 0.6476868391036987}),\n",
       " Document(page_content='Eye Pressure Lowering Effect of Vitamin C\\n167with 12 grams of vitamin C each day. She\\nwas a smoker in her early fifties, and she hascontinued to smoke with good reason to\\ncease.\\nGlaucoma accompanies the cataract pa-\\ntients so a daily intake of vitamin C could\\nsave the country literally in the billions of\\ndollars. This would admittedly be detrimen-tal to the financial health of ophthalmolo-\\ngists, but of course this is not the issue.\\nAscorbic acid has been reported to be of', metadata={'source': './data\\\\FM docs 2024.3\\\\Eye Pressure Lowering Effect of Vitamin C.pdf', 'page': 2, 'relevance_score': 0.6098146438598633}),\n",
       " Document(page_content=\"paid by research grants from drug compa-nies and from the National Institute of Health\\nin Washington, D.C. These two areas don't\\nfund vitamin C. If a source of private moneycould be found, the medical school would be\\npleased to do studies as desired. A private\\nfoundation may be the salvation of the glau-coma patients, and, of course, the many\\nother areas we need to treat.\\nConclusion\\n1. Vitamin C does lower the intraocular\\npressure in all patients with elevatedpressure.\", metadata={'source': './data\\\\FM docs 2024.3\\\\Eye Pressure Lowering Effect of Vitamin C.pdf', 'page': 3, 'relevance_score': 0.5946100950241089}),\n",
       " Document(page_content='use eye drops to lower the pressure below 20mm of mercury as they refused to take vita-\\nmin C.\\nConclusion\\nIn this series of 30 patients there was no\\noccasion in which the pressure was not low-ered with vitamin C. All drugs for glaucoma\\nare seriously toxic, and vitamin C has no\\ntoxicity yet known. The patients experiencedmany other good side effects from vitamin C\\nsuch as clearing of sinusitis, allergy symp-', metadata={'source': './data\\\\FM docs 2024.3\\\\Eye Pressure Lowering Effect of Vitamin C.pdf', 'page': 0, 'relevance_score': 0.5804709792137146}),\n",
       " Document(page_content='Journal of Orthomolecular Medicine     Vol. 10, No. 3 & 4, 1995\\n166Average Drop in Eye Pressure\\nRight Eye: 4.8 mmLeft Eye: 6.3 mm\\nBoth Eyes: 5.6 mm\\nIt is an interesting observation that indi-\\nviduals who take vitamin C regularly and\\nhave their intraocular pressure taken on a\\nroutine basis for their eye exam have pres-sures in the range of 10-13 mm of mercury\\ncommonly. It has been my experience that I\\nhave yet to find the first patient with apressure over 20 mm who comes into the', metadata={'source': './data\\\\FM docs 2024.3\\\\Eye Pressure Lowering Effect of Vitamin C.pdf', 'page': 1, 'relevance_score': 0.5776145458221436}),\n",
       " Document(page_content='EARLY EVIDENCE ABOUT VITAMIN C AND THE COMMON COLD  \\npresent paper is that the evidence for this \\nprotective effect was already moderately strong \\nby 1942 (Glazebrook and Thomson; Cowan, \\nDiehl, and Baker), and was very strong by 1961. \\nDespite the strength of the evidence, which has \\nbeen systematically misrepresented by the \\nmedical and nutritional authorities, the possible \\nvalue of an increased intake of vitamin C in \\ndecreasing the amount of suffering and loss of', metadata={'source': './data\\\\FM docs 2024.3\\\\JOM_1974_03_3_02_Early_Evidence_About_Vitamin_C_And_the_Common_Cold.pdf', 'page': 12, 'relevance_score': 0.5732603669166565}),\n",
       " Document(page_content='awaken to the marvels of vitamin C in treat-\\ning glaucoma!\\nIntroduction\\nVitamin C has been used since the trans-\\nformation of glucose, C\\n6H12O6, into vitamin\\n1. Eastview Professional Building, 1370 - 116th Avenue\\nN.E., Suite 212, Bellevue WA 98004-4679.\\n165C, C6H8O6, in the early 1930s. Its use in\\nlowering the pressure in glaucoma datesback to 1962 as reported in Experimental\\nEye Research.\\n1 Since then there have been', metadata={'source': './data\\\\FM docs 2024.3\\\\Eye Pressure Lowering Effect of Vitamin C.pdf', 'page': 0, 'relevance_score': 0.5592599511146545})]"
      ]
     },
     "execution_count": 42,
     "metadata": {},
     "output_type": "execute_result"
    }
   ],
   "source": [
    "similarity_documents = compression_retriever.get_relevant_documents(query)\n",
    "similarity_documents"
   ]
  },
  {
   "cell_type": "code",
   "execution_count": 45,
   "metadata": {},
   "outputs": [
    {
     "name": "stderr",
     "output_type": "stream",
     "text": [
      "f:\\Miniconda3\\envs\\llm\\lib\\site-packages\\langchain_core\\vectorstores.py:330: UserWarning: Relevance scores must be between 0 and 1, got [(Document(page_content='WEDNESDAY:  chicken  rice                     fresh pineapple  carrot  \\nTHURSDAY:  lamb buckwheat                      orange  artichoke  \\nFRIDAY:  fish peas or beans                   banana (gr. or dried)  lettuce tomato  \\nSATURDAY:  pork (no ham or \\nbacon)  sweet potato                     apple  raw cabbage  \\nSUNDAY:  turkey  corn                          grapefruit Mazola marg.  spinach', metadata={'source': './data\\\\FM docs 2024.3\\\\JOM_1973_02_3_03_Clinical_Observations_on_the_Treatment_of_Schizophrenic-.pdf', 'page': 10}), -0.13204801082611084), (Document(page_content='instead of over a shorter period of time?  \\nIt takes four to five days for the effect of an \\nallergenic food to wear off after it has been eaten, \\nproviding it has not been re-eaten during the same \\nperiod of time. \\n(3) Does a \"little bit\" of any food really mat \\nter? \\nYes, it does. In order to get results from this \\n\"detective game\" with diet, it must be followed \\nscrupulously. If mistakes are made, make a note of \\nthem and observe any effect in the child\\'s', metadata={'source': './data\\\\FM docs 2024.3\\\\JOM_1973_02_3_03_Clinical_Observations_on_the_Treatment_of_Schizophrenic-.pdf', 'page': 7}), -0.15635919570922852), (Document(page_content='bacon)  sweet potato                     apple  raw cabbage  \\nSUNDAY:  turkey  corn                          grapefruit Mazola marg.  spinach  \\nMay add salt. Drink only water, except *any pure fruit juice may be used the same day the fruit is on the list. Sugars and spic es \\nare food and should be tested as such (see p. 3 of instructions). Meats are to be fried in their own grease, baked, or broiled. Fruit', metadata={'source': './data\\\\FM docs 2024.3\\\\JOM_1973_02_3_03_Clinical_Observations_on_the_Treatment_of_Schizophrenic-.pdf', 'page': 10}), -0.16405296325683594), (Document(page_content='ascorbic acid, in a loading test. (The loading test \\nresults are referred to   in the words   \"pathological \\ndeficit\" in the summary of their paper.) \\nThe   ascorbic-acid   tablets   and   placebo tablets were dispensed at the first meal of the day, and \\nspecial steps were taken to see that they were \\nconsumed at that time and did not go to the wrong \\nperson. The soldiers were told what the \\ninvestigation was for and were requested not to eat', metadata={'source': './data\\\\FM docs 2024.3\\\\JOM_1974_03_3_02_Early_Evidence_About_Vitamin_C_And_the_Common_Cold.pdf', 'page': 6}), -0.1663069725036621), (Document(page_content='many packages did you eat per week? _________________  \\n7. During the study, how much candy did you eat per day? ______________________  \\nHow many per week? ______________  \\n8. Did you eat the peanut snack? \\nEvery night ___________  \\nSometimes ___________  How many nights per week? ________________  \\nNever _________  \\n9. During the study, I felt most hungry:  \\nbefore breakfast ____________  before lunch ____________  before dinner ____________  at night ___________', metadata={'source': './data\\\\FM docs 2024.3\\\\JOM_1975_04_3_06_Diet-Vitamin_Program_for_Jail_Inmates.pdf', 'page': 4}), -0.18381261825561523), (Document(page_content='completely eliminated. The only grains are corn \\nand rice. In making up your own diet, if you prefer \\ndifferent food combinations, a vitamin C-\\ncontaining fruit or vegetable should, as far as \\npossible, be used daily. These are the citrus fruits, \\nraw tomato, raw cabbage, pineapple, and, to a \\nlesser degree, papaya, apple, and other raw fruits. \\nOnce you have established the diet for the \\nweek, it must remain the same for succeeding \\nweeks. The reason for this is that it takes four to', metadata={'source': './data\\\\FM docs 2024.3\\\\JOM_1973_02_3_03_Clinical_Observations_on_the_Treatment_of_Schizophrenic-.pdf', 'page': 6}), -0.18879961967468262), (Document(page_content='are food and should be tested as such (see p. 3 of instructions). Meats are to be fried in their own grease, baked, or broiled. Fruit \\nand vegetables are eaten raw or cooked at  home. Additional fruits and vegetables may be added if found in the market — use \\nonly once a week.  \\n \\n ROTATING DIET WORKED OUT BY A MOTHER FOR A TEENAGER   \\n SUNDAY  MONDAY  TUESDAY  WEDNESDAY THURSDAY  FRIDAY  SATURDAY  \\nCitrus Fruit  Grapefruit  Oranges  Tangerines  Berries  Limes  Pineapple or \\nPapaya  Lemon', metadata={'source': './data\\\\FM docs 2024.3\\\\JOM_1973_02_3_03_Clinical_Observations_on_the_Treatment_of_Schizophrenic-.pdf', 'page': 10}), -0.1935422420501709), (Document(page_content='Foods left over from any day may be eaten by the \\nrest of the family the next day, or they may be \\nfrozen and saved for the following week.  \\nA word of caution: Be sure to have enough food \\nfor each day. When milk and the grains, including \\nbread, are removed from a diet, a large part of the \\nbulk and calories are removed with them, and the \\nchild will need far greater amounts of meat, fruits, \\nand vegetables than one might think. The child \\nshould not be hungry. If necessary, feed him', metadata={'source': './data\\\\FM docs 2024.3\\\\JOM_1973_02_3_03_Clinical_Observations_on_the_Treatment_of_Schizophrenic-.pdf', 'page': 6}), -0.20212435722351074), (Document(page_content=\"what we've got. Linus Pauling tells us that those \\nancestors were eating about 600 mg of C daily. \\nFood was whole and natural. \\nA parting thought: Eat food that rots, but eat it \\nbefore it does rot. \\n186\", metadata={'source': './data\\\\FM docs 2024.3\\\\JOM_1991_06_3-4_12_Children_Vitamin_C_and_Medical_Progress.pdf', 'page': 5}), -0.20966768264770508), (Document(page_content='(8) May we use potato or other types of \\nbread and cookies that are said to contain no \\nwheat?  \\nThe answer is \"No.\" These common products \\nhave been tested and found to contain wheat or \\nother grain glutens, despite the label. \\n(9) May canned fruit be used?  \\nCanned fruits are not allowed because the type \\nof sugar, whether beet, cane, or corn, is never \\nspecified. \\n(10) Why the plainness of the diet?  \\nSalad dressings, including mayonnaise, catsup,', metadata={'source': './data\\\\FM docs 2024.3\\\\JOM_1973_02_3_03_Clinical_Observations_on_the_Treatment_of_Schizophrenic-.pdf', 'page': 8}), -0.21376299858093262), (Document(page_content='may be hungry. The same menu is repeated each \\nMonday, each Tuesday, etc., in rotation. Leftovers \\nmay be served to other members of the family, or \\nsome of the food may be frozen from week to \\nweek, to minimize the expense and labor involved, \\nalthough some mothers have told me that this type \\nof diet is actually no more expensive than their \\nformer diet which   included   relatively   high-cost  \\nsnack foods and soft drinks. Incidentally, I might \\ninsert at this point my observation that the', metadata={'source': './data\\\\FM docs 2024.3\\\\JOM_1973_02_3_03_Clinical_Observations_on_the_Treatment_of_Schizophrenic-.pdf', 'page': 2}), -0.21920061111450195), (Document(page_content='not on food intake directly but on the efficiency \\nor inefficiency of neuroendocrine function. \\nUnderstanding of this classical work by Dr. \\nPage can aid in the classification of nutrients from \\nany source into two basic groups, sympathetic \\n(\"speed-up\"), or parasympathetic (\"slow-down\") \\ncategories. These classifications are based on \\ntheir nutrient-endocrine, or endocrine-nutrient \\ninfluence upon neuroendocrine function. \\nNutrient Classification Via \\nEndocrine Dominance', metadata={'source': './data\\\\FM docs 2024.3\\\\JOM_1990_05_1_04_Nutritional_Interrelationships_Minerals_Vitamins-.pdf', 'page': 2}), -0.22297179698944092), (Document(page_content='technology discovered how to separate our food \\ninto its chemical components and to reconstitute \\nthem into what appears to be food. These food \\nartifacts are engineered to appeal to our visual \\nand taste instincts. They are sweet and colorful, \\nbut they have almost ignored the prime function \\nof food—to nourish.   A   California   physician   \\nhas declared, \"If man made it, don\\'t eat it.\" This is \\nsurely a powerful indictment of most of our \\nprocessed foods.', metadata={'source': './data\\\\FM docs 2024.3\\\\JOM_1977_06_1_01_Does_Ascorbic_Acid_Destroy_Vitamin_B12.pdf', 'page': 1}), -0.22340118885040283), (Document(page_content='is to use a rotating diet in which only one protein, \\nstarch, fruit, and vegetable is used each day for all \\nthree meals: the same things for breakfast, lunch, \\nand dinner, and between-meal snacks, with a \\ncompletely different menu for each day of the \\nweek. The necessity for a full dinner menu at \\nbreakfast and lunch must be stressed or the child \\nmay be hungry. The same menu is repeated each \\nMonday, each Tuesday, etc., in rotation. Leftovers \\nmay be served to other members of the family, or', metadata={'source': './data\\\\FM docs 2024.3\\\\JOM_1973_02_3_03_Clinical_Observations_on_the_Treatment_of_Schizophrenic-.pdf', 'page': 2}), -0.22455358505249023), (Document(page_content='interchanged on the same day. For example, if the \\nproblem day is Tuesday, the protein is changed \\nwith Monday, the fruit with Wednesday, the \\nvegetable with Thursday, and the starch with \\nSaturday, keeping to this  revised schedule for the \\nnext two or three weeks before new foods are \\ntested by adding to the diet. \\nIf there are no problems with the original diet \\nand the child has improved, one food in its pure \\nform is added twice a week, either Monday and', metadata={'source': './data\\\\FM docs 2024.3\\\\JOM_1973_02_3_03_Clinical_Observations_on_the_Treatment_of_Schizophrenic-.pdf', 'page': 7}), -0.22755157947540283), (Document(page_content='factored in. When we have done so, we areleft with the completely unavoidable conclu-\\nsion that our dinner tables are killing us.\\nThe good diet vs. supplement contro-\\nversy may be reduced to four logical choices:\\na) Shall we eat right and take supple-\\nments and be healthy?\\nb) Or, shall we can eat eight and take\\nno supplements, be vitamin E and C defi-\\ncient for our entire lifespan, and greatlyincrease our risk of sickness and death at\\nany age?\\nc) Shall we can eat wrong and take no', metadata={'source': './data\\\\FM docs 2024.3\\\\JOM_2003_18_3-4_12_Can_Vitamin_Supplements_Take_the_Place_of_a_Bad_Diet.pdf', 'page': 2}), -0.23129284381866455), (Document(page_content='really sweet nor terribly offensive, until she came \\nto the bottle of thiamin. \"Good Lord,\" she \\nexclaimed, \"it smells as if I have my head in the \\ntoilet! There\\'s something wrong with this bottle.\" I \\nreplied, \"No, Judy, it\\'s you. You don\\'t need thia-\\nmin today. Apparently she has the right kind of \\nbacteria in her intestin es so that she makes her \\nown thiamin, and absorbs it as she needs it. \\nThere are many of us who are taking too much \\nof one vitamin or mineral, and not enough of the', metadata={'source': './data\\\\FM docs 2024.3\\\\JOM_1991_06_3-4_12_Children_Vitamin_C_and_Medical_Progress.pdf', 'page': 4}), -0.23159146308898926), (Document(page_content='Primitive man was often challenged by periods of \\nfasting following abundance of food. Perhaps we \\nhave adapted to it and should fast now and then \\nto force our bodies to react. Perhaps this explains \\nsome of the benefit of the fast in people who have \\nno food allergies. But the type of malnutrition \\ncurrent today became possible only when our \\ntechnology discovered how to separate our food \\ninto its chemical components and to reconstitute \\nthem into what appears to be food. These food', metadata={'source': './data\\\\FM docs 2024.3\\\\JOM_1977_06_1_01_Does_Ascorbic_Acid_Destroy_Vitamin_B12.pdf', 'page': 1}), -0.23599731922149658), (Document(page_content='by Yoshihide Hagiwara Keats Publishing, \\nInc., New Canaan, CT 06840 Price $9.95 U.S.. \\n147 pages  \\nPeople have been observing the effect of food \\non their own health from the first time someone \\ndied from a poisonous food and this was \\nrecognized by the survivors. Mammals, too, \\nknow enough not to eat food which is followed \\nby sickness. This is one of the protective habits \\nsurviving species have be en fortunate to possess. \\nIt is not very difficult to associate ill health with', metadata={'source': './data\\\\FM docs 2024.3\\\\JOM_1986_01_1_10_Vitamin_Therapy_for_Hyperactivity_and_Schizophreniae-.pdf', 'page': 8}), -0.24073314666748047), (Document(page_content='surviving species have be en fortunate to possess. \\nIt is not very difficult to associate ill health with \\neating something, provided there is a close time \\nrelationship. It is much more difficult when food \\nconsumed for many years causes illness, \\nespecially when it tastes good, smells good and \\nis attractively packaged. \\nYet there is no foolproof method for making \\nthe right decision. Many foods today accepted as \\ngood and nutritious were once believed to very', metadata={'source': './data\\\\FM docs 2024.3\\\\JOM_1986_01_1_10_Vitamin_Therapy_for_Hyperactivity_and_Schizophreniae-.pdf', 'page': 8}), -0.24456441402435303), (Document(page_content='has declared, \"If man made it, don\\'t eat it.\" This is \\nsurely a powerful indictment of most of our \\nprocessed foods. \\nThe type of malnutrition which is particularly \\ntroublesome is that type which leads to criminal \\nbehavior, primarily th e overconsumption of \\nrefined sugar and cereal products accompanied \\nby a deficiency of fiber, vitamins, and minerals. \\nFor this type of malnutrition has a particularly \\npernicious effect in changing perception, \\nthinking, and mood—all powerful antecedents of', metadata={'source': './data\\\\FM docs 2024.3\\\\JOM_1977_06_1_01_Does_Ascorbic_Acid_Destroy_Vitamin_B12.pdf', 'page': 1}), -0.24480986595153809), (Document(page_content='recommended daily intake (RDI). The purpose \\nof these guidelines would be to help individuals \\ndistinguish between what levels will result in \\noptimum function. The RDI would be a range \\nbecause Pauling recognized the biochemical \\nindividuality of each pers on and that different \\namounts of nutrients will produce optimum \\nfunction in different beings. \\nAntagonists of Orthomolecular medicine \\noften try the common sense attack, reciting that \\na balanced meal will give sufficient amounts of', metadata={'source': './data\\\\FM docs 2024.3\\\\JOM_1979_08_4_08_Orthomolecular_Medicine_and_Megavitamin_Therapy-.pdf', 'page': 4}), -0.24725556373596191), (Document(page_content='sandwich and milk. Numerous sodas, including \\ncola, as well as candy, ice cream, cookies, and \\ngum are eaten in the afternoon; and there may or \\nmay not be animal protein and vegetables for \\ndinner, with more milk. I have learned from Dr. \\nMagdalena Pallos to place this type of child on a \\ndiet before starting v itamins and minerals. \\nOtherwise the family will continue its poor eating \\nhabits and expect the vitamins to cure the behavior \\nand educational deficits. With cooperation, the', metadata={'source': './data\\\\FM docs 2024.3\\\\JOM_1973_02_3_03_Clinical_Observations_on_the_Treatment_of_Schizophrenic-.pdf', 'page': 2}), -0.25684547424316406), (Document(page_content='office ... \\nThe physician has just completed an oration \\nabout the merits of the well-known well-\\nbalanced diet. The patient rises, walks to the \\ndoor, opens it, and then turns to the doctor.  \\nPatient: By the way, Doctor, do you ever \\nencounter any vitamin C problems?  \\nDoctor: No, not really.  \\nPatient: Have  you  ever  thought it necessary \\nto measure vitamin C?  \\nDoctor: No, why?  \\nPatient: Is that not a good way not to see any \\nproblems?  \\nThe doctor,  stunned,  turns  to  the audience,', metadata={'source': './data\\\\FM docs 2024.3\\\\JOM_1991_06_3-4_07_Vitamin_C_and_Stomatology_A_Mouthful_of_Evidence.pdf', 'page': 6}), -0.2624223232269287), (Document(page_content=\"after the chicken is eaten. \\nIt will probably take about six months to \\ninvestigate all foods with this system. After about \\ntwo months, when it is known that the child may \\neat certain foods with impunity, it is easier if, for \\nexample, the foods for Monday are purchased and \\nthen used on Monday and the remainders used up \\non Tuesday, along with Tuesday's menu, so that \\nthe rotation may actually be less rigid but the basic \\nrotation principles maintained.\", metadata={'source': './data\\\\FM docs 2024.3\\\\JOM_1973_02_3_03_Clinical_Observations_on_the_Treatment_of_Schizophrenic-.pdf', 'page': 7}), -0.2654310464859009), (Document(page_content='thorough dietary history was taken to de-termine exactly what was eaten at break-\\nfast, lunch and supper, including the\\nnumber of slices of bread, amounts of bev-erages containing caffeine and the type of\\nsnacks taken between meals and during\\nthe evening until retiring. In the over-whelming majority of cases the investiga-\\nt i o n  o f  t h e  d i e t a ry  h a b i t s  r e v e a l s  a  d a i l y\\nintake of abundant quantities of carbohy-', metadata={'source': './data\\\\FM docs 2024.3\\\\JOM_1999_14_1_03_Treatment_of_Ambulant_Schizophrenics_with_Vitamin_B3- (1).pdf', 'page': 1}), -0.2677652835845947), (Document(page_content='thorough dietary history was taken to de-termine exactly what was eaten at break-\\nfast, lunch and supper, including the\\nnumber of slices of bread, amounts of bev-erages containing caffeine and the type of\\nsnacks taken between meals and during\\nthe evening until retiring. In the over-whelming majority of cases the investiga-\\nt i o n  o f  t h e  d i e t a ry  h a b i t s  r e v e a l s  a  d a i l y\\nintake of abundant quantities of carbohy-', metadata={'source': './data\\\\FM docs 2024.3\\\\JOM_1999_14_1_03_Treatment_of_Ambulant_Schizophrenics_with_Vitamin_B3-.pdf', 'page': 1}), -0.2677652835845947), (Document(page_content='Recent Developments  \\nThe case involving FoodScience and the \\nFDA came to court in Chicago during \\nDecember 12 to 19,1979. From the court\\'s \\npoint of view the question concerned the \\ndefinition of DMG. Was it a \"food\" or a \"food \\nadditive?\" The problem of its therapeutic effect \\nwas not addressed since its use as a drug was \\nnot in question. \\nEarlier this year, the court made its \"final\" \\ndecision. DMG is legally a \"food additive,\" \\neven though the court recognized that it', metadata={'source': './data\\\\FM docs 2024.3\\\\JOM_1982_11_4_03_Vitamin_B15_A_Review_and_Update.pdf', 'page': 5}), -0.2689342498779297), (Document(page_content='\"You are 96!\" He is angry and frustrated as he \\npulls on his clothes. \\n\"How did you guess? There\\'s no clue on my \\nbody.\" \\n\"You told me yesterday!\" \\nThis whole congress is based on the concept \\nthat since we cannot go back to the way we are \\nmeant to be in the hunting and gathering days of \\ntwo million years ago, we have to make do with \\nwhat we\\'ve got. Linus Pauling tells us that those \\nancestors were eating about 600 mg of C daily. \\nFood was whole and natural.', metadata={'source': './data\\\\FM docs 2024.3\\\\JOM_1991_06_3-4_12_Children_Vitamin_C_and_Medical_Progress.pdf', 'page': 5}), -0.26927661895751953), (Document(page_content='be eaten at home or carried to school, in which \\nlatter case, supervision will be necessary to \\nprevent the younger child from trading food with \\nhis neighbor. Some children will present no \\nproblem this way if they understand what the \\nparent is trying to do and can cooperate. \\n(7) What kind of snacks can I provide?  \\nThe diets presented are in their simplest forms. \\nDried fruits may be included on the day of the \\nsame fresh fruit. Also, there are unusual foods', metadata={'source': './data\\\\FM docs 2024.3\\\\JOM_1973_02_3_03_Clinical_Observations_on_the_Treatment_of_Schizophrenic-.pdf', 'page': 8}), -0.2698488235473633)]\n",
      "  warnings.warn(\n",
      "f:\\Miniconda3\\envs\\llm\\lib\\site-packages\\langchain_core\\vectorstores.py:342: UserWarning: No relevant docs were retrieved using the relevance score threshold 0.15\n",
      "  warnings.warn(\n"
     ]
    },
    {
     "data": {
      "text/plain": [
       "[]"
      ]
     },
     "execution_count": 45,
     "metadata": {},
     "output_type": "execute_result"
    }
   ],
   "source": [
    "similarity_documents = compression_retriever.get_relevant_documents(\"今天吃了吗\")\n",
    "similarity_documents"
   ]
  },
  {
   "cell_type": "markdown",
   "metadata": {},
   "source": [
    "## invoke"
   ]
  },
  {
   "cell_type": "code",
   "execution_count": 46,
   "metadata": {},
   "outputs": [
    {
     "name": "stdout",
     "output_type": "stream",
     "text": [
      "Help on method invoke in module langchain_core.retrievers:\n",
      "\n",
      "invoke(input: 'str', config: 'Optional[RunnableConfig]' = None, **kwargs: 'Any') -> 'List[Document]' method of langchain.retrievers.contextual_compression.ContextualCompressionRetriever instance\n",
      "    Invoke the retriever to get relevant documents.\n",
      "    \n",
      "    Main entry point for synchronous retriever invocations.\n",
      "    \n",
      "    Args:\n",
      "        input: The query string\n",
      "        config: Configuration for the retriever\n",
      "        **kwargs: Additional arguments to pass to the retriever\n",
      "    \n",
      "    Returns:\n",
      "        List of relevant documents\n",
      "    \n",
      "    Examples:\n",
      "    \n",
      "    .. code-block:: python\n",
      "    \n",
      "        retriever.invoke(\"query\")\n",
      "\n"
     ]
    }
   ],
   "source": [
    "help(compression_retriever.invoke)"
   ]
  },
  {
   "cell_type": "code",
   "execution_count": 47,
   "metadata": {},
   "outputs": [
    {
     "data": {
      "text/plain": [
       "[Document(page_content='Eye Pressure Lowering Effect of Vitamin C\\nHerschell H. Boyd, M.D.1\\nPurpose\\nTo document the pressure before the use\\nof vitamin C and after the daily intake of\\nmaximum amounts of vitamin C, three times\\na day.\\nMethods\\nThirty patients (16 men and 14 women)\\nwere advised to take three divided doses of\\nvitamin C in capsule form each day until\\nloose stools occured and then back downslightly from this amount (bowel dosage) for\\na daily intake. Average daily intake for all\\npatients was 10 grams per day.', metadata={'source': './data\\\\FM docs 2024.3\\\\Eye Pressure Lowering Effect of Vitamin C.pdf', 'page': 0, 'relevance_score': 0.6476868391036987}),\n",
       " Document(page_content='Eye Pressure Lowering Effect of Vitamin C\\n167with 12 grams of vitamin C each day. She\\nwas a smoker in her early fifties, and she hascontinued to smoke with good reason to\\ncease.\\nGlaucoma accompanies the cataract pa-\\ntients so a daily intake of vitamin C could\\nsave the country literally in the billions of\\ndollars. This would admittedly be detrimen-tal to the financial health of ophthalmolo-\\ngists, but of course this is not the issue.\\nAscorbic acid has been reported to be of', metadata={'source': './data\\\\FM docs 2024.3\\\\Eye Pressure Lowering Effect of Vitamin C.pdf', 'page': 2, 'relevance_score': 0.6098146438598633}),\n",
       " Document(page_content=\"paid by research grants from drug compa-nies and from the National Institute of Health\\nin Washington, D.C. These two areas don't\\nfund vitamin C. If a source of private moneycould be found, the medical school would be\\npleased to do studies as desired. A private\\nfoundation may be the salvation of the glau-coma patients, and, of course, the many\\nother areas we need to treat.\\nConclusion\\n1. Vitamin C does lower the intraocular\\npressure in all patients with elevatedpressure.\", metadata={'source': './data\\\\FM docs 2024.3\\\\Eye Pressure Lowering Effect of Vitamin C.pdf', 'page': 3, 'relevance_score': 0.5946100950241089}),\n",
       " Document(page_content='use eye drops to lower the pressure below 20mm of mercury as they refused to take vita-\\nmin C.\\nConclusion\\nIn this series of 30 patients there was no\\noccasion in which the pressure was not low-ered with vitamin C. All drugs for glaucoma\\nare seriously toxic, and vitamin C has no\\ntoxicity yet known. The patients experiencedmany other good side effects from vitamin C\\nsuch as clearing of sinusitis, allergy symp-', metadata={'source': './data\\\\FM docs 2024.3\\\\Eye Pressure Lowering Effect of Vitamin C.pdf', 'page': 0, 'relevance_score': 0.5804709792137146}),\n",
       " Document(page_content='Journal of Orthomolecular Medicine     Vol. 10, No. 3 & 4, 1995\\n166Average Drop in Eye Pressure\\nRight Eye: 4.8 mmLeft Eye: 6.3 mm\\nBoth Eyes: 5.6 mm\\nIt is an interesting observation that indi-\\nviduals who take vitamin C regularly and\\nhave their intraocular pressure taken on a\\nroutine basis for their eye exam have pres-sures in the range of 10-13 mm of mercury\\ncommonly. It has been my experience that I\\nhave yet to find the first patient with apressure over 20 mm who comes into the', metadata={'source': './data\\\\FM docs 2024.3\\\\Eye Pressure Lowering Effect of Vitamin C.pdf', 'page': 1, 'relevance_score': 0.5776145458221436}),\n",
       " Document(page_content='EARLY EVIDENCE ABOUT VITAMIN C AND THE COMMON COLD  \\npresent paper is that the evidence for this \\nprotective effect was already moderately strong \\nby 1942 (Glazebrook and Thomson; Cowan, \\nDiehl, and Baker), and was very strong by 1961. \\nDespite the strength of the evidence, which has \\nbeen systematically misrepresented by the \\nmedical and nutritional authorities, the possible \\nvalue of an increased intake of vitamin C in \\ndecreasing the amount of suffering and loss of', metadata={'source': './data\\\\FM docs 2024.3\\\\JOM_1974_03_3_02_Early_Evidence_About_Vitamin_C_And_the_Common_Cold.pdf', 'page': 12, 'relevance_score': 0.5732603669166565}),\n",
       " Document(page_content='awaken to the marvels of vitamin C in treat-\\ning glaucoma!\\nIntroduction\\nVitamin C has been used since the trans-\\nformation of glucose, C\\n6H12O6, into vitamin\\n1. Eastview Professional Building, 1370 - 116th Avenue\\nN.E., Suite 212, Bellevue WA 98004-4679.\\n165C, C6H8O6, in the early 1930s. Its use in\\nlowering the pressure in glaucoma datesback to 1962 as reported in Experimental\\nEye Research.\\n1 Since then there have been', metadata={'source': './data\\\\FM docs 2024.3\\\\Eye Pressure Lowering Effect of Vitamin C.pdf', 'page': 0, 'relevance_score': 0.5592599511146545})]"
      ]
     },
     "execution_count": 47,
     "metadata": {},
     "output_type": "execute_result"
    }
   ],
   "source": [
    "similarity_documents = compression_retriever.invoke(query)\n",
    "similarity_documents"
   ]
  },
  {
   "cell_type": "code",
   "execution_count": null,
   "metadata": {},
   "outputs": [],
   "source": []
  }
 ],
 "metadata": {
  "kernelspec": {
   "display_name": "mm",
   "language": "python",
   "name": "python3"
  },
  "language_info": {
   "codemirror_mode": {
    "name": "ipython",
    "version": 3
   },
   "file_extension": ".py",
   "mimetype": "text/x-python",
   "name": "python",
   "nbconvert_exporter": "python",
   "pygments_lexer": "ipython3",
   "version": "3.10.14"
  }
 },
 "nbformat": 4,
 "nbformat_minor": 2
}
